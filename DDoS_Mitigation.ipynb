{
 "cells": [
  {
   "cell_type": "markdown",
   "id": "736a4a0c",
   "metadata": {
    "papermill": {
     "duration": 0.035994,
     "end_time": "2024-07-10T01:37:34.092834",
     "exception": false,
     "start_time": "2024-07-10T01:37:34.056840",
     "status": "completed"
    },
    "tags": []
   },
   "source": [
    "## Importing Libraries"
   ]
  },
  {
   "cell_type": "code",
   "execution_count": 1,
   "id": "2caee477",
   "metadata": {
    "execution": {
     "iopub.execute_input": "2024-07-10T01:37:34.162331Z",
     "iopub.status.busy": "2024-07-10T01:37:34.161941Z",
     "iopub.status.idle": "2024-07-10T01:37:36.092936Z",
     "shell.execute_reply": "2024-07-10T01:37:36.092134Z"
    },
    "papermill": {
     "duration": 1.967997,
     "end_time": "2024-07-10T01:37:36.095243",
     "exception": false,
     "start_time": "2024-07-10T01:37:34.127246",
     "status": "completed"
    },
    "tags": []
   },
   "outputs": [],
   "source": [
    "import pandas as pd\n",
    "import numpy as np\n",
    "\n",
    "# For ploting the graphs\n",
    "import matplotlib.pyplot as plt\n",
    "import seaborn as sns\n",
    "import csv"
   ]
  },
  {
   "cell_type": "code",
   "execution_count": 2,
   "id": "59bce7c4",
   "metadata": {
    "execution": {
     "iopub.execute_input": "2024-07-10T01:37:36.163025Z",
     "iopub.status.busy": "2024-07-10T01:37:36.162627Z",
     "iopub.status.idle": "2024-07-10T01:37:38.835377Z",
     "shell.execute_reply": "2024-07-10T01:37:38.834390Z"
    },
    "papermill": {
     "duration": 2.709305,
     "end_time": "2024-07-10T01:37:38.837868",
     "exception": false,
     "start_time": "2024-07-10T01:37:36.128563",
     "status": "completed"
    },
    "tags": []
   },
   "outputs": [],
   "source": [
    "df=pd.read_csv(\"/kaggle/input/ddos-dataset/DDoS.csv\")"
   ]
  },
  {
   "cell_type": "code",
   "execution_count": 3,
   "id": "334ed738",
   "metadata": {
    "execution": {
     "iopub.execute_input": "2024-07-10T01:37:38.905829Z",
     "iopub.status.busy": "2024-07-10T01:37:38.905561Z",
     "iopub.status.idle": "2024-07-10T01:37:38.909273Z",
     "shell.execute_reply": "2024-07-10T01:37:38.908480Z"
    },
    "papermill": {
     "duration": 0.039152,
     "end_time": "2024-07-10T01:37:38.911196",
     "exception": false,
     "start_time": "2024-07-10T01:37:38.872044",
     "status": "completed"
    },
    "tags": []
   },
   "outputs": [],
   "source": [
    "# df.head()"
   ]
  },
  {
   "cell_type": "code",
   "execution_count": 4,
   "id": "74c50dcd",
   "metadata": {
    "execution": {
     "iopub.execute_input": "2024-07-10T01:37:38.978479Z",
     "iopub.status.busy": "2024-07-10T01:37:38.977956Z",
     "iopub.status.idle": "2024-07-10T01:37:38.987567Z",
     "shell.execute_reply": "2024-07-10T01:37:38.986776Z"
    },
    "papermill": {
     "duration": 0.044892,
     "end_time": "2024-07-10T01:37:38.989407",
     "exception": false,
     "start_time": "2024-07-10T01:37:38.944515",
     "status": "completed"
    },
    "tags": []
   },
   "outputs": [
    {
     "data": {
      "text/plain": [
       "Index([' Destination Port', ' Flow Duration', ' Total Fwd Packets',\n",
       "       ' Total Backward Packets', 'Total Length of Fwd Packets',\n",
       "       ' Total Length of Bwd Packets', ' Fwd Packet Length Max',\n",
       "       ' Fwd Packet Length Min', ' Fwd Packet Length Mean',\n",
       "       ' Fwd Packet Length Std', 'Bwd Packet Length Max',\n",
       "       ' Bwd Packet Length Min', ' Bwd Packet Length Mean',\n",
       "       ' Bwd Packet Length Std', 'Flow Bytes/s', ' Flow Packets/s',\n",
       "       ' Flow IAT Mean', ' Flow IAT Std', ' Flow IAT Max', ' Flow IAT Min',\n",
       "       'Fwd IAT Total', ' Fwd IAT Mean', ' Fwd IAT Std', ' Fwd IAT Max',\n",
       "       ' Fwd IAT Min', 'Bwd IAT Total', ' Bwd IAT Mean', ' Bwd IAT Std',\n",
       "       ' Bwd IAT Max', ' Bwd IAT Min', 'Fwd PSH Flags', ' Bwd PSH Flags',\n",
       "       ' Fwd URG Flags', ' Bwd URG Flags', ' Fwd Header Length',\n",
       "       ' Bwd Header Length', 'Fwd Packets/s', ' Bwd Packets/s',\n",
       "       ' Min Packet Length', ' Max Packet Length', ' Packet Length Mean',\n",
       "       ' Packet Length Std', ' Packet Length Variance', 'FIN Flag Count',\n",
       "       ' SYN Flag Count', ' RST Flag Count', ' PSH Flag Count',\n",
       "       ' ACK Flag Count', ' URG Flag Count', ' CWE Flag Count',\n",
       "       ' ECE Flag Count', ' Down/Up Ratio', ' Average Packet Size',\n",
       "       ' Avg Fwd Segment Size', ' Avg Bwd Segment Size',\n",
       "       ' Fwd Header Length.1', 'Fwd Avg Bytes/Bulk', ' Fwd Avg Packets/Bulk',\n",
       "       ' Fwd Avg Bulk Rate', ' Bwd Avg Bytes/Bulk', ' Bwd Avg Packets/Bulk',\n",
       "       'Bwd Avg Bulk Rate', 'Subflow Fwd Packets', ' Subflow Fwd Bytes',\n",
       "       ' Subflow Bwd Packets', ' Subflow Bwd Bytes', 'Init_Win_bytes_forward',\n",
       "       ' Init_Win_bytes_backward', ' act_data_pkt_fwd',\n",
       "       ' min_seg_size_forward', 'Active Mean', ' Active Std', ' Active Max',\n",
       "       ' Active Min', 'Idle Mean', ' Idle Std', ' Idle Max', ' Idle Min',\n",
       "       ' Label'],\n",
       "      dtype='object')"
      ]
     },
     "execution_count": 4,
     "metadata": {},
     "output_type": "execute_result"
    }
   ],
   "source": [
    "df.columns"
   ]
  },
  {
   "cell_type": "code",
   "execution_count": 5,
   "id": "bef895df",
   "metadata": {
    "execution": {
     "iopub.execute_input": "2024-07-10T01:37:39.056727Z",
     "iopub.status.busy": "2024-07-10T01:37:39.056487Z",
     "iopub.status.idle": "2024-07-10T01:37:39.061435Z",
     "shell.execute_reply": "2024-07-10T01:37:39.060353Z"
    },
    "papermill": {
     "duration": 0.041659,
     "end_time": "2024-07-10T01:37:39.063812",
     "exception": false,
     "start_time": "2024-07-10T01:37:39.022153",
     "status": "completed"
    },
    "tags": []
   },
   "outputs": [],
   "source": [
    "# Remove the spaces before the column names\n",
    "df.columns = df.columns.str.strip()"
   ]
  },
  {
   "cell_type": "code",
   "execution_count": null,
   "id": "91672f5f",
   "metadata": {
    "papermill": {
     "duration": 0.075568,
     "end_time": "2024-07-10T01:37:39.175676",
     "exception": false,
     "start_time": "2024-07-10T01:37:39.100108",
     "status": "completed"
    },
    "tags": []
   },
   "outputs": [],
   "source": [
    "\n"
   ]
  },
  {
   "cell_type": "code",
   "execution_count": 6,
   "id": "1e957de2",
   "metadata": {
    "execution": {
     "iopub.execute_input": "2024-07-10T01:37:39.247213Z",
     "iopub.status.busy": "2024-07-10T01:37:39.246902Z",
     "iopub.status.idle": "2024-07-10T01:37:39.253258Z",
     "shell.execute_reply": "2024-07-10T01:37:39.252383Z"
    },
    "papermill": {
     "duration": 0.046378,
     "end_time": "2024-07-10T01:37:39.255239",
     "exception": false,
     "start_time": "2024-07-10T01:37:39.208861",
     "status": "completed"
    },
    "tags": []
   },
   "outputs": [
    {
     "data": {
      "text/plain": [
       "Index(['Destination Port', 'Flow Duration', 'Total Fwd Packets',\n",
       "       'Total Backward Packets', 'Total Length of Fwd Packets',\n",
       "       'Total Length of Bwd Packets', 'Fwd Packet Length Max',\n",
       "       'Fwd Packet Length Min', 'Fwd Packet Length Mean',\n",
       "       'Fwd Packet Length Std', 'Bwd Packet Length Max',\n",
       "       'Bwd Packet Length Min', 'Bwd Packet Length Mean',\n",
       "       'Bwd Packet Length Std', 'Flow Bytes/s', 'Flow Packets/s',\n",
       "       'Flow IAT Mean', 'Flow IAT Std', 'Flow IAT Max', 'Flow IAT Min',\n",
       "       'Fwd IAT Total', 'Fwd IAT Mean', 'Fwd IAT Std', 'Fwd IAT Max',\n",
       "       'Fwd IAT Min', 'Bwd IAT Total', 'Bwd IAT Mean', 'Bwd IAT Std',\n",
       "       'Bwd IAT Max', 'Bwd IAT Min', 'Fwd PSH Flags', 'Bwd PSH Flags',\n",
       "       'Fwd URG Flags', 'Bwd URG Flags', 'Fwd Header Length',\n",
       "       'Bwd Header Length', 'Fwd Packets/s', 'Bwd Packets/s',\n",
       "       'Min Packet Length', 'Max Packet Length', 'Packet Length Mean',\n",
       "       'Packet Length Std', 'Packet Length Variance', 'FIN Flag Count',\n",
       "       'SYN Flag Count', 'RST Flag Count', 'PSH Flag Count', 'ACK Flag Count',\n",
       "       'URG Flag Count', 'CWE Flag Count', 'ECE Flag Count', 'Down/Up Ratio',\n",
       "       'Average Packet Size', 'Avg Fwd Segment Size', 'Avg Bwd Segment Size',\n",
       "       'Fwd Header Length.1', 'Fwd Avg Bytes/Bulk', 'Fwd Avg Packets/Bulk',\n",
       "       'Fwd Avg Bulk Rate', 'Bwd Avg Bytes/Bulk', 'Bwd Avg Packets/Bulk',\n",
       "       'Bwd Avg Bulk Rate', 'Subflow Fwd Packets', 'Subflow Fwd Bytes',\n",
       "       'Subflow Bwd Packets', 'Subflow Bwd Bytes', 'Init_Win_bytes_forward',\n",
       "       'Init_Win_bytes_backward', 'act_data_pkt_fwd', 'min_seg_size_forward',\n",
       "       'Active Mean', 'Active Std', 'Active Max', 'Active Min', 'Idle Mean',\n",
       "       'Idle Std', 'Idle Max', 'Idle Min', 'Label'],\n",
       "      dtype='object')"
      ]
     },
     "execution_count": 6,
     "metadata": {},
     "output_type": "execute_result"
    }
   ],
   "source": [
    "df.columns"
   ]
  },
  {
   "cell_type": "code",
   "execution_count": 7,
   "id": "3629db76",
   "metadata": {
    "execution": {
     "iopub.execute_input": "2024-07-10T01:37:39.323212Z",
     "iopub.status.busy": "2024-07-10T01:37:39.322945Z",
     "iopub.status.idle": "2024-07-10T01:37:39.376233Z",
     "shell.execute_reply": "2024-07-10T01:37:39.375453Z"
    },
    "papermill": {
     "duration": 0.090143,
     "end_time": "2024-07-10T01:37:39.378647",
     "exception": false,
     "start_time": "2024-07-10T01:37:39.288504",
     "status": "completed"
    },
    "tags": []
   },
   "outputs": [],
   "source": [
    "df.drop(columns=['Fwd Header Length.1'], inplace=True)"
   ]
  },
  {
   "cell_type": "code",
   "execution_count": null,
   "id": "c618c0a3",
   "metadata": {
    "papermill": {
     "duration": 0.033326,
     "end_time": "2024-07-10T01:37:39.447779",
     "exception": false,
     "start_time": "2024-07-10T01:37:39.414453",
     "status": "completed"
    },
    "tags": []
   },
   "outputs": [],
   "source": []
  },
  {
   "cell_type": "code",
   "execution_count": 8,
   "id": "13eb4f9f",
   "metadata": {
    "execution": {
     "iopub.execute_input": "2024-07-10T01:37:39.516606Z",
     "iopub.status.busy": "2024-07-10T01:37:39.515720Z",
     "iopub.status.idle": "2024-07-10T01:37:39.519578Z",
     "shell.execute_reply": "2024-07-10T01:37:39.518853Z"
    },
    "papermill": {
     "duration": 0.040387,
     "end_time": "2024-07-10T01:37:39.521382",
     "exception": false,
     "start_time": "2024-07-10T01:37:39.480995",
     "status": "completed"
    },
    "tags": []
   },
   "outputs": [],
   "source": [
    "#Unique values in the Label target column\n",
    "\n",
    "# df.loc[:,'Label'].unique()"
   ]
  },
  {
   "cell_type": "code",
   "execution_count": 9,
   "id": "882426a9",
   "metadata": {
    "execution": {
     "iopub.execute_input": "2024-07-10T01:37:39.588674Z",
     "iopub.status.busy": "2024-07-10T01:37:39.588398Z",
     "iopub.status.idle": "2024-07-10T01:37:39.592429Z",
     "shell.execute_reply": "2024-07-10T01:37:39.591662Z"
    },
    "papermill": {
     "duration": 0.039851,
     "end_time": "2024-07-10T01:37:39.594338",
     "exception": false,
     "start_time": "2024-07-10T01:37:39.554487",
     "status": "completed"
    },
    "tags": []
   },
   "outputs": [],
   "source": [
    "# def pltNullDistribution(df):\n",
    "    \n",
    "#     #Checking the null values in the dataset.\n",
    "#     plt.figure(1, figsize = (10,4))\n",
    "#     plt.hist(df.isna().sum())\n",
    "    \n",
    "#     # Set the title and axis labels\n",
    "#     plt.xticks([0, 1], labels=['Not Null=0', 'Null=1'])\n",
    "#     plt.title('Null Values Distribution')\n",
    "#     plt.xlabel('Classes')\n",
    "#     plt.ylabel('Frequency')\n",
    "\n",
    "#     # Show the plot\n",
    "#     plt.show()\n",
    "    \n",
    "# pltNullDistribution(df)"
   ]
  },
  {
   "cell_type": "code",
   "execution_count": 10,
   "id": "1cda66f7",
   "metadata": {
    "execution": {
     "iopub.execute_input": "2024-07-10T01:37:39.661968Z",
     "iopub.status.busy": "2024-07-10T01:37:39.661470Z",
     "iopub.status.idle": "2024-07-10T01:37:39.665519Z",
     "shell.execute_reply": "2024-07-10T01:37:39.664674Z"
    },
    "papermill": {
     "duration": 0.040114,
     "end_time": "2024-07-10T01:37:39.667522",
     "exception": false,
     "start_time": "2024-07-10T01:37:39.627408",
     "status": "completed"
    },
    "tags": []
   },
   "outputs": [],
   "source": [
    "# def plotMissingValues(df):\n",
    "#     missing_values = df.isnull().sum()  # Counting null values for each column\n",
    "#     fig = plt.figure(figsize=(16, 5))\n",
    "#     missing_values.plot(kind='bar')\n",
    "#     plt.xlabel(\"Features\")\n",
    "#     plt.ylabel(\"Missing values\")\n",
    "#     plt.title(\"Total number of Missing values in each feature\")\n",
    "#     plt.show()\n",
    "\n",
    "# plotMissingValues(df)"
   ]
  },
  {
   "cell_type": "markdown",
   "id": "7f902623",
   "metadata": {
    "papermill": {
     "duration": 0.03279,
     "end_time": "2024-07-10T01:37:39.733345",
     "exception": false,
     "start_time": "2024-07-10T01:37:39.700555",
     "status": "completed"
    },
    "tags": []
   },
   "source": [
    "The `df.dropna()` method in pandas is used to **remove missing values** (i.e., NaN or None) from a DataFrame. This method can be customized with various parameters to control which rows or columns are removed based on the presence of missing values."
   ]
  },
  {
   "cell_type": "code",
   "execution_count": 11,
   "id": "a34d539f",
   "metadata": {
    "execution": {
     "iopub.execute_input": "2024-07-10T01:37:39.800512Z",
     "iopub.status.busy": "2024-07-10T01:37:39.800216Z",
     "iopub.status.idle": "2024-07-10T01:37:39.903338Z",
     "shell.execute_reply": "2024-07-10T01:37:39.902332Z"
    },
    "papermill": {
     "duration": 0.139615,
     "end_time": "2024-07-10T01:37:39.905875",
     "exception": false,
     "start_time": "2024-07-10T01:37:39.766260",
     "status": "completed"
    },
    "tags": []
   },
   "outputs": [],
   "source": [
    "data=df.dropna()"
   ]
  },
  {
   "cell_type": "code",
   "execution_count": 12,
   "id": "31ad05ea",
   "metadata": {
    "execution": {
     "iopub.execute_input": "2024-07-10T01:37:39.973899Z",
     "iopub.status.busy": "2024-07-10T01:37:39.973601Z",
     "iopub.status.idle": "2024-07-10T01:37:39.977308Z",
     "shell.execute_reply": "2024-07-10T01:37:39.976543Z"
    },
    "papermill": {
     "duration": 0.039686,
     "end_time": "2024-07-10T01:37:39.979134",
     "exception": false,
     "start_time": "2024-07-10T01:37:39.939448",
     "status": "completed"
    },
    "tags": []
   },
   "outputs": [],
   "source": [
    "# pltNullDistribution(data)"
   ]
  },
  {
   "cell_type": "code",
   "execution_count": 13,
   "id": "6db82217",
   "metadata": {
    "execution": {
     "iopub.execute_input": "2024-07-10T01:37:40.047911Z",
     "iopub.status.busy": "2024-07-10T01:37:40.047660Z",
     "iopub.status.idle": "2024-07-10T01:37:40.268008Z",
     "shell.execute_reply": "2024-07-10T01:37:40.267260Z"
    },
    "papermill": {
     "duration": 0.256636,
     "end_time": "2024-07-10T01:37:40.270253",
     "exception": false,
     "start_time": "2024-07-10T01:37:40.013617",
     "status": "completed"
    },
    "tags": []
   },
   "outputs": [],
   "source": [
    "data.loc[:, :] = data.replace([np.inf, -np.inf], np.nan)\n"
   ]
  },
  {
   "cell_type": "code",
   "execution_count": 14,
   "id": "e261945f",
   "metadata": {
    "execution": {
     "iopub.execute_input": "2024-07-10T01:37:40.339088Z",
     "iopub.status.busy": "2024-07-10T01:37:40.338583Z",
     "iopub.status.idle": "2024-07-10T01:37:40.342549Z",
     "shell.execute_reply": "2024-07-10T01:37:40.341589Z"
    },
    "papermill": {
     "duration": 0.039928,
     "end_time": "2024-07-10T01:37:40.344383",
     "exception": false,
     "start_time": "2024-07-10T01:37:40.304455",
     "status": "completed"
    },
    "tags": []
   },
   "outputs": [],
   "source": [
    "# pltNullDistribution(data)"
   ]
  },
  {
   "cell_type": "code",
   "execution_count": 15,
   "id": "0dfabf72",
   "metadata": {
    "execution": {
     "iopub.execute_input": "2024-07-10T01:37:40.412434Z",
     "iopub.status.busy": "2024-07-10T01:37:40.412149Z",
     "iopub.status.idle": "2024-07-10T01:37:40.415798Z",
     "shell.execute_reply": "2024-07-10T01:37:40.414990Z"
    },
    "papermill": {
     "duration": 0.039637,
     "end_time": "2024-07-10T01:37:40.417714",
     "exception": false,
     "start_time": "2024-07-10T01:37:40.378077",
     "status": "completed"
    },
    "tags": []
   },
   "outputs": [],
   "source": [
    "\n",
    "\n",
    "\n",
    "\n",
    "\n",
    "# data.dtypes"
   ]
  },
  {
   "cell_type": "code",
   "execution_count": 16,
   "id": "e8044118",
   "metadata": {
    "execution": {
     "iopub.execute_input": "2024-07-10T01:37:40.486855Z",
     "iopub.status.busy": "2024-07-10T01:37:40.486543Z",
     "iopub.status.idle": "2024-07-10T01:37:40.490064Z",
     "shell.execute_reply": "2024-07-10T01:37:40.489270Z"
    },
    "papermill": {
     "duration": 0.040399,
     "end_time": "2024-07-10T01:37:40.492159",
     "exception": false,
     "start_time": "2024-07-10T01:37:40.451760",
     "status": "completed"
    },
    "tags": []
   },
   "outputs": [],
   "source": [
    "# for col in data.columns:\n",
    "#     print(data[col].dtype)"
   ]
  },
  {
   "cell_type": "code",
   "execution_count": 17,
   "id": "c205005a",
   "metadata": {
    "execution": {
     "iopub.execute_input": "2024-07-10T01:37:40.561400Z",
     "iopub.status.busy": "2024-07-10T01:37:40.561097Z",
     "iopub.status.idle": "2024-07-10T01:37:40.588085Z",
     "shell.execute_reply": "2024-07-10T01:37:40.587235Z"
    },
    "papermill": {
     "duration": 0.063924,
     "end_time": "2024-07-10T01:37:40.590205",
     "exception": false,
     "start_time": "2024-07-10T01:37:40.526281",
     "status": "completed"
    },
    "tags": []
   },
   "outputs": [
    {
     "name": "stderr",
     "output_type": "stream",
     "text": [
      "/tmp/ipykernel_24/816821436.py:1: SettingWithCopyWarning: \n",
      "A value is trying to be set on a copy of a slice from a DataFrame.\n",
      "Try using .loc[row_indexer,col_indexer] = value instead\n",
      "\n",
      "See the caveats in the documentation: https://pandas.pydata.org/pandas-docs/stable/user_guide/indexing.html#returning-a-view-versus-a-copy\n",
      "  data['Label'] = data['Label'].map({'BENIGN': 0, 'DDoS': 1})\n"
     ]
    }
   ],
   "source": [
    "data['Label'] = data['Label'].map({'BENIGN': 0, 'DDoS': 1})"
   ]
  },
  {
   "cell_type": "code",
   "execution_count": 18,
   "id": "acae8a70",
   "metadata": {
    "execution": {
     "iopub.execute_input": "2024-07-10T01:37:40.658964Z",
     "iopub.status.busy": "2024-07-10T01:37:40.658693Z",
     "iopub.status.idle": "2024-07-10T01:37:40.662514Z",
     "shell.execute_reply": "2024-07-10T01:37:40.661613Z"
    },
    "papermill": {
     "duration": 0.040352,
     "end_time": "2024-07-10T01:37:40.664393",
     "exception": false,
     "start_time": "2024-07-10T01:37:40.624041",
     "status": "completed"
    },
    "tags": []
   },
   "outputs": [],
   "source": [
    "# plt.hist(data['Label'], bins=[0, 0.3,0.7,1], edgecolor='black')  # Specify bins as [0, 1]\n",
    "# plt.xticks([0, 1], labels=['BENIGN=0', 'DDoS=1'])\n",
    "# plt.title('Distribution of Labels')\n",
    "# plt.xlabel(\"Classes\")\n",
    "# plt.ylabel(\"Count\")\n",
    "# plt.show()"
   ]
  },
  {
   "cell_type": "code",
   "execution_count": 19,
   "id": "b0b3e3ef",
   "metadata": {
    "execution": {
     "iopub.execute_input": "2024-07-10T01:37:40.733129Z",
     "iopub.status.busy": "2024-07-10T01:37:40.732450Z",
     "iopub.status.idle": "2024-07-10T01:37:40.736257Z",
     "shell.execute_reply": "2024-07-10T01:37:40.735448Z"
    },
    "papermill": {
     "duration": 0.040469,
     "end_time": "2024-07-10T01:37:40.738185",
     "exception": false,
     "start_time": "2024-07-10T01:37:40.697716",
     "status": "completed"
    },
    "tags": []
   },
   "outputs": [],
   "source": [
    "# data.dtypes"
   ]
  },
  {
   "cell_type": "code",
   "execution_count": 20,
   "id": "77c014d8",
   "metadata": {
    "execution": {
     "iopub.execute_input": "2024-07-10T01:37:40.806036Z",
     "iopub.status.busy": "2024-07-10T01:37:40.805772Z",
     "iopub.status.idle": "2024-07-10T01:37:40.809170Z",
     "shell.execute_reply": "2024-07-10T01:37:40.808389Z"
    },
    "papermill": {
     "duration": 0.039389,
     "end_time": "2024-07-10T01:37:40.811054",
     "exception": false,
     "start_time": "2024-07-10T01:37:40.771665",
     "status": "completed"
    },
    "tags": []
   },
   "outputs": [],
   "source": [
    "# data.head()"
   ]
  },
  {
   "cell_type": "markdown",
   "id": "f36c6d10",
   "metadata": {
    "papermill": {
     "duration": 0.033622,
     "end_time": "2024-07-10T01:37:40.877775",
     "exception": false,
     "start_time": "2024-07-10T01:37:40.844153",
     "status": "completed"
    },
    "tags": []
   },
   "source": [
    "## Data Exploring"
   ]
  },
  {
   "cell_type": "code",
   "execution_count": 21,
   "id": "e4e9baf9",
   "metadata": {
    "execution": {
     "iopub.execute_input": "2024-07-10T01:37:40.945106Z",
     "iopub.status.busy": "2024-07-10T01:37:40.944847Z",
     "iopub.status.idle": "2024-07-10T01:37:40.948292Z",
     "shell.execute_reply": "2024-07-10T01:37:40.947478Z"
    },
    "papermill": {
     "duration": 0.03938,
     "end_time": "2024-07-10T01:37:40.950211",
     "exception": false,
     "start_time": "2024-07-10T01:37:40.910831",
     "status": "completed"
    },
    "tags": []
   },
   "outputs": [],
   "source": [
    "# data.describe()"
   ]
  },
  {
   "cell_type": "markdown",
   "id": "a7be630c",
   "metadata": {
    "papermill": {
     "duration": 0.034369,
     "end_time": "2024-07-10T01:37:41.018098",
     "exception": false,
     "start_time": "2024-07-10T01:37:40.983729",
     "status": "completed"
    },
    "tags": []
   },
   "source": [
    "### plot distribution"
   ]
  },
  {
   "cell_type": "code",
   "execution_count": 22,
   "id": "91957442",
   "metadata": {
    "execution": {
     "iopub.execute_input": "2024-07-10T01:37:41.086315Z",
     "iopub.status.busy": "2024-07-10T01:37:41.086039Z",
     "iopub.status.idle": "2024-07-10T01:37:41.089776Z",
     "shell.execute_reply": "2024-07-10T01:37:41.088961Z"
    },
    "papermill": {
     "duration": 0.040299,
     "end_time": "2024-07-10T01:37:41.091765",
     "exception": false,
     "start_time": "2024-07-10T01:37:41.051466",
     "status": "completed"
    },
    "tags": []
   },
   "outputs": [],
   "source": [
    "# plt.figure(5)\n",
    "\n",
    "# for col in data.columns:\n",
    "#     plt.hist(data[col])\n",
    "#     plt.title(col)\n",
    "#     plt.show()"
   ]
  },
  {
   "cell_type": "code",
   "execution_count": 23,
   "id": "f74e13d2",
   "metadata": {
    "execution": {
     "iopub.execute_input": "2024-07-10T01:37:41.159556Z",
     "iopub.status.busy": "2024-07-10T01:37:41.158846Z",
     "iopub.status.idle": "2024-07-10T01:37:41.162846Z",
     "shell.execute_reply": "2024-07-10T01:37:41.162104Z"
    },
    "papermill": {
     "duration": 0.039576,
     "end_time": "2024-07-10T01:37:41.164647",
     "exception": false,
     "start_time": "2024-07-10T01:37:41.125071",
     "status": "completed"
    },
    "tags": []
   },
   "outputs": [],
   "source": [
    "# plotMissingValues(data)"
   ]
  },
  {
   "cell_type": "code",
   "execution_count": 24,
   "id": "5091d7de",
   "metadata": {
    "execution": {
     "iopub.execute_input": "2024-07-10T01:37:41.232546Z",
     "iopub.status.busy": "2024-07-10T01:37:41.232232Z",
     "iopub.status.idle": "2024-07-10T01:37:41.303653Z",
     "shell.execute_reply": "2024-07-10T01:37:41.302627Z"
    },
    "papermill": {
     "duration": 0.107921,
     "end_time": "2024-07-10T01:37:41.306158",
     "exception": false,
     "start_time": "2024-07-10T01:37:41.198237",
     "status": "completed"
    },
    "tags": []
   },
   "outputs": [],
   "source": [
    "data = data.dropna()\n"
   ]
  },
  {
   "cell_type": "code",
   "execution_count": 25,
   "id": "7ec9bc64",
   "metadata": {
    "execution": {
     "iopub.execute_input": "2024-07-10T01:37:41.375392Z",
     "iopub.status.busy": "2024-07-10T01:37:41.375077Z",
     "iopub.status.idle": "2024-07-10T01:37:41.378960Z",
     "shell.execute_reply": "2024-07-10T01:37:41.378108Z"
    },
    "papermill": {
     "duration": 0.040655,
     "end_time": "2024-07-10T01:37:41.381061",
     "exception": false,
     "start_time": "2024-07-10T01:37:41.340406",
     "status": "completed"
    },
    "tags": []
   },
   "outputs": [],
   "source": [
    "# plotMissingValues(data)"
   ]
  },
  {
   "cell_type": "markdown",
   "id": "6861e5c2",
   "metadata": {
    "papermill": {
     "duration": 0.032854,
     "end_time": "2024-07-10T01:37:41.448306",
     "exception": false,
     "start_time": "2024-07-10T01:37:41.415452",
     "status": "completed"
    },
    "tags": []
   },
   "source": [
    "## Test and Train Split"
   ]
  },
  {
   "cell_type": "code",
   "execution_count": 26,
   "id": "be7d5c6a",
   "metadata": {
    "execution": {
     "iopub.execute_input": "2024-07-10T01:37:41.515780Z",
     "iopub.status.busy": "2024-07-10T01:37:41.515521Z",
     "iopub.status.idle": "2024-07-10T01:37:41.562879Z",
     "shell.execute_reply": "2024-07-10T01:37:41.561933Z"
    },
    "papermill": {
     "duration": 0.083937,
     "end_time": "2024-07-10T01:37:41.565245",
     "exception": false,
     "start_time": "2024-07-10T01:37:41.481308",
     "status": "completed"
    },
    "tags": []
   },
   "outputs": [],
   "source": [
    "X = data.drop('Label', axis=1)\n",
    "y = data['Label']"
   ]
  },
  {
   "cell_type": "code",
   "execution_count": 27,
   "id": "e7fa631e",
   "metadata": {
    "execution": {
     "iopub.execute_input": "2024-07-10T01:37:41.634689Z",
     "iopub.status.busy": "2024-07-10T01:37:41.633936Z",
     "iopub.status.idle": "2024-07-10T01:37:41.639050Z",
     "shell.execute_reply": "2024-07-10T01:37:41.637982Z"
    },
    "papermill": {
     "duration": 0.041669,
     "end_time": "2024-07-10T01:37:41.640983",
     "exception": false,
     "start_time": "2024-07-10T01:37:41.599314",
     "status": "completed"
    },
    "tags": []
   },
   "outputs": [
    {
     "name": "stdout",
     "output_type": "stream",
     "text": [
      "(225711, 77)\n",
      "(225711,)\n"
     ]
    }
   ],
   "source": [
    "print(X.shape)\n",
    "print(y.shape)\n"
   ]
  },
  {
   "cell_type": "code",
   "execution_count": 28,
   "id": "2d7b9195",
   "metadata": {
    "execution": {
     "iopub.execute_input": "2024-07-10T01:37:41.709813Z",
     "iopub.status.busy": "2024-07-10T01:37:41.709562Z",
     "iopub.status.idle": "2024-07-10T01:37:41.713538Z",
     "shell.execute_reply": "2024-07-10T01:37:41.712664Z"
    },
    "papermill": {
     "duration": 0.040451,
     "end_time": "2024-07-10T01:37:41.715269",
     "exception": false,
     "start_time": "2024-07-10T01:37:41.674818",
     "status": "completed"
    },
    "tags": []
   },
   "outputs": [],
   "source": [
    "# Convert int64 to int32 and float64 to float32 preserving column-wise types\n",
    "\n",
    "\n",
    "# column_types = X.dtypes\n",
    "\n",
    "# for col in X.columns:\n",
    "#     if np.issubdtype(column_types[col], np.int64):\n",
    "#         X[col] = X[col].astype(np.int32)\n",
    "#     elif np.issubdtype(column_types[col], np.float64):\n",
    "#         X[col] = X[col].astype(np.float32)"
   ]
  },
  {
   "cell_type": "code",
   "execution_count": 29,
   "id": "f642a000",
   "metadata": {
    "execution": {
     "iopub.execute_input": "2024-07-10T01:37:41.782808Z",
     "iopub.status.busy": "2024-07-10T01:37:41.782523Z",
     "iopub.status.idle": "2024-07-10T01:37:41.786250Z",
     "shell.execute_reply": "2024-07-10T01:37:41.785449Z"
    },
    "papermill": {
     "duration": 0.039822,
     "end_time": "2024-07-10T01:37:41.788172",
     "exception": false,
     "start_time": "2024-07-10T01:37:41.748350",
     "status": "completed"
    },
    "tags": []
   },
   "outputs": [],
   "source": [
    "# y = y.astype(np.int32)"
   ]
  },
  {
   "cell_type": "code",
   "execution_count": 30,
   "id": "9a58bf0d",
   "metadata": {
    "execution": {
     "iopub.execute_input": "2024-07-10T01:37:41.856487Z",
     "iopub.status.busy": "2024-07-10T01:37:41.855807Z",
     "iopub.status.idle": "2024-07-10T01:37:41.859458Z",
     "shell.execute_reply": "2024-07-10T01:37:41.858621Z"
    },
    "papermill": {
     "duration": 0.039639,
     "end_time": "2024-07-10T01:37:41.861231",
     "exception": false,
     "start_time": "2024-07-10T01:37:41.821592",
     "status": "completed"
    },
    "tags": []
   },
   "outputs": [],
   "source": [
    "# y.dtype"
   ]
  },
  {
   "cell_type": "code",
   "execution_count": 31,
   "id": "3689f972",
   "metadata": {
    "execution": {
     "iopub.execute_input": "2024-07-10T01:37:41.928803Z",
     "iopub.status.busy": "2024-07-10T01:37:41.928546Z",
     "iopub.status.idle": "2024-07-10T01:37:42.295221Z",
     "shell.execute_reply": "2024-07-10T01:37:42.294476Z"
    },
    "papermill": {
     "duration": 0.403132,
     "end_time": "2024-07-10T01:37:42.297513",
     "exception": false,
     "start_time": "2024-07-10T01:37:41.894381",
     "status": "completed"
    },
    "tags": []
   },
   "outputs": [],
   "source": [
    "from sklearn.model_selection import train_test_split\n",
    "from sklearn.preprocessing import StandardScaler\n",
    "from sklearn.decomposition import PCA\n"
   ]
  },
  {
   "cell_type": "code",
   "execution_count": 32,
   "id": "4f60cb8e",
   "metadata": {
    "execution": {
     "iopub.execute_input": "2024-07-10T01:37:42.367263Z",
     "iopub.status.busy": "2024-07-10T01:37:42.366955Z",
     "iopub.status.idle": "2024-07-10T01:37:42.678213Z",
     "shell.execute_reply": "2024-07-10T01:37:42.677202Z"
    },
    "papermill": {
     "duration": 0.34867,
     "end_time": "2024-07-10T01:37:42.680738",
     "exception": false,
     "start_time": "2024-07-10T01:37:42.332068",
     "status": "completed"
    },
    "tags": []
   },
   "outputs": [],
   "source": [
    "scaler = StandardScaler()\n",
    "X_s = scaler.fit_transform(X)\n"
   ]
  },
  {
   "cell_type": "code",
   "execution_count": 33,
   "id": "c03419d8",
   "metadata": {
    "execution": {
     "iopub.execute_input": "2024-07-10T01:37:42.750180Z",
     "iopub.status.busy": "2024-07-10T01:37:42.749861Z",
     "iopub.status.idle": "2024-07-10T01:37:43.972506Z",
     "shell.execute_reply": "2024-07-10T01:37:43.970924Z"
    },
    "papermill": {
     "duration": 1.261181,
     "end_time": "2024-07-10T01:37:43.976506",
     "exception": false,
     "start_time": "2024-07-10T01:37:42.715325",
     "status": "completed"
    },
    "tags": []
   },
   "outputs": [],
   "source": [
    "pca = PCA(n_components=0.99)  # Keep components that explain 95% of variance\n",
    "X_pca = pca.fit_transform(X_s)"
   ]
  },
  {
   "cell_type": "code",
   "execution_count": 34,
   "id": "00d97ec5",
   "metadata": {
    "execution": {
     "iopub.execute_input": "2024-07-10T01:37:44.058674Z",
     "iopub.status.busy": "2024-07-10T01:37:44.058321Z",
     "iopub.status.idle": "2024-07-10T01:37:44.063061Z",
     "shell.execute_reply": "2024-07-10T01:37:44.062189Z"
    },
    "papermill": {
     "duration": 0.041651,
     "end_time": "2024-07-10T01:37:44.065212",
     "exception": false,
     "start_time": "2024-07-10T01:37:44.023561",
     "status": "completed"
    },
    "tags": []
   },
   "outputs": [
    {
     "name": "stdout",
     "output_type": "stream",
     "text": [
      "(225711, 29)\n"
     ]
    }
   ],
   "source": [
    "print(X_pca.shape)"
   ]
  },
  {
   "cell_type": "code",
   "execution_count": 35,
   "id": "9e846a41",
   "metadata": {
    "execution": {
     "iopub.execute_input": "2024-07-10T01:37:44.134050Z",
     "iopub.status.busy": "2024-07-10T01:37:44.133775Z",
     "iopub.status.idle": "2024-07-10T01:37:44.137489Z",
     "shell.execute_reply": "2024-07-10T01:37:44.136671Z"
    },
    "papermill": {
     "duration": 0.040459,
     "end_time": "2024-07-10T01:37:44.139382",
     "exception": false,
     "start_time": "2024-07-10T01:37:44.098923",
     "status": "completed"
    },
    "tags": []
   },
   "outputs": [],
   "source": [
    "# df_pca = pd.DataFrame(X_pca)"
   ]
  },
  {
   "cell_type": "code",
   "execution_count": 36,
   "id": "41c4fc3b",
   "metadata": {
    "execution": {
     "iopub.execute_input": "2024-07-10T01:37:44.208548Z",
     "iopub.status.busy": "2024-07-10T01:37:44.208257Z",
     "iopub.status.idle": "2024-07-10T01:37:44.211921Z",
     "shell.execute_reply": "2024-07-10T01:37:44.211130Z"
    },
    "papermill": {
     "duration": 0.039583,
     "end_time": "2024-07-10T01:37:44.213858",
     "exception": false,
     "start_time": "2024-07-10T01:37:44.174275",
     "status": "completed"
    },
    "tags": []
   },
   "outputs": [],
   "source": [
    "# df_pca.head()"
   ]
  },
  {
   "cell_type": "code",
   "execution_count": 37,
   "id": "3e1060b9",
   "metadata": {
    "execution": {
     "iopub.execute_input": "2024-07-10T01:37:44.281616Z",
     "iopub.status.busy": "2024-07-10T01:37:44.281337Z",
     "iopub.status.idle": "2024-07-10T01:37:44.374586Z",
     "shell.execute_reply": "2024-07-10T01:37:44.373764Z"
    },
    "papermill": {
     "duration": 0.129814,
     "end_time": "2024-07-10T01:37:44.377096",
     "exception": false,
     "start_time": "2024-07-10T01:37:44.247282",
     "status": "completed"
    },
    "tags": []
   },
   "outputs": [],
   "source": [
    "## with PCA\n",
    "# Initial split to get 90% training and 10% temporary\n",
    "X_train, X_temp, y_train, y_temp = train_test_split(X_pca, y, test_size=0.10, random_state=42)\n",
    "\n",
    "# Split the temporary set into 50% validation and 50% test (which results in 5% each of the original data)\n",
    "X_val, X_test, y_val, y_test = train_test_split(X_temp, y_temp, test_size=0.5, random_state=42)"
   ]
  },
  {
   "cell_type": "code",
   "execution_count": 38,
   "id": "8264e50f",
   "metadata": {
    "execution": {
     "iopub.execute_input": "2024-07-10T01:37:44.449576Z",
     "iopub.status.busy": "2024-07-10T01:37:44.448801Z",
     "iopub.status.idle": "2024-07-10T01:37:44.453107Z",
     "shell.execute_reply": "2024-07-10T01:37:44.452124Z"
    },
    "papermill": {
     "duration": 0.04106,
     "end_time": "2024-07-10T01:37:44.454985",
     "exception": false,
     "start_time": "2024-07-10T01:37:44.413925",
     "status": "completed"
    },
    "tags": []
   },
   "outputs": [],
   "source": [
    "##without PCA\n",
    "# Initial split to get 90% training and 10% temporary\n",
    "# X_train, X_temp, y_train, y_temp = train_test_split(X, y, test_size=0.10, random_state=42)\n",
    "\n",
    "# # Split the temporary set into 50% validation and 50% test (which results in 5% each of the original data)\n",
    "# X_val, X_test, y_val, y_test = train_test_split(X_temp, y_temp, test_size=0.5, random_state=42)"
   ]
  },
  {
   "cell_type": "code",
   "execution_count": 39,
   "id": "27b26e42",
   "metadata": {
    "execution": {
     "iopub.execute_input": "2024-07-10T01:37:44.523125Z",
     "iopub.status.busy": "2024-07-10T01:37:44.522814Z",
     "iopub.status.idle": "2024-07-10T01:37:44.526503Z",
     "shell.execute_reply": "2024-07-10T01:37:44.525685Z"
    },
    "papermill": {
     "duration": 0.040158,
     "end_time": "2024-07-10T01:37:44.528629",
     "exception": false,
     "start_time": "2024-07-10T01:37:44.488471",
     "status": "completed"
    },
    "tags": []
   },
   "outputs": [],
   "source": [
    "# scaler = StandardScaler()\n",
    "# X_train_s = scaler.fit_transform(X_train)\n",
    "# X_test_s = scaler.transform(X_test)\n",
    "# X_val_s = scaler.transform(X_val)"
   ]
  },
  {
   "cell_type": "code",
   "execution_count": 40,
   "id": "dbcd418a",
   "metadata": {
    "execution": {
     "iopub.execute_input": "2024-07-10T01:37:44.598816Z",
     "iopub.status.busy": "2024-07-10T01:37:44.598541Z",
     "iopub.status.idle": "2024-07-10T01:37:44.602404Z",
     "shell.execute_reply": "2024-07-10T01:37:44.601463Z"
    },
    "papermill": {
     "duration": 0.04156,
     "end_time": "2024-07-10T01:37:44.604548",
     "exception": false,
     "start_time": "2024-07-10T01:37:44.562988",
     "status": "completed"
    },
    "tags": []
   },
   "outputs": [],
   "source": [
    "# print(X_train.shape)\n",
    "# print(X_test.shape)\n",
    "# print(X_val.shape)\n"
   ]
  },
  {
   "cell_type": "markdown",
   "id": "6c6fcbac",
   "metadata": {
    "execution": {
     "iopub.execute_input": "2024-07-09T14:16:44.591837Z",
     "iopub.status.busy": "2024-07-09T14:16:44.591417Z",
     "iopub.status.idle": "2024-07-09T14:16:44.596968Z",
     "shell.execute_reply": "2024-07-09T14:16:44.595701Z",
     "shell.execute_reply.started": "2024-07-09T14:16:44.591802Z"
    },
    "papermill": {
     "duration": 0.033189,
     "end_time": "2024-07-10T01:37:44.671308",
     "exception": false,
     "start_time": "2024-07-10T01:37:44.638119",
     "status": "completed"
    },
    "tags": []
   },
   "source": [
    "#### saving scaler and pca for later use on real-time data"
   ]
  },
  {
   "cell_type": "code",
   "execution_count": 41,
   "id": "cd5e1971",
   "metadata": {
    "execution": {
     "iopub.execute_input": "2024-07-10T01:37:44.739194Z",
     "iopub.status.busy": "2024-07-10T01:37:44.738675Z",
     "iopub.status.idle": "2024-07-10T01:37:44.742570Z",
     "shell.execute_reply": "2024-07-10T01:37:44.741648Z"
    },
    "papermill": {
     "duration": 0.039966,
     "end_time": "2024-07-10T01:37:44.744432",
     "exception": false,
     "start_time": "2024-07-10T01:37:44.704466",
     "status": "completed"
    },
    "tags": []
   },
   "outputs": [],
   "source": [
    "import joblib\n"
   ]
  },
  {
   "cell_type": "code",
   "execution_count": 42,
   "id": "d83f734c",
   "metadata": {
    "execution": {
     "iopub.execute_input": "2024-07-10T01:37:44.812307Z",
     "iopub.status.busy": "2024-07-10T01:37:44.811987Z",
     "iopub.status.idle": "2024-07-10T01:37:44.819128Z",
     "shell.execute_reply": "2024-07-10T01:37:44.818339Z"
    },
    "papermill": {
     "duration": 0.043169,
     "end_time": "2024-07-10T01:37:44.820954",
     "exception": false,
     "start_time": "2024-07-10T01:37:44.777785",
     "status": "completed"
    },
    "tags": []
   },
   "outputs": [
    {
     "data": {
      "text/plain": [
       "['/kaggle/working/scaler.pkl']"
      ]
     },
     "execution_count": 42,
     "metadata": {},
     "output_type": "execute_result"
    }
   ],
   "source": [
    "# Save the scaler to a file\n",
    "scaler_file = '/kaggle/working/scaler.pkl'\n",
    "joblib.dump(scaler, scaler_file)"
   ]
  },
  {
   "cell_type": "code",
   "execution_count": 43,
   "id": "6d082f37",
   "metadata": {
    "execution": {
     "iopub.execute_input": "2024-07-10T01:37:44.889489Z",
     "iopub.status.busy": "2024-07-10T01:37:44.889209Z",
     "iopub.status.idle": "2024-07-10T01:37:44.896318Z",
     "shell.execute_reply": "2024-07-10T01:37:44.895522Z"
    },
    "papermill": {
     "duration": 0.042962,
     "end_time": "2024-07-10T01:37:44.898141",
     "exception": false,
     "start_time": "2024-07-10T01:37:44.855179",
     "status": "completed"
    },
    "tags": []
   },
   "outputs": [
    {
     "data": {
      "text/plain": [
       "['/kaggle/working/pca.pkl']"
      ]
     },
     "execution_count": 43,
     "metadata": {},
     "output_type": "execute_result"
    }
   ],
   "source": [
    "# Save the PCA to a file\n",
    "pca_file = '/kaggle/working/pca.pkl'\n",
    "joblib.dump(pca, pca_file)"
   ]
  },
  {
   "cell_type": "markdown",
   "id": "09f104ed",
   "metadata": {
    "papermill": {
     "duration": 0.033348,
     "end_time": "2024-07-10T01:37:44.964709",
     "exception": false,
     "start_time": "2024-07-10T01:37:44.931361",
     "status": "completed"
    },
    "tags": []
   },
   "source": [
    "## Training the Model"
   ]
  },
  {
   "cell_type": "code",
   "execution_count": 44,
   "id": "30dce25b",
   "metadata": {
    "execution": {
     "iopub.execute_input": "2024-07-10T01:37:45.034159Z",
     "iopub.status.busy": "2024-07-10T01:37:45.033890Z",
     "iopub.status.idle": "2024-07-10T01:37:45.141884Z",
     "shell.execute_reply": "2024-07-10T01:37:45.141206Z"
    },
    "papermill": {
     "duration": 0.14595,
     "end_time": "2024-07-10T01:37:45.144002",
     "exception": false,
     "start_time": "2024-07-10T01:37:44.998052",
     "status": "completed"
    },
    "tags": []
   },
   "outputs": [],
   "source": [
    "# Machine learning Model \n",
    "from sklearn.ensemble import RandomForestClassifier\n",
    "from sklearn.linear_model import LogisticRegression\n",
    "from sklearn.svm import SVC\n",
    "from sklearn.neural_network import MLPClassifier"
   ]
  },
  {
   "cell_type": "code",
   "execution_count": 45,
   "id": "15c64dad",
   "metadata": {
    "execution": {
     "iopub.execute_input": "2024-07-10T01:37:45.212584Z",
     "iopub.status.busy": "2024-07-10T01:37:45.212271Z",
     "iopub.status.idle": "2024-07-10T01:37:45.216878Z",
     "shell.execute_reply": "2024-07-10T01:37:45.216035Z"
    },
    "papermill": {
     "duration": 0.041245,
     "end_time": "2024-07-10T01:37:45.218780",
     "exception": false,
     "start_time": "2024-07-10T01:37:45.177535",
     "status": "completed"
    },
    "tags": []
   },
   "outputs": [],
   "source": [
    "# Machine learning model evaluation\n",
    "from sklearn.metrics import accuracy_score, f1_score, precision_score, recall_score, roc_curve, auc, confusion_matrix\n",
    "\n",
    "\n",
    "from sklearn.metrics import roc_curve, auc\n",
    "from sklearn.preprocessing import label_binarize\n",
    "from itertools import cycle"
   ]
  },
  {
   "cell_type": "markdown",
   "id": "6556a2f4",
   "metadata": {
    "papermill": {
     "duration": 0.033179,
     "end_time": "2024-07-10T01:37:45.285156",
     "exception": false,
     "start_time": "2024-07-10T01:37:45.251977",
     "status": "completed"
    },
    "tags": []
   },
   "source": [
    "## Random Forest"
   ]
  },
  {
   "cell_type": "code",
   "execution_count": 46,
   "id": "dd7c534d",
   "metadata": {
    "execution": {
     "iopub.execute_input": "2024-07-10T01:37:45.353995Z",
     "iopub.status.busy": "2024-07-10T01:37:45.353725Z",
     "iopub.status.idle": "2024-07-10T01:38:45.712808Z",
     "shell.execute_reply": "2024-07-10T01:38:45.711969Z"
    },
    "papermill": {
     "duration": 60.396146,
     "end_time": "2024-07-10T01:38:45.715254",
     "exception": false,
     "start_time": "2024-07-10T01:37:45.319108",
     "status": "completed"
    },
    "tags": []
   },
   "outputs": [],
   "source": [
    "rf_model = RandomForestClassifier(n_estimators=50, random_state=42)\n",
    "rf_model.fit(X_train, y_train)\n",
    "rf_pred = rf_model.predict(X_test)"
   ]
  },
  {
   "cell_type": "code",
   "execution_count": 47,
   "id": "311b992c",
   "metadata": {
    "execution": {
     "iopub.execute_input": "2024-07-10T01:38:45.785843Z",
     "iopub.status.busy": "2024-07-10T01:38:45.785553Z",
     "iopub.status.idle": "2024-07-10T01:38:46.263740Z",
     "shell.execute_reply": "2024-07-10T01:38:46.262879Z"
    },
    "papermill": {
     "duration": 0.515535,
     "end_time": "2024-07-10T01:38:46.266626",
     "exception": false,
     "start_time": "2024-07-10T01:38:45.751091",
     "status": "completed"
    },
    "tags": []
   },
   "outputs": [
    {
     "data": {
      "image/png": "[encoded data removed]",
      "text/plain": [
       "<Figure size 800x1400 with 1 Axes>"
      ]
     },
     "metadata": {},
     "output_type": "display_data"
    }
   ],
   "source": [
    "# Getting feature importances from the trained model\n",
    "importances = rf_model.feature_importances_\n",
    "\n",
    "# Getting the indices of features sorted by importance\n",
    "indices = sorted(range(len(importances)), key=lambda i: importances[i], reverse=False)\n",
    "feature_names = [f\"{df.columns[i]}\" for i in indices]  # Replace with your column names\n",
    "\n",
    "# Plotting feature importances horizontally\n",
    "plt.figure(figsize=(8, 14))\n",
    "plt.barh(range(X_train.shape[1]), importances[indices], align=\"center\")\n",
    "plt.yticks(range(X_train.shape[1]), feature_names)\n",
    "plt.xlabel(\"Importance\")\n",
    "plt.title(\"Feature Importances\")\n",
    "plt.show()\n",
    "\n",
    "\n"
   ]
  },
  {
   "cell_type": "code",
   "execution_count": null,
   "id": "23972cbe",
   "metadata": {
    "papermill": {
     "duration": 0.034382,
     "end_time": "2024-07-10T01:38:46.336233",
     "exception": false,
     "start_time": "2024-07-10T01:38:46.301851",
     "status": "completed"
    },
    "tags": []
   },
   "outputs": [],
   "source": []
  },
  {
   "cell_type": "code",
   "execution_count": 48,
   "id": "5512c081",
   "metadata": {
    "execution": {
     "iopub.execute_input": "2024-07-10T01:38:46.407006Z",
     "iopub.status.busy": "2024-07-10T01:38:46.406719Z",
     "iopub.status.idle": "2024-07-10T01:38:54.962958Z",
     "shell.execute_reply": "2024-07-10T01:38:54.962032Z"
    },
    "papermill": {
     "duration": 8.595089,
     "end_time": "2024-07-10T01:38:54.966140",
     "exception": false,
     "start_time": "2024-07-10T01:38:46.371051",
     "status": "completed"
    },
    "tags": []
   },
   "outputs": [
    {
     "data": {
      "image/png": "[encoded data removed]",
      "text/plain": [
       "<Figure size 2000x1000 with 1 Axes>"
      ]
     },
     "metadata": {},
     "output_type": "display_data"
    }
   ],
   "source": [
    "from sklearn.tree import plot_tree\n",
    "\n",
    "estimator = rf_model.estimators_[0]  # Selecting the first estimator from the random forest model\n",
    "\n",
    "\n",
    "plt.figure(figsize=(20, 10))\n",
    "plot_tree(estimator, filled=True, rounded=True)\n",
    "plt.show()"
   ]
  },
  {
   "cell_type": "markdown",
   "id": "cf00af19",
   "metadata": {
    "papermill": {
     "duration": 0.03687,
     "end_time": "2024-07-10T01:38:55.040822",
     "exception": false,
     "start_time": "2024-07-10T01:38:55.003952",
     "status": "completed"
    },
    "tags": []
   },
   "source": [
    "### Model Evaluation"
   ]
  },
  {
   "cell_type": "code",
   "execution_count": 49,
   "id": "5bef0fc3",
   "metadata": {
    "execution": {
     "iopub.execute_input": "2024-07-10T01:38:55.117408Z",
     "iopub.status.busy": "2024-07-10T01:38:55.117050Z",
     "iopub.status.idle": "2024-07-10T01:41:36.170076Z",
     "shell.execute_reply": "2024-07-10T01:41:36.168952Z"
    },
    "papermill": {
     "duration": 161.133006,
     "end_time": "2024-07-10T01:41:36.210983",
     "exception": false,
     "start_time": "2024-07-10T01:38:55.077977",
     "status": "completed"
    },
    "tags": []
   },
   "outputs": [
    {
     "name": "stdout",
     "output_type": "stream",
     "text": [
      "Requirement already satisfied: seaborn in /opt/conda/lib/python3.10/site-packages (0.12.2)\r\n",
      "\u001b[33mWARNING: Retrying (Retry(total=4, connect=None, read=None, redirect=None, status=None)) after connection broken by 'NewConnectionError('<pip._vendor.urllib3.connection.HTTPSConnection object at 0x7de384c12aa0>: Failed to establish a new connection: [Errno -3] Temporary failure in name resolution')': /simple/seaborn/\u001b[0m\u001b[33m\r\n",
      "\u001b[0m\u001b[33mWARNING: Retrying (Retry(total=3, connect=None, read=None, redirect=None, status=None)) after connection broken by 'NewConnectionError('<pip._vendor.urllib3.connection.HTTPSConnection object at 0x7de384c12da0>: Failed to establish a new connection: [Errno -3] Temporary failure in name resolution')': /simple/seaborn/\u001b[0m\u001b[33m\r\n",
      "\u001b[0m\u001b[33mWARNING: Retrying (Retry(total=2, connect=None, read=None, redirect=None, status=None)) after connection broken by 'NewConnectionError('<pip._vendor.urllib3.connection.HTTPSConnection object at 0x7de384c12f50>: Failed to establish a new connection: [Errno -3] Temporary failure in name resolution')': /simple/seaborn/\u001b[0m\u001b[33m\r\n",
      "\u001b[0m\u001b[33mWARNING: Retrying (Retry(total=1, connect=None, read=None, redirect=None, status=None)) after connection broken by 'NewConnectionError('<pip._vendor.urllib3.connection.HTTPSConnection object at 0x7de384c13100>: Failed to establish a new connection: [Errno -3] Temporary failure in name resolution')': /simple/seaborn/\u001b[0m\u001b[33m\r\n",
      "\u001b[0m\u001b[33mWARNING: Retrying (Retry(total=0, connect=None, read=None, redirect=None, status=None)) after connection broken by 'NewConnectionError('<pip._vendor.urllib3.connection.HTTPSConnection object at 0x7de384c132b0>: Failed to establish a new connection: [Errno -3] Temporary failure in name resolution')': /simple/seaborn/\u001b[0m\u001b[33m\r\n",
      "\u001b[0mRequirement already satisfied: numpy!=1.24.0,>=1.17 in /opt/conda/lib/python3.10/site-packages (from seaborn) (1.26.4)\r\n",
      "Requirement already satisfied: pandas>=0.25 in /opt/conda/lib/python3.10/site-packages (from seaborn) (2.2.1)\r\n",
      "Requirement already satisfied: matplotlib!=3.6.1,>=3.1 in /opt/conda/lib/python3.10/site-packages (from seaborn) (3.7.5)\r\n",
      "Requirement already satisfied: contourpy>=1.0.1 in /opt/conda/lib/python3.10/site-packages (from matplotlib!=3.6.1,>=3.1->seaborn) (1.2.0)\r\n",
      "Requirement already satisfied: cycler>=0.10 in /opt/conda/lib/python3.10/site-packages (from matplotlib!=3.6.1,>=3.1->seaborn) (0.12.1)\r\n",
      "Requirement already satisfied: fonttools>=4.22.0 in /opt/conda/lib/python3.10/site-packages (from matplotlib!=3.6.1,>=3.1->seaborn) (4.47.0)\r\n",
      "Requirement already satisfied: kiwisolver>=1.0.1 in /opt/conda/lib/python3.10/site-packages (from matplotlib!=3.6.1,>=3.1->seaborn) (1.4.5)\r\n",
      "Requirement already satisfied: packaging>=20.0 in /opt/conda/lib/python3.10/site-packages (from matplotlib!=3.6.1,>=3.1->seaborn) (21.3)\r\n",
      "Requirement already satisfied: pillow>=6.2.0 in /opt/conda/lib/python3.10/site-packages (from matplotlib!=3.6.1,>=3.1->seaborn) (9.5.0)\r\n",
      "Requirement already satisfied: pyparsing>=2.3.1 in /opt/conda/lib/python3.10/site-packages (from matplotlib!=3.6.1,>=3.1->seaborn) (3.1.1)\r\n",
      "Requirement already satisfied: python-dateutil>=2.7 in /opt/conda/lib/python3.10/site-packages (from matplotlib!=3.6.1,>=3.1->seaborn) (2.9.0.post0)\r\n",
      "Requirement already satisfied: pytz>=2020.1 in /opt/conda/lib/python3.10/site-packages (from pandas>=0.25->seaborn) (2023.3.post1)\r\n",
      "Requirement already satisfied: tzdata>=2022.7 in /opt/conda/lib/python3.10/site-packages (from pandas>=0.25->seaborn) (2023.4)\r\n",
      "Requirement already satisfied: six>=1.5 in /opt/conda/lib/python3.10/site-packages (from python-dateutil>=2.7->matplotlib!=3.6.1,>=3.1->seaborn) (1.16.0)\r\n",
      "Note: you may need to restart the kernel to use updated packages.\n"
     ]
    }
   ],
   "source": [
    "pip install seaborn --upgrade"
   ]
  },
  {
   "cell_type": "code",
   "execution_count": 50,
   "id": "91dd2831",
   "metadata": {
    "execution": {
     "iopub.execute_input": "2024-07-10T01:41:36.290611Z",
     "iopub.status.busy": "2024-07-10T01:41:36.289722Z",
     "iopub.status.idle": "2024-07-10T01:41:36.296323Z",
     "shell.execute_reply": "2024-07-10T01:41:36.295482Z"
    },
    "papermill": {
     "duration": 0.048338,
     "end_time": "2024-07-10T01:41:36.298195",
     "exception": false,
     "start_time": "2024-07-10T01:41:36.249857",
     "status": "completed"
    },
    "tags": []
   },
   "outputs": [],
   "source": [
    "def plot_confusion_matrix(y_true, y_pred, classes, title):\n",
    "    cm = confusion_matrix(y_true, y_pred)\n",
    "    plt.figure(figsize=(8, 6))\n",
    "    sns.heatmap(cm, annot=True, fmt='d', cmap='Blues', xticklabels=classes, yticklabels=classes)\n",
    "    plt.title(title)\n",
    "    plt.xlabel('Predicted')\n",
    "    plt.ylabel('True')\n",
    "\n",
    "    plt.show()"
   ]
  },
  {
   "cell_type": "code",
   "execution_count": 51,
   "id": "26fc6596",
   "metadata": {
    "execution": {
     "iopub.execute_input": "2024-07-10T01:41:36.376190Z",
     "iopub.status.busy": "2024-07-10T01:41:36.375648Z",
     "iopub.status.idle": "2024-07-10T01:41:36.395831Z",
     "shell.execute_reply": "2024-07-10T01:41:36.394753Z"
    },
    "papermill": {
     "duration": 0.061704,
     "end_time": "2024-07-10T01:41:36.397894",
     "exception": false,
     "start_time": "2024-07-10T01:41:36.336190",
     "status": "completed"
    },
    "tags": []
   },
   "outputs": [
    {
     "name": "stdout",
     "output_type": "stream",
     "text": [
      "\n",
      "Random Forest Metrics:\n",
      "Accuracy: 0.9996\n",
      "F1 Score: 0.9997\n",
      "Precision: 0.9998\n",
      "Recall: 0.9995\n"
     ]
    }
   ],
   "source": [
    "rf_accuracy = accuracy_score(y_test, rf_pred)\n",
    "rf_f1 = f1_score(y_test, rf_pred)\n",
    "rf_precision = precision_score(y_test, rf_pred)\n",
    "rf_recall = recall_score(y_test, rf_pred)\n",
    "\n",
    "print('\\nRandom Forest Metrics:')\n",
    "print(f'Accuracy: {rf_accuracy:.4f}')\n",
    "print(f'F1 Score: {rf_f1:.4f}')\n",
    "print(f'Precision: {rf_precision:.4f}')\n",
    "print(f'Recall: {rf_recall:.4f}')\n"
   ]
  },
  {
   "cell_type": "code",
   "execution_count": 52,
   "id": "776fff62",
   "metadata": {
    "execution": {
     "iopub.execute_input": "2024-07-10T01:41:36.478661Z",
     "iopub.status.busy": "2024-07-10T01:41:36.477810Z",
     "iopub.status.idle": "2024-07-10T01:41:36.750989Z",
     "shell.execute_reply": "2024-07-10T01:41:36.750060Z"
    },
    "papermill": {
     "duration": 0.316266,
     "end_time": "2024-07-10T01:41:36.753174",
     "exception": false,
     "start_time": "2024-07-10T01:41:36.436908",
     "status": "completed"
    },
    "tags": []
   },
   "outputs": [
    {
     "data": {
      "image/png": "[encoded data removed]",
      "text/plain": [
       "<Figure size 800x600 with 2 Axes>"
      ]
     },
     "metadata": {},
     "output_type": "display_data"
    }
   ],
   "source": [
    "plot_confusion_matrix(y_test, rf_pred, ['Benign', 'DDoS'], 'Random Forest Confusion Matrix')"
   ]
  },
  {
   "cell_type": "markdown",
   "id": "625367d6",
   "metadata": {
    "papermill": {
     "duration": 0.040129,
     "end_time": "2024-07-10T01:41:36.833173",
     "exception": false,
     "start_time": "2024-07-10T01:41:36.793044",
     "status": "completed"
    },
    "tags": []
   },
   "source": [
    "## logistic Regression"
   ]
  },
  {
   "cell_type": "code",
   "execution_count": 53,
   "id": "1de5ad69",
   "metadata": {
    "execution": {
     "iopub.execute_input": "2024-07-10T01:41:36.912564Z",
     "iopub.status.busy": "2024-07-10T01:41:36.911775Z",
     "iopub.status.idle": "2024-07-10T01:41:36.918261Z",
     "shell.execute_reply": "2024-07-10T01:41:36.917575Z"
    },
    "papermill": {
     "duration": 0.048631,
     "end_time": "2024-07-10T01:41:36.920198",
     "exception": false,
     "start_time": "2024-07-10T01:41:36.871567",
     "status": "completed"
    },
    "tags": []
   },
   "outputs": [],
   "source": [
    "from sklearn.pipeline import make_pipeline"
   ]
  },
  {
   "cell_type": "code",
   "execution_count": 54,
   "id": "e3afcc46",
   "metadata": {
    "execution": {
     "iopub.execute_input": "2024-07-10T01:41:37.000052Z",
     "iopub.status.busy": "2024-07-10T01:41:36.999471Z",
     "iopub.status.idle": "2024-07-10T01:41:43.331431Z",
     "shell.execute_reply": "2024-07-10T01:41:43.330168Z"
    },
    "papermill": {
     "duration": 6.376048,
     "end_time": "2024-07-10T01:41:43.335347",
     "exception": false,
     "start_time": "2024-07-10T01:41:36.959299",
     "status": "completed"
    },
    "tags": []
   },
   "outputs": [],
   "source": [
    "lr_model = make_pipeline(StandardScaler(), LogisticRegression(random_state=42, max_iter=500))\n",
    "lr_model.fit(X_train, y_train)\n",
    "lr_pred = lr_model.predict(X_test)"
   ]
  },
  {
   "cell_type": "code",
   "execution_count": 55,
   "id": "b2d7a92f",
   "metadata": {
    "execution": {
     "iopub.execute_input": "2024-07-10T01:41:43.481021Z",
     "iopub.status.busy": "2024-07-10T01:41:43.479543Z",
     "iopub.status.idle": "2024-07-10T01:41:43.585622Z",
     "shell.execute_reply": "2024-07-10T01:41:43.584608Z"
    },
    "papermill": {
     "duration": 0.174459,
     "end_time": "2024-07-10T01:41:43.588489",
     "exception": false,
     "start_time": "2024-07-10T01:41:43.414030",
     "status": "completed"
    },
    "tags": []
   },
   "outputs": [],
   "source": [
    "from sklearn.linear_model import SGDClassifier\n",
    "# Standardize the data\n",
    "scaler = StandardScaler()\n",
    "X_train_s = scaler.fit_transform(X_train)\n",
    "X_test_s = scaler.transform(X_test)"
   ]
  },
  {
   "cell_type": "code",
   "execution_count": 56,
   "id": "17ec5efd",
   "metadata": {
    "execution": {
     "iopub.execute_input": "2024-07-10T01:41:43.686366Z",
     "iopub.status.busy": "2024-07-10T01:41:43.686037Z",
     "iopub.status.idle": "2024-07-10T01:43:31.935705Z",
     "shell.execute_reply": "2024-07-10T01:43:31.934751Z"
    },
    "papermill": {
     "duration": 108.342284,
     "end_time": "2024-07-10T01:43:31.977571",
     "exception": false,
     "start_time": "2024-07-10T01:41:43.635287",
     "status": "completed"
    },
    "tags": []
   },
   "outputs": [
    {
     "data": {
      "image/png": "[encoded data removed]",
      "text/plain": [
       "<Figure size 1000x600 with 1 Axes>"
      ]
     },
     "metadata": {},
     "output_type": "display_data"
    }
   ],
   "source": [
    "# Initialize the SGDClassifier with logistic loss\n",
    "sgd = SGDClassifier(loss='log_loss', max_iter=1, warm_start=True, random_state=42)\n",
    "\n",
    "# Lists to store the loss values and iteration numbers\n",
    "losses = []\n",
    "iterations = 600  # Number of iterations for training\n",
    "\n",
    "# Train the model using partial_fit\n",
    "for i in range(iterations):\n",
    "    sgd.partial_fit(X_train_s, y_train, classes=np.unique(y_train))\n",
    "    loss = sgd.score(X_train_s, y_train)  # Use negative accuracy as a proxy for loss\n",
    "    losses.append(loss)\n",
    "\n",
    "# Plot the loss against iterations\n",
    "plt.figure(figsize=(10, 6))\n",
    "plt.plot(range(iterations), losses, label='Training Loss')\n",
    "plt.xlabel('Iteration')\n",
    "plt.ylabel('Loss')\n",
    "plt.title('Loss vs. Iterations for SGD Logistic Regression')\n",
    "plt.legend()\n",
    "plt.show()"
   ]
  },
  {
   "cell_type": "code",
   "execution_count": 57,
   "id": "17078c49",
   "metadata": {
    "execution": {
     "iopub.execute_input": "2024-07-10T01:43:32.056520Z",
     "iopub.status.busy": "2024-07-10T01:43:32.056174Z",
     "iopub.status.idle": "2024-07-10T01:43:32.070784Z",
     "shell.execute_reply": "2024-07-10T01:43:32.070123Z"
    },
    "papermill": {
     "duration": 0.056449,
     "end_time": "2024-07-10T01:43:32.072836",
     "exception": false,
     "start_time": "2024-07-10T01:43:32.016387",
     "status": "completed"
    },
    "tags": []
   },
   "outputs": [],
   "source": [
    "lr_accuracy = accuracy_score(y_test, lr_pred)\n",
    "lr_f1 = f1_score(y_test, lr_pred)\n",
    "lr_precision = precision_score(y_test, lr_pred)\n",
    "lr_recall = recall_score(y_test, lr_pred)"
   ]
  },
  {
   "cell_type": "code",
   "execution_count": 58,
   "id": "3962100b",
   "metadata": {
    "execution": {
     "iopub.execute_input": "2024-07-10T01:43:32.152493Z",
     "iopub.status.busy": "2024-07-10T01:43:32.152174Z",
     "iopub.status.idle": "2024-07-10T01:43:32.156965Z",
     "shell.execute_reply": "2024-07-10T01:43:32.156188Z"
    },
    "papermill": {
     "duration": 0.047388,
     "end_time": "2024-07-10T01:43:32.159325",
     "exception": false,
     "start_time": "2024-07-10T01:43:32.111937",
     "status": "completed"
    },
    "tags": []
   },
   "outputs": [
    {
     "name": "stdout",
     "output_type": "stream",
     "text": [
      "\n",
      "Logistic Regression Metrics:\n",
      "Accuracy: 0.9980\n",
      "F1 Score: 0.9982\n",
      "Precision: 0.9981\n",
      "Recall: 0.9983\n"
     ]
    }
   ],
   "source": [
    "print('\\nLogistic Regression Metrics:')\n",
    "print(f'Accuracy: {lr_accuracy:.4f}')\n",
    "print(f'F1 Score: {lr_f1:.4f}')\n",
    "print(f'Precision: {lr_precision:.4f}')\n",
    "print(f'Recall: {lr_recall:.4f}')"
   ]
  },
  {
   "cell_type": "code",
   "execution_count": 59,
   "id": "257f1e70",
   "metadata": {
    "execution": {
     "iopub.execute_input": "2024-07-10T01:43:32.238620Z",
     "iopub.status.busy": "2024-07-10T01:43:32.238360Z",
     "iopub.status.idle": "2024-07-10T01:43:32.507719Z",
     "shell.execute_reply": "2024-07-10T01:43:32.506724Z"
    },
    "papermill": {
     "duration": 0.310832,
     "end_time": "2024-07-10T01:43:32.509780",
     "exception": false,
     "start_time": "2024-07-10T01:43:32.198948",
     "status": "completed"
    },
    "tags": []
   },
   "outputs": [
    {
     "data": {
      "image/png": "[encoded data removed]",
      "text/plain": [
       "<Figure size 800x600 with 2 Axes>"
      ]
     },
     "metadata": {},
     "output_type": "display_data"
    }
   ],
   "source": [
    "plot_confusion_matrix(y_test, lr_pred, ['Benign', 'DDoS'], 'Logistic Regression Confusion Matrix')\n"
   ]
  },
  {
   "cell_type": "markdown",
   "id": "4a7bf755",
   "metadata": {
    "papermill": {
     "duration": 0.039326,
     "end_time": "2024-07-10T01:43:32.588998",
     "exception": false,
     "start_time": "2024-07-10T01:43:32.549672",
     "status": "completed"
    },
    "tags": []
   },
   "source": [
    "## Neural Network"
   ]
  },
  {
   "cell_type": "code",
   "execution_count": 60,
   "id": "8bdbc113",
   "metadata": {
    "execution": {
     "iopub.execute_input": "2024-07-10T01:43:32.669318Z",
     "iopub.status.busy": "2024-07-10T01:43:32.668745Z",
     "iopub.status.idle": "2024-07-10T01:43:50.522086Z",
     "shell.execute_reply": "2024-07-10T01:43:50.520667Z"
    },
    "papermill": {
     "duration": 17.897793,
     "end_time": "2024-07-10T01:43:50.526006",
     "exception": false,
     "start_time": "2024-07-10T01:43:32.628213",
     "status": "completed"
    },
    "tags": []
   },
   "outputs": [],
   "source": [
    "nn_model = MLPClassifier(hidden_layer_sizes=(10,), max_iter=600, random_state=42)\n",
    "nn_model.fit(X_train, y_train)\n",
    "nn_pred = nn_model.predict(X_test)"
   ]
  },
  {
   "cell_type": "code",
   "execution_count": 61,
   "id": "a539b292",
   "metadata": {
    "execution": {
     "iopub.execute_input": "2024-07-10T01:43:50.674112Z",
     "iopub.status.busy": "2024-07-10T01:43:50.673168Z",
     "iopub.status.idle": "2024-07-10T01:43:50.689501Z",
     "shell.execute_reply": "2024-07-10T01:43:50.688341Z"
    },
    "papermill": {
     "duration": 0.080237,
     "end_time": "2024-07-10T01:43:50.691435",
     "exception": false,
     "start_time": "2024-07-10T01:43:50.611198",
     "status": "completed"
    },
    "tags": []
   },
   "outputs": [
    {
     "name": "stdout",
     "output_type": "stream",
     "text": [
      "\n",
      "Neural Network Metrics:\n",
      "Accuracy: 0.9991\n",
      "F1 Score: 0.9992\n",
      "Precision: 0.9998\n",
      "Recall: 0.9986\n"
     ]
    }
   ],
   "source": [
    "nn_accuracy = accuracy_score(y_test, nn_pred)\n",
    "nn_f1 = f1_score(y_test, nn_pred)\n",
    "nn_precision = precision_score(y_test, nn_pred)\n",
    "nn_recall = recall_score(y_test, nn_pred)\n",
    "\n",
    "print('\\nNeural Network Metrics:')\n",
    "print(f'Accuracy: {nn_accuracy:.4f}')\n",
    "print(f'F1 Score: {nn_f1:.4f}')\n",
    "print(f'Precision: {nn_precision:.4f}')\n",
    "print(f'Recall: {nn_recall:.4f}')"
   ]
  },
  {
   "cell_type": "code",
   "execution_count": 62,
   "id": "5f53f7b8",
   "metadata": {
    "execution": {
     "iopub.execute_input": "2024-07-10T01:43:50.793424Z",
     "iopub.status.busy": "2024-07-10T01:43:50.792956Z",
     "iopub.status.idle": "2024-07-10T01:43:51.189171Z",
     "shell.execute_reply": "2024-07-10T01:43:51.188265Z"
    },
    "papermill": {
     "duration": 0.450286,
     "end_time": "2024-07-10T01:43:51.191690",
     "exception": false,
     "start_time": "2024-07-10T01:43:50.741404",
     "status": "completed"
    },
    "tags": []
   },
   "outputs": [
    {
     "data": {
      "image/png": "[encoded data removed]",
      "text/plain": [
       "<Figure size 800x600 with 2 Axes>"
      ]
     },
     "metadata": {},
     "output_type": "display_data"
    }
   ],
   "source": [
    "plot_confusion_matrix(y_test, nn_pred, ['Benign', 'DDoS'], 'Neural Network Confusion Matrix')\n"
   ]
  },
  {
   "cell_type": "code",
   "execution_count": 63,
   "id": "03ceebeb",
   "metadata": {
    "execution": {
     "iopub.execute_input": "2024-07-10T01:43:51.284800Z",
     "iopub.status.busy": "2024-07-10T01:43:51.283863Z",
     "iopub.status.idle": "2024-07-10T03:07:18.906362Z",
     "shell.execute_reply": "2024-07-10T03:07:18.905269Z"
    },
    "papermill": {
     "duration": 5007.667647,
     "end_time": "2024-07-10T03:07:18.908818",
     "exception": false,
     "start_time": "2024-07-10T01:43:51.241171",
     "status": "completed"
    },
    "tags": []
   },
   "outputs": [
    {
     "name": "stderr",
     "output_type": "stream",
     "text": [
      "2024-07-10 01:43:53.082461: E external/local_xla/xla/stream_executor/cuda/cuda_dnn.cc:9261] Unable to register cuDNN factory: Attempting to register factory for plugin cuDNN when one has already been registered\n",
      "2024-07-10 01:43:53.082585: E external/local_xla/xla/stream_executor/cuda/cuda_fft.cc:607] Unable to register cuFFT factory: Attempting to register factory for plugin cuFFT when one has already been registered\n",
      "2024-07-10 01:43:53.234425: E external/local_xla/xla/stream_executor/cuda/cuda_blas.cc:1515] Unable to register cuBLAS factory: Attempting to register factory for plugin cuBLAS when one has already been registered\n",
      "/opt/conda/lib/python3.10/site-packages/keras/src/layers/core/dense.py:87: UserWarning: Do not pass an `input_shape`/`input_dim` argument to a layer. When using Sequential models, prefer using an `Input(shape)` object as the first layer in the model instead.\n",
      "  super().__init__(activity_regularizer=activity_regularizer, **kwargs)\n"
     ]
    },
    {
     "name": "stdout",
     "output_type": "stream",
     "text": [
      "Epoch 1/600\n",
      "\u001b[1m 112/5079\u001b[0m \u001b[37m━━━━━━━━━━━━━━━━━━━━\u001b[0m \u001b[1m6s\u001b[0m 1ms/step - accuracy: 0.4907 - loss: 1.1290"
     ]
    },
    {
     "name": "stderr",
     "output_type": "stream",
     "text": [
      "WARNING: All log messages before absl::InitializeLog() is called are written to STDERR\n",
      "I0000 00:00:1720575845.837206      79 device_compiler.h:186] Compiled cluster using XLA!  This line is logged at most once for the lifetime of the process.\n"
     ]
    },
    {
     "name": "stdout",
     "output_type": "stream",
     "text": [
      "\u001b[1m5079/5079\u001b[0m \u001b[32m━━━━━━━━━━━━━━━━━━━━\u001b[0m\u001b[37m\u001b[0m \u001b[1m11s\u001b[0m 2ms/step - accuracy: 0.9138 - loss: 0.2440 - val_accuracy: 0.9897 - val_loss: 0.0201\n",
      "Epoch 2/600\n",
      "\u001b[1m5079/5079\u001b[0m \u001b[32m━━━━━━━━━━━━━━━━━━━━\u001b[0m\u001b[37m\u001b[0m \u001b[1m8s\u001b[0m 2ms/step - accuracy: 0.9936 - loss: 0.0172 - val_accuracy: 0.9982 - val_loss: 0.0095\n",
      "Epoch 3/600\n",
      "\u001b[1m5079/5079\u001b[0m \u001b[32m━━━━━━━━━━━━━━━━━━━━\u001b[0m\u001b[37m\u001b[0m \u001b[1m10s\u001b[0m 2ms/step - accuracy: 0.9983 - loss: 0.0119 - val_accuracy: 0.9980 - val_loss: 0.0077\n",
      "Epoch 4/600\n",
      "\u001b[1m5079/5079\u001b[0m \u001b[32m━━━━━━━━━━━━━━━━━━━━\u001b[0m\u001b[37m\u001b[0m \u001b[1m8s\u001b[0m 2ms/step - accuracy: 0.9987 - loss: 0.0080 - val_accuracy: 0.9984 - val_loss: 0.0058\n",
      "Epoch 5/600\n",
      "\u001b[1m5079/5079\u001b[0m \u001b[32m━━━━━━━━━━━━━━━━━━━━\u001b[0m\u001b[37m\u001b[0m \u001b[1m8s\u001b[0m 2ms/step - accuracy: 0.9987 - loss: 0.0070 - val_accuracy: 0.9993 - val_loss: 0.0049\n",
      "Epoch 6/600\n",
      "\u001b[1m5079/5079\u001b[0m \u001b[32m━━━━━━━━━━━━━━━━━━━━\u001b[0m\u001b[37m\u001b[0m \u001b[1m8s\u001b[0m 2ms/step - accuracy: 0.9988 - loss: 0.0060 - val_accuracy: 0.9991 - val_loss: 0.0037\n",
      "Epoch 7/600\n",
      "\u001b[1m5079/5079\u001b[0m \u001b[32m━━━━━━━━━━━━━━━━━━━━\u001b[0m\u001b[37m\u001b[0m \u001b[1m8s\u001b[0m 2ms/step - accuracy: 0.9989 - loss: 0.0059 - val_accuracy: 0.9993 - val_loss: 0.0033\n",
      "Epoch 8/600\n",
      "\u001b[1m5079/5079\u001b[0m \u001b[32m━━━━━━━━━━━━━━━━━━━━\u001b[0m\u001b[37m\u001b[0m \u001b[1m8s\u001b[0m 2ms/step - accuracy: 0.9991 - loss: 0.0056 - val_accuracy: 0.9993 - val_loss: 0.0032\n",
      "Epoch 9/600\n",
      "\u001b[1m5079/5079\u001b[0m \u001b[32m━━━━━━━━━━━━━━━━━━━━\u001b[0m\u001b[37m\u001b[0m \u001b[1m8s\u001b[0m 2ms/step - accuracy: 0.9991 - loss: 0.0050 - val_accuracy: 0.9994 - val_loss: 0.0027\n",
      "Epoch 10/600\n",
      "\u001b[1m5079/5079\u001b[0m \u001b[32m━━━━━━━━━━━━━━━━━━━━\u001b[0m\u001b[37m\u001b[0m \u001b[1m8s\u001b[0m 2ms/step - accuracy: 0.9992 - loss: 0.0038 - val_accuracy: 0.9992 - val_loss: 0.0030\n",
      "Epoch 11/600\n",
      "\u001b[1m5079/5079\u001b[0m \u001b[32m━━━━━━━━━━━━━━━━━━━━\u001b[0m\u001b[37m\u001b[0m \u001b[1m8s\u001b[0m 2ms/step - accuracy: 0.9992 - loss: 0.0039 - val_accuracy: 0.9995 - val_loss: 0.0023\n",
      "Epoch 12/600\n",
      "\u001b[1m5079/5079\u001b[0m \u001b[32m━━━━━━━━━━━━━━━━━━━━\u001b[0m\u001b[37m\u001b[0m \u001b[1m8s\u001b[0m 2ms/step - accuracy: 0.9990 - loss: 0.0043 - val_accuracy: 0.9994 - val_loss: 0.0023\n",
      "Epoch 13/600\n",
      "\u001b[1m5079/5079\u001b[0m \u001b[32m━━━━━━━━━━━━━━━━━━━━\u001b[0m\u001b[37m\u001b[0m \u001b[1m8s\u001b[0m 2ms/step - accuracy: 0.9992 - loss: 0.0037 - val_accuracy: 0.9994 - val_loss: 0.0026\n",
      "Epoch 14/600\n",
      "\u001b[1m5079/5079\u001b[0m \u001b[32m━━━━━━━━━━━━━━━━━━━━\u001b[0m\u001b[37m\u001b[0m \u001b[1m8s\u001b[0m 2ms/step - accuracy: 0.9992 - loss: 0.0037 - val_accuracy: 0.9989 - val_loss: 0.0062\n",
      "Epoch 15/600\n",
      "\u001b[1m5079/5079\u001b[0m \u001b[32m━━━━━━━━━━━━━━━━━━━━\u001b[0m\u001b[37m\u001b[0m \u001b[1m8s\u001b[0m 2ms/step - accuracy: 0.9991 - loss: 0.0039 - val_accuracy: 0.9994 - val_loss: 0.0026\n",
      "Epoch 16/600\n",
      "\u001b[1m5079/5079\u001b[0m \u001b[32m━━━━━━━━━━━━━━━━━━━━\u001b[0m\u001b[37m\u001b[0m \u001b[1m8s\u001b[0m 2ms/step - accuracy: 0.9993 - loss: 0.0030 - val_accuracy: 0.9992 - val_loss: 0.0041\n",
      "Epoch 17/600\n",
      "\u001b[1m5079/5079\u001b[0m \u001b[32m━━━━━━━━━━━━━━━━━━━━\u001b[0m\u001b[37m\u001b[0m \u001b[1m9s\u001b[0m 2ms/step - accuracy: 0.9992 - loss: 0.0036 - val_accuracy: 0.9993 - val_loss: 0.0030\n",
      "Epoch 18/600\n",
      "\u001b[1m5079/5079\u001b[0m \u001b[32m━━━━━━━━━━━━━━━━━━━━\u001b[0m\u001b[37m\u001b[0m \u001b[1m8s\u001b[0m 2ms/step - accuracy: 0.9992 - loss: 0.0032 - val_accuracy: 0.9994 - val_loss: 0.0025\n",
      "Epoch 19/600\n",
      "\u001b[1m5079/5079\u001b[0m \u001b[32m━━━━━━━━━━━━━━━━━━━━\u001b[0m\u001b[37m\u001b[0m \u001b[1m8s\u001b[0m 2ms/step - accuracy: 0.9992 - loss: 0.0035 - val_accuracy: 0.9995 - val_loss: 0.0020\n",
      "Epoch 20/600\n",
      "\u001b[1m5079/5079\u001b[0m \u001b[32m━━━━━━━━━━━━━━━━━━━━\u001b[0m\u001b[37m\u001b[0m \u001b[1m8s\u001b[0m 2ms/step - accuracy: 0.9992 - loss: 0.0041 - val_accuracy: 0.9995 - val_loss: 0.0019\n",
      "Epoch 21/600\n",
      "\u001b[1m5079/5079\u001b[0m \u001b[32m━━━━━━━━━━━━━━━━━━━━\u001b[0m\u001b[37m\u001b[0m \u001b[1m8s\u001b[0m 2ms/step - accuracy: 0.9992 - loss: 0.0034 - val_accuracy: 0.9995 - val_loss: 0.0019\n",
      "Epoch 22/600\n",
      "\u001b[1m5079/5079\u001b[0m \u001b[32m━━━━━━━━━━━━━━━━━━━━\u001b[0m\u001b[37m\u001b[0m \u001b[1m8s\u001b[0m 2ms/step - accuracy: 0.9992 - loss: 0.0033 - val_accuracy: 0.9995 - val_loss: 0.0023\n",
      "Epoch 23/600\n",
      "\u001b[1m5079/5079\u001b[0m \u001b[32m━━━━━━━━━━━━━━━━━━━━\u001b[0m\u001b[37m\u001b[0m \u001b[1m8s\u001b[0m 2ms/step - accuracy: 0.9992 - loss: 0.0039 - val_accuracy: 0.9996 - val_loss: 0.0017\n",
      "Epoch 24/600\n",
      "\u001b[1m5079/5079\u001b[0m \u001b[32m━━━━━━━━━━━━━━━━━━━━\u001b[0m\u001b[37m\u001b[0m \u001b[1m8s\u001b[0m 2ms/step - accuracy: 0.9993 - loss: 0.0031 - val_accuracy: 0.9995 - val_loss: 0.0018\n",
      "Epoch 25/600\n",
      "\u001b[1m5079/5079\u001b[0m \u001b[32m━━━━━━━━━━━━━━━━━━━━\u001b[0m\u001b[37m\u001b[0m \u001b[1m8s\u001b[0m 2ms/step - accuracy: 0.9992 - loss: 0.0033 - val_accuracy: 0.9992 - val_loss: 0.0033\n",
      "Epoch 26/600\n",
      "\u001b[1m5079/5079\u001b[0m \u001b[32m━━━━━━━━━━━━━━━━━━━━\u001b[0m\u001b[37m\u001b[0m \u001b[1m8s\u001b[0m 2ms/step - accuracy: 0.9992 - loss: 0.0030 - val_accuracy: 0.9993 - val_loss: 0.0032\n",
      "Epoch 27/600\n",
      "\u001b[1m5079/5079\u001b[0m \u001b[32m━━━━━━━━━━━━━━━━━━━━\u001b[0m\u001b[37m\u001b[0m \u001b[1m8s\u001b[0m 2ms/step - accuracy: 0.9993 - loss: 0.0029 - val_accuracy: 0.9995 - val_loss: 0.0018\n",
      "Epoch 28/600\n",
      "\u001b[1m5079/5079\u001b[0m \u001b[32m━━━━━━━━━━━━━━━━━━━━\u001b[0m\u001b[37m\u001b[0m \u001b[1m8s\u001b[0m 2ms/step - accuracy: 0.9992 - loss: 0.0036 - val_accuracy: 0.9995 - val_loss: 0.0016\n",
      "Epoch 29/600\n",
      "\u001b[1m5079/5079\u001b[0m \u001b[32m━━━━━━━━━━━━━━━━━━━━\u001b[0m\u001b[37m\u001b[0m \u001b[1m8s\u001b[0m 2ms/step - accuracy: 0.9993 - loss: 0.0028 - val_accuracy: 0.9995 - val_loss: 0.0016\n",
      "Epoch 30/600\n",
      "\u001b[1m5079/5079\u001b[0m \u001b[32m━━━━━━━━━━━━━━━━━━━━\u001b[0m\u001b[37m\u001b[0m \u001b[1m8s\u001b[0m 2ms/step - accuracy: 0.9993 - loss: 0.0027 - val_accuracy: 0.9995 - val_loss: 0.0017\n",
      "Epoch 31/600\n",
      "\u001b[1m5079/5079\u001b[0m \u001b[32m━━━━━━━━━━━━━━━━━━━━\u001b[0m\u001b[37m\u001b[0m \u001b[1m8s\u001b[0m 2ms/step - accuracy: 0.9994 - loss: 0.0022 - val_accuracy: 0.9995 - val_loss: 0.0019\n",
      "Epoch 32/600\n",
      "\u001b[1m5079/5079\u001b[0m \u001b[32m━━━━━━━━━━━━━━━━━━━━\u001b[0m\u001b[37m\u001b[0m \u001b[1m8s\u001b[0m 2ms/step - accuracy: 0.9993 - loss: 0.0029 - val_accuracy: 0.9994 - val_loss: 0.0023\n",
      "Epoch 33/600\n",
      "\u001b[1m5079/5079\u001b[0m \u001b[32m━━━━━━━━━━━━━━━━━━━━\u001b[0m\u001b[37m\u001b[0m \u001b[1m8s\u001b[0m 2ms/step - accuracy: 0.9994 - loss: 0.0029 - val_accuracy: 0.9994 - val_loss: 0.0025\n",
      "Epoch 34/600\n",
      "\u001b[1m5079/5079\u001b[0m \u001b[32m━━━━━━━━━━━━━━━━━━━━\u001b[0m\u001b[37m\u001b[0m \u001b[1m8s\u001b[0m 2ms/step - accuracy: 0.9993 - loss: 0.0031 - val_accuracy: 0.9990 - val_loss: 0.0029\n",
      "Epoch 35/600\n",
      "\u001b[1m5079/5079\u001b[0m \u001b[32m━━━━━━━━━━━━━━━━━━━━\u001b[0m\u001b[37m\u001b[0m \u001b[1m8s\u001b[0m 2ms/step - accuracy: 0.9993 - loss: 0.0034 - val_accuracy: 0.9994 - val_loss: 0.0020\n",
      "Epoch 36/600\n",
      "\u001b[1m5079/5079\u001b[0m \u001b[32m━━━━━━━━━━━━━━━━━━━━\u001b[0m\u001b[37m\u001b[0m \u001b[1m8s\u001b[0m 2ms/step - accuracy: 0.9994 - loss: 0.0025 - val_accuracy: 0.9994 - val_loss: 0.0020\n",
      "Epoch 37/600\n",
      "\u001b[1m5079/5079\u001b[0m \u001b[32m━━━━━━━━━━━━━━━━━━━━\u001b[0m\u001b[37m\u001b[0m \u001b[1m8s\u001b[0m 2ms/step - accuracy: 0.9993 - loss: 0.0032 - val_accuracy: 0.9996 - val_loss: 0.0015\n",
      "Epoch 38/600\n",
      "\u001b[1m5079/5079\u001b[0m \u001b[32m━━━━━━━━━━━━━━━━━━━━\u001b[0m\u001b[37m\u001b[0m \u001b[1m8s\u001b[0m 2ms/step - accuracy: 0.9993 - loss: 0.0031 - val_accuracy: 0.9995 - val_loss: 0.0017\n",
      "Epoch 39/600\n",
      "\u001b[1m5079/5079\u001b[0m \u001b[32m━━━━━━━━━━━━━━━━━━━━\u001b[0m\u001b[37m\u001b[0m \u001b[1m8s\u001b[0m 2ms/step - accuracy: 0.9993 - loss: 0.0033 - val_accuracy: 0.9994 - val_loss: 0.0022\n",
      "Epoch 40/600\n",
      "\u001b[1m5079/5079\u001b[0m \u001b[32m━━━━━━━━━━━━━━━━━━━━\u001b[0m\u001b[37m\u001b[0m \u001b[1m8s\u001b[0m 2ms/step - accuracy: 0.9993 - loss: 0.0026 - val_accuracy: 0.9995 - val_loss: 0.0014\n",
      "Epoch 41/600\n",
      "\u001b[1m5079/5079\u001b[0m \u001b[32m━━━━━━━━━━━━━━━━━━━━\u001b[0m\u001b[37m\u001b[0m \u001b[1m8s\u001b[0m 2ms/step - accuracy: 0.9993 - loss: 0.0043 - val_accuracy: 0.9996 - val_loss: 0.0016\n",
      "Epoch 42/600\n",
      "\u001b[1m5079/5079\u001b[0m \u001b[32m━━━━━━━━━━━━━━━━━━━━\u001b[0m\u001b[37m\u001b[0m \u001b[1m8s\u001b[0m 2ms/step - accuracy: 0.9993 - loss: 0.0028 - val_accuracy: 0.9995 - val_loss: 0.0016\n",
      "Epoch 43/600\n",
      "\u001b[1m5079/5079\u001b[0m \u001b[32m━━━━━━━━━━━━━━━━━━━━\u001b[0m\u001b[37m\u001b[0m \u001b[1m8s\u001b[0m 2ms/step - accuracy: 0.9994 - loss: 0.0025 - val_accuracy: 0.9996 - val_loss: 0.0014\n",
      "Epoch 44/600\n",
      "\u001b[1m5079/5079\u001b[0m \u001b[32m━━━━━━━━━━━━━━━━━━━━\u001b[0m\u001b[37m\u001b[0m \u001b[1m8s\u001b[0m 2ms/step - accuracy: 0.9994 - loss: 0.0025 - val_accuracy: 0.9996 - val_loss: 0.0013\n",
      "Epoch 45/600\n",
      "\u001b[1m5079/5079\u001b[0m \u001b[32m━━━━━━━━━━━━━━━━━━━━\u001b[0m\u001b[37m\u001b[0m \u001b[1m8s\u001b[0m 2ms/step - accuracy: 0.9994 - loss: 0.0033 - val_accuracy: 0.9994 - val_loss: 0.0021\n",
      "Epoch 46/600\n",
      "\u001b[1m5079/5079\u001b[0m \u001b[32m━━━━━━━━━━━━━━━━━━━━\u001b[0m\u001b[37m\u001b[0m \u001b[1m8s\u001b[0m 2ms/step - accuracy: 0.9993 - loss: 0.0034 - val_accuracy: 0.9995 - val_loss: 0.0019\n",
      "Epoch 47/600\n",
      "\u001b[1m5079/5079\u001b[0m \u001b[32m━━━━━━━━━━━━━━━━━━━━\u001b[0m\u001b[37m\u001b[0m \u001b[1m8s\u001b[0m 2ms/step - accuracy: 0.9994 - loss: 0.0023 - val_accuracy: 0.9997 - val_loss: 0.0013\n",
      "Epoch 48/600\n",
      "\u001b[1m5079/5079\u001b[0m \u001b[32m━━━━━━━━━━━━━━━━━━━━\u001b[0m\u001b[37m\u001b[0m \u001b[1m8s\u001b[0m 2ms/step - accuracy: 0.9994 - loss: 0.0028 - val_accuracy: 0.9996 - val_loss: 0.0013\n",
      "Epoch 49/600\n",
      "\u001b[1m5079/5079\u001b[0m \u001b[32m━━━━━━━━━━━━━━━━━━━━\u001b[0m\u001b[37m\u001b[0m \u001b[1m8s\u001b[0m 2ms/step - accuracy: 0.9995 - loss: 0.0019 - val_accuracy: 0.9994 - val_loss: 0.0016\n",
      "Epoch 50/600\n",
      "\u001b[1m5079/5079\u001b[0m \u001b[32m━━━━━━━━━━━━━━━━━━━━\u001b[0m\u001b[37m\u001b[0m \u001b[1m8s\u001b[0m 2ms/step - accuracy: 0.9994 - loss: 0.0023 - val_accuracy: 0.9996 - val_loss: 0.0013\n",
      "Epoch 51/600\n",
      "\u001b[1m5079/5079\u001b[0m \u001b[32m━━━━━━━━━━━━━━━━━━━━\u001b[0m\u001b[37m\u001b[0m \u001b[1m8s\u001b[0m 2ms/step - accuracy: 0.9994 - loss: 0.0023 - val_accuracy: 0.9997 - val_loss: 0.0012\n",
      "Epoch 52/600\n",
      "\u001b[1m5079/5079\u001b[0m \u001b[32m━━━━━━━━━━━━━━━━━━━━\u001b[0m\u001b[37m\u001b[0m \u001b[1m8s\u001b[0m 2ms/step - accuracy: 0.9995 - loss: 0.0025 - val_accuracy: 0.9997 - val_loss: 0.0012\n",
      "Epoch 53/600\n",
      "\u001b[1m5079/5079\u001b[0m \u001b[32m━━━━━━━━━━━━━━━━━━━━\u001b[0m\u001b[37m\u001b[0m \u001b[1m8s\u001b[0m 2ms/step - accuracy: 0.9994 - loss: 0.0022 - val_accuracy: 0.9996 - val_loss: 0.0013\n",
      "Epoch 54/600\n",
      "\u001b[1m5079/5079\u001b[0m \u001b[32m━━━━━━━━━━━━━━━━━━━━\u001b[0m\u001b[37m\u001b[0m \u001b[1m8s\u001b[0m 2ms/step - accuracy: 0.9994 - loss: 0.0027 - val_accuracy: 0.9995 - val_loss: 0.0018\n",
      "Epoch 55/600\n",
      "\u001b[1m5079/5079\u001b[0m \u001b[32m━━━━━━━━━━━━━━━━━━━━\u001b[0m\u001b[37m\u001b[0m \u001b[1m8s\u001b[0m 2ms/step - accuracy: 0.9994 - loss: 0.0023 - val_accuracy: 0.9996 - val_loss: 0.0013\n",
      "Epoch 56/600\n",
      "\u001b[1m5079/5079\u001b[0m \u001b[32m━━━━━━━━━━━━━━━━━━━━\u001b[0m\u001b[37m\u001b[0m \u001b[1m8s\u001b[0m 2ms/step - accuracy: 0.9995 - loss: 0.0024 - val_accuracy: 0.9996 - val_loss: 0.0014\n",
      "Epoch 57/600\n",
      "\u001b[1m5079/5079\u001b[0m \u001b[32m━━━━━━━━━━━━━━━━━━━━\u001b[0m\u001b[37m\u001b[0m \u001b[1m8s\u001b[0m 2ms/step - accuracy: 0.9995 - loss: 0.0028 - val_accuracy: 0.9993 - val_loss: 0.0030\n",
      "Epoch 58/600\n",
      "\u001b[1m5079/5079\u001b[0m \u001b[32m━━━━━━━━━━━━━━━━━━━━\u001b[0m\u001b[37m\u001b[0m \u001b[1m8s\u001b[0m 2ms/step - accuracy: 0.9994 - loss: 0.0024 - val_accuracy: 0.9996 - val_loss: 0.0013\n",
      "Epoch 59/600\n",
      "\u001b[1m5079/5079\u001b[0m \u001b[32m━━━━━━━━━━━━━━━━━━━━\u001b[0m\u001b[37m\u001b[0m \u001b[1m8s\u001b[0m 2ms/step - accuracy: 0.9995 - loss: 0.0023 - val_accuracy: 0.9994 - val_loss: 0.0029\n",
      "Epoch 60/600\n",
      "\u001b[1m5079/5079\u001b[0m \u001b[32m━━━━━━━━━━━━━━━━━━━━\u001b[0m\u001b[37m\u001b[0m \u001b[1m8s\u001b[0m 2ms/step - accuracy: 0.9993 - loss: 0.0036 - val_accuracy: 0.9997 - val_loss: 0.0012\n",
      "Epoch 61/600\n",
      "\u001b[1m5079/5079\u001b[0m \u001b[32m━━━━━━━━━━━━━━━━━━━━\u001b[0m\u001b[37m\u001b[0m \u001b[1m8s\u001b[0m 2ms/step - accuracy: 0.9995 - loss: 0.0035 - val_accuracy: 0.9997 - val_loss: 0.0011\n",
      "Epoch 62/600\n",
      "\u001b[1m5079/5079\u001b[0m \u001b[32m━━━━━━━━━━━━━━━━━━━━\u001b[0m\u001b[37m\u001b[0m \u001b[1m8s\u001b[0m 2ms/step - accuracy: 0.9994 - loss: 0.0029 - val_accuracy: 0.9995 - val_loss: 0.0017\n",
      "Epoch 63/600\n",
      "\u001b[1m5079/5079\u001b[0m \u001b[32m━━━━━━━━━━━━━━━━━━━━\u001b[0m\u001b[37m\u001b[0m \u001b[1m8s\u001b[0m 2ms/step - accuracy: 0.9995 - loss: 0.0020 - val_accuracy: 0.9995 - val_loss: 0.0014\n",
      "Epoch 64/600\n",
      "\u001b[1m5079/5079\u001b[0m \u001b[32m━━━━━━━━━━━━━━━━━━━━\u001b[0m\u001b[37m\u001b[0m \u001b[1m9s\u001b[0m 2ms/step - accuracy: 0.9994 - loss: 0.0027 - val_accuracy: 0.9996 - val_loss: 0.0013\n",
      "Epoch 65/600\n",
      "\u001b[1m5079/5079\u001b[0m \u001b[32m━━━━━━━━━━━━━━━━━━━━\u001b[0m\u001b[37m\u001b[0m \u001b[1m8s\u001b[0m 2ms/step - accuracy: 0.9996 - loss: 0.0018 - val_accuracy: 0.9997 - val_loss: 0.0012\n",
      "Epoch 66/600\n",
      "\u001b[1m5079/5079\u001b[0m \u001b[32m━━━━━━━━━━━━━━━━━━━━\u001b[0m\u001b[37m\u001b[0m \u001b[1m8s\u001b[0m 2ms/step - accuracy: 0.9995 - loss: 0.0021 - val_accuracy: 0.9994 - val_loss: 0.0029\n",
      "Epoch 67/600\n",
      "\u001b[1m5079/5079\u001b[0m \u001b[32m━━━━━━━━━━━━━━━━━━━━\u001b[0m\u001b[37m\u001b[0m \u001b[1m8s\u001b[0m 2ms/step - accuracy: 0.9994 - loss: 0.0037 - val_accuracy: 0.9997 - val_loss: 0.0012\n",
      "Epoch 68/600\n",
      "\u001b[1m5079/5079\u001b[0m \u001b[32m━━━━━━━━━━━━━━━━━━━━\u001b[0m\u001b[37m\u001b[0m \u001b[1m8s\u001b[0m 2ms/step - accuracy: 0.9994 - loss: 0.0027 - val_accuracy: 0.9996 - val_loss: 0.0012\n",
      "Epoch 69/600\n",
      "\u001b[1m5079/5079\u001b[0m \u001b[32m━━━━━━━━━━━━━━━━━━━━\u001b[0m\u001b[37m\u001b[0m \u001b[1m9s\u001b[0m 2ms/step - accuracy: 0.9994 - loss: 0.0026 - val_accuracy: 0.9997 - val_loss: 0.0012\n",
      "Epoch 70/600\n",
      "\u001b[1m5079/5079\u001b[0m \u001b[32m━━━━━━━━━━━━━━━━━━━━\u001b[0m\u001b[37m\u001b[0m \u001b[1m8s\u001b[0m 2ms/step - accuracy: 0.9996 - loss: 0.0023 - val_accuracy: 0.9996 - val_loss: 0.0015\n",
      "Epoch 71/600\n",
      "\u001b[1m5079/5079\u001b[0m \u001b[32m━━━━━━━━━━━━━━━━━━━━\u001b[0m\u001b[37m\u001b[0m \u001b[1m8s\u001b[0m 2ms/step - accuracy: 0.9995 - loss: 0.0021 - val_accuracy: 0.9996 - val_loss: 0.0012\n",
      "Epoch 72/600\n",
      "\u001b[1m5079/5079\u001b[0m \u001b[32m━━━━━━━━━━━━━━━━━━━━\u001b[0m\u001b[37m\u001b[0m \u001b[1m8s\u001b[0m 2ms/step - accuracy: 0.9996 - loss: 0.0016 - val_accuracy: 0.9995 - val_loss: 0.0019\n",
      "Epoch 73/600\n",
      "\u001b[1m5079/5079\u001b[0m \u001b[32m━━━━━━━━━━━━━━━━━━━━\u001b[0m\u001b[37m\u001b[0m \u001b[1m8s\u001b[0m 2ms/step - accuracy: 0.9994 - loss: 0.0028 - val_accuracy: 0.9996 - val_loss: 0.0012\n",
      "Epoch 74/600\n",
      "\u001b[1m5079/5079\u001b[0m \u001b[32m━━━━━━━━━━━━━━━━━━━━\u001b[0m\u001b[37m\u001b[0m \u001b[1m8s\u001b[0m 2ms/step - accuracy: 0.9995 - loss: 0.0020 - val_accuracy: 0.9997 - val_loss: 0.0014\n",
      "Epoch 75/600\n",
      "\u001b[1m5079/5079\u001b[0m \u001b[32m━━━━━━━━━━━━━━━━━━━━\u001b[0m\u001b[37m\u001b[0m \u001b[1m8s\u001b[0m 2ms/step - accuracy: 0.9995 - loss: 0.0027 - val_accuracy: 0.9994 - val_loss: 0.0027\n",
      "Epoch 76/600\n",
      "\u001b[1m5079/5079\u001b[0m \u001b[32m━━━━━━━━━━━━━━━━━━━━\u001b[0m\u001b[37m\u001b[0m \u001b[1m8s\u001b[0m 2ms/step - accuracy: 0.9995 - loss: 0.0019 - val_accuracy: 0.9996 - val_loss: 0.0016\n",
      "Epoch 77/600\n",
      "\u001b[1m5079/5079\u001b[0m \u001b[32m━━━━━━━━━━━━━━━━━━━━\u001b[0m\u001b[37m\u001b[0m \u001b[1m8s\u001b[0m 2ms/step - accuracy: 0.9995 - loss: 0.0022 - val_accuracy: 0.9997 - val_loss: 0.0011\n",
      "Epoch 78/600\n",
      "\u001b[1m5079/5079\u001b[0m \u001b[32m━━━━━━━━━━━━━━━━━━━━\u001b[0m\u001b[37m\u001b[0m \u001b[1m8s\u001b[0m 2ms/step - accuracy: 0.9995 - loss: 0.0017 - val_accuracy: 0.9995 - val_loss: 0.0016\n",
      "Epoch 79/600\n",
      "\u001b[1m5079/5079\u001b[0m \u001b[32m━━━━━━━━━━━━━━━━━━━━\u001b[0m\u001b[37m\u001b[0m \u001b[1m8s\u001b[0m 2ms/step - accuracy: 0.9995 - loss: 0.0017 - val_accuracy: 0.9997 - val_loss: 0.0012\n",
      "Epoch 80/600\n",
      "\u001b[1m5079/5079\u001b[0m \u001b[32m━━━━━━━━━━━━━━━━━━━━\u001b[0m\u001b[37m\u001b[0m \u001b[1m8s\u001b[0m 2ms/step - accuracy: 0.9995 - loss: 0.0017 - val_accuracy: 0.9997 - val_loss: 0.0011\n",
      "Epoch 81/600\n",
      "\u001b[1m5079/5079\u001b[0m \u001b[32m━━━━━━━━━━━━━━━━━━━━\u001b[0m\u001b[37m\u001b[0m \u001b[1m10s\u001b[0m 2ms/step - accuracy: 0.9994 - loss: 0.0021 - val_accuracy: 0.9996 - val_loss: 0.0019\n",
      "Epoch 82/600\n",
      "\u001b[1m5079/5079\u001b[0m \u001b[32m━━━━━━━━━━━━━━━━━━━━\u001b[0m\u001b[37m\u001b[0m \u001b[1m8s\u001b[0m 2ms/step - accuracy: 0.9996 - loss: 0.0015 - val_accuracy: 0.9997 - val_loss: 0.0011\n",
      "Epoch 83/600\n",
      "\u001b[1m5079/5079\u001b[0m \u001b[32m━━━━━━━━━━━━━━━━━━━━\u001b[0m\u001b[37m\u001b[0m \u001b[1m8s\u001b[0m 2ms/step - accuracy: 0.9996 - loss: 0.0020 - val_accuracy: 0.9995 - val_loss: 0.0017\n",
      "Epoch 84/600\n",
      "\u001b[1m5079/5079\u001b[0m \u001b[32m━━━━━━━━━━━━━━━━━━━━\u001b[0m\u001b[37m\u001b[0m \u001b[1m8s\u001b[0m 2ms/step - accuracy: 0.9996 - loss: 0.0015 - val_accuracy: 0.9992 - val_loss: 0.0085\n",
      "Epoch 85/600\n",
      "\u001b[1m5079/5079\u001b[0m \u001b[32m━━━━━━━━━━━━━━━━━━━━\u001b[0m\u001b[37m\u001b[0m \u001b[1m8s\u001b[0m 2ms/step - accuracy: 0.9996 - loss: 0.0024 - val_accuracy: 0.9996 - val_loss: 0.0012\n",
      "Epoch 86/600\n",
      "\u001b[1m5079/5079\u001b[0m \u001b[32m━━━━━━━━━━━━━━━━━━━━\u001b[0m\u001b[37m\u001b[0m \u001b[1m8s\u001b[0m 2ms/step - accuracy: 0.9996 - loss: 0.0016 - val_accuracy: 0.9997 - val_loss: 0.0011\n",
      "Epoch 87/600\n",
      "\u001b[1m5079/5079\u001b[0m \u001b[32m━━━━━━━━━━━━━━━━━━━━\u001b[0m\u001b[37m\u001b[0m \u001b[1m8s\u001b[0m 2ms/step - accuracy: 0.9996 - loss: 0.0016 - val_accuracy: 0.9997 - val_loss: 0.0011\n",
      "Epoch 88/600\n",
      "\u001b[1m5079/5079\u001b[0m \u001b[32m━━━━━━━━━━━━━━━━━━━━\u001b[0m\u001b[37m\u001b[0m \u001b[1m8s\u001b[0m 2ms/step - accuracy: 0.9995 - loss: 0.0023 - val_accuracy: 0.9997 - val_loss: 0.0011\n",
      "Epoch 89/600\n",
      "\u001b[1m5079/5079\u001b[0m \u001b[32m━━━━━━━━━━━━━━━━━━━━\u001b[0m\u001b[37m\u001b[0m \u001b[1m8s\u001b[0m 2ms/step - accuracy: 0.9995 - loss: 0.0020 - val_accuracy: 0.9997 - val_loss: 0.0010\n",
      "Epoch 90/600\n",
      "\u001b[1m5079/5079\u001b[0m \u001b[32m━━━━━━━━━━━━━━━━━━━━\u001b[0m\u001b[37m\u001b[0m \u001b[1m8s\u001b[0m 2ms/step - accuracy: 0.9996 - loss: 0.0018 - val_accuracy: 0.9997 - val_loss: 0.0011\n",
      "Epoch 91/600\n",
      "\u001b[1m5079/5079\u001b[0m \u001b[32m━━━━━━━━━━━━━━━━━━━━\u001b[0m\u001b[37m\u001b[0m \u001b[1m8s\u001b[0m 2ms/step - accuracy: 0.9995 - loss: 0.0023 - val_accuracy: 0.9996 - val_loss: 0.0011\n",
      "Epoch 92/600\n",
      "\u001b[1m5079/5079\u001b[0m \u001b[32m━━━━━━━━━━━━━━━━━━━━\u001b[0m\u001b[37m\u001b[0m \u001b[1m8s\u001b[0m 2ms/step - accuracy: 0.9996 - loss: 0.0023 - val_accuracy: 0.9995 - val_loss: 0.0019\n",
      "Epoch 93/600\n",
      "\u001b[1m5079/5079\u001b[0m \u001b[32m━━━━━━━━━━━━━━━━━━━━\u001b[0m\u001b[37m\u001b[0m \u001b[1m8s\u001b[0m 2ms/step - accuracy: 0.9996 - loss: 0.0020 - val_accuracy: 0.9998 - val_loss: 9.7760e-04\n",
      "Epoch 94/600\n",
      "\u001b[1m5079/5079\u001b[0m \u001b[32m━━━━━━━━━━━━━━━━━━━━\u001b[0m\u001b[37m\u001b[0m \u001b[1m8s\u001b[0m 2ms/step - accuracy: 0.9996 - loss: 0.0016 - val_accuracy: 0.9997 - val_loss: 0.0011\n",
      "Epoch 95/600\n",
      "\u001b[1m5079/5079\u001b[0m \u001b[32m━━━━━━━━━━━━━━━━━━━━\u001b[0m\u001b[37m\u001b[0m \u001b[1m8s\u001b[0m 2ms/step - accuracy: 0.9996 - loss: 0.0014 - val_accuracy: 0.9995 - val_loss: 0.0018\n",
      "Epoch 96/600\n",
      "\u001b[1m5079/5079\u001b[0m \u001b[32m━━━━━━━━━━━━━━━━━━━━\u001b[0m\u001b[37m\u001b[0m \u001b[1m8s\u001b[0m 2ms/step - accuracy: 0.9997 - loss: 0.0013 - val_accuracy: 0.9997 - val_loss: 0.0010\n",
      "Epoch 97/600\n",
      "\u001b[1m5079/5079\u001b[0m \u001b[32m━━━━━━━━━━━━━━━━━━━━\u001b[0m\u001b[37m\u001b[0m \u001b[1m8s\u001b[0m 2ms/step - accuracy: 0.9996 - loss: 0.0015 - val_accuracy: 0.9996 - val_loss: 0.0011\n",
      "Epoch 98/600\n",
      "\u001b[1m5079/5079\u001b[0m \u001b[32m━━━━━━━━━━━━━━━━━━━━\u001b[0m\u001b[37m\u001b[0m \u001b[1m8s\u001b[0m 2ms/step - accuracy: 0.9995 - loss: 0.0018 - val_accuracy: 0.9997 - val_loss: 9.2203e-04\n",
      "Epoch 99/600\n",
      "\u001b[1m5079/5079\u001b[0m \u001b[32m━━━━━━━━━━━━━━━━━━━━\u001b[0m\u001b[37m\u001b[0m \u001b[1m8s\u001b[0m 2ms/step - accuracy: 0.9996 - loss: 0.0017 - val_accuracy: 0.9997 - val_loss: 0.0010\n",
      "Epoch 100/600\n",
      "\u001b[1m5079/5079\u001b[0m \u001b[32m━━━━━━━━━━━━━━━━━━━━\u001b[0m\u001b[37m\u001b[0m \u001b[1m10s\u001b[0m 2ms/step - accuracy: 0.9997 - loss: 0.0016 - val_accuracy: 0.9997 - val_loss: 0.0013\n",
      "Epoch 101/600\n",
      "\u001b[1m5079/5079\u001b[0m \u001b[32m━━━━━━━━━━━━━━━━━━━━\u001b[0m\u001b[37m\u001b[0m \u001b[1m8s\u001b[0m 2ms/step - accuracy: 0.9996 - loss: 0.0014 - val_accuracy: 0.9996 - val_loss: 0.0013\n",
      "Epoch 102/600\n",
      "\u001b[1m5079/5079\u001b[0m \u001b[32m━━━━━━━━━━━━━━━━━━━━\u001b[0m\u001b[37m\u001b[0m \u001b[1m9s\u001b[0m 2ms/step - accuracy: 0.9996 - loss: 0.0017 - val_accuracy: 0.9996 - val_loss: 0.0017\n",
      "Epoch 103/600\n",
      "\u001b[1m5079/5079\u001b[0m \u001b[32m━━━━━━━━━━━━━━━━━━━━\u001b[0m\u001b[37m\u001b[0m \u001b[1m8s\u001b[0m 2ms/step - accuracy: 0.9996 - loss: 0.0016 - val_accuracy: 0.9997 - val_loss: 9.7836e-04\n",
      "Epoch 104/600\n",
      "\u001b[1m5079/5079\u001b[0m \u001b[32m━━━━━━━━━━━━━━━━━━━━\u001b[0m\u001b[37m\u001b[0m \u001b[1m8s\u001b[0m 2ms/step - accuracy: 0.9996 - loss: 0.0014 - val_accuracy: 0.9996 - val_loss: 0.0012\n",
      "Epoch 105/600\n",
      "\u001b[1m5079/5079\u001b[0m \u001b[32m━━━━━━━━━━━━━━━━━━━━\u001b[0m\u001b[37m\u001b[0m \u001b[1m8s\u001b[0m 2ms/step - accuracy: 0.9995 - loss: 0.0022 - val_accuracy: 0.9997 - val_loss: 9.2241e-04\n",
      "Epoch 106/600\n",
      "\u001b[1m5079/5079\u001b[0m \u001b[32m━━━━━━━━━━━━━━━━━━━━\u001b[0m\u001b[37m\u001b[0m \u001b[1m8s\u001b[0m 2ms/step - accuracy: 0.9995 - loss: 0.0017 - val_accuracy: 0.9995 - val_loss: 0.0024\n",
      "Epoch 107/600\n",
      "\u001b[1m5079/5079\u001b[0m \u001b[32m━━━━━━━━━━━━━━━━━━━━\u001b[0m\u001b[37m\u001b[0m \u001b[1m8s\u001b[0m 2ms/step - accuracy: 0.9996 - loss: 0.0021 - val_accuracy: 0.9998 - val_loss: 8.3625e-04\n",
      "Epoch 108/600\n",
      "\u001b[1m5079/5079\u001b[0m \u001b[32m━━━━━━━━━━━━━━━━━━━━\u001b[0m\u001b[37m\u001b[0m \u001b[1m8s\u001b[0m 2ms/step - accuracy: 0.9995 - loss: 0.0036 - val_accuracy: 0.9996 - val_loss: 0.0015\n",
      "Epoch 109/600\n",
      "\u001b[1m5079/5079\u001b[0m \u001b[32m━━━━━━━━━━━━━━━━━━━━\u001b[0m\u001b[37m\u001b[0m \u001b[1m8s\u001b[0m 2ms/step - accuracy: 0.9995 - loss: 0.0017 - val_accuracy: 0.9997 - val_loss: 0.0010\n",
      "Epoch 110/600\n",
      "\u001b[1m5079/5079\u001b[0m \u001b[32m━━━━━━━━━━━━━━━━━━━━\u001b[0m\u001b[37m\u001b[0m \u001b[1m8s\u001b[0m 2ms/step - accuracy: 0.9997 - loss: 0.0015 - val_accuracy: 0.9997 - val_loss: 0.0012\n",
      "Epoch 111/600\n",
      "\u001b[1m5079/5079\u001b[0m \u001b[32m━━━━━━━━━━━━━━━━━━━━\u001b[0m\u001b[37m\u001b[0m \u001b[1m8s\u001b[0m 2ms/step - accuracy: 0.9994 - loss: 0.0023 - val_accuracy: 0.9995 - val_loss: 0.0017\n",
      "Epoch 112/600\n",
      "\u001b[1m5079/5079\u001b[0m \u001b[32m━━━━━━━━━━━━━━━━━━━━\u001b[0m\u001b[37m\u001b[0m \u001b[1m8s\u001b[0m 2ms/step - accuracy: 0.9996 - loss: 0.0023 - val_accuracy: 0.9997 - val_loss: 9.8985e-04\n",
      "Epoch 113/600\n",
      "\u001b[1m5079/5079\u001b[0m \u001b[32m━━━━━━━━━━━━━━━━━━━━\u001b[0m\u001b[37m\u001b[0m \u001b[1m8s\u001b[0m 2ms/step - accuracy: 0.9995 - loss: 0.0022 - val_accuracy: 0.9998 - val_loss: 0.0010\n",
      "Epoch 114/600\n",
      "\u001b[1m5079/5079\u001b[0m \u001b[32m━━━━━━━━━━━━━━━━━━━━\u001b[0m\u001b[37m\u001b[0m \u001b[1m8s\u001b[0m 2ms/step - accuracy: 0.9996 - loss: 0.0018 - val_accuracy: 0.9996 - val_loss: 0.0024\n",
      "Epoch 115/600\n",
      "\u001b[1m5079/5079\u001b[0m \u001b[32m━━━━━━━━━━━━━━━━━━━━\u001b[0m\u001b[37m\u001b[0m \u001b[1m8s\u001b[0m 2ms/step - accuracy: 0.9996 - loss: 0.0013 - val_accuracy: 0.9997 - val_loss: 0.0010\n",
      "Epoch 116/600\n",
      "\u001b[1m5079/5079\u001b[0m \u001b[32m━━━━━━━━━━━━━━━━━━━━\u001b[0m\u001b[37m\u001b[0m \u001b[1m8s\u001b[0m 2ms/step - accuracy: 0.9996 - loss: 0.0015 - val_accuracy: 0.9997 - val_loss: 0.0011\n",
      "Epoch 117/600\n",
      "\u001b[1m5079/5079\u001b[0m \u001b[32m━━━━━━━━━━━━━━━━━━━━\u001b[0m\u001b[37m\u001b[0m \u001b[1m8s\u001b[0m 2ms/step - accuracy: 0.9996 - loss: 0.0017 - val_accuracy: 0.9997 - val_loss: 0.0011\n",
      "Epoch 118/600\n",
      "\u001b[1m5079/5079\u001b[0m \u001b[32m━━━━━━━━━━━━━━━━━━━━\u001b[0m\u001b[37m\u001b[0m \u001b[1m8s\u001b[0m 2ms/step - accuracy: 0.9996 - loss: 0.0018 - val_accuracy: 0.9997 - val_loss: 0.0012\n",
      "Epoch 119/600\n",
      "\u001b[1m5079/5079\u001b[0m \u001b[32m━━━━━━━━━━━━━━━━━━━━\u001b[0m\u001b[37m\u001b[0m \u001b[1m8s\u001b[0m 2ms/step - accuracy: 0.9996 - loss: 0.0017 - val_accuracy: 0.9997 - val_loss: 0.0011\n",
      "Epoch 120/600\n",
      "\u001b[1m5079/5079\u001b[0m \u001b[32m━━━━━━━━━━━━━━━━━━━━\u001b[0m\u001b[37m\u001b[0m \u001b[1m8s\u001b[0m 2ms/step - accuracy: 0.9996 - loss: 0.0014 - val_accuracy: 0.9997 - val_loss: 9.4410e-04\n",
      "Epoch 121/600\n",
      "\u001b[1m5079/5079\u001b[0m \u001b[32m━━━━━━━━━━━━━━━━━━━━\u001b[0m\u001b[37m\u001b[0m \u001b[1m8s\u001b[0m 2ms/step - accuracy: 0.9997 - loss: 0.0014 - val_accuracy: 0.9997 - val_loss: 0.0012\n",
      "Epoch 122/600\n",
      "\u001b[1m5079/5079\u001b[0m \u001b[32m━━━━━━━━━━━━━━━━━━━━\u001b[0m\u001b[37m\u001b[0m \u001b[1m8s\u001b[0m 2ms/step - accuracy: 0.9997 - loss: 0.0011 - val_accuracy: 0.9994 - val_loss: 0.0037\n",
      "Epoch 123/600\n",
      "\u001b[1m5079/5079\u001b[0m \u001b[32m━━━━━━━━━━━━━━━━━━━━\u001b[0m\u001b[37m\u001b[0m \u001b[1m8s\u001b[0m 2ms/step - accuracy: 0.9995 - loss: 0.0021 - val_accuracy: 0.9997 - val_loss: 0.0011\n",
      "Epoch 124/600\n",
      "\u001b[1m5079/5079\u001b[0m \u001b[32m━━━━━━━━━━━━━━━━━━━━\u001b[0m\u001b[37m\u001b[0m \u001b[1m8s\u001b[0m 2ms/step - accuracy: 0.9996 - loss: 0.0021 - val_accuracy: 0.9996 - val_loss: 0.0017\n",
      "Epoch 125/600\n",
      "\u001b[1m5079/5079\u001b[0m \u001b[32m━━━━━━━━━━━━━━━━━━━━\u001b[0m\u001b[37m\u001b[0m \u001b[1m8s\u001b[0m 2ms/step - accuracy: 0.9996 - loss: 0.0016 - val_accuracy: 0.9993 - val_loss: 0.0087\n",
      "Epoch 126/600\n",
      "\u001b[1m5079/5079\u001b[0m \u001b[32m━━━━━━━━━━━━━━━━━━━━\u001b[0m\u001b[37m\u001b[0m \u001b[1m8s\u001b[0m 2ms/step - accuracy: 0.9995 - loss: 0.0030 - val_accuracy: 0.9997 - val_loss: 0.0012\n",
      "Epoch 127/600\n",
      "\u001b[1m5079/5079\u001b[0m \u001b[32m━━━━━━━━━━━━━━━━━━━━\u001b[0m\u001b[37m\u001b[0m \u001b[1m8s\u001b[0m 2ms/step - accuracy: 0.9996 - loss: 0.0013 - val_accuracy: 0.9997 - val_loss: 0.0012\n",
      "Epoch 128/600\n",
      "\u001b[1m5079/5079\u001b[0m \u001b[32m━━━━━━━━━━━━━━━━━━━━\u001b[0m\u001b[37m\u001b[0m \u001b[1m8s\u001b[0m 2ms/step - accuracy: 0.9997 - loss: 0.0012 - val_accuracy: 0.9997 - val_loss: 0.0012\n",
      "Epoch 129/600\n",
      "\u001b[1m5079/5079\u001b[0m \u001b[32m━━━━━━━━━━━━━━━━━━━━\u001b[0m\u001b[37m\u001b[0m \u001b[1m8s\u001b[0m 2ms/step - accuracy: 0.9996 - loss: 0.0016 - val_accuracy: 0.9997 - val_loss: 0.0010\n",
      "Epoch 130/600\n",
      "\u001b[1m5079/5079\u001b[0m \u001b[32m━━━━━━━━━━━━━━━━━━━━\u001b[0m\u001b[37m\u001b[0m \u001b[1m8s\u001b[0m 2ms/step - accuracy: 0.9996 - loss: 0.0018 - val_accuracy: 0.9997 - val_loss: 9.6704e-04\n",
      "Epoch 131/600\n",
      "\u001b[1m5079/5079\u001b[0m \u001b[32m━━━━━━━━━━━━━━━━━━━━\u001b[0m\u001b[37m\u001b[0m \u001b[1m8s\u001b[0m 2ms/step - accuracy: 0.9996 - loss: 0.0019 - val_accuracy: 0.9997 - val_loss: 0.0015\n",
      "Epoch 132/600\n",
      "\u001b[1m5079/5079\u001b[0m \u001b[32m━━━━━━━━━━━━━━━━━━━━\u001b[0m\u001b[37m\u001b[0m \u001b[1m9s\u001b[0m 2ms/step - accuracy: 0.9997 - loss: 0.0014 - val_accuracy: 0.9998 - val_loss: 9.3584e-04\n",
      "Epoch 133/600\n",
      "\u001b[1m5079/5079\u001b[0m \u001b[32m━━━━━━━━━━━━━━━━━━━━\u001b[0m\u001b[37m\u001b[0m \u001b[1m8s\u001b[0m 2ms/step - accuracy: 0.9996 - loss: 0.0020 - val_accuracy: 0.9998 - val_loss: 8.5815e-04\n",
      "Epoch 134/600\n",
      "\u001b[1m5079/5079\u001b[0m \u001b[32m━━━━━━━━━━━━━━━━━━━━\u001b[0m\u001b[37m\u001b[0m \u001b[1m8s\u001b[0m 2ms/step - accuracy: 0.9996 - loss: 0.0023 - val_accuracy: 0.9998 - val_loss: 9.1143e-04\n",
      "Epoch 135/600\n",
      "\u001b[1m5079/5079\u001b[0m \u001b[32m━━━━━━━━━━━━━━━━━━━━\u001b[0m\u001b[37m\u001b[0m \u001b[1m8s\u001b[0m 2ms/step - accuracy: 0.9997 - loss: 0.0017 - val_accuracy: 0.9997 - val_loss: 0.0012\n",
      "Epoch 136/600\n",
      "\u001b[1m5079/5079\u001b[0m \u001b[32m━━━━━━━━━━━━━━━━━━━━\u001b[0m\u001b[37m\u001b[0m \u001b[1m8s\u001b[0m 2ms/step - accuracy: 0.9996 - loss: 0.0019 - val_accuracy: 0.9996 - val_loss: 0.0012\n",
      "Epoch 137/600\n",
      "\u001b[1m5079/5079\u001b[0m \u001b[32m━━━━━━━━━━━━━━━━━━━━\u001b[0m\u001b[37m\u001b[0m \u001b[1m8s\u001b[0m 2ms/step - accuracy: 0.9996 - loss: 0.0014 - val_accuracy: 0.9998 - val_loss: 9.0386e-04\n",
      "Epoch 138/600\n",
      "\u001b[1m5079/5079\u001b[0m \u001b[32m━━━━━━━━━━━━━━━━━━━━\u001b[0m\u001b[37m\u001b[0m \u001b[1m8s\u001b[0m 2ms/step - accuracy: 0.9997 - loss: 0.0019 - val_accuracy: 0.9996 - val_loss: 0.0011\n",
      "Epoch 139/600\n",
      "\u001b[1m5079/5079\u001b[0m \u001b[32m━━━━━━━━━━━━━━━━━━━━\u001b[0m\u001b[37m\u001b[0m \u001b[1m8s\u001b[0m 2ms/step - accuracy: 0.9996 - loss: 0.0014 - val_accuracy: 0.9997 - val_loss: 9.9604e-04\n",
      "Epoch 140/600\n",
      "\u001b[1m5079/5079\u001b[0m \u001b[32m━━━━━━━━━━━━━━━━━━━━\u001b[0m\u001b[37m\u001b[0m \u001b[1m8s\u001b[0m 2ms/step - accuracy: 0.9996 - loss: 0.0015 - val_accuracy: 0.9998 - val_loss: 0.0011\n",
      "Epoch 141/600\n",
      "\u001b[1m5079/5079\u001b[0m \u001b[32m━━━━━━━━━━━━━━━━━━━━\u001b[0m\u001b[37m\u001b[0m \u001b[1m8s\u001b[0m 2ms/step - accuracy: 0.9997 - loss: 0.0018 - val_accuracy: 0.9997 - val_loss: 0.0010\n",
      "Epoch 142/600\n",
      "\u001b[1m5079/5079\u001b[0m \u001b[32m━━━━━━━━━━━━━━━━━━━━\u001b[0m\u001b[37m\u001b[0m \u001b[1m8s\u001b[0m 2ms/step - accuracy: 0.9996 - loss: 0.0018 - val_accuracy: 0.9997 - val_loss: 0.0011\n",
      "Epoch 143/600\n",
      "\u001b[1m5079/5079\u001b[0m \u001b[32m━━━━━━━━━━━━━━━━━━━━\u001b[0m\u001b[37m\u001b[0m \u001b[1m8s\u001b[0m 2ms/step - accuracy: 0.9997 - loss: 0.0012 - val_accuracy: 0.9997 - val_loss: 0.0013\n",
      "Epoch 144/600\n",
      "\u001b[1m5079/5079\u001b[0m \u001b[32m━━━━━━━━━━━━━━━━━━━━\u001b[0m\u001b[37m\u001b[0m \u001b[1m8s\u001b[0m 2ms/step - accuracy: 0.9996 - loss: 0.0033 - val_accuracy: 0.9996 - val_loss: 0.0024\n",
      "Epoch 145/600\n",
      "\u001b[1m5079/5079\u001b[0m \u001b[32m━━━━━━━━━━━━━━━━━━━━\u001b[0m\u001b[37m\u001b[0m \u001b[1m8s\u001b[0m 2ms/step - accuracy: 0.9996 - loss: 0.0019 - val_accuracy: 0.9997 - val_loss: 9.5212e-04\n",
      "Epoch 146/600\n",
      "\u001b[1m5079/5079\u001b[0m \u001b[32m━━━━━━━━━━━━━━━━━━━━\u001b[0m\u001b[37m\u001b[0m \u001b[1m8s\u001b[0m 2ms/step - accuracy: 0.9995 - loss: 0.0025 - val_accuracy: 0.9997 - val_loss: 0.0011\n",
      "Epoch 147/600\n",
      "\u001b[1m5079/5079\u001b[0m \u001b[32m━━━━━━━━━━━━━━━━━━━━\u001b[0m\u001b[37m\u001b[0m \u001b[1m8s\u001b[0m 2ms/step - accuracy: 0.9997 - loss: 0.0014 - val_accuracy: 0.9997 - val_loss: 0.0013\n",
      "Epoch 148/600\n",
      "\u001b[1m5079/5079\u001b[0m \u001b[32m━━━━━━━━━━━━━━━━━━━━\u001b[0m\u001b[37m\u001b[0m \u001b[1m8s\u001b[0m 2ms/step - accuracy: 0.9996 - loss: 0.0021 - val_accuracy: 0.9997 - val_loss: 8.6583e-04\n",
      "Epoch 149/600\n",
      "\u001b[1m5079/5079\u001b[0m \u001b[32m━━━━━━━━━━━━━━━━━━━━\u001b[0m\u001b[37m\u001b[0m \u001b[1m8s\u001b[0m 2ms/step - accuracy: 0.9996 - loss: 0.0013 - val_accuracy: 0.9997 - val_loss: 0.0011\n",
      "Epoch 150/600\n",
      "\u001b[1m5079/5079\u001b[0m \u001b[32m━━━━━━━━━━━━━━━━━━━━\u001b[0m\u001b[37m\u001b[0m \u001b[1m8s\u001b[0m 2ms/step - accuracy: 0.9996 - loss: 0.0013 - val_accuracy: 0.9997 - val_loss: 0.0011\n",
      "Epoch 151/600\n",
      "\u001b[1m5079/5079\u001b[0m \u001b[32m━━━━━━━━━━━━━━━━━━━━\u001b[0m\u001b[37m\u001b[0m \u001b[1m8s\u001b[0m 2ms/step - accuracy: 0.9996 - loss: 0.0015 - val_accuracy: 0.9997 - val_loss: 0.0013\n",
      "Epoch 152/600\n",
      "\u001b[1m5079/5079\u001b[0m \u001b[32m━━━━━━━━━━━━━━━━━━━━\u001b[0m\u001b[37m\u001b[0m \u001b[1m8s\u001b[0m 2ms/step - accuracy: 0.9997 - loss: 0.0012 - val_accuracy: 0.9996 - val_loss: 0.0014\n",
      "Epoch 153/600\n",
      "\u001b[1m5079/5079\u001b[0m \u001b[32m━━━━━━━━━━━━━━━━━━━━\u001b[0m\u001b[37m\u001b[0m \u001b[1m8s\u001b[0m 2ms/step - accuracy: 0.9997 - loss: 0.0018 - val_accuracy: 0.9997 - val_loss: 0.0011\n",
      "Epoch 154/600\n",
      "\u001b[1m5079/5079\u001b[0m \u001b[32m━━━━━━━━━━━━━━━━━━━━\u001b[0m\u001b[37m\u001b[0m \u001b[1m8s\u001b[0m 2ms/step - accuracy: 0.9996 - loss: 0.0023 - val_accuracy: 0.9997 - val_loss: 0.0010\n",
      "Epoch 155/600\n",
      "\u001b[1m5079/5079\u001b[0m \u001b[32m━━━━━━━━━━━━━━━━━━━━\u001b[0m\u001b[37m\u001b[0m \u001b[1m8s\u001b[0m 2ms/step - accuracy: 0.9997 - loss: 0.0020 - val_accuracy: 0.9997 - val_loss: 9.0651e-04\n",
      "Epoch 156/600\n",
      "\u001b[1m5079/5079\u001b[0m \u001b[32m━━━━━━━━━━━━━━━━━━━━\u001b[0m\u001b[37m\u001b[0m \u001b[1m8s\u001b[0m 2ms/step - accuracy: 0.9996 - loss: 0.0021 - val_accuracy: 0.9997 - val_loss: 0.0011\n",
      "Epoch 157/600\n",
      "\u001b[1m5079/5079\u001b[0m \u001b[32m━━━━━━━━━━━━━━━━━━━━\u001b[0m\u001b[37m\u001b[0m \u001b[1m8s\u001b[0m 2ms/step - accuracy: 0.9996 - loss: 0.0016 - val_accuracy: 0.9996 - val_loss: 0.0023\n",
      "Epoch 158/600\n",
      "\u001b[1m5079/5079\u001b[0m \u001b[32m━━━━━━━━━━━━━━━━━━━━\u001b[0m\u001b[37m\u001b[0m \u001b[1m8s\u001b[0m 2ms/step - accuracy: 0.9997 - loss: 0.0017 - val_accuracy: 0.9997 - val_loss: 0.0010\n",
      "Epoch 159/600\n",
      "\u001b[1m5079/5079\u001b[0m \u001b[32m━━━━━━━━━━━━━━━━━━━━\u001b[0m\u001b[37m\u001b[0m \u001b[1m8s\u001b[0m 2ms/step - accuracy: 0.9997 - loss: 0.0012 - val_accuracy: 0.9998 - val_loss: 0.0013\n",
      "Epoch 160/600\n",
      "\u001b[1m5079/5079\u001b[0m \u001b[32m━━━━━━━━━━━━━━━━━━━━\u001b[0m\u001b[37m\u001b[0m \u001b[1m8s\u001b[0m 2ms/step - accuracy: 0.9997 - loss: 0.0019 - val_accuracy: 0.9995 - val_loss: 0.0024\n",
      "Epoch 161/600\n",
      "\u001b[1m5079/5079\u001b[0m \u001b[32m━━━━━━━━━━━━━━━━━━━━\u001b[0m\u001b[37m\u001b[0m \u001b[1m8s\u001b[0m 2ms/step - accuracy: 0.9997 - loss: 0.0010 - val_accuracy: 0.9997 - val_loss: 0.0011\n",
      "Epoch 162/600\n",
      "\u001b[1m5079/5079\u001b[0m \u001b[32m━━━━━━━━━━━━━━━━━━━━\u001b[0m\u001b[37m\u001b[0m \u001b[1m8s\u001b[0m 2ms/step - accuracy: 0.9997 - loss: 0.0019 - val_accuracy: 0.9997 - val_loss: 0.0013\n",
      "Epoch 163/600\n",
      "\u001b[1m5079/5079\u001b[0m \u001b[32m━━━━━━━━━━━━━━━━━━━━\u001b[0m\u001b[37m\u001b[0m \u001b[1m8s\u001b[0m 2ms/step - accuracy: 0.9997 - loss: 0.0013 - val_accuracy: 0.9997 - val_loss: 0.0011\n",
      "Epoch 164/600\n",
      "\u001b[1m5079/5079\u001b[0m \u001b[32m━━━━━━━━━━━━━━━━━━━━\u001b[0m\u001b[37m\u001b[0m \u001b[1m8s\u001b[0m 2ms/step - accuracy: 0.9997 - loss: 0.0019 - val_accuracy: 0.9998 - val_loss: 9.2974e-04\n",
      "Epoch 165/600\n",
      "\u001b[1m5079/5079\u001b[0m \u001b[32m━━━━━━━━━━━━━━━━━━━━\u001b[0m\u001b[37m\u001b[0m \u001b[1m8s\u001b[0m 2ms/step - accuracy: 0.9998 - loss: 0.0014 - val_accuracy: 0.9997 - val_loss: 0.0013\n",
      "Epoch 166/600\n",
      "\u001b[1m5079/5079\u001b[0m \u001b[32m━━━━━━━━━━━━━━━━━━━━\u001b[0m\u001b[37m\u001b[0m \u001b[1m8s\u001b[0m 2ms/step - accuracy: 0.9997 - loss: 0.0016 - val_accuracy: 0.9998 - val_loss: 9.6659e-04\n",
      "Epoch 167/600\n",
      "\u001b[1m5079/5079\u001b[0m \u001b[32m━━━━━━━━━━━━━━━━━━━━\u001b[0m\u001b[37m\u001b[0m \u001b[1m8s\u001b[0m 2ms/step - accuracy: 0.9995 - loss: 0.0025 - val_accuracy: 0.9997 - val_loss: 9.8162e-04\n",
      "Epoch 168/600\n",
      "\u001b[1m5079/5079\u001b[0m \u001b[32m━━━━━━━━━━━━━━━━━━━━\u001b[0m\u001b[37m\u001b[0m \u001b[1m8s\u001b[0m 2ms/step - accuracy: 0.9997 - loss: 0.0022 - val_accuracy: 0.9996 - val_loss: 0.0022\n",
      "Epoch 169/600\n",
      "\u001b[1m5079/5079\u001b[0m \u001b[32m━━━━━━━━━━━━━━━━━━━━\u001b[0m\u001b[37m\u001b[0m \u001b[1m8s\u001b[0m 2ms/step - accuracy: 0.9998 - loss: 0.0010 - val_accuracy: 0.9996 - val_loss: 0.0015\n",
      "Epoch 170/600\n",
      "\u001b[1m5079/5079\u001b[0m \u001b[32m━━━━━━━━━━━━━━━━━━━━\u001b[0m\u001b[37m\u001b[0m \u001b[1m8s\u001b[0m 2ms/step - accuracy: 0.9997 - loss: 0.0013 - val_accuracy: 0.9998 - val_loss: 9.1197e-04\n",
      "Epoch 171/600\n",
      "\u001b[1m5079/5079\u001b[0m \u001b[32m━━━━━━━━━━━━━━━━━━━━\u001b[0m\u001b[37m\u001b[0m \u001b[1m8s\u001b[0m 2ms/step - accuracy: 0.9997 - loss: 0.0013 - val_accuracy: 0.9996 - val_loss: 0.0035\n",
      "Epoch 172/600\n",
      "\u001b[1m5079/5079\u001b[0m \u001b[32m━━━━━━━━━━━━━━━━━━━━\u001b[0m\u001b[37m\u001b[0m \u001b[1m8s\u001b[0m 2ms/step - accuracy: 0.9997 - loss: 0.0012 - val_accuracy: 0.9998 - val_loss: 0.0011\n",
      "Epoch 173/600\n",
      "\u001b[1m5079/5079\u001b[0m \u001b[32m━━━━━━━━━━━━━━━━━━━━\u001b[0m\u001b[37m\u001b[0m \u001b[1m8s\u001b[0m 2ms/step - accuracy: 0.9997 - loss: 0.0015 - val_accuracy: 0.9996 - val_loss: 0.0021\n",
      "Epoch 174/600\n",
      "\u001b[1m5079/5079\u001b[0m \u001b[32m━━━━━━━━━━━━━━━━━━━━\u001b[0m\u001b[37m\u001b[0m \u001b[1m8s\u001b[0m 2ms/step - accuracy: 0.9997 - loss: 0.0014 - val_accuracy: 0.9998 - val_loss: 0.0011\n",
      "Epoch 175/600\n",
      "\u001b[1m5079/5079\u001b[0m \u001b[32m━━━━━━━━━━━━━━━━━━━━\u001b[0m\u001b[37m\u001b[0m \u001b[1m8s\u001b[0m 2ms/step - accuracy: 0.9997 - loss: 0.0014 - val_accuracy: 0.9998 - val_loss: 9.9072e-04\n",
      "Epoch 176/600\n",
      "\u001b[1m5079/5079\u001b[0m \u001b[32m━━━━━━━━━━━━━━━━━━━━\u001b[0m\u001b[37m\u001b[0m \u001b[1m8s\u001b[0m 2ms/step - accuracy: 0.9998 - loss: 0.0014 - val_accuracy: 0.9996 - val_loss: 0.0023\n",
      "Epoch 177/600\n",
      "\u001b[1m5079/5079\u001b[0m \u001b[32m━━━━━━━━━━━━━━━━━━━━\u001b[0m\u001b[37m\u001b[0m \u001b[1m8s\u001b[0m 2ms/step - accuracy: 0.9997 - loss: 0.0013 - val_accuracy: 0.9997 - val_loss: 0.0012\n",
      "Epoch 178/600\n",
      "\u001b[1m5079/5079\u001b[0m \u001b[32m━━━━━━━━━━━━━━━━━━━━\u001b[0m\u001b[37m\u001b[0m \u001b[1m8s\u001b[0m 2ms/step - accuracy: 0.9997 - loss: 0.0018 - val_accuracy: 0.9996 - val_loss: 0.0023\n",
      "Epoch 179/600\n",
      "\u001b[1m5079/5079\u001b[0m \u001b[32m━━━━━━━━━━━━━━━━━━━━\u001b[0m\u001b[37m\u001b[0m \u001b[1m8s\u001b[0m 2ms/step - accuracy: 0.9997 - loss: 0.0014 - val_accuracy: 0.9997 - val_loss: 0.0011\n",
      "Epoch 180/600\n",
      "\u001b[1m5079/5079\u001b[0m \u001b[32m━━━━━━━━━━━━━━━━━━━━\u001b[0m\u001b[37m\u001b[0m \u001b[1m8s\u001b[0m 2ms/step - accuracy: 0.9997 - loss: 0.0020 - val_accuracy: 0.9996 - val_loss: 0.0019\n",
      "Epoch 181/600\n",
      "\u001b[1m5079/5079\u001b[0m \u001b[32m━━━━━━━━━━━━━━━━━━━━\u001b[0m\u001b[37m\u001b[0m \u001b[1m8s\u001b[0m 2ms/step - accuracy: 0.9996 - loss: 0.0025 - val_accuracy: 0.9996 - val_loss: 0.0015\n",
      "Epoch 182/600\n",
      "\u001b[1m5079/5079\u001b[0m \u001b[32m━━━━━━━━━━━━━━━━━━━━\u001b[0m\u001b[37m\u001b[0m \u001b[1m9s\u001b[0m 2ms/step - accuracy: 0.9997 - loss: 0.0015 - val_accuracy: 0.9998 - val_loss: 9.9211e-04\n",
      "Epoch 183/600\n",
      "\u001b[1m5079/5079\u001b[0m \u001b[32m━━━━━━━━━━━━━━━━━━━━\u001b[0m\u001b[37m\u001b[0m \u001b[1m8s\u001b[0m 2ms/step - accuracy: 0.9998 - loss: 0.0013 - val_accuracy: 0.9997 - val_loss: 0.0013\n",
      "Epoch 184/600\n",
      "\u001b[1m5079/5079\u001b[0m \u001b[32m━━━━━━━━━━━━━━━━━━━━\u001b[0m\u001b[37m\u001b[0m \u001b[1m8s\u001b[0m 2ms/step - accuracy: 0.9998 - loss: 0.0018 - val_accuracy: 0.9997 - val_loss: 0.0012\n",
      "Epoch 185/600\n",
      "\u001b[1m5079/5079\u001b[0m \u001b[32m━━━━━━━━━━━━━━━━━━━━\u001b[0m\u001b[37m\u001b[0m \u001b[1m8s\u001b[0m 2ms/step - accuracy: 0.9997 - loss: 0.0016 - val_accuracy: 0.9996 - val_loss: 0.0029\n",
      "Epoch 186/600\n",
      "\u001b[1m5079/5079\u001b[0m \u001b[32m━━━━━━━━━━━━━━━━━━━━\u001b[0m\u001b[37m\u001b[0m \u001b[1m9s\u001b[0m 2ms/step - accuracy: 0.9997 - loss: 0.0012 - val_accuracy: 0.9996 - val_loss: 0.0014\n",
      "Epoch 187/600\n",
      "\u001b[1m5079/5079\u001b[0m \u001b[32m━━━━━━━━━━━━━━━━━━━━\u001b[0m\u001b[37m\u001b[0m \u001b[1m8s\u001b[0m 2ms/step - accuracy: 0.9997 - loss: 0.0027 - val_accuracy: 0.9996 - val_loss: 0.0019\n",
      "Epoch 188/600\n",
      "\u001b[1m5079/5079\u001b[0m \u001b[32m━━━━━━━━━━━━━━━━━━━━\u001b[0m\u001b[37m\u001b[0m \u001b[1m8s\u001b[0m 2ms/step - accuracy: 0.9997 - loss: 0.0014 - val_accuracy: 0.9997 - val_loss: 0.0013\n",
      "Epoch 189/600\n",
      "\u001b[1m5079/5079\u001b[0m \u001b[32m━━━━━━━━━━━━━━━━━━━━\u001b[0m\u001b[37m\u001b[0m \u001b[1m8s\u001b[0m 2ms/step - accuracy: 0.9998 - loss: 0.0013 - val_accuracy: 0.9994 - val_loss: 0.0039\n",
      "Epoch 190/600\n",
      "\u001b[1m5079/5079\u001b[0m \u001b[32m━━━━━━━━━━━━━━━━━━━━\u001b[0m\u001b[37m\u001b[0m \u001b[1m9s\u001b[0m 2ms/step - accuracy: 0.9996 - loss: 0.0019 - val_accuracy: 0.9997 - val_loss: 0.0011\n",
      "Epoch 191/600\n",
      "\u001b[1m5079/5079\u001b[0m \u001b[32m━━━━━━━━━━━━━━━━━━━━\u001b[0m\u001b[37m\u001b[0m \u001b[1m8s\u001b[0m 2ms/step - accuracy: 0.9997 - loss: 0.0020 - val_accuracy: 0.9995 - val_loss: 0.0020\n",
      "Epoch 192/600\n",
      "\u001b[1m5079/5079\u001b[0m \u001b[32m━━━━━━━━━━━━━━━━━━━━\u001b[0m\u001b[37m\u001b[0m \u001b[1m8s\u001b[0m 2ms/step - accuracy: 0.9997 - loss: 0.0012 - val_accuracy: 0.9994 - val_loss: 0.0025\n",
      "Epoch 193/600\n",
      "\u001b[1m5079/5079\u001b[0m \u001b[32m━━━━━━━━━━━━━━━━━━━━\u001b[0m\u001b[37m\u001b[0m \u001b[1m8s\u001b[0m 2ms/step - accuracy: 0.9996 - loss: 0.0016 - val_accuracy: 0.9997 - val_loss: 0.0012\n",
      "Epoch 194/600\n",
      "\u001b[1m5079/5079\u001b[0m \u001b[32m━━━━━━━━━━━━━━━━━━━━\u001b[0m\u001b[37m\u001b[0m \u001b[1m8s\u001b[0m 2ms/step - accuracy: 0.9997 - loss: 0.0015 - val_accuracy: 0.9996 - val_loss: 0.0017\n",
      "Epoch 195/600\n",
      "\u001b[1m5079/5079\u001b[0m \u001b[32m━━━━━━━━━━━━━━━━━━━━\u001b[0m\u001b[37m\u001b[0m \u001b[1m8s\u001b[0m 2ms/step - accuracy: 0.9997 - loss: 0.0018 - val_accuracy: 0.9996 - val_loss: 0.0018\n",
      "Epoch 196/600\n",
      "\u001b[1m5079/5079\u001b[0m \u001b[32m━━━━━━━━━━━━━━━━━━━━\u001b[0m\u001b[37m\u001b[0m \u001b[1m8s\u001b[0m 2ms/step - accuracy: 0.9998 - loss: 0.0012 - val_accuracy: 0.9997 - val_loss: 0.0011\n",
      "Epoch 197/600\n",
      "\u001b[1m5079/5079\u001b[0m \u001b[32m━━━━━━━━━━━━━━━━━━━━\u001b[0m\u001b[37m\u001b[0m \u001b[1m8s\u001b[0m 2ms/step - accuracy: 0.9996 - loss: 0.0015 - val_accuracy: 0.9997 - val_loss: 9.9131e-04\n",
      "Epoch 198/600\n",
      "\u001b[1m5079/5079\u001b[0m \u001b[32m━━━━━━━━━━━━━━━━━━━━\u001b[0m\u001b[37m\u001b[0m \u001b[1m9s\u001b[0m 2ms/step - accuracy: 0.9996 - loss: 0.0018 - val_accuracy: 0.9998 - val_loss: 0.0010\n",
      "Epoch 199/600\n",
      "\u001b[1m5079/5079\u001b[0m \u001b[32m━━━━━━━━━━━━━━━━━━━━\u001b[0m\u001b[37m\u001b[0m \u001b[1m8s\u001b[0m 2ms/step - accuracy: 0.9996 - loss: 0.0022 - val_accuracy: 0.9996 - val_loss: 0.0013\n",
      "Epoch 200/600\n",
      "\u001b[1m5079/5079\u001b[0m \u001b[32m━━━━━━━━━━━━━━━━━━━━\u001b[0m\u001b[37m\u001b[0m \u001b[1m8s\u001b[0m 2ms/step - accuracy: 0.9997 - loss: 0.0013 - val_accuracy: 0.9997 - val_loss: 0.0011\n",
      "Epoch 201/600\n",
      "\u001b[1m5079/5079\u001b[0m \u001b[32m━━━━━━━━━━━━━━━━━━━━\u001b[0m\u001b[37m\u001b[0m \u001b[1m8s\u001b[0m 2ms/step - accuracy: 0.9996 - loss: 0.0012 - val_accuracy: 0.9996 - val_loss: 0.0020\n",
      "Epoch 202/600\n",
      "\u001b[1m5079/5079\u001b[0m \u001b[32m━━━━━━━━━━━━━━━━━━━━\u001b[0m\u001b[37m\u001b[0m \u001b[1m9s\u001b[0m 2ms/step - accuracy: 0.9997 - loss: 0.0015 - val_accuracy: 0.9997 - val_loss: 0.0015\n",
      "Epoch 203/600\n",
      "\u001b[1m5079/5079\u001b[0m \u001b[32m━━━━━━━━━━━━━━━━━━━━\u001b[0m\u001b[37m\u001b[0m \u001b[1m8s\u001b[0m 2ms/step - accuracy: 0.9997 - loss: 0.0011 - val_accuracy: 0.9996 - val_loss: 0.0018\n",
      "Epoch 204/600\n",
      "\u001b[1m5079/5079\u001b[0m \u001b[32m━━━━━━━━━━━━━━━━━━━━\u001b[0m\u001b[37m\u001b[0m \u001b[1m8s\u001b[0m 2ms/step - accuracy: 0.9998 - loss: 0.0012 - val_accuracy: 0.9997 - val_loss: 0.0012\n",
      "Epoch 205/600\n",
      "\u001b[1m5079/5079\u001b[0m \u001b[32m━━━━━━━━━━━━━━━━━━━━\u001b[0m\u001b[37m\u001b[0m \u001b[1m8s\u001b[0m 2ms/step - accuracy: 0.9998 - loss: 0.0011 - val_accuracy: 0.9995 - val_loss: 0.0024\n",
      "Epoch 206/600\n",
      "\u001b[1m5079/5079\u001b[0m \u001b[32m━━━━━━━━━━━━━━━━━━━━\u001b[0m\u001b[37m\u001b[0m \u001b[1m9s\u001b[0m 2ms/step - accuracy: 0.9997 - loss: 0.0017 - val_accuracy: 0.9996 - val_loss: 0.0021\n",
      "Epoch 207/600\n",
      "\u001b[1m5079/5079\u001b[0m \u001b[32m━━━━━━━━━━━━━━━━━━━━\u001b[0m\u001b[37m\u001b[0m \u001b[1m8s\u001b[0m 2ms/step - accuracy: 0.9997 - loss: 0.0027 - val_accuracy: 0.9998 - val_loss: 0.0011\n",
      "Epoch 208/600\n",
      "\u001b[1m5079/5079\u001b[0m \u001b[32m━━━━━━━━━━━━━━━━━━━━\u001b[0m\u001b[37m\u001b[0m \u001b[1m8s\u001b[0m 2ms/step - accuracy: 0.9997 - loss: 0.0014 - val_accuracy: 0.9997 - val_loss: 0.0012\n",
      "Epoch 209/600\n",
      "\u001b[1m5079/5079\u001b[0m \u001b[32m━━━━━━━━━━━━━━━━━━━━\u001b[0m\u001b[37m\u001b[0m \u001b[1m8s\u001b[0m 2ms/step - accuracy: 0.9998 - loss: 0.0013 - val_accuracy: 0.9997 - val_loss: 0.0013\n",
      "Epoch 210/600\n",
      "\u001b[1m5079/5079\u001b[0m \u001b[32m━━━━━━━━━━━━━━━━━━━━\u001b[0m\u001b[37m\u001b[0m \u001b[1m8s\u001b[0m 2ms/step - accuracy: 0.9998 - loss: 0.0012 - val_accuracy: 0.9998 - val_loss: 0.0013\n",
      "Epoch 211/600\n",
      "\u001b[1m5079/5079\u001b[0m \u001b[32m━━━━━━━━━━━━━━━━━━━━\u001b[0m\u001b[37m\u001b[0m \u001b[1m8s\u001b[0m 2ms/step - accuracy: 0.9998 - loss: 0.0013 - val_accuracy: 0.9995 - val_loss: 0.0024\n",
      "Epoch 212/600\n",
      "\u001b[1m5079/5079\u001b[0m \u001b[32m━━━━━━━━━━━━━━━━━━━━\u001b[0m\u001b[37m\u001b[0m \u001b[1m8s\u001b[0m 2ms/step - accuracy: 0.9996 - loss: 0.0019 - val_accuracy: 0.9997 - val_loss: 0.0014\n",
      "Epoch 213/600\n",
      "\u001b[1m5079/5079\u001b[0m \u001b[32m━━━━━━━━━━━━━━━━━━━━\u001b[0m\u001b[37m\u001b[0m \u001b[1m8s\u001b[0m 2ms/step - accuracy: 0.9998 - loss: 9.4232e-04 - val_accuracy: 0.9998 - val_loss: 0.0010\n",
      "Epoch 214/600\n",
      "\u001b[1m5079/5079\u001b[0m \u001b[32m━━━━━━━━━━━━━━━━━━━━\u001b[0m\u001b[37m\u001b[0m \u001b[1m9s\u001b[0m 2ms/step - accuracy: 0.9997 - loss: 0.0026 - val_accuracy: 0.9997 - val_loss: 0.0013\n",
      "Epoch 215/600\n",
      "\u001b[1m5079/5079\u001b[0m \u001b[32m━━━━━━━━━━━━━━━━━━━━\u001b[0m\u001b[37m\u001b[0m \u001b[1m8s\u001b[0m 2ms/step - accuracy: 0.9997 - loss: 0.0012 - val_accuracy: 0.9997 - val_loss: 0.0013\n",
      "Epoch 216/600\n",
      "\u001b[1m5079/5079\u001b[0m \u001b[32m━━━━━━━━━━━━━━━━━━━━\u001b[0m\u001b[37m\u001b[0m \u001b[1m8s\u001b[0m 2ms/step - accuracy: 0.9998 - loss: 0.0012 - val_accuracy: 0.9998 - val_loss: 0.0012\n",
      "Epoch 217/600\n",
      "\u001b[1m5079/5079\u001b[0m \u001b[32m━━━━━━━━━━━━━━━━━━━━\u001b[0m\u001b[37m\u001b[0m \u001b[1m8s\u001b[0m 2ms/step - accuracy: 0.9998 - loss: 0.0013 - val_accuracy: 0.9997 - val_loss: 0.0012\n",
      "Epoch 218/600\n",
      "\u001b[1m5079/5079\u001b[0m \u001b[32m━━━━━━━━━━━━━━━━━━━━\u001b[0m\u001b[37m\u001b[0m \u001b[1m8s\u001b[0m 2ms/step - accuracy: 0.9997 - loss: 0.0017 - val_accuracy: 0.9997 - val_loss: 0.0012\n",
      "Epoch 219/600\n",
      "\u001b[1m5079/5079\u001b[0m \u001b[32m━━━━━━━━━━━━━━━━━━━━\u001b[0m\u001b[37m\u001b[0m \u001b[1m8s\u001b[0m 2ms/step - accuracy: 0.9996 - loss: 0.0015 - val_accuracy: 0.9996 - val_loss: 0.0014\n",
      "Epoch 220/600\n",
      "\u001b[1m5079/5079\u001b[0m \u001b[32m━━━━━━━━━━━━━━━━━━━━\u001b[0m\u001b[37m\u001b[0m \u001b[1m8s\u001b[0m 2ms/step - accuracy: 0.9997 - loss: 0.0012 - val_accuracy: 0.9997 - val_loss: 0.0012\n",
      "Epoch 221/600\n",
      "\u001b[1m5079/5079\u001b[0m \u001b[32m━━━━━━━━━━━━━━━━━━━━\u001b[0m\u001b[37m\u001b[0m \u001b[1m8s\u001b[0m 2ms/step - accuracy: 0.9998 - loss: 0.0015 - val_accuracy: 0.9997 - val_loss: 0.0013\n",
      "Epoch 222/600\n",
      "\u001b[1m5079/5079\u001b[0m \u001b[32m━━━━━━━━━━━━━━━━━━━━\u001b[0m\u001b[37m\u001b[0m \u001b[1m8s\u001b[0m 2ms/step - accuracy: 0.9997 - loss: 0.0016 - val_accuracy: 0.9994 - val_loss: 0.0027\n",
      "Epoch 223/600\n",
      "\u001b[1m5079/5079\u001b[0m \u001b[32m━━━━━━━━━━━━━━━━━━━━\u001b[0m\u001b[37m\u001b[0m \u001b[1m8s\u001b[0m 2ms/step - accuracy: 0.9996 - loss: 0.0031 - val_accuracy: 0.9997 - val_loss: 0.0012\n",
      "Epoch 224/600\n",
      "\u001b[1m5079/5079\u001b[0m \u001b[32m━━━━━━━━━━━━━━━━━━━━\u001b[0m\u001b[37m\u001b[0m \u001b[1m8s\u001b[0m 2ms/step - accuracy: 0.9997 - loss: 0.0013 - val_accuracy: 0.9996 - val_loss: 0.0017\n",
      "Epoch 225/600\n",
      "\u001b[1m5079/5079\u001b[0m \u001b[32m━━━━━━━━━━━━━━━━━━━━\u001b[0m\u001b[37m\u001b[0m \u001b[1m8s\u001b[0m 2ms/step - accuracy: 0.9997 - loss: 0.0018 - val_accuracy: 0.9997 - val_loss: 0.0012\n",
      "Epoch 226/600\n",
      "\u001b[1m5079/5079\u001b[0m \u001b[32m━━━━━━━━━━━━━━━━━━━━\u001b[0m\u001b[37m\u001b[0m \u001b[1m8s\u001b[0m 2ms/step - accuracy: 0.9997 - loss: 0.0017 - val_accuracy: 0.9996 - val_loss: 0.0013\n",
      "Epoch 227/600\n",
      "\u001b[1m5079/5079\u001b[0m \u001b[32m━━━━━━━━━━━━━━━━━━━━\u001b[0m\u001b[37m\u001b[0m \u001b[1m8s\u001b[0m 2ms/step - accuracy: 0.9998 - loss: 0.0017 - val_accuracy: 0.9997 - val_loss: 0.0014\n",
      "Epoch 228/600\n",
      "\u001b[1m5079/5079\u001b[0m \u001b[32m━━━━━━━━━━━━━━━━━━━━\u001b[0m\u001b[37m\u001b[0m \u001b[1m8s\u001b[0m 2ms/step - accuracy: 0.9997 - loss: 0.0017 - val_accuracy: 0.9997 - val_loss: 0.0014\n",
      "Epoch 229/600\n",
      "\u001b[1m5079/5079\u001b[0m \u001b[32m━━━━━━━━━━━━━━━━━━━━\u001b[0m\u001b[37m\u001b[0m \u001b[1m8s\u001b[0m 2ms/step - accuracy: 0.9997 - loss: 0.0018 - val_accuracy: 0.9998 - val_loss: 0.0010\n",
      "Epoch 230/600\n",
      "\u001b[1m5079/5079\u001b[0m \u001b[32m━━━━━━━━━━━━━━━━━━━━\u001b[0m\u001b[37m\u001b[0m \u001b[1m8s\u001b[0m 2ms/step - accuracy: 0.9997 - loss: 0.0020 - val_accuracy: 0.9996 - val_loss: 0.0014\n",
      "Epoch 231/600\n",
      "\u001b[1m5079/5079\u001b[0m \u001b[32m━━━━━━━━━━━━━━━━━━━━\u001b[0m\u001b[37m\u001b[0m \u001b[1m8s\u001b[0m 2ms/step - accuracy: 0.9997 - loss: 0.0016 - val_accuracy: 0.9996 - val_loss: 0.0036\n",
      "Epoch 232/600\n",
      "\u001b[1m5079/5079\u001b[0m \u001b[32m━━━━━━━━━━━━━━━━━━━━\u001b[0m\u001b[37m\u001b[0m \u001b[1m8s\u001b[0m 2ms/step - accuracy: 0.9996 - loss: 0.0018 - val_accuracy: 0.9997 - val_loss: 0.0012\n",
      "Epoch 233/600\n",
      "\u001b[1m5079/5079\u001b[0m \u001b[32m━━━━━━━━━━━━━━━━━━━━\u001b[0m\u001b[37m\u001b[0m \u001b[1m8s\u001b[0m 2ms/step - accuracy: 0.9997 - loss: 0.0014 - val_accuracy: 0.9997 - val_loss: 0.0016\n",
      "Epoch 234/600\n",
      "\u001b[1m5079/5079\u001b[0m \u001b[32m━━━━━━━━━━━━━━━━━━━━\u001b[0m\u001b[37m\u001b[0m \u001b[1m8s\u001b[0m 2ms/step - accuracy: 0.9998 - loss: 0.0011 - val_accuracy: 0.9996 - val_loss: 0.0015\n",
      "Epoch 235/600\n",
      "\u001b[1m5079/5079\u001b[0m \u001b[32m━━━━━━━━━━━━━━━━━━━━\u001b[0m\u001b[37m\u001b[0m \u001b[1m8s\u001b[0m 2ms/step - accuracy: 0.9997 - loss: 0.0013 - val_accuracy: 0.9997 - val_loss: 0.0014\n",
      "Epoch 236/600\n",
      "\u001b[1m5079/5079\u001b[0m \u001b[32m━━━━━━━━━━━━━━━━━━━━\u001b[0m\u001b[37m\u001b[0m \u001b[1m8s\u001b[0m 2ms/step - accuracy: 0.9997 - loss: 9.9639e-04 - val_accuracy: 0.9996 - val_loss: 0.0019\n",
      "Epoch 237/600\n",
      "\u001b[1m5079/5079\u001b[0m \u001b[32m━━━━━━━━━━━━━━━━━━━━\u001b[0m\u001b[37m\u001b[0m \u001b[1m8s\u001b[0m 2ms/step - accuracy: 0.9997 - loss: 9.0736e-04 - val_accuracy: 0.9994 - val_loss: 0.0077\n",
      "Epoch 238/600\n",
      "\u001b[1m5079/5079\u001b[0m \u001b[32m━━━━━━━━━━━━━━━━━━━━\u001b[0m\u001b[37m\u001b[0m \u001b[1m8s\u001b[0m 2ms/step - accuracy: 0.9997 - loss: 0.0036 - val_accuracy: 0.9996 - val_loss: 0.0020\n",
      "Epoch 239/600\n",
      "\u001b[1m5079/5079\u001b[0m \u001b[32m━━━━━━━━━━━━━━━━━━━━\u001b[0m\u001b[37m\u001b[0m \u001b[1m8s\u001b[0m 2ms/step - accuracy: 0.9997 - loss: 0.0012 - val_accuracy: 0.9996 - val_loss: 0.0022\n",
      "Epoch 240/600\n",
      "\u001b[1m5079/5079\u001b[0m \u001b[32m━━━━━━━━━━━━━━━━━━━━\u001b[0m\u001b[37m\u001b[0m \u001b[1m8s\u001b[0m 2ms/step - accuracy: 0.9998 - loss: 0.0017 - val_accuracy: 0.9996 - val_loss: 0.0015\n",
      "Epoch 241/600\n",
      "\u001b[1m5079/5079\u001b[0m \u001b[32m━━━━━━━━━━━━━━━━━━━━\u001b[0m\u001b[37m\u001b[0m \u001b[1m8s\u001b[0m 2ms/step - accuracy: 0.9998 - loss: 0.0011 - val_accuracy: 0.9997 - val_loss: 0.0017\n",
      "Epoch 242/600\n",
      "\u001b[1m5079/5079\u001b[0m \u001b[32m━━━━━━━━━━━━━━━━━━━━\u001b[0m\u001b[37m\u001b[0m \u001b[1m8s\u001b[0m 2ms/step - accuracy: 0.9998 - loss: 0.0011 - val_accuracy: 0.9997 - val_loss: 0.0017\n",
      "Epoch 243/600\n",
      "\u001b[1m5079/5079\u001b[0m \u001b[32m━━━━━━━━━━━━━━━━━━━━\u001b[0m\u001b[37m\u001b[0m \u001b[1m8s\u001b[0m 2ms/step - accuracy: 0.9998 - loss: 0.0012 - val_accuracy: 0.9996 - val_loss: 0.0020\n",
      "Epoch 244/600\n",
      "\u001b[1m5079/5079\u001b[0m \u001b[32m━━━━━━━━━━━━━━━━━━━━\u001b[0m\u001b[37m\u001b[0m \u001b[1m10s\u001b[0m 2ms/step - accuracy: 0.9998 - loss: 0.0013 - val_accuracy: 0.9997 - val_loss: 0.0022\n",
      "Epoch 245/600\n",
      "\u001b[1m5079/5079\u001b[0m \u001b[32m━━━━━━━━━━━━━━━━━━━━\u001b[0m\u001b[37m\u001b[0m \u001b[1m8s\u001b[0m 2ms/step - accuracy: 0.9998 - loss: 0.0019 - val_accuracy: 0.9996 - val_loss: 0.0022\n",
      "Epoch 246/600\n",
      "\u001b[1m5079/5079\u001b[0m \u001b[32m━━━━━━━━━━━━━━━━━━━━\u001b[0m\u001b[37m\u001b[0m \u001b[1m8s\u001b[0m 2ms/step - accuracy: 0.9997 - loss: 0.0020 - val_accuracy: 0.9997 - val_loss: 0.0014\n",
      "Epoch 247/600\n",
      "\u001b[1m5079/5079\u001b[0m \u001b[32m━━━━━━━━━━━━━━━━━━━━\u001b[0m\u001b[37m\u001b[0m \u001b[1m10s\u001b[0m 2ms/step - accuracy: 0.9998 - loss: 8.2199e-04 - val_accuracy: 0.9996 - val_loss: 0.0027\n",
      "Epoch 248/600\n",
      "\u001b[1m5079/5079\u001b[0m \u001b[32m━━━━━━━━━━━━━━━━━━━━\u001b[0m\u001b[37m\u001b[0m \u001b[1m8s\u001b[0m 2ms/step - accuracy: 0.9997 - loss: 0.0015 - val_accuracy: 0.9997 - val_loss: 0.0021\n",
      "Epoch 249/600\n",
      "\u001b[1m5079/5079\u001b[0m \u001b[32m━━━━━━━━━━━━━━━━━━━━\u001b[0m\u001b[37m\u001b[0m \u001b[1m8s\u001b[0m 2ms/step - accuracy: 0.9998 - loss: 0.0011 - val_accuracy: 0.9997 - val_loss: 0.0013\n",
      "Epoch 250/600\n",
      "\u001b[1m5079/5079\u001b[0m \u001b[32m━━━━━━━━━━━━━━━━━━━━\u001b[0m\u001b[37m\u001b[0m \u001b[1m8s\u001b[0m 2ms/step - accuracy: 0.9997 - loss: 0.0012 - val_accuracy: 0.9998 - val_loss: 0.0014\n",
      "Epoch 251/600\n",
      "\u001b[1m5079/5079\u001b[0m \u001b[32m━━━━━━━━━━━━━━━━━━━━\u001b[0m\u001b[37m\u001b[0m \u001b[1m9s\u001b[0m 2ms/step - accuracy: 0.9998 - loss: 0.0010 - val_accuracy: 0.9998 - val_loss: 0.0014\n",
      "Epoch 252/600\n",
      "\u001b[1m5079/5079\u001b[0m \u001b[32m━━━━━━━━━━━━━━━━━━━━\u001b[0m\u001b[37m\u001b[0m \u001b[1m8s\u001b[0m 2ms/step - accuracy: 0.9998 - loss: 0.0013 - val_accuracy: 0.9996 - val_loss: 0.0018\n",
      "Epoch 253/600\n",
      "\u001b[1m5079/5079\u001b[0m \u001b[32m━━━━━━━━━━━━━━━━━━━━\u001b[0m\u001b[37m\u001b[0m \u001b[1m8s\u001b[0m 2ms/step - accuracy: 0.9997 - loss: 0.0010 - val_accuracy: 0.9997 - val_loss: 0.0014\n",
      "Epoch 254/600\n",
      "\u001b[1m5079/5079\u001b[0m \u001b[32m━━━━━━━━━━━━━━━━━━━━\u001b[0m\u001b[37m\u001b[0m \u001b[1m9s\u001b[0m 2ms/step - accuracy: 0.9997 - loss: 0.0014 - val_accuracy: 0.9997 - val_loss: 0.0014\n",
      "Epoch 255/600\n",
      "\u001b[1m5079/5079\u001b[0m \u001b[32m━━━━━━━━━━━━━━━━━━━━\u001b[0m\u001b[37m\u001b[0m \u001b[1m8s\u001b[0m 2ms/step - accuracy: 0.9998 - loss: 0.0010 - val_accuracy: 0.9997 - val_loss: 0.0013\n",
      "Epoch 256/600\n",
      "\u001b[1m5079/5079\u001b[0m \u001b[32m━━━━━━━━━━━━━━━━━━━━\u001b[0m\u001b[37m\u001b[0m \u001b[1m8s\u001b[0m 2ms/step - accuracy: 0.9998 - loss: 0.0014 - val_accuracy: 0.9996 - val_loss: 0.0019\n",
      "Epoch 257/600\n",
      "\u001b[1m5079/5079\u001b[0m \u001b[32m━━━━━━━━━━━━━━━━━━━━\u001b[0m\u001b[37m\u001b[0m \u001b[1m8s\u001b[0m 2ms/step - accuracy: 0.9996 - loss: 0.0026 - val_accuracy: 0.9997 - val_loss: 0.0014\n",
      "Epoch 258/600\n",
      "\u001b[1m5079/5079\u001b[0m \u001b[32m━━━━━━━━━━━━━━━━━━━━\u001b[0m\u001b[37m\u001b[0m \u001b[1m9s\u001b[0m 2ms/step - accuracy: 0.9998 - loss: 0.0019 - val_accuracy: 0.9995 - val_loss: 0.0046\n",
      "Epoch 259/600\n",
      "\u001b[1m5079/5079\u001b[0m \u001b[32m━━━━━━━━━━━━━━━━━━━━\u001b[0m\u001b[37m\u001b[0m \u001b[1m8s\u001b[0m 2ms/step - accuracy: 0.9997 - loss: 0.0018 - val_accuracy: 0.9997 - val_loss: 0.0014\n",
      "Epoch 260/600\n",
      "\u001b[1m5079/5079\u001b[0m \u001b[32m━━━━━━━━━━━━━━━━━━━━\u001b[0m\u001b[37m\u001b[0m \u001b[1m10s\u001b[0m 2ms/step - accuracy: 0.9997 - loss: 0.0013 - val_accuracy: 0.9996 - val_loss: 0.0018\n",
      "Epoch 261/600\n",
      "\u001b[1m5079/5079\u001b[0m \u001b[32m━━━━━━━━━━━━━━━━━━━━\u001b[0m\u001b[37m\u001b[0m \u001b[1m8s\u001b[0m 2ms/step - accuracy: 0.9998 - loss: 0.0010 - val_accuracy: 0.9997 - val_loss: 0.0014\n",
      "Epoch 262/600\n",
      "\u001b[1m5079/5079\u001b[0m \u001b[32m━━━━━━━━━━━━━━━━━━━━\u001b[0m\u001b[37m\u001b[0m \u001b[1m10s\u001b[0m 2ms/step - accuracy: 0.9998 - loss: 0.0012 - val_accuracy: 0.9996 - val_loss: 0.0021\n",
      "Epoch 263/600\n",
      "\u001b[1m5079/5079\u001b[0m \u001b[32m━━━━━━━━━━━━━━━━━━━━\u001b[0m\u001b[37m\u001b[0m \u001b[1m8s\u001b[0m 2ms/step - accuracy: 0.9998 - loss: 0.0011 - val_accuracy: 0.9995 - val_loss: 0.0046\n",
      "Epoch 264/600\n",
      "\u001b[1m5079/5079\u001b[0m \u001b[32m━━━━━━━━━━━━━━━━━━━━\u001b[0m\u001b[37m\u001b[0m \u001b[1m8s\u001b[0m 2ms/step - accuracy: 0.9997 - loss: 0.0018 - val_accuracy: 0.9997 - val_loss: 0.0017\n",
      "Epoch 265/600\n",
      "\u001b[1m5079/5079\u001b[0m \u001b[32m━━━━━━━━━━━━━━━━━━━━\u001b[0m\u001b[37m\u001b[0m \u001b[1m8s\u001b[0m 2ms/step - accuracy: 0.9998 - loss: 0.0011 - val_accuracy: 0.9997 - val_loss: 0.0015\n",
      "Epoch 266/600\n",
      "\u001b[1m5079/5079\u001b[0m \u001b[32m━━━━━━━━━━━━━━━━━━━━\u001b[0m\u001b[37m\u001b[0m \u001b[1m9s\u001b[0m 2ms/step - accuracy: 0.9998 - loss: 0.0013 - val_accuracy: 0.9997 - val_loss: 0.0015\n",
      "Epoch 267/600\n",
      "\u001b[1m5079/5079\u001b[0m \u001b[32m━━━━━━━━━━━━━━━━━━━━\u001b[0m\u001b[37m\u001b[0m \u001b[1m8s\u001b[0m 2ms/step - accuracy: 0.9998 - loss: 0.0011 - val_accuracy: 0.9997 - val_loss: 0.0024\n",
      "Epoch 268/600\n",
      "\u001b[1m5079/5079\u001b[0m \u001b[32m━━━━━━━━━━━━━━━━━━━━\u001b[0m\u001b[37m\u001b[0m \u001b[1m8s\u001b[0m 2ms/step - accuracy: 0.9998 - loss: 0.0012 - val_accuracy: 0.9997 - val_loss: 0.0015\n",
      "Epoch 269/600\n",
      "\u001b[1m5079/5079\u001b[0m \u001b[32m━━━━━━━━━━━━━━━━━━━━\u001b[0m\u001b[37m\u001b[0m \u001b[1m8s\u001b[0m 2ms/step - accuracy: 0.9998 - loss: 0.0011 - val_accuracy: 0.9998 - val_loss: 0.0013\n",
      "Epoch 270/600\n",
      "\u001b[1m5079/5079\u001b[0m \u001b[32m━━━━━━━━━━━━━━━━━━━━\u001b[0m\u001b[37m\u001b[0m \u001b[1m9s\u001b[0m 2ms/step - accuracy: 0.9998 - loss: 0.0024 - val_accuracy: 0.9998 - val_loss: 0.0015\n",
      "Epoch 271/600\n",
      "\u001b[1m5079/5079\u001b[0m \u001b[32m━━━━━━━━━━━━━━━━━━━━\u001b[0m\u001b[37m\u001b[0m \u001b[1m8s\u001b[0m 2ms/step - accuracy: 0.9998 - loss: 8.9028e-04 - val_accuracy: 0.9997 - val_loss: 0.0013\n",
      "Epoch 272/600\n",
      "\u001b[1m5079/5079\u001b[0m \u001b[32m━━━━━━━━━━━━━━━━━━━━\u001b[0m\u001b[37m\u001b[0m \u001b[1m8s\u001b[0m 2ms/step - accuracy: 0.9998 - loss: 0.0010 - val_accuracy: 0.9997 - val_loss: 0.0018\n",
      "Epoch 273/600\n",
      "\u001b[1m5079/5079\u001b[0m \u001b[32m━━━━━━━━━━━━━━━━━━━━\u001b[0m\u001b[37m\u001b[0m \u001b[1m8s\u001b[0m 2ms/step - accuracy: 0.9998 - loss: 0.0011 - val_accuracy: 0.9997 - val_loss: 0.0015\n",
      "Epoch 274/600\n",
      "\u001b[1m5079/5079\u001b[0m \u001b[32m━━━━━━━━━━━━━━━━━━━━\u001b[0m\u001b[37m\u001b[0m \u001b[1m8s\u001b[0m 2ms/step - accuracy: 0.9998 - loss: 9.2767e-04 - val_accuracy: 0.9995 - val_loss: 0.0023\n",
      "Epoch 275/600\n",
      "\u001b[1m5079/5079\u001b[0m \u001b[32m━━━━━━━━━━━━━━━━━━━━\u001b[0m\u001b[37m\u001b[0m \u001b[1m8s\u001b[0m 2ms/step - accuracy: 0.9997 - loss: 0.0018 - val_accuracy: 0.9998 - val_loss: 0.0015\n",
      "Epoch 276/600\n",
      "\u001b[1m5079/5079\u001b[0m \u001b[32m━━━━━━━━━━━━━━━━━━━━\u001b[0m\u001b[37m\u001b[0m \u001b[1m8s\u001b[0m 2ms/step - accuracy: 0.9998 - loss: 0.0013 - val_accuracy: 0.9997 - val_loss: 0.0015\n",
      "Epoch 277/600\n",
      "\u001b[1m5079/5079\u001b[0m \u001b[32m━━━━━━━━━━━━━━━━━━━━\u001b[0m\u001b[37m\u001b[0m \u001b[1m8s\u001b[0m 2ms/step - accuracy: 0.9997 - loss: 0.0012 - val_accuracy: 0.9997 - val_loss: 0.0016\n",
      "Epoch 278/600\n",
      "\u001b[1m5079/5079\u001b[0m \u001b[32m━━━━━━━━━━━━━━━━━━━━\u001b[0m\u001b[37m\u001b[0m \u001b[1m8s\u001b[0m 2ms/step - accuracy: 0.9998 - loss: 0.0013 - val_accuracy: 0.9998 - val_loss: 0.0014\n",
      "Epoch 279/600\n",
      "\u001b[1m5079/5079\u001b[0m \u001b[32m━━━━━━━━━━━━━━━━━━━━\u001b[0m\u001b[37m\u001b[0m \u001b[1m8s\u001b[0m 2ms/step - accuracy: 0.9997 - loss: 0.0016 - val_accuracy: 0.9997 - val_loss: 0.0017\n",
      "Epoch 280/600\n",
      "\u001b[1m5079/5079\u001b[0m \u001b[32m━━━━━━━━━━━━━━━━━━━━\u001b[0m\u001b[37m\u001b[0m \u001b[1m8s\u001b[0m 2ms/step - accuracy: 0.9998 - loss: 9.8527e-04 - val_accuracy: 0.9996 - val_loss: 0.0017\n",
      "Epoch 281/600\n",
      "\u001b[1m5079/5079\u001b[0m \u001b[32m━━━━━━━━━━━━━━━━━━━━\u001b[0m\u001b[37m\u001b[0m \u001b[1m8s\u001b[0m 2ms/step - accuracy: 0.9998 - loss: 0.0011 - val_accuracy: 0.9997 - val_loss: 0.0014\n",
      "Epoch 282/600\n",
      "\u001b[1m5079/5079\u001b[0m \u001b[32m━━━━━━━━━━━━━━━━━━━━\u001b[0m\u001b[37m\u001b[0m \u001b[1m8s\u001b[0m 2ms/step - accuracy: 0.9997 - loss: 0.0016 - val_accuracy: 0.9996 - val_loss: 0.0021\n",
      "Epoch 283/600\n",
      "\u001b[1m5079/5079\u001b[0m \u001b[32m━━━━━━━━━━━━━━━━━━━━\u001b[0m\u001b[37m\u001b[0m \u001b[1m8s\u001b[0m 2ms/step - accuracy: 0.9998 - loss: 0.0011 - val_accuracy: 0.9996 - val_loss: 0.0022\n",
      "Epoch 284/600\n",
      "\u001b[1m5079/5079\u001b[0m \u001b[32m━━━━━━━━━━━━━━━━━━━━\u001b[0m\u001b[37m\u001b[0m \u001b[1m8s\u001b[0m 2ms/step - accuracy: 0.9997 - loss: 0.0026 - val_accuracy: 0.9998 - val_loss: 0.0015\n",
      "Epoch 285/600\n",
      "\u001b[1m5079/5079\u001b[0m \u001b[32m━━━━━━━━━━━━━━━━━━━━\u001b[0m\u001b[37m\u001b[0m \u001b[1m8s\u001b[0m 2ms/step - accuracy: 0.9997 - loss: 0.0012 - val_accuracy: 0.9997 - val_loss: 0.0024\n",
      "Epoch 286/600\n",
      "\u001b[1m5079/5079\u001b[0m \u001b[32m━━━━━━━━━━━━━━━━━━━━\u001b[0m\u001b[37m\u001b[0m \u001b[1m8s\u001b[0m 2ms/step - accuracy: 0.9997 - loss: 0.0012 - val_accuracy: 0.9997 - val_loss: 0.0016\n",
      "Epoch 287/600\n",
      "\u001b[1m5079/5079\u001b[0m \u001b[32m━━━━━━━━━━━━━━━━━━━━\u001b[0m\u001b[37m\u001b[0m \u001b[1m8s\u001b[0m 2ms/step - accuracy: 0.9997 - loss: 0.0028 - val_accuracy: 0.9995 - val_loss: 0.0029\n",
      "Epoch 288/600\n",
      "\u001b[1m5079/5079\u001b[0m \u001b[32m━━━━━━━━━━━━━━━━━━━━\u001b[0m\u001b[37m\u001b[0m \u001b[1m8s\u001b[0m 2ms/step - accuracy: 0.9997 - loss: 0.0020 - val_accuracy: 0.9997 - val_loss: 0.0016\n",
      "Epoch 289/600\n",
      "\u001b[1m5079/5079\u001b[0m \u001b[32m━━━━━━━━━━━━━━━━━━━━\u001b[0m\u001b[37m\u001b[0m \u001b[1m9s\u001b[0m 2ms/step - accuracy: 0.9998 - loss: 0.0012 - val_accuracy: 0.9998 - val_loss: 0.0014\n",
      "Epoch 290/600\n",
      "\u001b[1m5079/5079\u001b[0m \u001b[32m━━━━━━━━━━━━━━━━━━━━\u001b[0m\u001b[37m\u001b[0m \u001b[1m8s\u001b[0m 2ms/step - accuracy: 0.9997 - loss: 0.0017 - val_accuracy: 0.9997 - val_loss: 0.0015\n",
      "Epoch 291/600\n",
      "\u001b[1m5079/5079\u001b[0m \u001b[32m━━━━━━━━━━━━━━━━━━━━\u001b[0m\u001b[37m\u001b[0m \u001b[1m10s\u001b[0m 2ms/step - accuracy: 0.9998 - loss: 0.0012 - val_accuracy: 0.9996 - val_loss: 0.0020\n",
      "Epoch 292/600\n",
      "\u001b[1m5079/5079\u001b[0m \u001b[32m━━━━━━━━━━━━━━━━━━━━\u001b[0m\u001b[37m\u001b[0m \u001b[1m8s\u001b[0m 2ms/step - accuracy: 0.9997 - loss: 0.0013 - val_accuracy: 0.9997 - val_loss: 0.0015\n",
      "Epoch 293/600\n",
      "\u001b[1m5079/5079\u001b[0m \u001b[32m━━━━━━━━━━━━━━━━━━━━\u001b[0m\u001b[37m\u001b[0m \u001b[1m8s\u001b[0m 2ms/step - accuracy: 0.9998 - loss: 0.0012 - val_accuracy: 0.9995 - val_loss: 0.0028\n",
      "Epoch 294/600\n",
      "\u001b[1m5079/5079\u001b[0m \u001b[32m━━━━━━━━━━━━━━━━━━━━\u001b[0m\u001b[37m\u001b[0m \u001b[1m8s\u001b[0m 2ms/step - accuracy: 0.9997 - loss: 0.0016 - val_accuracy: 0.9997 - val_loss: 0.0017\n",
      "Epoch 295/600\n",
      "\u001b[1m5079/5079\u001b[0m \u001b[32m━━━━━━━━━━━━━━━━━━━━\u001b[0m\u001b[37m\u001b[0m \u001b[1m8s\u001b[0m 2ms/step - accuracy: 0.9998 - loss: 0.0010 - val_accuracy: 0.9996 - val_loss: 0.0020\n",
      "Epoch 296/600\n",
      "\u001b[1m5079/5079\u001b[0m \u001b[32m━━━━━━━━━━━━━━━━━━━━\u001b[0m\u001b[37m\u001b[0m \u001b[1m8s\u001b[0m 2ms/step - accuracy: 0.9997 - loss: 0.0012 - val_accuracy: 0.9996 - val_loss: 0.0017\n",
      "Epoch 297/600\n",
      "\u001b[1m5079/5079\u001b[0m \u001b[32m━━━━━━━━━━━━━━━━━━━━\u001b[0m\u001b[37m\u001b[0m \u001b[1m8s\u001b[0m 2ms/step - accuracy: 0.9997 - loss: 0.0013 - val_accuracy: 0.9997 - val_loss: 0.0018\n",
      "Epoch 298/600\n",
      "\u001b[1m5079/5079\u001b[0m \u001b[32m━━━━━━━━━━━━━━━━━━━━\u001b[0m\u001b[37m\u001b[0m \u001b[1m8s\u001b[0m 2ms/step - accuracy: 0.9998 - loss: 0.0011 - val_accuracy: 0.9997 - val_loss: 0.0014\n",
      "Epoch 299/600\n",
      "\u001b[1m5079/5079\u001b[0m \u001b[32m━━━━━━━━━━━━━━━━━━━━\u001b[0m\u001b[37m\u001b[0m \u001b[1m9s\u001b[0m 2ms/step - accuracy: 0.9998 - loss: 0.0011 - val_accuracy: 0.9998 - val_loss: 0.0019\n",
      "Epoch 300/600\n",
      "\u001b[1m5079/5079\u001b[0m \u001b[32m━━━━━━━━━━━━━━━━━━━━\u001b[0m\u001b[37m\u001b[0m \u001b[1m8s\u001b[0m 2ms/step - accuracy: 0.9998 - loss: 0.0017 - val_accuracy: 0.9998 - val_loss: 0.0014\n",
      "Epoch 301/600\n",
      "\u001b[1m5079/5079\u001b[0m \u001b[32m━━━━━━━━━━━━━━━━━━━━\u001b[0m\u001b[37m\u001b[0m \u001b[1m8s\u001b[0m 2ms/step - accuracy: 0.9998 - loss: 0.0017 - val_accuracy: 0.9997 - val_loss: 0.0018\n",
      "Epoch 302/600\n",
      "\u001b[1m5079/5079\u001b[0m \u001b[32m━━━━━━━━━━━━━━━━━━━━\u001b[0m\u001b[37m\u001b[0m \u001b[1m8s\u001b[0m 2ms/step - accuracy: 0.9999 - loss: 8.0566e-04 - val_accuracy: 0.9997 - val_loss: 0.0015\n",
      "Epoch 303/600\n",
      "\u001b[1m5079/5079\u001b[0m \u001b[32m━━━━━━━━━━━━━━━━━━━━\u001b[0m\u001b[37m\u001b[0m \u001b[1m9s\u001b[0m 2ms/step - accuracy: 0.9998 - loss: 8.0773e-04 - val_accuracy: 0.9997 - val_loss: 0.0018\n",
      "Epoch 304/600\n",
      "\u001b[1m5079/5079\u001b[0m \u001b[32m━━━━━━━━━━━━━━━━━━━━\u001b[0m\u001b[37m\u001b[0m \u001b[1m8s\u001b[0m 2ms/step - accuracy: 0.9999 - loss: 5.5660e-04 - val_accuracy: 0.9996 - val_loss: 0.0025\n",
      "Epoch 305/600\n",
      "\u001b[1m5079/5079\u001b[0m \u001b[32m━━━━━━━━━━━━━━━━━━━━\u001b[0m\u001b[37m\u001b[0m \u001b[1m8s\u001b[0m 2ms/step - accuracy: 0.9998 - loss: 0.0017 - val_accuracy: 0.9996 - val_loss: 0.0024\n",
      "Epoch 306/600\n",
      "\u001b[1m5079/5079\u001b[0m \u001b[32m━━━━━━━━━━━━━━━━━━━━\u001b[0m\u001b[37m\u001b[0m \u001b[1m8s\u001b[0m 2ms/step - accuracy: 0.9997 - loss: 0.0017 - val_accuracy: 0.9997 - val_loss: 0.0017\n",
      "Epoch 307/600\n",
      "\u001b[1m5079/5079\u001b[0m \u001b[32m━━━━━━━━━━━━━━━━━━━━\u001b[0m\u001b[37m\u001b[0m \u001b[1m9s\u001b[0m 2ms/step - accuracy: 0.9997 - loss: 0.0018 - val_accuracy: 0.9997 - val_loss: 0.0018\n",
      "Epoch 308/600\n",
      "\u001b[1m5079/5079\u001b[0m \u001b[32m━━━━━━━━━━━━━━━━━━━━\u001b[0m\u001b[37m\u001b[0m \u001b[1m8s\u001b[0m 2ms/step - accuracy: 0.9998 - loss: 0.0011 - val_accuracy: 0.9997 - val_loss: 0.0014\n",
      "Epoch 309/600\n",
      "\u001b[1m5079/5079\u001b[0m \u001b[32m━━━━━━━━━━━━━━━━━━━━\u001b[0m\u001b[37m\u001b[0m \u001b[1m8s\u001b[0m 2ms/step - accuracy: 0.9997 - loss: 0.0014 - val_accuracy: 0.9996 - val_loss: 0.0042\n",
      "Epoch 310/600\n",
      "\u001b[1m5079/5079\u001b[0m \u001b[32m━━━━━━━━━━━━━━━━━━━━\u001b[0m\u001b[37m\u001b[0m \u001b[1m8s\u001b[0m 2ms/step - accuracy: 0.9998 - loss: 0.0021 - val_accuracy: 0.9997 - val_loss: 0.0017\n",
      "Epoch 311/600\n",
      "\u001b[1m5079/5079\u001b[0m \u001b[32m━━━━━━━━━━━━━━━━━━━━\u001b[0m\u001b[37m\u001b[0m \u001b[1m10s\u001b[0m 2ms/step - accuracy: 0.9998 - loss: 0.0013 - val_accuracy: 0.9996 - val_loss: 0.0020\n",
      "Epoch 312/600\n",
      "\u001b[1m5079/5079\u001b[0m \u001b[32m━━━━━━━━━━━━━━━━━━━━\u001b[0m\u001b[37m\u001b[0m \u001b[1m8s\u001b[0m 2ms/step - accuracy: 0.9998 - loss: 0.0011 - val_accuracy: 0.9996 - val_loss: 0.0024\n",
      "Epoch 313/600\n",
      "\u001b[1m5079/5079\u001b[0m \u001b[32m━━━━━━━━━━━━━━━━━━━━\u001b[0m\u001b[37m\u001b[0m \u001b[1m8s\u001b[0m 2ms/step - accuracy: 0.9998 - loss: 0.0014 - val_accuracy: 0.9998 - val_loss: 0.0017\n",
      "Epoch 314/600\n",
      "\u001b[1m5079/5079\u001b[0m \u001b[32m━━━━━━━━━━━━━━━━━━━━\u001b[0m\u001b[37m\u001b[0m \u001b[1m8s\u001b[0m 2ms/step - accuracy: 0.9998 - loss: 0.0015 - val_accuracy: 0.9997 - val_loss: 0.0017\n",
      "Epoch 315/600\n",
      "\u001b[1m5079/5079\u001b[0m \u001b[32m━━━━━━━━━━━━━━━━━━━━\u001b[0m\u001b[37m\u001b[0m \u001b[1m9s\u001b[0m 2ms/step - accuracy: 0.9999 - loss: 0.0011 - val_accuracy: 0.9997 - val_loss: 0.0016\n",
      "Epoch 316/600\n",
      "\u001b[1m5079/5079\u001b[0m \u001b[32m━━━━━━━━━━━━━━━━━━━━\u001b[0m\u001b[37m\u001b[0m \u001b[1m8s\u001b[0m 2ms/step - accuracy: 0.9998 - loss: 0.0011 - val_accuracy: 0.9997 - val_loss: 0.0019\n",
      "Epoch 317/600\n",
      "\u001b[1m5079/5079\u001b[0m \u001b[32m━━━━━━━━━━━━━━━━━━━━\u001b[0m\u001b[37m\u001b[0m \u001b[1m8s\u001b[0m 2ms/step - accuracy: 0.9998 - loss: 0.0012 - val_accuracy: 0.9997 - val_loss: 0.0016\n",
      "Epoch 318/600\n",
      "\u001b[1m5079/5079\u001b[0m \u001b[32m━━━━━━━━━━━━━━━━━━━━\u001b[0m\u001b[37m\u001b[0m \u001b[1m8s\u001b[0m 2ms/step - accuracy: 0.9998 - loss: 0.0012 - val_accuracy: 0.9998 - val_loss: 0.0017\n",
      "Epoch 319/600\n",
      "\u001b[1m5079/5079\u001b[0m \u001b[32m━━━━━━━━━━━━━━━━━━━━\u001b[0m\u001b[37m\u001b[0m \u001b[1m8s\u001b[0m 2ms/step - accuracy: 0.9999 - loss: 6.2035e-04 - val_accuracy: 0.9997 - val_loss: 0.0019\n",
      "Epoch 320/600\n",
      "\u001b[1m5079/5079\u001b[0m \u001b[32m━━━━━━━━━━━━━━━━━━━━\u001b[0m\u001b[37m\u001b[0m \u001b[1m8s\u001b[0m 2ms/step - accuracy: 0.9997 - loss: 0.0017 - val_accuracy: 0.9997 - val_loss: 0.0020\n",
      "Epoch 321/600\n",
      "\u001b[1m5079/5079\u001b[0m \u001b[32m━━━━━━━━━━━━━━━━━━━━\u001b[0m\u001b[37m\u001b[0m \u001b[1m8s\u001b[0m 2ms/step - accuracy: 0.9997 - loss: 0.0026 - val_accuracy: 0.9997 - val_loss: 0.0019\n",
      "Epoch 322/600\n",
      "\u001b[1m5079/5079\u001b[0m \u001b[32m━━━━━━━━━━━━━━━━━━━━\u001b[0m\u001b[37m\u001b[0m \u001b[1m8s\u001b[0m 2ms/step - accuracy: 0.9998 - loss: 0.0013 - val_accuracy: 0.9996 - val_loss: 0.0026\n",
      "Epoch 323/600\n",
      "\u001b[1m5079/5079\u001b[0m \u001b[32m━━━━━━━━━━━━━━━━━━━━\u001b[0m\u001b[37m\u001b[0m \u001b[1m8s\u001b[0m 2ms/step - accuracy: 0.9998 - loss: 0.0015 - val_accuracy: 0.9997 - val_loss: 0.0017\n",
      "Epoch 324/600\n",
      "\u001b[1m5079/5079\u001b[0m \u001b[32m━━━━━━━━━━━━━━━━━━━━\u001b[0m\u001b[37m\u001b[0m \u001b[1m9s\u001b[0m 2ms/step - accuracy: 0.9998 - loss: 0.0018 - val_accuracy: 0.9997 - val_loss: 0.0017\n",
      "Epoch 325/600\n",
      "\u001b[1m5079/5079\u001b[0m \u001b[32m━━━━━━━━━━━━━━━━━━━━\u001b[0m\u001b[37m\u001b[0m \u001b[1m8s\u001b[0m 2ms/step - accuracy: 0.9998 - loss: 0.0015 - val_accuracy: 0.9997 - val_loss: 0.0019\n",
      "Epoch 326/600\n",
      "\u001b[1m5079/5079\u001b[0m \u001b[32m━━━━━━━━━━━━━━━━━━━━\u001b[0m\u001b[37m\u001b[0m \u001b[1m9s\u001b[0m 2ms/step - accuracy: 0.9998 - loss: 0.0013 - val_accuracy: 0.9997 - val_loss: 0.0015\n",
      "Epoch 327/600\n",
      "\u001b[1m5079/5079\u001b[0m \u001b[32m━━━━━━━━━━━━━━━━━━━━\u001b[0m\u001b[37m\u001b[0m \u001b[1m8s\u001b[0m 2ms/step - accuracy: 0.9997 - loss: 0.0020 - val_accuracy: 0.9996 - val_loss: 0.0033\n",
      "Epoch 328/600\n",
      "\u001b[1m5079/5079\u001b[0m \u001b[32m━━━━━━━━━━━━━━━━━━━━\u001b[0m\u001b[37m\u001b[0m \u001b[1m9s\u001b[0m 2ms/step - accuracy: 0.9997 - loss: 0.0012 - val_accuracy: 0.9996 - val_loss: 0.0028\n",
      "Epoch 329/600\n",
      "\u001b[1m5079/5079\u001b[0m \u001b[32m━━━━━━━━━━━━━━━━━━━━\u001b[0m\u001b[37m\u001b[0m \u001b[1m8s\u001b[0m 2ms/step - accuracy: 0.9997 - loss: 0.0017 - val_accuracy: 0.9996 - val_loss: 0.0021\n",
      "Epoch 330/600\n",
      "\u001b[1m5079/5079\u001b[0m \u001b[32m━━━━━━━━━━━━━━━━━━━━\u001b[0m\u001b[37m\u001b[0m \u001b[1m8s\u001b[0m 2ms/step - accuracy: 0.9998 - loss: 9.1999e-04 - val_accuracy: 0.9996 - val_loss: 0.0033\n",
      "Epoch 331/600\n",
      "\u001b[1m5079/5079\u001b[0m \u001b[32m━━━━━━━━━━━━━━━━━━━━\u001b[0m\u001b[37m\u001b[0m \u001b[1m8s\u001b[0m 2ms/step - accuracy: 0.9998 - loss: 0.0011 - val_accuracy: 0.9998 - val_loss: 0.0014\n",
      "Epoch 332/600\n",
      "\u001b[1m5079/5079\u001b[0m \u001b[32m━━━━━━━━━━━━━━━━━━━━\u001b[0m\u001b[37m\u001b[0m \u001b[1m9s\u001b[0m 2ms/step - accuracy: 0.9998 - loss: 0.0014 - val_accuracy: 0.9997 - val_loss: 0.0017\n",
      "Epoch 333/600\n",
      "\u001b[1m5079/5079\u001b[0m \u001b[32m━━━━━━━━━━━━━━━━━━━━\u001b[0m\u001b[37m\u001b[0m \u001b[1m8s\u001b[0m 2ms/step - accuracy: 0.9998 - loss: 0.0013 - val_accuracy: 0.9997 - val_loss: 0.0016\n",
      "Epoch 334/600\n",
      "\u001b[1m5079/5079\u001b[0m \u001b[32m━━━━━━━━━━━━━━━━━━━━\u001b[0m\u001b[37m\u001b[0m \u001b[1m8s\u001b[0m 2ms/step - accuracy: 0.9997 - loss: 0.0016 - val_accuracy: 0.9997 - val_loss: 0.0018\n",
      "Epoch 335/600\n",
      "\u001b[1m5079/5079\u001b[0m \u001b[32m━━━━━━━━━━━━━━━━━━━━\u001b[0m\u001b[37m\u001b[0m \u001b[1m8s\u001b[0m 2ms/step - accuracy: 0.9997 - loss: 0.0013 - val_accuracy: 0.9995 - val_loss: 0.0035\n",
      "Epoch 336/600\n",
      "\u001b[1m5079/5079\u001b[0m \u001b[32m━━━━━━━━━━━━━━━━━━━━\u001b[0m\u001b[37m\u001b[0m \u001b[1m8s\u001b[0m 2ms/step - accuracy: 0.9997 - loss: 0.0013 - val_accuracy: 0.9998 - val_loss: 0.0017\n",
      "Epoch 337/600\n",
      "\u001b[1m5079/5079\u001b[0m \u001b[32m━━━━━━━━━━━━━━━━━━━━\u001b[0m\u001b[37m\u001b[0m \u001b[1m8s\u001b[0m 2ms/step - accuracy: 0.9998 - loss: 9.8273e-04 - val_accuracy: 0.9998 - val_loss: 0.0013\n",
      "Epoch 338/600\n",
      "\u001b[1m5079/5079\u001b[0m \u001b[32m━━━━━━━━━━━━━━━━━━━━\u001b[0m\u001b[37m\u001b[0m \u001b[1m8s\u001b[0m 2ms/step - accuracy: 0.9998 - loss: 9.4009e-04 - val_accuracy: 0.9996 - val_loss: 0.0031\n",
      "Epoch 339/600\n",
      "\u001b[1m5079/5079\u001b[0m \u001b[32m━━━━━━━━━━━━━━━━━━━━\u001b[0m\u001b[37m\u001b[0m \u001b[1m8s\u001b[0m 2ms/step - accuracy: 0.9998 - loss: 0.0011 - val_accuracy: 0.9998 - val_loss: 0.0013\n",
      "Epoch 340/600\n",
      "\u001b[1m5079/5079\u001b[0m \u001b[32m━━━━━━━━━━━━━━━━━━━━\u001b[0m\u001b[37m\u001b[0m \u001b[1m8s\u001b[0m 2ms/step - accuracy: 0.9998 - loss: 8.6755e-04 - val_accuracy: 0.9997 - val_loss: 0.0023\n",
      "Epoch 341/600\n",
      "\u001b[1m5079/5079\u001b[0m \u001b[32m━━━━━━━━━━━━━━━━━━━━\u001b[0m\u001b[37m\u001b[0m \u001b[1m8s\u001b[0m 2ms/step - accuracy: 0.9998 - loss: 0.0019 - val_accuracy: 0.9997 - val_loss: 0.0020\n",
      "Epoch 342/600\n",
      "\u001b[1m5079/5079\u001b[0m \u001b[32m━━━━━━━━━━━━━━━━━━━━\u001b[0m\u001b[37m\u001b[0m \u001b[1m8s\u001b[0m 2ms/step - accuracy: 0.9998 - loss: 9.4940e-04 - val_accuracy: 0.9997 - val_loss: 0.0017\n",
      "Epoch 343/600\n",
      "\u001b[1m5079/5079\u001b[0m \u001b[32m━━━━━━━━━━━━━━━━━━━━\u001b[0m\u001b[37m\u001b[0m \u001b[1m8s\u001b[0m 2ms/step - accuracy: 0.9998 - loss: 0.0015 - val_accuracy: 0.9998 - val_loss: 0.0012\n",
      "Epoch 344/600\n",
      "\u001b[1m5079/5079\u001b[0m \u001b[32m━━━━━━━━━━━━━━━━━━━━\u001b[0m\u001b[37m\u001b[0m \u001b[1m8s\u001b[0m 2ms/step - accuracy: 0.9998 - loss: 0.0017 - val_accuracy: 0.9997 - val_loss: 0.0022\n",
      "Epoch 345/600\n",
      "\u001b[1m5079/5079\u001b[0m \u001b[32m━━━━━━━━━━━━━━━━━━━━\u001b[0m\u001b[37m\u001b[0m \u001b[1m9s\u001b[0m 2ms/step - accuracy: 0.9998 - loss: 9.4144e-04 - val_accuracy: 0.9997 - val_loss: 0.0027\n",
      "Epoch 346/600\n",
      "\u001b[1m5079/5079\u001b[0m \u001b[32m━━━━━━━━━━━━━━━━━━━━\u001b[0m\u001b[37m\u001b[0m \u001b[1m8s\u001b[0m 2ms/step - accuracy: 0.9998 - loss: 0.0011 - val_accuracy: 0.9998 - val_loss: 0.0015\n",
      "Epoch 347/600\n",
      "\u001b[1m5079/5079\u001b[0m \u001b[32m━━━━━━━━━━━━━━━━━━━━\u001b[0m\u001b[37m\u001b[0m \u001b[1m8s\u001b[0m 2ms/step - accuracy: 0.9998 - loss: 0.0012 - val_accuracy: 0.9997 - val_loss: 0.0018\n",
      "Epoch 348/600\n",
      "\u001b[1m5079/5079\u001b[0m \u001b[32m━━━━━━━━━━━━━━━━━━━━\u001b[0m\u001b[37m\u001b[0m \u001b[1m8s\u001b[0m 2ms/step - accuracy: 0.9998 - loss: 0.0012 - val_accuracy: 0.9997 - val_loss: 0.0015\n",
      "Epoch 349/600\n",
      "\u001b[1m5079/5079\u001b[0m \u001b[32m━━━━━━━━━━━━━━━━━━━━\u001b[0m\u001b[37m\u001b[0m \u001b[1m9s\u001b[0m 2ms/step - accuracy: 0.9998 - loss: 0.0013 - val_accuracy: 0.9997 - val_loss: 0.0018\n",
      "Epoch 350/600\n",
      "\u001b[1m5079/5079\u001b[0m \u001b[32m━━━━━━━━━━━━━━━━━━━━\u001b[0m\u001b[37m\u001b[0m \u001b[1m8s\u001b[0m 2ms/step - accuracy: 0.9998 - loss: 0.0019 - val_accuracy: 0.9998 - val_loss: 0.0016\n",
      "Epoch 351/600\n",
      "\u001b[1m5079/5079\u001b[0m \u001b[32m━━━━━━━━━━━━━━━━━━━━\u001b[0m\u001b[37m\u001b[0m \u001b[1m8s\u001b[0m 2ms/step - accuracy: 0.9998 - loss: 8.9688e-04 - val_accuracy: 0.9996 - val_loss: 0.0038\n",
      "Epoch 352/600\n",
      "\u001b[1m5079/5079\u001b[0m \u001b[32m━━━━━━━━━━━━━━━━━━━━\u001b[0m\u001b[37m\u001b[0m \u001b[1m8s\u001b[0m 2ms/step - accuracy: 0.9998 - loss: 0.0019 - val_accuracy: 0.9996 - val_loss: 0.0027\n",
      "Epoch 353/600\n",
      "\u001b[1m5079/5079\u001b[0m \u001b[32m━━━━━━━━━━━━━━━━━━━━\u001b[0m\u001b[37m\u001b[0m \u001b[1m8s\u001b[0m 2ms/step - accuracy: 0.9997 - loss: 0.0016 - val_accuracy: 0.9997 - val_loss: 0.0015\n",
      "Epoch 354/600\n",
      "\u001b[1m5079/5079\u001b[0m \u001b[32m━━━━━━━━━━━━━━━━━━━━\u001b[0m\u001b[37m\u001b[0m \u001b[1m10s\u001b[0m 2ms/step - accuracy: 0.9998 - loss: 9.4165e-04 - val_accuracy: 0.9997 - val_loss: 0.0016\n",
      "Epoch 355/600\n",
      "\u001b[1m5079/5079\u001b[0m \u001b[32m━━━━━━━━━━━━━━━━━━━━\u001b[0m\u001b[37m\u001b[0m \u001b[1m8s\u001b[0m 2ms/step - accuracy: 0.9998 - loss: 0.0012 - val_accuracy: 0.9997 - val_loss: 0.0026\n",
      "Epoch 356/600\n",
      "\u001b[1m5079/5079\u001b[0m \u001b[32m━━━━━━━━━━━━━━━━━━━━\u001b[0m\u001b[37m\u001b[0m \u001b[1m8s\u001b[0m 2ms/step - accuracy: 0.9997 - loss: 0.0012 - val_accuracy: 0.9997 - val_loss: 0.0015\n",
      "Epoch 357/600\n",
      "\u001b[1m5079/5079\u001b[0m \u001b[32m━━━━━━━━━━━━━━━━━━━━\u001b[0m\u001b[37m\u001b[0m \u001b[1m8s\u001b[0m 2ms/step - accuracy: 0.9998 - loss: 0.0014 - val_accuracy: 0.9997 - val_loss: 0.0014\n",
      "Epoch 358/600\n",
      "\u001b[1m5079/5079\u001b[0m \u001b[32m━━━━━━━━━━━━━━━━━━━━\u001b[0m\u001b[37m\u001b[0m \u001b[1m8s\u001b[0m 2ms/step - accuracy: 0.9997 - loss: 0.0020 - val_accuracy: 0.9997 - val_loss: 0.0015\n",
      "Epoch 359/600\n",
      "\u001b[1m5079/5079\u001b[0m \u001b[32m━━━━━━━━━━━━━━━━━━━━\u001b[0m\u001b[37m\u001b[0m \u001b[1m8s\u001b[0m 2ms/step - accuracy: 0.9998 - loss: 0.0012 - val_accuracy: 0.9997 - val_loss: 0.0019\n",
      "Epoch 360/600\n",
      "\u001b[1m5079/5079\u001b[0m \u001b[32m━━━━━━━━━━━━━━━━━━━━\u001b[0m\u001b[37m\u001b[0m \u001b[1m8s\u001b[0m 2ms/step - accuracy: 0.9998 - loss: 0.0012 - val_accuracy: 0.9997 - val_loss: 0.0017\n",
      "Epoch 361/600\n",
      "\u001b[1m5079/5079\u001b[0m \u001b[32m━━━━━━━━━━━━━━━━━━━━\u001b[0m\u001b[37m\u001b[0m \u001b[1m8s\u001b[0m 2ms/step - accuracy: 0.9998 - loss: 9.2994e-04 - val_accuracy: 0.9997 - val_loss: 0.0017\n",
      "Epoch 362/600\n",
      "\u001b[1m5079/5079\u001b[0m \u001b[32m━━━━━━━━━━━━━━━━━━━━\u001b[0m\u001b[37m\u001b[0m \u001b[1m9s\u001b[0m 2ms/step - accuracy: 0.9998 - loss: 9.6317e-04 - val_accuracy: 0.9997 - val_loss: 0.0014\n",
      "Epoch 363/600\n",
      "\u001b[1m5079/5079\u001b[0m \u001b[32m━━━━━━━━━━━━━━━━━━━━\u001b[0m\u001b[37m\u001b[0m \u001b[1m8s\u001b[0m 2ms/step - accuracy: 0.9998 - loss: 0.0023 - val_accuracy: 0.9998 - val_loss: 0.0015\n",
      "Epoch 364/600\n",
      "\u001b[1m5079/5079\u001b[0m \u001b[32m━━━━━━━━━━━━━━━━━━━━\u001b[0m\u001b[37m\u001b[0m \u001b[1m8s\u001b[0m 2ms/step - accuracy: 0.9998 - loss: 0.0018 - val_accuracy: 0.9997 - val_loss: 0.0017\n",
      "Epoch 365/600\n",
      "\u001b[1m5079/5079\u001b[0m \u001b[32m━━━━━━━━━━━━━━━━━━━━\u001b[0m\u001b[37m\u001b[0m \u001b[1m8s\u001b[0m 2ms/step - accuracy: 0.9998 - loss: 0.0015 - val_accuracy: 0.9997 - val_loss: 0.0017\n",
      "Epoch 366/600\n",
      "\u001b[1m5079/5079\u001b[0m \u001b[32m━━━━━━━━━━━━━━━━━━━━\u001b[0m\u001b[37m\u001b[0m \u001b[1m9s\u001b[0m 2ms/step - accuracy: 0.9998 - loss: 0.0016 - val_accuracy: 0.9997 - val_loss: 0.0014\n",
      "Epoch 367/600\n",
      "\u001b[1m5079/5079\u001b[0m \u001b[32m━━━━━━━━━━━━━━━━━━━━\u001b[0m\u001b[37m\u001b[0m \u001b[1m8s\u001b[0m 2ms/step - accuracy: 0.9998 - loss: 0.0013 - val_accuracy: 0.9997 - val_loss: 0.0014\n",
      "Epoch 368/600\n",
      "\u001b[1m5079/5079\u001b[0m \u001b[32m━━━━━━━━━━━━━━━━━━━━\u001b[0m\u001b[37m\u001b[0m \u001b[1m8s\u001b[0m 2ms/step - accuracy: 0.9998 - loss: 0.0019 - val_accuracy: 0.9997 - val_loss: 0.0015\n",
      "Epoch 369/600\n",
      "\u001b[1m5079/5079\u001b[0m \u001b[32m━━━━━━━━━━━━━━━━━━━━\u001b[0m\u001b[37m\u001b[0m \u001b[1m8s\u001b[0m 2ms/step - accuracy: 0.9997 - loss: 0.0027 - val_accuracy: 0.9996 - val_loss: 0.0020\n",
      "Epoch 370/600\n",
      "\u001b[1m5079/5079\u001b[0m \u001b[32m━━━━━━━━━━━━━━━━━━━━\u001b[0m\u001b[37m\u001b[0m \u001b[1m8s\u001b[0m 2ms/step - accuracy: 0.9998 - loss: 0.0018 - val_accuracy: 0.9997 - val_loss: 0.0017\n",
      "Epoch 371/600\n",
      "\u001b[1m5079/5079\u001b[0m \u001b[32m━━━━━━━━━━━━━━━━━━━━\u001b[0m\u001b[37m\u001b[0m \u001b[1m8s\u001b[0m 2ms/step - accuracy: 0.9998 - loss: 0.0011 - val_accuracy: 0.9997 - val_loss: 0.0015\n",
      "Epoch 372/600\n",
      "\u001b[1m5079/5079\u001b[0m \u001b[32m━━━━━━━━━━━━━━━━━━━━\u001b[0m\u001b[37m\u001b[0m \u001b[1m10s\u001b[0m 2ms/step - accuracy: 0.9998 - loss: 0.0017 - val_accuracy: 0.9997 - val_loss: 0.0017\n",
      "Epoch 373/600\n",
      "\u001b[1m5079/5079\u001b[0m \u001b[32m━━━━━━━━━━━━━━━━━━━━\u001b[0m\u001b[37m\u001b[0m \u001b[1m8s\u001b[0m 2ms/step - accuracy: 0.9998 - loss: 0.0016 - val_accuracy: 0.9997 - val_loss: 0.0017\n",
      "Epoch 374/600\n",
      "\u001b[1m5079/5079\u001b[0m \u001b[32m━━━━━━━━━━━━━━━━━━━━\u001b[0m\u001b[37m\u001b[0m \u001b[1m8s\u001b[0m 2ms/step - accuracy: 0.9999 - loss: 9.4122e-04 - val_accuracy: 0.9997 - val_loss: 0.0014\n",
      "Epoch 375/600\n",
      "\u001b[1m5079/5079\u001b[0m \u001b[32m━━━━━━━━━━━━━━━━━━━━\u001b[0m\u001b[37m\u001b[0m \u001b[1m8s\u001b[0m 2ms/step - accuracy: 0.9998 - loss: 0.0013 - val_accuracy: 0.9998 - val_loss: 0.0015\n",
      "Epoch 376/600\n",
      "\u001b[1m5079/5079\u001b[0m \u001b[32m━━━━━━━━━━━━━━━━━━━━\u001b[0m\u001b[37m\u001b[0m \u001b[1m8s\u001b[0m 2ms/step - accuracy: 0.9998 - loss: 0.0011 - val_accuracy: 0.9998 - val_loss: 0.0016\n",
      "Epoch 377/600\n",
      "\u001b[1m5079/5079\u001b[0m \u001b[32m━━━━━━━━━━━━━━━━━━━━\u001b[0m\u001b[37m\u001b[0m \u001b[1m8s\u001b[0m 2ms/step - accuracy: 0.9998 - loss: 0.0012 - val_accuracy: 0.9997 - val_loss: 0.0020\n",
      "Epoch 378/600\n",
      "\u001b[1m5079/5079\u001b[0m \u001b[32m━━━━━━━━━━━━━━━━━━━━\u001b[0m\u001b[37m\u001b[0m \u001b[1m8s\u001b[0m 2ms/step - accuracy: 0.9998 - loss: 0.0012 - val_accuracy: 0.9998 - val_loss: 0.0015\n",
      "Epoch 379/600\n",
      "\u001b[1m5079/5079\u001b[0m \u001b[32m━━━━━━━━━━━━━━━━━━━━\u001b[0m\u001b[37m\u001b[0m \u001b[1m8s\u001b[0m 2ms/step - accuracy: 0.9998 - loss: 0.0012 - val_accuracy: 0.9998 - val_loss: 0.0014\n",
      "Epoch 380/600\n",
      "\u001b[1m5079/5079\u001b[0m \u001b[32m━━━━━━━━━━━━━━━━━━━━\u001b[0m\u001b[37m\u001b[0m \u001b[1m8s\u001b[0m 2ms/step - accuracy: 0.9998 - loss: 6.5382e-04 - val_accuracy: 0.9997 - val_loss: 0.0017\n",
      "Epoch 381/600\n",
      "\u001b[1m5079/5079\u001b[0m \u001b[32m━━━━━━━━━━━━━━━━━━━━\u001b[0m\u001b[37m\u001b[0m \u001b[1m8s\u001b[0m 2ms/step - accuracy: 0.9998 - loss: 0.0010 - val_accuracy: 0.9997 - val_loss: 0.0015\n",
      "Epoch 382/600\n",
      "\u001b[1m5079/5079\u001b[0m \u001b[32m━━━━━━━━━━━━━━━━━━━━\u001b[0m\u001b[37m\u001b[0m \u001b[1m8s\u001b[0m 2ms/step - accuracy: 0.9998 - loss: 0.0014 - val_accuracy: 0.9998 - val_loss: 0.0016\n",
      "Epoch 383/600\n",
      "\u001b[1m5079/5079\u001b[0m \u001b[32m━━━━━━━━━━━━━━━━━━━━\u001b[0m\u001b[37m\u001b[0m \u001b[1m9s\u001b[0m 2ms/step - accuracy: 0.9998 - loss: 0.0016 - val_accuracy: 0.9998 - val_loss: 0.0014\n",
      "Epoch 384/600\n",
      "\u001b[1m5079/5079\u001b[0m \u001b[32m━━━━━━━━━━━━━━━━━━━━\u001b[0m\u001b[37m\u001b[0m \u001b[1m8s\u001b[0m 2ms/step - accuracy: 0.9998 - loss: 0.0019 - val_accuracy: 0.9997 - val_loss: 0.0019\n",
      "Epoch 385/600\n",
      "\u001b[1m5079/5079\u001b[0m \u001b[32m━━━━━━━━━━━━━━━━━━━━\u001b[0m\u001b[37m\u001b[0m \u001b[1m8s\u001b[0m 2ms/step - accuracy: 0.9998 - loss: 0.0011 - val_accuracy: 0.9996 - val_loss: 0.0017\n",
      "Epoch 386/600\n",
      "\u001b[1m5079/5079\u001b[0m \u001b[32m━━━━━━━━━━━━━━━━━━━━\u001b[0m\u001b[37m\u001b[0m \u001b[1m8s\u001b[0m 2ms/step - accuracy: 0.9998 - loss: 0.0016 - val_accuracy: 0.9998 - val_loss: 0.0014\n",
      "Epoch 387/600\n",
      "\u001b[1m5079/5079\u001b[0m \u001b[32m━━━━━━━━━━━━━━━━━━━━\u001b[0m\u001b[37m\u001b[0m \u001b[1m9s\u001b[0m 2ms/step - accuracy: 0.9997 - loss: 0.0016 - val_accuracy: 0.9997 - val_loss: 0.0017\n",
      "Epoch 388/600\n",
      "\u001b[1m5079/5079\u001b[0m \u001b[32m━━━━━━━━━━━━━━━━━━━━\u001b[0m\u001b[37m\u001b[0m \u001b[1m8s\u001b[0m 2ms/step - accuracy: 0.9998 - loss: 0.0012 - val_accuracy: 0.9998 - val_loss: 0.0015\n",
      "Epoch 389/600\n",
      "\u001b[1m5079/5079\u001b[0m \u001b[32m━━━━━━━━━━━━━━━━━━━━\u001b[0m\u001b[37m\u001b[0m \u001b[1m8s\u001b[0m 2ms/step - accuracy: 0.9998 - loss: 0.0011 - val_accuracy: 0.9997 - val_loss: 0.0019\n",
      "Epoch 390/600\n",
      "\u001b[1m5079/5079\u001b[0m \u001b[32m━━━━━━━━━━━━━━━━━━━━\u001b[0m\u001b[37m\u001b[0m \u001b[1m8s\u001b[0m 2ms/step - accuracy: 0.9998 - loss: 0.0012 - val_accuracy: 0.9997 - val_loss: 0.0014\n",
      "Epoch 391/600\n",
      "\u001b[1m5079/5079\u001b[0m \u001b[32m━━━━━━━━━━━━━━━━━━━━\u001b[0m\u001b[37m\u001b[0m \u001b[1m8s\u001b[0m 2ms/step - accuracy: 0.9998 - loss: 0.0012 - val_accuracy: 0.9998 - val_loss: 0.0016\n",
      "Epoch 392/600\n",
      "\u001b[1m5079/5079\u001b[0m \u001b[32m━━━━━━━━━━━━━━━━━━━━\u001b[0m\u001b[37m\u001b[0m \u001b[1m9s\u001b[0m 2ms/step - accuracy: 0.9998 - loss: 0.0019 - val_accuracy: 0.9998 - val_loss: 0.0017\n",
      "Epoch 393/600\n",
      "\u001b[1m5079/5079\u001b[0m \u001b[32m━━━━━━━━━━━━━━━━━━━━\u001b[0m\u001b[37m\u001b[0m \u001b[1m8s\u001b[0m 2ms/step - accuracy: 0.9998 - loss: 0.0013 - val_accuracy: 0.9998 - val_loss: 0.0016\n",
      "Epoch 394/600\n",
      "\u001b[1m5079/5079\u001b[0m \u001b[32m━━━━━━━━━━━━━━━━━━━━\u001b[0m\u001b[37m\u001b[0m \u001b[1m8s\u001b[0m 2ms/step - accuracy: 0.9998 - loss: 0.0010 - val_accuracy: 0.9998 - val_loss: 0.0016\n",
      "Epoch 395/600\n",
      "\u001b[1m5079/5079\u001b[0m \u001b[32m━━━━━━━━━━━━━━━━━━━━\u001b[0m\u001b[37m\u001b[0m \u001b[1m8s\u001b[0m 2ms/step - accuracy: 0.9998 - loss: 9.8704e-04 - val_accuracy: 0.9997 - val_loss: 0.0016\n",
      "Epoch 396/600\n",
      "\u001b[1m5079/5079\u001b[0m \u001b[32m━━━━━━━━━━━━━━━━━━━━\u001b[0m\u001b[37m\u001b[0m \u001b[1m9s\u001b[0m 2ms/step - accuracy: 0.9998 - loss: 0.0017 - val_accuracy: 0.9998 - val_loss: 0.0016\n",
      "Epoch 397/600\n",
      "\u001b[1m5079/5079\u001b[0m \u001b[32m━━━━━━━━━━━━━━━━━━━━\u001b[0m\u001b[37m\u001b[0m \u001b[1m8s\u001b[0m 2ms/step - accuracy: 0.9998 - loss: 9.1669e-04 - val_accuracy: 0.9997 - val_loss: 0.0021\n",
      "Epoch 398/600\n",
      "\u001b[1m5079/5079\u001b[0m \u001b[32m━━━━━━━━━━━━━━━━━━━━\u001b[0m\u001b[37m\u001b[0m \u001b[1m8s\u001b[0m 2ms/step - accuracy: 0.9999 - loss: 7.5275e-04 - val_accuracy: 0.9996 - val_loss: 0.0037\n",
      "Epoch 399/600\n",
      "\u001b[1m5079/5079\u001b[0m \u001b[32m━━━━━━━━━━━━━━━━━━━━\u001b[0m\u001b[37m\u001b[0m \u001b[1m8s\u001b[0m 2ms/step - accuracy: 0.9998 - loss: 0.0020 - val_accuracy: 0.9997 - val_loss: 0.0016\n",
      "Epoch 400/600\n",
      "\u001b[1m5079/5079\u001b[0m \u001b[32m━━━━━━━━━━━━━━━━━━━━\u001b[0m\u001b[37m\u001b[0m \u001b[1m8s\u001b[0m 2ms/step - accuracy: 0.9998 - loss: 0.0013 - val_accuracy: 0.9998 - val_loss: 0.0016\n",
      "Epoch 401/600\n",
      "\u001b[1m5079/5079\u001b[0m \u001b[32m━━━━━━━━━━━━━━━━━━━━\u001b[0m\u001b[37m\u001b[0m \u001b[1m9s\u001b[0m 2ms/step - accuracy: 0.9998 - loss: 9.7840e-04 - val_accuracy: 0.9997 - val_loss: 0.0017\n",
      "Epoch 402/600\n",
      "\u001b[1m5079/5079\u001b[0m \u001b[32m━━━━━━━━━━━━━━━━━━━━\u001b[0m\u001b[37m\u001b[0m \u001b[1m8s\u001b[0m 2ms/step - accuracy: 0.9997 - loss: 0.0011 - val_accuracy: 0.9997 - val_loss: 0.0017\n",
      "Epoch 403/600\n",
      "\u001b[1m5079/5079\u001b[0m \u001b[32m━━━━━━━━━━━━━━━━━━━━\u001b[0m\u001b[37m\u001b[0m \u001b[1m8s\u001b[0m 2ms/step - accuracy: 0.9998 - loss: 9.3550e-04 - val_accuracy: 0.9997 - val_loss: 0.0017\n",
      "Epoch 404/600\n",
      "\u001b[1m5079/5079\u001b[0m \u001b[32m━━━━━━━━━━━━━━━━━━━━\u001b[0m\u001b[37m\u001b[0m \u001b[1m10s\u001b[0m 2ms/step - accuracy: 0.9998 - loss: 9.4700e-04 - val_accuracy: 0.9997 - val_loss: 0.0019\n",
      "Epoch 405/600\n",
      "\u001b[1m5079/5079\u001b[0m \u001b[32m━━━━━━━━━━━━━━━━━━━━\u001b[0m\u001b[37m\u001b[0m \u001b[1m8s\u001b[0m 2ms/step - accuracy: 0.9998 - loss: 0.0014 - val_accuracy: 0.9998 - val_loss: 0.0019\n",
      "Epoch 406/600\n",
      "\u001b[1m5079/5079\u001b[0m \u001b[32m━━━━━━━━━━━━━━━━━━━━\u001b[0m\u001b[37m\u001b[0m \u001b[1m8s\u001b[0m 2ms/step - accuracy: 0.9998 - loss: 0.0016 - val_accuracy: 0.9997 - val_loss: 0.0022\n",
      "Epoch 407/600\n",
      "\u001b[1m5079/5079\u001b[0m \u001b[32m━━━━━━━━━━━━━━━━━━━━\u001b[0m\u001b[37m\u001b[0m \u001b[1m8s\u001b[0m 2ms/step - accuracy: 0.9999 - loss: 9.8787e-04 - val_accuracy: 0.9997 - val_loss: 0.0017\n",
      "Epoch 408/600\n",
      "\u001b[1m5079/5079\u001b[0m \u001b[32m━━━━━━━━━━━━━━━━━━━━\u001b[0m\u001b[37m\u001b[0m \u001b[1m8s\u001b[0m 2ms/step - accuracy: 0.9998 - loss: 8.8274e-04 - val_accuracy: 0.9997 - val_loss: 0.0026\n",
      "Epoch 409/600\n",
      "\u001b[1m5079/5079\u001b[0m \u001b[32m━━━━━━━━━━━━━━━━━━━━\u001b[0m\u001b[37m\u001b[0m \u001b[1m9s\u001b[0m 2ms/step - accuracy: 0.9998 - loss: 0.0010 - val_accuracy: 0.9997 - val_loss: 0.0017\n",
      "Epoch 410/600\n",
      "\u001b[1m5079/5079\u001b[0m \u001b[32m━━━━━━━━━━━━━━━━━━━━\u001b[0m\u001b[37m\u001b[0m \u001b[1m8s\u001b[0m 2ms/step - accuracy: 0.9998 - loss: 9.0853e-04 - val_accuracy: 0.9996 - val_loss: 0.0024\n",
      "Epoch 411/600\n",
      "\u001b[1m5079/5079\u001b[0m \u001b[32m━━━━━━━━━━━━━━━━━━━━\u001b[0m\u001b[37m\u001b[0m \u001b[1m8s\u001b[0m 2ms/step - accuracy: 0.9998 - loss: 0.0017 - val_accuracy: 0.9997 - val_loss: 0.0020\n",
      "Epoch 412/600\n",
      "\u001b[1m5079/5079\u001b[0m \u001b[32m━━━━━━━━━━━━━━━━━━━━\u001b[0m\u001b[37m\u001b[0m \u001b[1m8s\u001b[0m 2ms/step - accuracy: 0.9998 - loss: 0.0010 - val_accuracy: 0.9997 - val_loss: 0.0028\n",
      "Epoch 413/600\n",
      "\u001b[1m5079/5079\u001b[0m \u001b[32m━━━━━━━━━━━━━━━━━━━━\u001b[0m\u001b[37m\u001b[0m \u001b[1m9s\u001b[0m 2ms/step - accuracy: 0.9998 - loss: 9.2265e-04 - val_accuracy: 0.9998 - val_loss: 0.0017\n",
      "Epoch 414/600\n",
      "\u001b[1m5079/5079\u001b[0m \u001b[32m━━━━━━━━━━━━━━━━━━━━\u001b[0m\u001b[37m\u001b[0m \u001b[1m8s\u001b[0m 2ms/step - accuracy: 0.9998 - loss: 0.0011 - val_accuracy: 0.9997 - val_loss: 0.0022\n",
      "Epoch 415/600\n",
      "\u001b[1m5079/5079\u001b[0m \u001b[32m━━━━━━━━━━━━━━━━━━━━\u001b[0m\u001b[37m\u001b[0m \u001b[1m8s\u001b[0m 2ms/step - accuracy: 0.9998 - loss: 0.0012 - val_accuracy: 0.9997 - val_loss: 0.0022\n",
      "Epoch 416/600\n",
      "\u001b[1m5079/5079\u001b[0m \u001b[32m━━━━━━━━━━━━━━━━━━━━\u001b[0m\u001b[37m\u001b[0m \u001b[1m8s\u001b[0m 2ms/step - accuracy: 0.9999 - loss: 8.1931e-04 - val_accuracy: 0.9997 - val_loss: 0.0017\n",
      "Epoch 417/600\n",
      "\u001b[1m5079/5079\u001b[0m \u001b[32m━━━━━━━━━━━━━━━━━━━━\u001b[0m\u001b[37m\u001b[0m \u001b[1m9s\u001b[0m 2ms/step - accuracy: 0.9998 - loss: 9.6656e-04 - val_accuracy: 0.9997 - val_loss: 0.0019\n",
      "Epoch 418/600\n",
      "\u001b[1m5079/5079\u001b[0m \u001b[32m━━━━━━━━━━━━━━━━━━━━\u001b[0m\u001b[37m\u001b[0m \u001b[1m8s\u001b[0m 2ms/step - accuracy: 0.9998 - loss: 0.0012 - val_accuracy: 0.9996 - val_loss: 0.0042\n",
      "Epoch 419/600\n",
      "\u001b[1m5079/5079\u001b[0m \u001b[32m━━━━━━━━━━━━━━━━━━━━\u001b[0m\u001b[37m\u001b[0m \u001b[1m8s\u001b[0m 2ms/step - accuracy: 0.9998 - loss: 7.9825e-04 - val_accuracy: 0.9997 - val_loss: 0.0020\n",
      "Epoch 420/600\n",
      "\u001b[1m5079/5079\u001b[0m \u001b[32m━━━━━━━━━━━━━━━━━━━━\u001b[0m\u001b[37m\u001b[0m \u001b[1m8s\u001b[0m 2ms/step - accuracy: 0.9998 - loss: 0.0014 - val_accuracy: 0.9996 - val_loss: 0.0020\n",
      "Epoch 421/600\n",
      "\u001b[1m5079/5079\u001b[0m \u001b[32m━━━━━━━━━━━━━━━━━━━━\u001b[0m\u001b[37m\u001b[0m \u001b[1m8s\u001b[0m 2ms/step - accuracy: 0.9998 - loss: 9.0220e-04 - val_accuracy: 0.9997 - val_loss: 0.0021\n",
      "Epoch 422/600\n",
      "\u001b[1m5079/5079\u001b[0m \u001b[32m━━━━━━━━━━━━━━━━━━━━\u001b[0m\u001b[37m\u001b[0m \u001b[1m9s\u001b[0m 2ms/step - accuracy: 0.9998 - loss: 8.4753e-04 - val_accuracy: 0.9998 - val_loss: 0.0015\n",
      "Epoch 423/600\n",
      "\u001b[1m5079/5079\u001b[0m \u001b[32m━━━━━━━━━━━━━━━━━━━━\u001b[0m\u001b[37m\u001b[0m \u001b[1m8s\u001b[0m 2ms/step - accuracy: 0.9998 - loss: 9.5215e-04 - val_accuracy: 0.9997 - val_loss: 0.0017\n",
      "Epoch 424/600\n",
      "\u001b[1m5079/5079\u001b[0m \u001b[32m━━━━━━━━━━━━━━━━━━━━\u001b[0m\u001b[37m\u001b[0m \u001b[1m8s\u001b[0m 2ms/step - accuracy: 0.9998 - loss: 0.0013 - val_accuracy: 0.9998 - val_loss: 0.0015\n",
      "Epoch 425/600\n",
      "\u001b[1m5079/5079\u001b[0m \u001b[32m━━━━━━━━━━━━━━━━━━━━\u001b[0m\u001b[37m\u001b[0m \u001b[1m8s\u001b[0m 2ms/step - accuracy: 0.9998 - loss: 0.0014 - val_accuracy: 0.9997 - val_loss: 0.0015\n",
      "Epoch 426/600\n",
      "\u001b[1m5079/5079\u001b[0m \u001b[32m━━━━━━━━━━━━━━━━━━━━\u001b[0m\u001b[37m\u001b[0m \u001b[1m9s\u001b[0m 2ms/step - accuracy: 0.9998 - loss: 0.0011 - val_accuracy: 0.9997 - val_loss: 0.0016\n",
      "Epoch 427/600\n",
      "\u001b[1m5079/5079\u001b[0m \u001b[32m━━━━━━━━━━━━━━━━━━━━\u001b[0m\u001b[37m\u001b[0m \u001b[1m8s\u001b[0m 2ms/step - accuracy: 0.9997 - loss: 0.0029 - val_accuracy: 0.9997 - val_loss: 0.0017\n",
      "Epoch 428/600\n",
      "\u001b[1m5079/5079\u001b[0m \u001b[32m━━━━━━━━━━━━━━━━━━━━\u001b[0m\u001b[37m\u001b[0m \u001b[1m8s\u001b[0m 2ms/step - accuracy: 0.9998 - loss: 8.9426e-04 - val_accuracy: 0.9998 - val_loss: 0.0018\n",
      "Epoch 429/600\n",
      "\u001b[1m5079/5079\u001b[0m \u001b[32m━━━━━━━━━━━━━━━━━━━━\u001b[0m\u001b[37m\u001b[0m \u001b[1m8s\u001b[0m 2ms/step - accuracy: 0.9998 - loss: 0.0014 - val_accuracy: 0.9998 - val_loss: 0.0017\n",
      "Epoch 430/600\n",
      "\u001b[1m5079/5079\u001b[0m \u001b[32m━━━━━━━━━━━━━━━━━━━━\u001b[0m\u001b[37m\u001b[0m \u001b[1m8s\u001b[0m 2ms/step - accuracy: 0.9998 - loss: 0.0013 - val_accuracy: 0.9997 - val_loss: 0.0030\n",
      "Epoch 431/600\n",
      "\u001b[1m5079/5079\u001b[0m \u001b[32m━━━━━━━━━━━━━━━━━━━━\u001b[0m\u001b[37m\u001b[0m \u001b[1m8s\u001b[0m 2ms/step - accuracy: 0.9998 - loss: 0.0013 - val_accuracy: 0.9998 - val_loss: 0.0018\n",
      "Epoch 432/600\n",
      "\u001b[1m5079/5079\u001b[0m \u001b[32m━━━━━━━━━━━━━━━━━━━━\u001b[0m\u001b[37m\u001b[0m \u001b[1m8s\u001b[0m 2ms/step - accuracy: 0.9998 - loss: 0.0011 - val_accuracy: 0.9997 - val_loss: 0.0017\n",
      "Epoch 433/600\n",
      "\u001b[1m5079/5079\u001b[0m \u001b[32m━━━━━━━━━━━━━━━━━━━━\u001b[0m\u001b[37m\u001b[0m \u001b[1m8s\u001b[0m 2ms/step - accuracy: 0.9998 - loss: 0.0011 - val_accuracy: 0.9997 - val_loss: 0.0021\n",
      "Epoch 434/600\n",
      "\u001b[1m5079/5079\u001b[0m \u001b[32m━━━━━━━━━━━━━━━━━━━━\u001b[0m\u001b[37m\u001b[0m \u001b[1m8s\u001b[0m 2ms/step - accuracy: 0.9998 - loss: 0.0015 - val_accuracy: 0.9997 - val_loss: 0.0016\n",
      "Epoch 435/600\n",
      "\u001b[1m5079/5079\u001b[0m \u001b[32m━━━━━━━━━━━━━━━━━━━━\u001b[0m\u001b[37m\u001b[0m \u001b[1m9s\u001b[0m 2ms/step - accuracy: 0.9999 - loss: 9.3074e-04 - val_accuracy: 0.9998 - val_loss: 0.0019\n",
      "Epoch 436/600\n",
      "\u001b[1m5079/5079\u001b[0m \u001b[32m━━━━━━━━━━━━━━━━━━━━\u001b[0m\u001b[37m\u001b[0m \u001b[1m8s\u001b[0m 2ms/step - accuracy: 0.9998 - loss: 0.0012 - val_accuracy: 0.9997 - val_loss: 0.0017\n",
      "Epoch 437/600\n",
      "\u001b[1m5079/5079\u001b[0m \u001b[32m━━━━━━━━━━━━━━━━━━━━\u001b[0m\u001b[37m\u001b[0m \u001b[1m8s\u001b[0m 2ms/step - accuracy: 0.9999 - loss: 8.8201e-04 - val_accuracy: 0.9997 - val_loss: 0.0016\n",
      "Epoch 438/600\n",
      "\u001b[1m5079/5079\u001b[0m \u001b[32m━━━━━━━━━━━━━━━━━━━━\u001b[0m\u001b[37m\u001b[0m \u001b[1m8s\u001b[0m 2ms/step - accuracy: 0.9999 - loss: 7.5206e-04 - val_accuracy: 0.9997 - val_loss: 0.0018\n",
      "Epoch 439/600\n",
      "\u001b[1m5079/5079\u001b[0m \u001b[32m━━━━━━━━━━━━━━━━━━━━\u001b[0m\u001b[37m\u001b[0m \u001b[1m9s\u001b[0m 2ms/step - accuracy: 0.9999 - loss: 9.0072e-04 - val_accuracy: 0.9997 - val_loss: 0.0019\n",
      "Epoch 440/600\n",
      "\u001b[1m5079/5079\u001b[0m \u001b[32m━━━━━━━━━━━━━━━━━━━━\u001b[0m\u001b[37m\u001b[0m \u001b[1m10s\u001b[0m 2ms/step - accuracy: 0.9999 - loss: 6.5381e-04 - val_accuracy: 0.9998 - val_loss: 0.0017\n",
      "Epoch 441/600\n",
      "\u001b[1m5079/5079\u001b[0m \u001b[32m━━━━━━━━━━━━━━━━━━━━\u001b[0m\u001b[37m\u001b[0m \u001b[1m8s\u001b[0m 2ms/step - accuracy: 0.9999 - loss: 0.0010 - val_accuracy: 0.9997 - val_loss: 0.0017\n",
      "Epoch 442/600\n",
      "\u001b[1m5079/5079\u001b[0m \u001b[32m━━━━━━━━━━━━━━━━━━━━\u001b[0m\u001b[37m\u001b[0m \u001b[1m8s\u001b[0m 2ms/step - accuracy: 0.9999 - loss: 8.4144e-04 - val_accuracy: 0.9997 - val_loss: 0.0018\n",
      "Epoch 443/600\n",
      "\u001b[1m5079/5079\u001b[0m \u001b[32m━━━━━━━━━━━━━━━━━━━━\u001b[0m\u001b[37m\u001b[0m \u001b[1m8s\u001b[0m 2ms/step - accuracy: 0.9998 - loss: 7.8509e-04 - val_accuracy: 0.9997 - val_loss: 0.0019\n",
      "Epoch 444/600\n",
      "\u001b[1m5079/5079\u001b[0m \u001b[32m━━━━━━━━━━━━━━━━━━━━\u001b[0m\u001b[37m\u001b[0m \u001b[1m10s\u001b[0m 2ms/step - accuracy: 0.9999 - loss: 7.3896e-04 - val_accuracy: 0.9997 - val_loss: 0.0020\n",
      "Epoch 445/600\n",
      "\u001b[1m5079/5079\u001b[0m \u001b[32m━━━━━━━━━━━━━━━━━━━━\u001b[0m\u001b[37m\u001b[0m \u001b[1m8s\u001b[0m 2ms/step - accuracy: 0.9998 - loss: 0.0015 - val_accuracy: 0.9997 - val_loss: 0.0019\n",
      "Epoch 446/600\n",
      "\u001b[1m5079/5079\u001b[0m \u001b[32m━━━━━━━━━━━━━━━━━━━━\u001b[0m\u001b[37m\u001b[0m \u001b[1m8s\u001b[0m 2ms/step - accuracy: 0.9998 - loss: 0.0014 - val_accuracy: 0.9997 - val_loss: 0.0020\n",
      "Epoch 447/600\n",
      "\u001b[1m5079/5079\u001b[0m \u001b[32m━━━━━━━━━━━━━━━━━━━━\u001b[0m\u001b[37m\u001b[0m \u001b[1m9s\u001b[0m 2ms/step - accuracy: 0.9998 - loss: 7.3725e-04 - val_accuracy: 0.9997 - val_loss: 0.0026\n",
      "Epoch 448/600\n",
      "\u001b[1m5079/5079\u001b[0m \u001b[32m━━━━━━━━━━━━━━━━━━━━\u001b[0m\u001b[37m\u001b[0m \u001b[1m8s\u001b[0m 2ms/step - accuracy: 0.9999 - loss: 8.4473e-04 - val_accuracy: 0.9997 - val_loss: 0.0021\n",
      "Epoch 449/600\n",
      "\u001b[1m5079/5079\u001b[0m \u001b[32m━━━━━━━━━━━━━━━━━━━━\u001b[0m\u001b[37m\u001b[0m \u001b[1m8s\u001b[0m 2ms/step - accuracy: 0.9999 - loss: 5.3192e-04 - val_accuracy: 0.9997 - val_loss: 0.0033\n",
      "Epoch 450/600\n",
      "\u001b[1m5079/5079\u001b[0m \u001b[32m━━━━━━━━━━━━━━━━━━━━\u001b[0m\u001b[37m\u001b[0m \u001b[1m8s\u001b[0m 2ms/step - accuracy: 0.9998 - loss: 8.1165e-04 - val_accuracy: 0.9997 - val_loss: 0.0021\n",
      "Epoch 451/600\n",
      "\u001b[1m5079/5079\u001b[0m \u001b[32m━━━━━━━━━━━━━━━━━━━━\u001b[0m\u001b[37m\u001b[0m \u001b[1m8s\u001b[0m 2ms/step - accuracy: 0.9998 - loss: 0.0014 - val_accuracy: 0.9996 - val_loss: 0.0045\n",
      "Epoch 452/600\n",
      "\u001b[1m5079/5079\u001b[0m \u001b[32m━━━━━━━━━━━━━━━━━━━━\u001b[0m\u001b[37m\u001b[0m \u001b[1m9s\u001b[0m 2ms/step - accuracy: 0.9998 - loss: 0.0014 - val_accuracy: 0.9997 - val_loss: 0.0017\n",
      "Epoch 453/600\n",
      "\u001b[1m5079/5079\u001b[0m \u001b[32m━━━━━━━━━━━━━━━━━━━━\u001b[0m\u001b[37m\u001b[0m \u001b[1m8s\u001b[0m 2ms/step - accuracy: 0.9998 - loss: 0.0011 - val_accuracy: 0.9998 - val_loss: 0.0018\n",
      "Epoch 454/600\n",
      "\u001b[1m5079/5079\u001b[0m \u001b[32m━━━━━━━━━━━━━━━━━━━━\u001b[0m\u001b[37m\u001b[0m \u001b[1m8s\u001b[0m 2ms/step - accuracy: 0.9998 - loss: 0.0011 - val_accuracy: 0.9996 - val_loss: 0.0026\n",
      "Epoch 455/600\n",
      "\u001b[1m5079/5079\u001b[0m \u001b[32m━━━━━━━━━━━━━━━━━━━━\u001b[0m\u001b[37m\u001b[0m \u001b[1m8s\u001b[0m 2ms/step - accuracy: 0.9998 - loss: 0.0014 - val_accuracy: 0.9996 - val_loss: 0.0041\n",
      "Epoch 456/600\n",
      "\u001b[1m5079/5079\u001b[0m \u001b[32m━━━━━━━━━━━━━━━━━━━━\u001b[0m\u001b[37m\u001b[0m \u001b[1m8s\u001b[0m 2ms/step - accuracy: 0.9998 - loss: 0.0013 - val_accuracy: 0.9996 - val_loss: 0.0022\n",
      "Epoch 457/600\n",
      "\u001b[1m5079/5079\u001b[0m \u001b[32m━━━━━━━━━━━━━━━━━━━━\u001b[0m\u001b[37m\u001b[0m \u001b[1m8s\u001b[0m 2ms/step - accuracy: 0.9999 - loss: 6.6841e-04 - val_accuracy: 0.9997 - val_loss: 0.0016\n",
      "Epoch 458/600\n",
      "\u001b[1m5079/5079\u001b[0m \u001b[32m━━━━━━━━━━━━━━━━━━━━\u001b[0m\u001b[37m\u001b[0m \u001b[1m8s\u001b[0m 2ms/step - accuracy: 0.9997 - loss: 0.0017 - val_accuracy: 0.9997 - val_loss: 0.0019\n",
      "Epoch 459/600\n",
      "\u001b[1m5079/5079\u001b[0m \u001b[32m━━━━━━━━━━━━━━━━━━━━\u001b[0m\u001b[37m\u001b[0m \u001b[1m8s\u001b[0m 2ms/step - accuracy: 0.9999 - loss: 0.0011 - val_accuracy: 0.9997 - val_loss: 0.0020\n",
      "Epoch 460/600\n",
      "\u001b[1m5079/5079\u001b[0m \u001b[32m━━━━━━━━━━━━━━━━━━━━\u001b[0m\u001b[37m\u001b[0m \u001b[1m8s\u001b[0m 2ms/step - accuracy: 0.9998 - loss: 8.2388e-04 - val_accuracy: 0.9997 - val_loss: 0.0022\n",
      "Epoch 461/600\n",
      "\u001b[1m5079/5079\u001b[0m \u001b[32m━━━━━━━━━━━━━━━━━━━━\u001b[0m\u001b[37m\u001b[0m \u001b[1m9s\u001b[0m 2ms/step - accuracy: 0.9999 - loss: 7.3291e-04 - val_accuracy: 0.9996 - val_loss: 0.0030\n",
      "Epoch 462/600\n",
      "\u001b[1m5079/5079\u001b[0m \u001b[32m━━━━━━━━━━━━━━━━━━━━\u001b[0m\u001b[37m\u001b[0m \u001b[1m8s\u001b[0m 2ms/step - accuracy: 0.9998 - loss: 0.0011 - val_accuracy: 0.9996 - val_loss: 0.0026\n",
      "Epoch 463/600\n",
      "\u001b[1m5079/5079\u001b[0m \u001b[32m━━━━━━━━━━━━━━━━━━━━\u001b[0m\u001b[37m\u001b[0m \u001b[1m8s\u001b[0m 2ms/step - accuracy: 0.9999 - loss: 6.8333e-04 - val_accuracy: 0.9996 - val_loss: 0.0024\n",
      "Epoch 464/600\n",
      "\u001b[1m5079/5079\u001b[0m \u001b[32m━━━━━━━━━━━━━━━━━━━━\u001b[0m\u001b[37m\u001b[0m \u001b[1m8s\u001b[0m 2ms/step - accuracy: 0.9998 - loss: 7.4263e-04 - val_accuracy: 0.9997 - val_loss: 0.0018\n",
      "Epoch 465/600\n",
      "\u001b[1m5079/5079\u001b[0m \u001b[32m━━━━━━━━━━━━━━━━━━━━\u001b[0m\u001b[37m\u001b[0m \u001b[1m9s\u001b[0m 2ms/step - accuracy: 0.9998 - loss: 0.0012 - val_accuracy: 0.9998 - val_loss: 0.0020\n",
      "Epoch 466/600\n",
      "\u001b[1m5079/5079\u001b[0m \u001b[32m━━━━━━━━━━━━━━━━━━━━\u001b[0m\u001b[37m\u001b[0m \u001b[1m10s\u001b[0m 2ms/step - accuracy: 0.9998 - loss: 0.0016 - val_accuracy: 0.9997 - val_loss: 0.0017\n",
      "Epoch 467/600\n",
      "\u001b[1m5079/5079\u001b[0m \u001b[32m━━━━━━━━━━━━━━━━━━━━\u001b[0m\u001b[37m\u001b[0m \u001b[1m8s\u001b[0m 2ms/step - accuracy: 0.9998 - loss: 0.0010 - val_accuracy: 0.9997 - val_loss: 0.0018\n",
      "Epoch 468/600\n",
      "\u001b[1m5079/5079\u001b[0m \u001b[32m━━━━━━━━━━━━━━━━━━━━\u001b[0m\u001b[37m\u001b[0m \u001b[1m8s\u001b[0m 2ms/step - accuracy: 0.9998 - loss: 0.0010 - val_accuracy: 0.9998 - val_loss: 0.0022\n",
      "Epoch 469/600\n",
      "\u001b[1m5079/5079\u001b[0m \u001b[32m━━━━━━━━━━━━━━━━━━━━\u001b[0m\u001b[37m\u001b[0m \u001b[1m8s\u001b[0m 2ms/step - accuracy: 0.9999 - loss: 9.5389e-04 - val_accuracy: 0.9997 - val_loss: 0.0019\n",
      "Epoch 470/600\n",
      "\u001b[1m5079/5079\u001b[0m \u001b[32m━━━━━━━━━━━━━━━━━━━━\u001b[0m\u001b[37m\u001b[0m \u001b[1m10s\u001b[0m 2ms/step - accuracy: 0.9999 - loss: 8.7722e-04 - val_accuracy: 0.9997 - val_loss: 0.0023\n",
      "Epoch 471/600\n",
      "\u001b[1m5079/5079\u001b[0m \u001b[32m━━━━━━━━━━━━━━━━━━━━\u001b[0m\u001b[37m\u001b[0m \u001b[1m8s\u001b[0m 2ms/step - accuracy: 0.9998 - loss: 0.0014 - val_accuracy: 0.9997 - val_loss: 0.0017\n",
      "Epoch 472/600\n",
      "\u001b[1m5079/5079\u001b[0m \u001b[32m━━━━━━━━━━━━━━━━━━━━\u001b[0m\u001b[37m\u001b[0m \u001b[1m8s\u001b[0m 2ms/step - accuracy: 0.9998 - loss: 0.0011 - val_accuracy: 0.9997 - val_loss: 0.0021\n",
      "Epoch 473/600\n",
      "\u001b[1m5079/5079\u001b[0m \u001b[32m━━━━━━━━━━━━━━━━━━━━\u001b[0m\u001b[37m\u001b[0m \u001b[1m8s\u001b[0m 2ms/step - accuracy: 0.9998 - loss: 0.0015 - val_accuracy: 0.9996 - val_loss: 0.0034\n",
      "Epoch 474/600\n",
      "\u001b[1m5079/5079\u001b[0m \u001b[32m━━━━━━━━━━━━━━━━━━━━\u001b[0m\u001b[37m\u001b[0m \u001b[1m9s\u001b[0m 2ms/step - accuracy: 0.9998 - loss: 0.0017 - val_accuracy: 0.9996 - val_loss: 0.0026\n",
      "Epoch 475/600\n",
      "\u001b[1m5079/5079\u001b[0m \u001b[32m━━━━━━━━━━━━━━━━━━━━\u001b[0m\u001b[37m\u001b[0m \u001b[1m8s\u001b[0m 2ms/step - accuracy: 0.9997 - loss: 0.0016 - val_accuracy: 0.9997 - val_loss: 0.0017\n",
      "Epoch 476/600\n",
      "\u001b[1m5079/5079\u001b[0m \u001b[32m━━━━━━━━━━━━━━━━━━━━\u001b[0m\u001b[37m\u001b[0m \u001b[1m8s\u001b[0m 2ms/step - accuracy: 0.9998 - loss: 0.0018 - val_accuracy: 0.9997 - val_loss: 0.0017\n",
      "Epoch 477/600\n",
      "\u001b[1m5079/5079\u001b[0m \u001b[32m━━━━━━━━━━━━━━━━━━━━\u001b[0m\u001b[37m\u001b[0m \u001b[1m8s\u001b[0m 2ms/step - accuracy: 0.9998 - loss: 0.0013 - val_accuracy: 0.9997 - val_loss: 0.0017\n",
      "Epoch 478/600\n",
      "\u001b[1m5079/5079\u001b[0m \u001b[32m━━━━━━━━━━━━━━━━━━━━\u001b[0m\u001b[37m\u001b[0m \u001b[1m9s\u001b[0m 2ms/step - accuracy: 0.9998 - loss: 0.0011 - val_accuracy: 0.9997 - val_loss: 0.0025\n",
      "Epoch 479/600\n",
      "\u001b[1m5079/5079\u001b[0m \u001b[32m━━━━━━━━━━━━━━━━━━━━\u001b[0m\u001b[37m\u001b[0m \u001b[1m8s\u001b[0m 2ms/step - accuracy: 0.9998 - loss: 0.0015 - val_accuracy: 0.9997 - val_loss: 0.0017\n",
      "Epoch 480/600\n",
      "\u001b[1m5079/5079\u001b[0m \u001b[32m━━━━━━━━━━━━━━━━━━━━\u001b[0m\u001b[37m\u001b[0m \u001b[1m8s\u001b[0m 2ms/step - accuracy: 0.9998 - loss: 0.0028 - val_accuracy: 0.9996 - val_loss: 0.0023\n",
      "Epoch 481/600\n",
      "\u001b[1m5079/5079\u001b[0m \u001b[32m━━━━━━━━━━━━━━━━━━━━\u001b[0m\u001b[37m\u001b[0m \u001b[1m8s\u001b[0m 2ms/step - accuracy: 0.9998 - loss: 0.0013 - val_accuracy: 0.9997 - val_loss: 0.0020\n",
      "Epoch 482/600\n",
      "\u001b[1m5079/5079\u001b[0m \u001b[32m━━━━━━━━━━━━━━━━━━━━\u001b[0m\u001b[37m\u001b[0m \u001b[1m8s\u001b[0m 2ms/step - accuracy: 0.9998 - loss: 0.0011 - val_accuracy: 0.9997 - val_loss: 0.0020\n",
      "Epoch 483/600\n",
      "\u001b[1m5079/5079\u001b[0m \u001b[32m━━━━━━━━━━━━━━━━━━━━\u001b[0m\u001b[37m\u001b[0m \u001b[1m10s\u001b[0m 2ms/step - accuracy: 0.9998 - loss: 0.0010 - val_accuracy: 0.9997 - val_loss: 0.0019\n",
      "Epoch 484/600\n",
      "\u001b[1m5079/5079\u001b[0m \u001b[32m━━━━━━━━━━━━━━━━━━━━\u001b[0m\u001b[37m\u001b[0m \u001b[1m8s\u001b[0m 2ms/step - accuracy: 0.9998 - loss: 0.0014 - val_accuracy: 0.9997 - val_loss: 0.0022\n",
      "Epoch 485/600\n",
      "\u001b[1m5079/5079\u001b[0m \u001b[32m━━━━━━━━━━━━━━━━━━━━\u001b[0m\u001b[37m\u001b[0m \u001b[1m8s\u001b[0m 2ms/step - accuracy: 0.9998 - loss: 0.0014 - val_accuracy: 0.9997 - val_loss: 0.0024\n",
      "Epoch 486/600\n",
      "\u001b[1m5079/5079\u001b[0m \u001b[32m━━━━━━━━━━━━━━━━━━━━\u001b[0m\u001b[37m\u001b[0m \u001b[1m8s\u001b[0m 2ms/step - accuracy: 0.9998 - loss: 0.0012 - val_accuracy: 0.9997 - val_loss: 0.0019\n",
      "Epoch 487/600\n",
      "\u001b[1m5079/5079\u001b[0m \u001b[32m━━━━━━━━━━━━━━━━━━━━\u001b[0m\u001b[37m\u001b[0m \u001b[1m11s\u001b[0m 2ms/step - accuracy: 0.9998 - loss: 0.0013 - val_accuracy: 0.9997 - val_loss: 0.0022\n",
      "Epoch 488/600\n",
      "\u001b[1m5079/5079\u001b[0m \u001b[32m━━━━━━━━━━━━━━━━━━━━\u001b[0m\u001b[37m\u001b[0m \u001b[1m9s\u001b[0m 2ms/step - accuracy: 0.9998 - loss: 0.0010 - val_accuracy: 0.9997 - val_loss: 0.0020\n",
      "Epoch 489/600\n",
      "\u001b[1m5079/5079\u001b[0m \u001b[32m━━━━━━━━━━━━━━━━━━━━\u001b[0m\u001b[37m\u001b[0m \u001b[1m8s\u001b[0m 2ms/step - accuracy: 0.9999 - loss: 8.2593e-04 - val_accuracy: 0.9994 - val_loss: 0.0059\n",
      "Epoch 490/600\n",
      "\u001b[1m5079/5079\u001b[0m \u001b[32m━━━━━━━━━━━━━━━━━━━━\u001b[0m\u001b[37m\u001b[0m \u001b[1m8s\u001b[0m 2ms/step - accuracy: 0.9998 - loss: 0.0018 - val_accuracy: 0.9998 - val_loss: 0.0015\n",
      "Epoch 491/600\n",
      "\u001b[1m5079/5079\u001b[0m \u001b[32m━━━━━━━━━━━━━━━━━━━━\u001b[0m\u001b[37m\u001b[0m \u001b[1m9s\u001b[0m 2ms/step - accuracy: 0.9998 - loss: 6.5662e-04 - val_accuracy: 0.9997 - val_loss: 0.0022\n",
      "Epoch 492/600\n",
      "\u001b[1m5079/5079\u001b[0m \u001b[32m━━━━━━━━━━━━━━━━━━━━\u001b[0m\u001b[37m\u001b[0m \u001b[1m8s\u001b[0m 2ms/step - accuracy: 0.9998 - loss: 0.0016 - val_accuracy: 0.9997 - val_loss: 0.0019\n",
      "Epoch 493/600\n",
      "\u001b[1m5079/5079\u001b[0m \u001b[32m━━━━━━━━━━━━━━━━━━━━\u001b[0m\u001b[37m\u001b[0m \u001b[1m8s\u001b[0m 2ms/step - accuracy: 0.9998 - loss: 9.9284e-04 - val_accuracy: 0.9998 - val_loss: 0.0020\n",
      "Epoch 494/600\n",
      "\u001b[1m5079/5079\u001b[0m \u001b[32m━━━━━━━━━━━━━━━━━━━━\u001b[0m\u001b[37m\u001b[0m \u001b[1m8s\u001b[0m 2ms/step - accuracy: 0.9998 - loss: 8.6720e-04 - val_accuracy: 0.9997 - val_loss: 0.0021\n",
      "Epoch 495/600\n",
      "\u001b[1m5079/5079\u001b[0m \u001b[32m━━━━━━━━━━━━━━━━━━━━\u001b[0m\u001b[37m\u001b[0m \u001b[1m8s\u001b[0m 2ms/step - accuracy: 0.9998 - loss: 8.6581e-04 - val_accuracy: 0.9997 - val_loss: 0.0019\n",
      "Epoch 496/600\n",
      "\u001b[1m5079/5079\u001b[0m \u001b[32m━━━━━━━━━━━━━━━━━━━━\u001b[0m\u001b[37m\u001b[0m \u001b[1m9s\u001b[0m 2ms/step - accuracy: 0.9998 - loss: 0.0013 - val_accuracy: 0.9997 - val_loss: 0.0022\n",
      "Epoch 497/600\n",
      "\u001b[1m5079/5079\u001b[0m \u001b[32m━━━━━━━━━━━━━━━━━━━━\u001b[0m\u001b[37m\u001b[0m \u001b[1m8s\u001b[0m 2ms/step - accuracy: 0.9998 - loss: 0.0015 - val_accuracy: 0.9997 - val_loss: 0.0024\n",
      "Epoch 498/600\n",
      "\u001b[1m5079/5079\u001b[0m \u001b[32m━━━━━━━━━━━━━━━━━━━━\u001b[0m\u001b[37m\u001b[0m \u001b[1m8s\u001b[0m 2ms/step - accuracy: 0.9998 - loss: 0.0015 - val_accuracy: 0.9997 - val_loss: 0.0020\n",
      "Epoch 499/600\n",
      "\u001b[1m5079/5079\u001b[0m \u001b[32m━━━━━━━━━━━━━━━━━━━━\u001b[0m\u001b[37m\u001b[0m \u001b[1m8s\u001b[0m 2ms/step - accuracy: 0.9998 - loss: 0.0017 - val_accuracy: 0.9997 - val_loss: 0.0022\n",
      "Epoch 500/600\n",
      "\u001b[1m5079/5079\u001b[0m \u001b[32m━━━━━━━━━━━━━━━━━━━━\u001b[0m\u001b[37m\u001b[0m \u001b[1m9s\u001b[0m 2ms/step - accuracy: 0.9998 - loss: 7.9406e-04 - val_accuracy: 0.9997 - val_loss: 0.0020\n",
      "Epoch 501/600\n",
      "\u001b[1m5079/5079\u001b[0m \u001b[32m━━━━━━━━━━━━━━━━━━━━\u001b[0m\u001b[37m\u001b[0m \u001b[1m8s\u001b[0m 2ms/step - accuracy: 0.9998 - loss: 6.6210e-04 - val_accuracy: 0.9997 - val_loss: 0.0018\n",
      "Epoch 502/600\n",
      "\u001b[1m5079/5079\u001b[0m \u001b[32m━━━━━━━━━━━━━━━━━━━━\u001b[0m\u001b[37m\u001b[0m \u001b[1m8s\u001b[0m 2ms/step - accuracy: 0.9999 - loss: 6.3122e-04 - val_accuracy: 0.9997 - val_loss: 0.0023\n",
      "Epoch 503/600\n",
      "\u001b[1m5079/5079\u001b[0m \u001b[32m━━━━━━━━━━━━━━━━━━━━\u001b[0m\u001b[37m\u001b[0m \u001b[1m8s\u001b[0m 2ms/step - accuracy: 0.9998 - loss: 0.0017 - val_accuracy: 0.9998 - val_loss: 0.0018\n",
      "Epoch 504/600\n",
      "\u001b[1m5079/5079\u001b[0m \u001b[32m━━━━━━━━━━━━━━━━━━━━\u001b[0m\u001b[37m\u001b[0m \u001b[1m11s\u001b[0m 2ms/step - accuracy: 0.9998 - loss: 0.0013 - val_accuracy: 0.9997 - val_loss: 0.0018\n",
      "Epoch 505/600\n",
      "\u001b[1m5079/5079\u001b[0m \u001b[32m━━━━━━━━━━━━━━━━━━━━\u001b[0m\u001b[37m\u001b[0m \u001b[1m8s\u001b[0m 2ms/step - accuracy: 0.9998 - loss: 0.0019 - val_accuracy: 0.9997 - val_loss: 0.0023\n",
      "Epoch 506/600\n",
      "\u001b[1m5079/5079\u001b[0m \u001b[32m━━━━━━━━━━━━━━━━━━━━\u001b[0m\u001b[37m\u001b[0m \u001b[1m8s\u001b[0m 2ms/step - accuracy: 0.9998 - loss: 0.0011 - val_accuracy: 0.9997 - val_loss: 0.0021\n",
      "Epoch 507/600\n",
      "\u001b[1m5079/5079\u001b[0m \u001b[32m━━━━━━━━━━━━━━━━━━━━\u001b[0m\u001b[37m\u001b[0m \u001b[1m8s\u001b[0m 2ms/step - accuracy: 0.9998 - loss: 0.0012 - val_accuracy: 0.9996 - val_loss: 0.0031\n",
      "Epoch 508/600\n",
      "\u001b[1m5079/5079\u001b[0m \u001b[32m━━━━━━━━━━━━━━━━━━━━\u001b[0m\u001b[37m\u001b[0m \u001b[1m8s\u001b[0m 2ms/step - accuracy: 0.9998 - loss: 0.0015 - val_accuracy: 0.9997 - val_loss: 0.0020\n",
      "Epoch 509/600\n",
      "\u001b[1m5079/5079\u001b[0m \u001b[32m━━━━━━━━━━━━━━━━━━━━\u001b[0m\u001b[37m\u001b[0m \u001b[1m11s\u001b[0m 2ms/step - accuracy: 0.9998 - loss: 0.0021 - val_accuracy: 0.9998 - val_loss: 0.0018\n",
      "Epoch 510/600\n",
      "\u001b[1m5079/5079\u001b[0m \u001b[32m━━━━━━━━━━━━━━━━━━━━\u001b[0m\u001b[37m\u001b[0m \u001b[1m8s\u001b[0m 2ms/step - accuracy: 0.9998 - loss: 0.0020 - val_accuracy: 0.9997 - val_loss: 0.0023\n",
      "Epoch 511/600\n",
      "\u001b[1m5079/5079\u001b[0m \u001b[32m━━━━━━━━━━━━━━━━━━━━\u001b[0m\u001b[37m\u001b[0m \u001b[1m9s\u001b[0m 2ms/step - accuracy: 0.9998 - loss: 9.8037e-04 - val_accuracy: 0.9996 - val_loss: 0.0054\n",
      "Epoch 512/600\n",
      "\u001b[1m5079/5079\u001b[0m \u001b[32m━━━━━━━━━━━━━━━━━━━━\u001b[0m\u001b[37m\u001b[0m \u001b[1m8s\u001b[0m 2ms/step - accuracy: 0.9998 - loss: 0.0010 - val_accuracy: 0.9996 - val_loss: 0.0019\n",
      "Epoch 513/600\n",
      "\u001b[1m5079/5079\u001b[0m \u001b[32m━━━━━━━━━━━━━━━━━━━━\u001b[0m\u001b[37m\u001b[0m \u001b[1m9s\u001b[0m 2ms/step - accuracy: 0.9999 - loss: 9.8821e-04 - val_accuracy: 0.9996 - val_loss: 0.0022\n",
      "Epoch 514/600\n",
      "\u001b[1m5079/5079\u001b[0m \u001b[32m━━━━━━━━━━━━━━━━━━━━\u001b[0m\u001b[37m\u001b[0m \u001b[1m8s\u001b[0m 2ms/step - accuracy: 0.9998 - loss: 0.0014 - val_accuracy: 0.9997 - val_loss: 0.0019\n",
      "Epoch 515/600\n",
      "\u001b[1m5079/5079\u001b[0m \u001b[32m━━━━━━━━━━━━━━━━━━━━\u001b[0m\u001b[37m\u001b[0m \u001b[1m8s\u001b[0m 2ms/step - accuracy: 0.9999 - loss: 9.7797e-04 - val_accuracy: 0.9997 - val_loss: 0.0022\n",
      "Epoch 516/600\n",
      "\u001b[1m5079/5079\u001b[0m \u001b[32m━━━━━━━━━━━━━━━━━━━━\u001b[0m\u001b[37m\u001b[0m \u001b[1m8s\u001b[0m 2ms/step - accuracy: 0.9998 - loss: 0.0012 - val_accuracy: 0.9997 - val_loss: 0.0020\n",
      "Epoch 517/600\n",
      "\u001b[1m5079/5079\u001b[0m \u001b[32m━━━━━━━━━━━━━━━━━━━━\u001b[0m\u001b[37m\u001b[0m \u001b[1m8s\u001b[0m 2ms/step - accuracy: 0.9999 - loss: 0.0011 - val_accuracy: 0.9996 - val_loss: 0.0053\n",
      "Epoch 518/600\n",
      "\u001b[1m5079/5079\u001b[0m \u001b[32m━━━━━━━━━━━━━━━━━━━━\u001b[0m\u001b[37m\u001b[0m \u001b[1m8s\u001b[0m 2ms/step - accuracy: 0.9998 - loss: 0.0023 - val_accuracy: 0.9996 - val_loss: 0.0057\n",
      "Epoch 519/600\n",
      "\u001b[1m5079/5079\u001b[0m \u001b[32m━━━━━━━━━━━━━━━━━━━━\u001b[0m\u001b[37m\u001b[0m \u001b[1m8s\u001b[0m 2ms/step - accuracy: 0.9998 - loss: 0.0014 - val_accuracy: 0.9997 - val_loss: 0.0020\n",
      "Epoch 520/600\n",
      "\u001b[1m5079/5079\u001b[0m \u001b[32m━━━━━━━━━━━━━━━━━━━━\u001b[0m\u001b[37m\u001b[0m \u001b[1m8s\u001b[0m 2ms/step - accuracy: 0.9998 - loss: 8.2493e-04 - val_accuracy: 0.9997 - val_loss: 0.0024\n",
      "Epoch 521/600\n",
      "\u001b[1m5079/5079\u001b[0m \u001b[32m━━━━━━━━━━━━━━━━━━━━\u001b[0m\u001b[37m\u001b[0m \u001b[1m9s\u001b[0m 2ms/step - accuracy: 0.9998 - loss: 0.0020 - val_accuracy: 0.9998 - val_loss: 0.0018\n",
      "Epoch 522/600\n",
      "\u001b[1m5079/5079\u001b[0m \u001b[32m━━━━━━━━━━━━━━━━━━━━\u001b[0m\u001b[37m\u001b[0m \u001b[1m9s\u001b[0m 2ms/step - accuracy: 0.9998 - loss: 7.3679e-04 - val_accuracy: 0.9997 - val_loss: 0.0018\n",
      "Epoch 523/600\n",
      "\u001b[1m5079/5079\u001b[0m \u001b[32m━━━━━━━━━━━━━━━━━━━━\u001b[0m\u001b[37m\u001b[0m \u001b[1m8s\u001b[0m 2ms/step - accuracy: 0.9998 - loss: 0.0013 - val_accuracy: 0.9997 - val_loss: 0.0024\n",
      "Epoch 524/600\n",
      "\u001b[1m5079/5079\u001b[0m \u001b[32m━━━━━━━━━━━━━━━━━━━━\u001b[0m\u001b[37m\u001b[0m \u001b[1m8s\u001b[0m 2ms/step - accuracy: 0.9999 - loss: 8.9779e-04 - val_accuracy: 0.9996 - val_loss: 0.0033\n",
      "Epoch 525/600\n",
      "\u001b[1m5079/5079\u001b[0m \u001b[32m━━━━━━━━━━━━━━━━━━━━\u001b[0m\u001b[37m\u001b[0m \u001b[1m8s\u001b[0m 2ms/step - accuracy: 0.9998 - loss: 0.0014 - val_accuracy: 0.9997 - val_loss: 0.0023\n",
      "Epoch 526/600\n",
      "\u001b[1m5079/5079\u001b[0m \u001b[32m━━━━━━━━━━━━━━━━━━━━\u001b[0m\u001b[37m\u001b[0m \u001b[1m8s\u001b[0m 2ms/step - accuracy: 0.9998 - loss: 0.0017 - val_accuracy: 0.9995 - val_loss: 0.0045\n",
      "Epoch 527/600\n",
      "\u001b[1m5079/5079\u001b[0m \u001b[32m━━━━━━━━━━━━━━━━━━━━\u001b[0m\u001b[37m\u001b[0m \u001b[1m8s\u001b[0m 2ms/step - accuracy: 0.9998 - loss: 0.0012 - val_accuracy: 0.9997 - val_loss: 0.0021\n",
      "Epoch 528/600\n",
      "\u001b[1m5079/5079\u001b[0m \u001b[32m━━━━━━━━━━━━━━━━━━━━\u001b[0m\u001b[37m\u001b[0m \u001b[1m8s\u001b[0m 2ms/step - accuracy: 0.9998 - loss: 0.0013 - val_accuracy: 0.9997 - val_loss: 0.0021\n",
      "Epoch 529/600\n",
      "\u001b[1m5079/5079\u001b[0m \u001b[32m━━━━━━━━━━━━━━━━━━━━\u001b[0m\u001b[37m\u001b[0m \u001b[1m8s\u001b[0m 2ms/step - accuracy: 0.9998 - loss: 8.3577e-04 - val_accuracy: 0.9997 - val_loss: 0.0021\n",
      "Epoch 530/600\n",
      "\u001b[1m5079/5079\u001b[0m \u001b[32m━━━━━━━━━━━━━━━━━━━━\u001b[0m\u001b[37m\u001b[0m \u001b[1m9s\u001b[0m 2ms/step - accuracy: 0.9998 - loss: 8.6473e-04 - val_accuracy: 0.9997 - val_loss: 0.0021\n",
      "Epoch 531/600\n",
      "\u001b[1m5079/5079\u001b[0m \u001b[32m━━━━━━━━━━━━━━━━━━━━\u001b[0m\u001b[37m\u001b[0m \u001b[1m8s\u001b[0m 2ms/step - accuracy: 0.9998 - loss: 0.0029 - val_accuracy: 0.9996 - val_loss: 0.0038\n",
      "Epoch 532/600\n",
      "\u001b[1m5079/5079\u001b[0m \u001b[32m━━━━━━━━━━━━━━━━━━━━\u001b[0m\u001b[37m\u001b[0m \u001b[1m8s\u001b[0m 2ms/step - accuracy: 0.9997 - loss: 0.0017 - val_accuracy: 0.9997 - val_loss: 0.0020\n",
      "Epoch 533/600\n",
      "\u001b[1m5079/5079\u001b[0m \u001b[32m━━━━━━━━━━━━━━━━━━━━\u001b[0m\u001b[37m\u001b[0m \u001b[1m8s\u001b[0m 2ms/step - accuracy: 0.9998 - loss: 0.0011 - val_accuracy: 0.9997 - val_loss: 0.0019\n",
      "Epoch 534/600\n",
      "\u001b[1m5079/5079\u001b[0m \u001b[32m━━━━━━━━━━━━━━━━━━━━\u001b[0m\u001b[37m\u001b[0m \u001b[1m8s\u001b[0m 2ms/step - accuracy: 0.9999 - loss: 0.0015 - val_accuracy: 0.9997 - val_loss: 0.0020\n",
      "Epoch 535/600\n",
      "\u001b[1m5079/5079\u001b[0m \u001b[32m━━━━━━━━━━━━━━━━━━━━\u001b[0m\u001b[37m\u001b[0m \u001b[1m8s\u001b[0m 2ms/step - accuracy: 0.9998 - loss: 0.0012 - val_accuracy: 0.9997 - val_loss: 0.0021\n",
      "Epoch 536/600\n",
      "\u001b[1m5079/5079\u001b[0m \u001b[32m━━━━━━━━━━━━━━━━━━━━\u001b[0m\u001b[37m\u001b[0m \u001b[1m8s\u001b[0m 2ms/step - accuracy: 0.9998 - loss: 0.0011 - val_accuracy: 0.9997 - val_loss: 0.0022\n",
      "Epoch 537/600\n",
      "\u001b[1m5079/5079\u001b[0m \u001b[32m━━━━━━━━━━━━━━━━━━━━\u001b[0m\u001b[37m\u001b[0m \u001b[1m9s\u001b[0m 2ms/step - accuracy: 0.9997 - loss: 0.0022 - val_accuracy: 0.9997 - val_loss: 0.0021\n",
      "Epoch 538/600\n",
      "\u001b[1m5079/5079\u001b[0m \u001b[32m━━━━━━━━━━━━━━━━━━━━\u001b[0m\u001b[37m\u001b[0m \u001b[1m9s\u001b[0m 2ms/step - accuracy: 0.9998 - loss: 0.0017 - val_accuracy: 0.9997 - val_loss: 0.0020\n",
      "Epoch 539/600\n",
      "\u001b[1m5079/5079\u001b[0m \u001b[32m━━━━━━━━━━━━━━━━━━━━\u001b[0m\u001b[37m\u001b[0m \u001b[1m8s\u001b[0m 2ms/step - accuracy: 0.9998 - loss: 0.0015 - val_accuracy: 0.9997 - val_loss: 0.0024\n",
      "Epoch 540/600\n",
      "\u001b[1m5079/5079\u001b[0m \u001b[32m━━━━━━━━━━━━━━━━━━━━\u001b[0m\u001b[37m\u001b[0m \u001b[1m8s\u001b[0m 2ms/step - accuracy: 0.9998 - loss: 0.0012 - val_accuracy: 0.9997 - val_loss: 0.0017\n",
      "Epoch 541/600\n",
      "\u001b[1m5079/5079\u001b[0m \u001b[32m━━━━━━━━━━━━━━━━━━━━\u001b[0m\u001b[37m\u001b[0m \u001b[1m8s\u001b[0m 2ms/step - accuracy: 0.9998 - loss: 8.5100e-04 - val_accuracy: 0.9997 - val_loss: 0.0021\n",
      "Epoch 542/600\n",
      "\u001b[1m5079/5079\u001b[0m \u001b[32m━━━━━━━━━━━━━━━━━━━━\u001b[0m\u001b[37m\u001b[0m \u001b[1m8s\u001b[0m 2ms/step - accuracy: 0.9998 - loss: 9.5922e-04 - val_accuracy: 0.9997 - val_loss: 0.0019\n",
      "Epoch 543/600\n",
      "\u001b[1m5079/5079\u001b[0m \u001b[32m━━━━━━━━━━━━━━━━━━━━\u001b[0m\u001b[37m\u001b[0m \u001b[1m8s\u001b[0m 2ms/step - accuracy: 0.9998 - loss: 0.0018 - val_accuracy: 0.9998 - val_loss: 0.0016\n",
      "Epoch 544/600\n",
      "\u001b[1m5079/5079\u001b[0m \u001b[32m━━━━━━━━━━━━━━━━━━━━\u001b[0m\u001b[37m\u001b[0m \u001b[1m8s\u001b[0m 2ms/step - accuracy: 0.9998 - loss: 0.0014 - val_accuracy: 0.9998 - val_loss: 0.0018\n",
      "Epoch 545/600\n",
      "\u001b[1m5079/5079\u001b[0m \u001b[32m━━━━━━━━━━━━━━━━━━━━\u001b[0m\u001b[37m\u001b[0m \u001b[1m8s\u001b[0m 2ms/step - accuracy: 0.9999 - loss: 8.0520e-04 - val_accuracy: 0.9997 - val_loss: 0.0018\n",
      "Epoch 546/600\n",
      "\u001b[1m5079/5079\u001b[0m \u001b[32m━━━━━━━━━━━━━━━━━━━━\u001b[0m\u001b[37m\u001b[0m \u001b[1m9s\u001b[0m 2ms/step - accuracy: 0.9998 - loss: 0.0010 - val_accuracy: 0.9997 - val_loss: 0.0021\n",
      "Epoch 547/600\n",
      "\u001b[1m5079/5079\u001b[0m \u001b[32m━━━━━━━━━━━━━━━━━━━━\u001b[0m\u001b[37m\u001b[0m \u001b[1m8s\u001b[0m 2ms/step - accuracy: 0.9998 - loss: 0.0014 - val_accuracy: 0.9997 - val_loss: 0.0032\n",
      "Epoch 548/600\n",
      "\u001b[1m5079/5079\u001b[0m \u001b[32m━━━━━━━━━━━━━━━━━━━━\u001b[0m\u001b[37m\u001b[0m \u001b[1m8s\u001b[0m 2ms/step - accuracy: 0.9999 - loss: 9.2215e-04 - val_accuracy: 0.9997 - val_loss: 0.0025\n",
      "Epoch 549/600\n",
      "\u001b[1m5079/5079\u001b[0m \u001b[32m━━━━━━━━━━━━━━━━━━━━\u001b[0m\u001b[37m\u001b[0m \u001b[1m8s\u001b[0m 2ms/step - accuracy: 0.9998 - loss: 0.0010 - val_accuracy: 0.9997 - val_loss: 0.0022\n",
      "Epoch 550/600\n",
      "\u001b[1m5079/5079\u001b[0m \u001b[32m━━━━━━━━━━━━━━━━━━━━\u001b[0m\u001b[37m\u001b[0m \u001b[1m8s\u001b[0m 2ms/step - accuracy: 0.9998 - loss: 0.0011 - val_accuracy: 0.9994 - val_loss: 0.0091\n",
      "Epoch 551/600\n",
      "\u001b[1m5079/5079\u001b[0m \u001b[32m━━━━━━━━━━━━━━━━━━━━\u001b[0m\u001b[37m\u001b[0m \u001b[1m8s\u001b[0m 2ms/step - accuracy: 0.9998 - loss: 0.0024 - val_accuracy: 0.9998 - val_loss: 0.0021\n",
      "Epoch 552/600\n",
      "\u001b[1m5079/5079\u001b[0m \u001b[32m━━━━━━━━━━━━━━━━━━━━\u001b[0m\u001b[37m\u001b[0m \u001b[1m9s\u001b[0m 2ms/step - accuracy: 0.9998 - loss: 0.0014 - val_accuracy: 0.9997 - val_loss: 0.0023\n",
      "Epoch 553/600\n",
      "\u001b[1m5079/5079\u001b[0m \u001b[32m━━━━━━━━━━━━━━━━━━━━\u001b[0m\u001b[37m\u001b[0m \u001b[1m8s\u001b[0m 2ms/step - accuracy: 0.9998 - loss: 0.0018 - val_accuracy: 0.9997 - val_loss: 0.0021\n",
      "Epoch 554/600\n",
      "\u001b[1m5079/5079\u001b[0m \u001b[32m━━━━━━━━━━━━━━━━━━━━\u001b[0m\u001b[37m\u001b[0m \u001b[1m9s\u001b[0m 2ms/step - accuracy: 0.9999 - loss: 0.0014 - val_accuracy: 0.9997 - val_loss: 0.0023\n",
      "Epoch 555/600\n",
      "\u001b[1m5079/5079\u001b[0m \u001b[32m━━━━━━━━━━━━━━━━━━━━\u001b[0m\u001b[37m\u001b[0m \u001b[1m8s\u001b[0m 2ms/step - accuracy: 0.9999 - loss: 0.0013 - val_accuracy: 0.9997 - val_loss: 0.0023\n",
      "Epoch 556/600\n",
      "\u001b[1m5079/5079\u001b[0m \u001b[32m━━━━━━━━━━━━━━━━━━━━\u001b[0m\u001b[37m\u001b[0m \u001b[1m8s\u001b[0m 2ms/step - accuracy: 0.9998 - loss: 0.0015 - val_accuracy: 0.9997 - val_loss: 0.0021\n",
      "Epoch 557/600\n",
      "\u001b[1m5079/5079\u001b[0m \u001b[32m━━━━━━━━━━━━━━━━━━━━\u001b[0m\u001b[37m\u001b[0m \u001b[1m10s\u001b[0m 2ms/step - accuracy: 0.9999 - loss: 8.6207e-04 - val_accuracy: 0.9997 - val_loss: 0.0021\n",
      "Epoch 558/600\n",
      "\u001b[1m5079/5079\u001b[0m \u001b[32m━━━━━━━━━━━━━━━━━━━━\u001b[0m\u001b[37m\u001b[0m \u001b[1m8s\u001b[0m 2ms/step - accuracy: 0.9998 - loss: 0.0012 - val_accuracy: 0.9997 - val_loss: 0.0023\n",
      "Epoch 559/600\n",
      "\u001b[1m5079/5079\u001b[0m \u001b[32m━━━━━━━━━━━━━━━━━━━━\u001b[0m\u001b[37m\u001b[0m \u001b[1m8s\u001b[0m 2ms/step - accuracy: 0.9998 - loss: 9.0071e-04 - val_accuracy: 0.9997 - val_loss: 0.0021\n",
      "Epoch 560/600\n",
      "\u001b[1m5079/5079\u001b[0m \u001b[32m━━━━━━━━━━━━━━━━━━━━\u001b[0m\u001b[37m\u001b[0m \u001b[1m8s\u001b[0m 2ms/step - accuracy: 0.9998 - loss: 0.0014 - val_accuracy: 0.9997 - val_loss: 0.0021\n",
      "Epoch 561/600\n",
      "\u001b[1m5079/5079\u001b[0m \u001b[32m━━━━━━━━━━━━━━━━━━━━\u001b[0m\u001b[37m\u001b[0m \u001b[1m8s\u001b[0m 2ms/step - accuracy: 0.9998 - loss: 0.0014 - val_accuracy: 0.9997 - val_loss: 0.0018\n",
      "Epoch 562/600\n",
      "\u001b[1m5079/5079\u001b[0m \u001b[32m━━━━━━━━━━━━━━━━━━━━\u001b[0m\u001b[37m\u001b[0m \u001b[1m9s\u001b[0m 2ms/step - accuracy: 0.9998 - loss: 0.0011 - val_accuracy: 0.9997 - val_loss: 0.0023\n",
      "Epoch 563/600\n",
      "\u001b[1m5079/5079\u001b[0m \u001b[32m━━━━━━━━━━━━━━━━━━━━\u001b[0m\u001b[37m\u001b[0m \u001b[1m8s\u001b[0m 2ms/step - accuracy: 0.9998 - loss: 0.0010 - val_accuracy: 0.9997 - val_loss: 0.0025\n",
      "Epoch 564/600\n",
      "\u001b[1m5079/5079\u001b[0m \u001b[32m━━━━━━━━━━━━━━━━━━━━\u001b[0m\u001b[37m\u001b[0m \u001b[1m8s\u001b[0m 2ms/step - accuracy: 0.9998 - loss: 0.0016 - val_accuracy: 0.9997 - val_loss: 0.0022\n",
      "Epoch 565/600\n",
      "\u001b[1m5079/5079\u001b[0m \u001b[32m━━━━━━━━━━━━━━━━━━━━\u001b[0m\u001b[37m\u001b[0m \u001b[1m8s\u001b[0m 2ms/step - accuracy: 0.9998 - loss: 9.4789e-04 - val_accuracy: 0.9997 - val_loss: 0.0025\n",
      "Epoch 566/600\n",
      "\u001b[1m5079/5079\u001b[0m \u001b[32m━━━━━━━━━━━━━━━━━━━━\u001b[0m\u001b[37m\u001b[0m \u001b[1m8s\u001b[0m 2ms/step - accuracy: 0.9998 - loss: 9.8526e-04 - val_accuracy: 0.9998 - val_loss: 0.0028\n",
      "Epoch 567/600\n",
      "\u001b[1m5079/5079\u001b[0m \u001b[32m━━━━━━━━━━━━━━━━━━━━\u001b[0m\u001b[37m\u001b[0m \u001b[1m8s\u001b[0m 2ms/step - accuracy: 0.9999 - loss: 0.0010 - val_accuracy: 0.9997 - val_loss: 0.0022\n",
      "Epoch 568/600\n",
      "\u001b[1m5079/5079\u001b[0m \u001b[32m━━━━━━━━━━━━━━━━━━━━\u001b[0m\u001b[37m\u001b[0m \u001b[1m8s\u001b[0m 2ms/step - accuracy: 0.9999 - loss: 7.3751e-04 - val_accuracy: 0.9996 - val_loss: 0.0037\n",
      "Epoch 569/600\n",
      "\u001b[1m5079/5079\u001b[0m \u001b[32m━━━━━━━━━━━━━━━━━━━━\u001b[0m\u001b[37m\u001b[0m \u001b[1m8s\u001b[0m 2ms/step - accuracy: 0.9998 - loss: 0.0017 - val_accuracy: 0.9997 - val_loss: 0.0021\n",
      "Epoch 570/600\n",
      "\u001b[1m5079/5079\u001b[0m \u001b[32m━━━━━━━━━━━━━━━━━━━━\u001b[0m\u001b[37m\u001b[0m \u001b[1m9s\u001b[0m 2ms/step - accuracy: 0.9998 - loss: 0.0020 - val_accuracy: 0.9997 - val_loss: 0.0022\n",
      "Epoch 571/600\n",
      "\u001b[1m5079/5079\u001b[0m \u001b[32m━━━━━━━━━━━━━━━━━━━━\u001b[0m\u001b[37m\u001b[0m \u001b[1m8s\u001b[0m 2ms/step - accuracy: 0.9998 - loss: 0.0011 - val_accuracy: 0.9997 - val_loss: 0.0037\n",
      "Epoch 572/600\n",
      "\u001b[1m5079/5079\u001b[0m \u001b[32m━━━━━━━━━━━━━━━━━━━━\u001b[0m\u001b[37m\u001b[0m \u001b[1m8s\u001b[0m 2ms/step - accuracy: 0.9998 - loss: 9.9746e-04 - val_accuracy: 0.9997 - val_loss: 0.0021\n",
      "Epoch 573/600\n",
      "\u001b[1m5079/5079\u001b[0m \u001b[32m━━━━━━━━━━━━━━━━━━━━\u001b[0m\u001b[37m\u001b[0m \u001b[1m8s\u001b[0m 2ms/step - accuracy: 0.9999 - loss: 6.3206e-04 - val_accuracy: 0.9997 - val_loss: 0.0023\n",
      "Epoch 574/600\n",
      "\u001b[1m5079/5079\u001b[0m \u001b[32m━━━━━━━━━━━━━━━━━━━━\u001b[0m\u001b[37m\u001b[0m \u001b[1m8s\u001b[0m 2ms/step - accuracy: 0.9999 - loss: 0.0010 - val_accuracy: 0.9997 - val_loss: 0.0023\n",
      "Epoch 575/600\n",
      "\u001b[1m5079/5079\u001b[0m \u001b[32m━━━━━━━━━━━━━━━━━━━━\u001b[0m\u001b[37m\u001b[0m \u001b[1m8s\u001b[0m 2ms/step - accuracy: 0.9998 - loss: 9.5553e-04 - val_accuracy: 0.9996 - val_loss: 0.0026\n",
      "Epoch 576/600\n",
      "\u001b[1m5079/5079\u001b[0m \u001b[32m━━━━━━━━━━━━━━━━━━━━\u001b[0m\u001b[37m\u001b[0m \u001b[1m8s\u001b[0m 2ms/step - accuracy: 0.9999 - loss: 8.0120e-04 - val_accuracy: 0.9997 - val_loss: 0.0024\n",
      "Epoch 577/600\n",
      "\u001b[1m5079/5079\u001b[0m \u001b[32m━━━━━━━━━━━━━━━━━━━━\u001b[0m\u001b[37m\u001b[0m \u001b[1m8s\u001b[0m 2ms/step - accuracy: 0.9999 - loss: 8.3639e-04 - val_accuracy: 0.9997 - val_loss: 0.0022\n",
      "Epoch 578/600\n",
      "\u001b[1m5079/5079\u001b[0m \u001b[32m━━━━━━━━━━━━━━━━━━━━\u001b[0m\u001b[37m\u001b[0m \u001b[1m8s\u001b[0m 2ms/step - accuracy: 0.9998 - loss: 0.0012 - val_accuracy: 0.9997 - val_loss: 0.0023\n",
      "Epoch 579/600\n",
      "\u001b[1m5079/5079\u001b[0m \u001b[32m━━━━━━━━━━━━━━━━━━━━\u001b[0m\u001b[37m\u001b[0m \u001b[1m9s\u001b[0m 2ms/step - accuracy: 0.9998 - loss: 0.0014 - val_accuracy: 0.9997 - val_loss: 0.0018\n",
      "Epoch 580/600\n",
      "\u001b[1m5079/5079\u001b[0m \u001b[32m━━━━━━━━━━━━━━━━━━━━\u001b[0m\u001b[37m\u001b[0m \u001b[1m8s\u001b[0m 2ms/step - accuracy: 0.9999 - loss: 0.0011 - val_accuracy: 0.9997 - val_loss: 0.0020\n",
      "Epoch 581/600\n",
      "\u001b[1m5079/5079\u001b[0m \u001b[32m━━━━━━━━━━━━━━━━━━━━\u001b[0m\u001b[37m\u001b[0m \u001b[1m8s\u001b[0m 2ms/step - accuracy: 0.9998 - loss: 0.0013 - val_accuracy: 0.9997 - val_loss: 0.0019\n",
      "Epoch 582/600\n",
      "\u001b[1m5079/5079\u001b[0m \u001b[32m━━━━━━━━━━━━━━━━━━━━\u001b[0m\u001b[37m\u001b[0m \u001b[1m8s\u001b[0m 2ms/step - accuracy: 0.9998 - loss: 0.0014 - val_accuracy: 0.9997 - val_loss: 0.0020\n",
      "Epoch 583/600\n",
      "\u001b[1m5079/5079\u001b[0m \u001b[32m━━━━━━━━━━━━━━━━━━━━\u001b[0m\u001b[37m\u001b[0m \u001b[1m8s\u001b[0m 2ms/step - accuracy: 0.9999 - loss: 0.0010 - val_accuracy: 0.9997 - val_loss: 0.0018\n",
      "Epoch 584/600\n",
      "\u001b[1m5079/5079\u001b[0m \u001b[32m━━━━━━━━━━━━━━━━━━━━\u001b[0m\u001b[37m\u001b[0m \u001b[1m8s\u001b[0m 2ms/step - accuracy: 0.9999 - loss: 7.6713e-04 - val_accuracy: 0.9995 - val_loss: 0.0087\n",
      "Epoch 585/600\n",
      "\u001b[1m5079/5079\u001b[0m \u001b[32m━━━━━━━━━━━━━━━━━━━━\u001b[0m\u001b[37m\u001b[0m \u001b[1m8s\u001b[0m 2ms/step - accuracy: 0.9998 - loss: 0.0041 - val_accuracy: 0.9997 - val_loss: 0.0031\n",
      "Epoch 586/600\n",
      "\u001b[1m5079/5079\u001b[0m \u001b[32m━━━━━━━━━━━━━━━━━━━━\u001b[0m\u001b[37m\u001b[0m \u001b[1m8s\u001b[0m 2ms/step - accuracy: 0.9998 - loss: 0.0013 - val_accuracy: 0.9997 - val_loss: 0.0024\n",
      "Epoch 587/600\n",
      "\u001b[1m5079/5079\u001b[0m \u001b[32m━━━━━━━━━━━━━━━━━━━━\u001b[0m\u001b[37m\u001b[0m \u001b[1m9s\u001b[0m 2ms/step - accuracy: 0.9998 - loss: 6.5614e-04 - val_accuracy: 0.9997 - val_loss: 0.0024\n",
      "Epoch 588/600\n",
      "\u001b[1m5079/5079\u001b[0m \u001b[32m━━━━━━━━━━━━━━━━━━━━\u001b[0m\u001b[37m\u001b[0m \u001b[1m8s\u001b[0m 2ms/step - accuracy: 0.9997 - loss: 0.0019 - val_accuracy: 0.9997 - val_loss: 0.0018\n",
      "Epoch 589/600\n",
      "\u001b[1m5079/5079\u001b[0m \u001b[32m━━━━━━━━━━━━━━━━━━━━\u001b[0m\u001b[37m\u001b[0m \u001b[1m8s\u001b[0m 2ms/step - accuracy: 0.9997 - loss: 0.0012 - val_accuracy: 0.9997 - val_loss: 0.0020\n",
      "Epoch 590/600\n",
      "\u001b[1m5079/5079\u001b[0m \u001b[32m━━━━━━━━━━━━━━━━━━━━\u001b[0m\u001b[37m\u001b[0m \u001b[1m8s\u001b[0m 2ms/step - accuracy: 0.9998 - loss: 9.5375e-04 - val_accuracy: 0.9997 - val_loss: 0.0020\n",
      "Epoch 591/600\n",
      "\u001b[1m5079/5079\u001b[0m \u001b[32m━━━━━━━━━━━━━━━━━━━━\u001b[0m\u001b[37m\u001b[0m \u001b[1m8s\u001b[0m 2ms/step - accuracy: 0.9997 - loss: 0.0018 - val_accuracy: 0.9997 - val_loss: 0.0022\n",
      "Epoch 592/600\n",
      "\u001b[1m5079/5079\u001b[0m \u001b[32m━━━━━━━━━━━━━━━━━━━━\u001b[0m\u001b[37m\u001b[0m \u001b[1m8s\u001b[0m 2ms/step - accuracy: 0.9999 - loss: 0.0010 - val_accuracy: 0.9996 - val_loss: 0.0052\n",
      "Epoch 593/600\n",
      "\u001b[1m5079/5079\u001b[0m \u001b[32m━━━━━━━━━━━━━━━━━━━━\u001b[0m\u001b[37m\u001b[0m \u001b[1m8s\u001b[0m 2ms/step - accuracy: 0.9998 - loss: 0.0013 - val_accuracy: 0.9996 - val_loss: 0.0027\n",
      "Epoch 594/600\n",
      "\u001b[1m5079/5079\u001b[0m \u001b[32m━━━━━━━━━━━━━━━━━━━━\u001b[0m\u001b[37m\u001b[0m \u001b[1m8s\u001b[0m 2ms/step - accuracy: 0.9998 - loss: 0.0017 - val_accuracy: 0.9997 - val_loss: 0.0022\n",
      "Epoch 595/600\n",
      "\u001b[1m5079/5079\u001b[0m \u001b[32m━━━━━━━━━━━━━━━━━━━━\u001b[0m\u001b[37m\u001b[0m \u001b[1m8s\u001b[0m 2ms/step - accuracy: 0.9999 - loss: 9.3776e-04 - val_accuracy: 0.9997 - val_loss: 0.0021\n",
      "Epoch 596/600\n",
      "\u001b[1m5079/5079\u001b[0m \u001b[32m━━━━━━━━━━━━━━━━━━━━\u001b[0m\u001b[37m\u001b[0m \u001b[1m8s\u001b[0m 2ms/step - accuracy: 0.9998 - loss: 0.0016 - val_accuracy: 0.9997 - val_loss: 0.0020\n",
      "Epoch 597/600\n",
      "\u001b[1m5079/5079\u001b[0m \u001b[32m━━━━━━━━━━━━━━━━━━━━\u001b[0m\u001b[37m\u001b[0m \u001b[1m8s\u001b[0m 2ms/step - accuracy: 0.9998 - loss: 0.0011 - val_accuracy: 0.9997 - val_loss: 0.0020\n",
      "Epoch 598/600\n",
      "\u001b[1m5079/5079\u001b[0m \u001b[32m━━━━━━━━━━━━━━━━━━━━\u001b[0m\u001b[37m\u001b[0m \u001b[1m8s\u001b[0m 2ms/step - accuracy: 0.9998 - loss: 0.0020 - val_accuracy: 0.9998 - val_loss: 0.0020\n",
      "Epoch 599/600\n",
      "\u001b[1m5079/5079\u001b[0m \u001b[32m━━━━━━━━━━━━━━━━━━━━\u001b[0m\u001b[37m\u001b[0m \u001b[1m8s\u001b[0m 2ms/step - accuracy: 0.9999 - loss: 8.1072e-04 - val_accuracy: 0.9998 - val_loss: 0.0015\n",
      "Epoch 600/600\n",
      "\u001b[1m5079/5079\u001b[0m \u001b[32m━━━━━━━━━━━━━━━━━━━━\u001b[0m\u001b[37m\u001b[0m \u001b[1m8s\u001b[0m 2ms/step - accuracy: 0.9999 - loss: 8.6661e-04 - val_accuracy: 0.9997 - val_loss: 0.0020\n",
      "\u001b[1m353/353\u001b[0m \u001b[32m━━━━━━━━━━━━━━━━━━━━\u001b[0m\u001b[37m\u001b[0m \u001b[1m1s\u001b[0m 1ms/step\n"
     ]
    }
   ],
   "source": [
    "import tensorflow as tf\n",
    "from tensorflow.keras.models import Sequential\n",
    "from tensorflow.keras.layers import Dense\n",
    "from tensorflow.keras.optimizers import Adam\n",
    "\n",
    "\n",
    "\n",
    "# Standardize the data\n",
    "scaler = StandardScaler()\n",
    "X_train_s = scaler.fit_transform(X_train)\n",
    "X_test_s = scaler.transform(X_test)\n",
    "\n",
    "# Define the model\n",
    "model = Sequential([\n",
    "    Dense(10, activation='relu', input_shape=(X_train_s.shape[1],)),\n",
    "    Dense(1, activation='sigmoid')  # Assuming binary classification\n",
    "])\n",
    "\n",
    "# Compile the model\n",
    "model.compile(optimizer=Adam(), loss='binary_crossentropy', metrics=['accuracy'])\n",
    "\n",
    "# Train the model\n",
    "model.fit(X_train_s, y_train, epochs=600, batch_size=32, validation_split=0.2, verbose=1)\n",
    "\n",
    "# Predict\n",
    "nn_pred = model.predict(X_test_s)\n",
    "nn_pred = (nn_pred > 0.5).astype(int)  # Convert probabilities to class labels"
   ]
  },
  {
   "cell_type": "code",
   "execution_count": 64,
   "id": "a7f3625b",
   "metadata": {
    "execution": {
     "iopub.execute_input": "2024-07-10T03:07:32.974389Z",
     "iopub.status.busy": "2024-07-10T03:07:32.973737Z",
     "iopub.status.idle": "2024-07-10T03:07:32.978998Z",
     "shell.execute_reply": "2024-07-10T03:07:32.978209Z"
    },
    "papermill": {
     "duration": 7.140866,
     "end_time": "2024-07-10T03:07:32.981311",
     "exception": false,
     "start_time": "2024-07-10T03:07:25.840445",
     "status": "completed"
    },
    "tags": []
   },
   "outputs": [
    {
     "name": "stdout",
     "output_type": "stream",
     "text": [
      "(225711, 77)\n",
      "(225711,)\n"
     ]
    }
   ],
   "source": [
    "print(X.shape)\n",
    "print(y.shape)"
   ]
  },
  {
   "cell_type": "markdown",
   "id": "c97f1bdf",
   "metadata": {
    "papermill": {
     "duration": 6.919005,
     "end_time": "2024-07-10T03:07:46.761792",
     "exception": false,
     "start_time": "2024-07-10T03:07:39.842787",
     "status": "completed"
    },
    "tags": []
   },
   "source": [
    "## RNN Model"
   ]
  },
  {
   "cell_type": "markdown",
   "id": "995a1cfb",
   "metadata": {
    "papermill": {
     "duration": 6.943472,
     "end_time": "2024-07-10T03:08:00.631795",
     "exception": false,
     "start_time": "2024-07-10T03:07:53.688323",
     "status": "completed"
    },
    "tags": []
   },
   "source": [
    "### Dividing data into window slices"
   ]
  },
  {
   "cell_type": "code",
   "execution_count": null,
   "id": "e5403d6a",
   "metadata": {
    "papermill": {
     "duration": 6.953287,
     "end_time": "2024-07-10T03:08:14.570616",
     "exception": false,
     "start_time": "2024-07-10T03:08:07.617329",
     "status": "completed"
    },
    "tags": []
   },
   "outputs": [],
   "source": []
  },
  {
   "cell_type": "markdown",
   "id": "d0aff2b5",
   "metadata": {
    "papermill": {
     "duration": 7.053171,
     "end_time": "2024-07-10T03:08:28.506596",
     "exception": false,
     "start_time": "2024-07-10T03:08:21.453425",
     "status": "completed"
    },
    "tags": []
   },
   "source": [
    "### Sliding Window Function"
   ]
  },
  {
   "cell_type": "code",
   "execution_count": 65,
   "id": "361bd535",
   "metadata": {
    "execution": {
     "iopub.execute_input": "2024-07-10T03:08:42.453508Z",
     "iopub.status.busy": "2024-07-10T03:08:42.452680Z",
     "iopub.status.idle": "2024-07-10T03:08:42.459097Z",
     "shell.execute_reply": "2024-07-10T03:08:42.458190Z"
    },
    "papermill": {
     "duration": 7.122565,
     "end_time": "2024-07-10T03:08:42.461063",
     "exception": false,
     "start_time": "2024-07-10T03:08:35.338498",
     "status": "completed"
    },
    "tags": []
   },
   "outputs": [],
   "source": [
    "def create_sliding_windows(data, window_size):\n",
    "    \"\"\"\n",
    "    Create sliding windows from data.\n",
    "    \n",
    "    Parameters:\n",
    "    data (numpy array): The transformed feature data.\n",
    "    window_size (int): The size of the sliding window.\n",
    "    \n",
    "    Returns:\n",
    "    numpy array: 3D array with shape (num_windows, window_size, num_features).\n",
    "    \"\"\"\n",
    "    num_packets, num_features = data.shape\n",
    "    num_windows = num_packets - window_size + 1\n",
    "    \n",
    "    windows = np.empty((num_windows, window_size, num_features))\n",
    "\n",
    "    for i in range(num_windows):\n",
    "        windows[i] = data[i:i + window_size]\n",
    "    \n",
    "    return windows"
   ]
  },
  {
   "cell_type": "code",
   "execution_count": 66,
   "id": "bc5cc64c",
   "metadata": {
    "execution": {
     "iopub.execute_input": "2024-07-10T03:08:56.192753Z",
     "iopub.status.busy": "2024-07-10T03:08:56.191868Z",
     "iopub.status.idle": "2024-07-10T03:08:57.463460Z",
     "shell.execute_reply": "2024-07-10T03:08:57.462703Z"
    },
    "papermill": {
     "duration": 8.196084,
     "end_time": "2024-07-10T03:08:57.465736",
     "exception": false,
     "start_time": "2024-07-10T03:08:49.269652",
     "status": "completed"
    },
    "tags": []
   },
   "outputs": [],
   "source": [
    "window_size = 100\n",
    "windows = create_sliding_windows(X_train_s, window_size)"
   ]
  },
  {
   "cell_type": "code",
   "execution_count": 67,
   "id": "40ad90aa",
   "metadata": {
    "execution": {
     "iopub.execute_input": "2024-07-10T03:09:11.323739Z",
     "iopub.status.busy": "2024-07-10T03:09:11.323345Z",
     "iopub.status.idle": "2024-07-10T03:09:11.327476Z",
     "shell.execute_reply": "2024-07-10T03:09:11.326632Z"
    },
    "papermill": {
     "duration": 6.915741,
     "end_time": "2024-07-10T03:09:11.329471",
     "exception": false,
     "start_time": "2024-07-10T03:09:04.413730",
     "status": "completed"
    },
    "tags": []
   },
   "outputs": [],
   "source": [
    "# np.save('windows_data.npy', windows)\n"
   ]
  },
  {
   "cell_type": "code",
   "execution_count": 68,
   "id": "df339e40",
   "metadata": {
    "execution": {
     "iopub.execute_input": "2024-07-10T03:09:25.165448Z",
     "iopub.status.busy": "2024-07-10T03:09:25.165066Z",
     "iopub.status.idle": "2024-07-10T03:09:25.169206Z",
     "shell.execute_reply": "2024-07-10T03:09:25.168379Z"
    },
    "papermill": {
     "duration": 6.902903,
     "end_time": "2024-07-10T03:09:25.171120",
     "exception": false,
     "start_time": "2024-07-10T03:09:18.268217",
     "status": "completed"
    },
    "tags": []
   },
   "outputs": [],
   "source": [
    "# windows = np.load('windows_data.npy')\n"
   ]
  },
  {
   "cell_type": "code",
   "execution_count": 69,
   "id": "8f1c819d",
   "metadata": {
    "execution": {
     "iopub.execute_input": "2024-07-10T03:09:39.040313Z",
     "iopub.status.busy": "2024-07-10T03:09:39.039323Z",
     "iopub.status.idle": "2024-07-10T03:09:39.045400Z",
     "shell.execute_reply": "2024-07-10T03:09:39.044483Z"
    },
    "papermill": {
     "duration": 6.899322,
     "end_time": "2024-07-10T03:09:39.047556",
     "exception": false,
     "start_time": "2024-07-10T03:09:32.148234",
     "status": "completed"
    },
    "tags": []
   },
   "outputs": [
    {
     "data": {
      "text/plain": [
       "(203040, 100, 29)"
      ]
     },
     "execution_count": 69,
     "metadata": {},
     "output_type": "execute_result"
    }
   ],
   "source": [
    "windows.shape"
   ]
  },
  {
   "cell_type": "code",
   "execution_count": 70,
   "id": "d3d51abf",
   "metadata": {
    "execution": {
     "iopub.execute_input": "2024-07-10T03:09:52.846824Z",
     "iopub.status.busy": "2024-07-10T03:09:52.846422Z",
     "iopub.status.idle": "2024-07-10T03:09:52.851240Z",
     "shell.execute_reply": "2024-07-10T03:09:52.850293Z"
    },
    "papermill": {
     "duration": 6.794397,
     "end_time": "2024-07-10T03:09:52.853222",
     "exception": false,
     "start_time": "2024-07-10T03:09:46.058825",
     "status": "completed"
    },
    "tags": []
   },
   "outputs": [],
   "source": [
    "window_size=100\n",
    "windows_y = y_train[window_size - 1:]"
   ]
  },
  {
   "cell_type": "code",
   "execution_count": 71,
   "id": "237301eb",
   "metadata": {
    "execution": {
     "iopub.execute_input": "2024-07-10T03:10:06.783146Z",
     "iopub.status.busy": "2024-07-10T03:10:06.782756Z",
     "iopub.status.idle": "2024-07-10T03:10:06.790649Z",
     "shell.execute_reply": "2024-07-10T03:10:06.789735Z"
    },
    "papermill": {
     "duration": 6.835993,
     "end_time": "2024-07-10T03:10:06.792953",
     "exception": false,
     "start_time": "2024-07-10T03:09:59.956960",
     "status": "completed"
    },
    "tags": []
   },
   "outputs": [
    {
     "data": {
      "text/plain": [
       "181292    1\n",
       "195093    0\n",
       "110551    1\n",
       "905       0\n",
       "219935    0\n",
       "         ..\n",
       "119895    0\n",
       "103710    0\n",
       "131949    1\n",
       "146884    0\n",
       "121974    1\n",
       "Name: Label, Length: 203040, dtype: int64"
      ]
     },
     "execution_count": 71,
     "metadata": {},
     "output_type": "execute_result"
    }
   ],
   "source": [
    "windows_y"
   ]
  },
  {
   "cell_type": "markdown",
   "id": "12bbd68a",
   "metadata": {
    "papermill": {
     "duration": 6.930595,
     "end_time": "2024-07-10T03:10:20.668732",
     "exception": false,
     "start_time": "2024-07-10T03:10:13.738137",
     "status": "completed"
    },
    "tags": []
   },
   "source": [
    "### Generator Function"
   ]
  },
  {
   "cell_type": "code",
   "execution_count": null,
   "id": "146d49e0",
   "metadata": {
    "papermill": {
     "duration": 6.965074,
     "end_time": "2024-07-10T03:10:34.540214",
     "exception": false,
     "start_time": "2024-07-10T03:10:27.575140",
     "status": "completed"
    },
    "tags": []
   },
   "outputs": [],
   "source": []
  },
  {
   "cell_type": "code",
   "execution_count": 72,
   "id": "2868447d",
   "metadata": {
    "execution": {
     "iopub.execute_input": "2024-07-10T03:10:48.441848Z",
     "iopub.status.busy": "2024-07-10T03:10:48.441462Z",
     "iopub.status.idle": "2024-07-10T03:10:48.445939Z",
     "shell.execute_reply": "2024-07-10T03:10:48.445037Z"
    },
    "papermill": {
     "duration": 6.916355,
     "end_time": "2024-07-10T03:10:48.447795",
     "exception": false,
     "start_time": "2024-07-10T03:10:41.531440",
     "status": "completed"
    },
    "tags": []
   },
   "outputs": [],
   "source": [
    "# num_samples = X_train_s.shape[0]\n",
    "\n",
    "# split_index = int(0.9 * (num_samples - window_size + 1))\n",
    "\n",
    "# # Split the data into training and validation sets\n",
    "# X_train_s = X_train_s[:split_index + window_size - 1]\n",
    "# y_train = y_train[:split_index + window_size - 1]\n",
    "# X_val = X_train_s[split_index + window_size - 1:]\n",
    "# y_val = y_train[split_index + window_size - 1:]\n"
   ]
  },
  {
   "cell_type": "code",
   "execution_count": 73,
   "id": "361214dd",
   "metadata": {
    "execution": {
     "iopub.execute_input": "2024-07-10T03:11:02.146449Z",
     "iopub.status.busy": "2024-07-10T03:11:02.146075Z",
     "iopub.status.idle": "2024-07-10T03:11:02.150115Z",
     "shell.execute_reply": "2024-07-10T03:11:02.149297Z"
    },
    "papermill": {
     "duration": 6.781531,
     "end_time": "2024-07-10T03:11:02.152028",
     "exception": false,
     "start_time": "2024-07-10T03:10:55.370497",
     "status": "completed"
    },
    "tags": []
   },
   "outputs": [],
   "source": [
    "# print(X_train_s.shape)\n",
    "# print(X_val_s.shape)"
   ]
  },
  {
   "cell_type": "code",
   "execution_count": 74,
   "id": "83aaa280",
   "metadata": {
    "execution": {
     "iopub.execute_input": "2024-07-10T03:11:16.002002Z",
     "iopub.status.busy": "2024-07-10T03:11:16.001651Z",
     "iopub.status.idle": "2024-07-10T03:11:16.013228Z",
     "shell.execute_reply": "2024-07-10T03:11:16.012314Z"
    },
    "papermill": {
     "duration": 6.836268,
     "end_time": "2024-07-10T03:11:16.015210",
     "exception": false,
     "start_time": "2024-07-10T03:11:09.178942",
     "status": "completed"
    },
    "tags": []
   },
   "outputs": [],
   "source": [
    "from tensorflow.keras.utils import Sequence\n",
    "\n",
    "class DataGenerator(Sequence):\n",
    "    def __init__(self, data, labels, window_size, batch_size):\n",
    "        super().__init__()\n",
    "        self.data = data\n",
    "        self.labels = labels \n",
    "        self.window_size = window_size \n",
    "        self.batch_size = batch_size\n",
    "        self.num_packets = data.shape[0]\n",
    "        self.num_windows = self.num_packets - window_size + 1\n",
    "    \n",
    "#         print('window_size: ' , self.window_size)\n",
    "#         print('batch_size: ', self.batch_size)\n",
    "#         print('num_packets: ', self.num_packets)\n",
    "#         print('num_windows: ', self.num_windows)\n",
    "        \n",
    "    def __len__(self):\n",
    "        return int(np.ceil(self.num_windows / self.batch_size))\n",
    "\n",
    "    def __getitem__(self, index):\n",
    "        \n",
    "       \n",
    "        \n",
    "        start_idx = index * self.batch_size\n",
    "        end_idx = min((index + 1) * self.batch_size, self.num_windows)\n",
    "#         print('start_index: ', start_idx)\n",
    "#         print('end_index: ', end_idx)\n",
    "        batch_windows = np.empty((end_idx - start_idx, self.window_size, self.data.shape[1]))\n",
    "        \n",
    "        for i in range(start_idx, end_idx):\n",
    "            batch_windows[i - start_idx] = self.data[i:i + self.window_size]\n",
    "        \n",
    "        s = self.window_size - 1 + start_idx\n",
    "        batch_labels = self.labels[s:s+(end_idx - start_idx)]\n",
    "        \n",
    "        return batch_windows, batch_labels"
   ]
  },
  {
   "cell_type": "code",
   "execution_count": 75,
   "id": "a8158b80",
   "metadata": {
    "execution": {
     "iopub.execute_input": "2024-07-10T03:11:29.897361Z",
     "iopub.status.busy": "2024-07-10T03:11:29.896518Z",
     "iopub.status.idle": "2024-07-10T03:11:29.901567Z",
     "shell.execute_reply": "2024-07-10T03:11:29.900752Z"
    },
    "papermill": {
     "duration": 6.828384,
     "end_time": "2024-07-10T03:11:29.903352",
     "exception": false,
     "start_time": "2024-07-10T03:11:23.074968",
     "status": "completed"
    },
    "tags": []
   },
   "outputs": [],
   "source": [
    "# Parameters\n",
    "batch_size = 64\n",
    "window_size = 100\n",
    "\n",
    "# Initialize data generator without PCA\n",
    "# train_generator = DataGenerator(X_train_s, y_train, window_size, batch_size)\n",
    "# val_generator = DataGenerator(X_val_s, y_val, window_size, batch_size)\n",
    "\n",
    "\n",
    "# Initialize data generator with PCA\n",
    "train_generator = DataGenerator(X_train, y_train, window_size, batch_size)\n",
    "val_generator = DataGenerator(X_val, y_val, window_size, batch_size)"
   ]
  },
  {
   "cell_type": "code",
   "execution_count": 76,
   "id": "221741be",
   "metadata": {
    "collapsed": true,
    "execution": {
     "iopub.execute_input": "2024-07-10T03:11:43.818574Z",
     "iopub.status.busy": "2024-07-10T03:11:43.817714Z",
     "iopub.status.idle": "2024-07-10T03:11:43.860662Z",
     "shell.execute_reply": "2024-07-10T03:11:43.859779Z"
    },
    "jupyter": {
     "outputs_hidden": true
    },
    "papermill": {
     "duration": 7.068958,
     "end_time": "2024-07-10T03:11:43.866023",
     "exception": false,
     "start_time": "2024-07-10T03:11:36.797065",
     "status": "completed"
    },
    "tags": []
   },
   "outputs": [
    {
     "name": "stdout",
     "output_type": "stream",
     "text": [
      "Batch 0:\n",
      "  Batch X shape: (64, 100, 29)\n",
      "  Batch Y shape: (64,)\n",
      "\n",
      "Batch 1:\n",
      "  Batch X shape: (64, 100, 29)\n",
      "  Batch Y shape: (64,)\n",
      "\n",
      "Batch 2:\n",
      "  Batch X shape: (64, 100, 29)\n",
      "  Batch Y shape: (64,)\n",
      "\n",
      "Batch 3:\n",
      "  Batch X shape: (64, 100, 29)\n",
      "  Batch Y shape: (64,)\n",
      "\n",
      "Batch 4:\n",
      "  Batch X shape: (64, 100, 29)\n",
      "  Batch Y shape: (64,)\n",
      "\n",
      "Batch 5:\n",
      "  Batch X shape: (64, 100, 29)\n",
      "  Batch Y shape: (64,)\n",
      "\n",
      "Batch 6:\n",
      "  Batch X shape: (64, 100, 29)\n",
      "  Batch Y shape: (64,)\n",
      "\n",
      "Batch 7:\n",
      "  Batch X shape: (64, 100, 29)\n",
      "  Batch Y shape: (64,)\n",
      "\n",
      "Batch 8:\n",
      "  Batch X shape: (64, 100, 29)\n",
      "  Batch Y shape: (64,)\n",
      "\n",
      "Batch 9:\n",
      "  Batch X shape: (64, 100, 29)\n",
      "  Batch Y shape: (64,)\n",
      "\n",
      "Batch 10:\n",
      "  Batch X shape: (64, 100, 29)\n",
      "  Batch Y shape: (64,)\n",
      "\n",
      "Batch 11:\n",
      "  Batch X shape: (64, 100, 29)\n",
      "  Batch Y shape: (64,)\n",
      "\n",
      "Batch 12:\n",
      "  Batch X shape: (64, 100, 29)\n",
      "  Batch Y shape: (64,)\n",
      "\n",
      "Batch 13:\n",
      "  Batch X shape: (64, 100, 29)\n",
      "  Batch Y shape: (64,)\n",
      "\n",
      "Batch 14:\n",
      "  Batch X shape: (64, 100, 29)\n",
      "  Batch Y shape: (64,)\n",
      "\n",
      "Batch 15:\n",
      "  Batch X shape: (64, 100, 29)\n",
      "  Batch Y shape: (64,)\n",
      "\n",
      "Batch 16:\n",
      "  Batch X shape: (64, 100, 29)\n",
      "  Batch Y shape: (64,)\n",
      "\n",
      "Batch 17:\n",
      "  Batch X shape: (64, 100, 29)\n",
      "  Batch Y shape: (64,)\n",
      "\n",
      "Batch 18:\n",
      "  Batch X shape: (64, 100, 29)\n",
      "  Batch Y shape: (64,)\n",
      "\n",
      "Batch 19:\n",
      "  Batch X shape: (64, 100, 29)\n",
      "  Batch Y shape: (64,)\n",
      "\n",
      "Batch 20:\n",
      "  Batch X shape: (64, 100, 29)\n",
      "  Batch Y shape: (64,)\n",
      "\n",
      "Batch 21:\n",
      "  Batch X shape: (64, 100, 29)\n",
      "  Batch Y shape: (64,)\n",
      "\n",
      "Batch 22:\n",
      "  Batch X shape: (64, 100, 29)\n",
      "  Batch Y shape: (64,)\n",
      "\n",
      "Batch 23:\n",
      "  Batch X shape: (64, 100, 29)\n",
      "  Batch Y shape: (64,)\n",
      "\n",
      "Batch 24:\n",
      "  Batch X shape: (64, 100, 29)\n",
      "  Batch Y shape: (64,)\n",
      "\n",
      "Batch 25:\n",
      "  Batch X shape: (64, 100, 29)\n",
      "  Batch Y shape: (64,)\n",
      "\n",
      "Batch 26:\n",
      "  Batch X shape: (64, 100, 29)\n",
      "  Batch Y shape: (64,)\n",
      "\n",
      "Batch 27:\n",
      "  Batch X shape: (64, 100, 29)\n",
      "  Batch Y shape: (64,)\n",
      "\n",
      "Batch 28:\n",
      "  Batch X shape: (64, 100, 29)\n",
      "  Batch Y shape: (64,)\n",
      "\n",
      "Batch 29:\n",
      "  Batch X shape: (64, 100, 29)\n",
      "  Batch Y shape: (64,)\n",
      "\n",
      "Batch 30:\n",
      "  Batch X shape: (64, 100, 29)\n",
      "  Batch Y shape: (64,)\n",
      "\n",
      "Batch 31:\n",
      "  Batch X shape: (64, 100, 29)\n",
      "  Batch Y shape: (64,)\n",
      "\n",
      "Batch 32:\n",
      "  Batch X shape: (64, 100, 29)\n",
      "  Batch Y shape: (64,)\n",
      "\n",
      "Batch 33:\n",
      "  Batch X shape: (64, 100, 29)\n",
      "  Batch Y shape: (64,)\n",
      "\n",
      "Batch 34:\n",
      "  Batch X shape: (64, 100, 29)\n",
      "  Batch Y shape: (64,)\n",
      "\n",
      "Batch 35:\n",
      "  Batch X shape: (64, 100, 29)\n",
      "  Batch Y shape: (64,)\n",
      "\n",
      "Batch 36:\n",
      "  Batch X shape: (64, 100, 29)\n",
      "  Batch Y shape: (64,)\n",
      "\n",
      "Batch 37:\n",
      "  Batch X shape: (64, 100, 29)\n",
      "  Batch Y shape: (64,)\n",
      "\n",
      "Batch 38:\n",
      "  Batch X shape: (64, 100, 29)\n",
      "  Batch Y shape: (64,)\n",
      "\n",
      "Batch 39:\n",
      "  Batch X shape: (64, 100, 29)\n",
      "  Batch Y shape: (64,)\n",
      "\n",
      "Batch 40:\n",
      "  Batch X shape: (64, 100, 29)\n",
      "  Batch Y shape: (64,)\n",
      "\n",
      "Batch 41:\n",
      "  Batch X shape: (64, 100, 29)\n",
      "  Batch Y shape: (64,)\n",
      "\n",
      "Batch 42:\n",
      "  Batch X shape: (64, 100, 29)\n",
      "  Batch Y shape: (64,)\n",
      "\n",
      "Batch 43:\n",
      "  Batch X shape: (64, 100, 29)\n",
      "  Batch Y shape: (64,)\n",
      "\n",
      "Batch 44:\n",
      "  Batch X shape: (64, 100, 29)\n",
      "  Batch Y shape: (64,)\n",
      "\n",
      "Batch 45:\n",
      "  Batch X shape: (64, 100, 29)\n",
      "  Batch Y shape: (64,)\n",
      "\n",
      "Batch 46:\n",
      "  Batch X shape: (64, 100, 29)\n",
      "  Batch Y shape: (64,)\n",
      "\n",
      "Batch 47:\n",
      "  Batch X shape: (64, 100, 29)\n",
      "  Batch Y shape: (64,)\n",
      "\n",
      "Batch 48:\n",
      "  Batch X shape: (64, 100, 29)\n",
      "  Batch Y shape: (64,)\n",
      "\n",
      "Batch 49:\n",
      "  Batch X shape: (64, 100, 29)\n",
      "  Batch Y shape: (64,)\n",
      "\n",
      "Batch 50:\n",
      "  Batch X shape: (64, 100, 29)\n",
      "  Batch Y shape: (64,)\n",
      "\n",
      "Batch 51:\n",
      "  Batch X shape: (64, 100, 29)\n",
      "  Batch Y shape: (64,)\n",
      "\n",
      "Batch 52:\n",
      "  Batch X shape: (64, 100, 29)\n",
      "  Batch Y shape: (64,)\n",
      "\n",
      "Batch 53:\n",
      "  Batch X shape: (64, 100, 29)\n",
      "  Batch Y shape: (64,)\n",
      "\n",
      "Batch 54:\n",
      "  Batch X shape: (64, 100, 29)\n",
      "  Batch Y shape: (64,)\n",
      "\n",
      "Batch 55:\n",
      "  Batch X shape: (64, 100, 29)\n",
      "  Batch Y shape: (64,)\n",
      "\n",
      "Batch 56:\n",
      "  Batch X shape: (64, 100, 29)\n",
      "  Batch Y shape: (64,)\n",
      "\n",
      "Batch 57:\n",
      "  Batch X shape: (64, 100, 29)\n",
      "  Batch Y shape: (64,)\n",
      "\n",
      "Batch 58:\n",
      "  Batch X shape: (64, 100, 29)\n",
      "  Batch Y shape: (64,)\n",
      "\n",
      "Batch 59:\n",
      "  Batch X shape: (64, 100, 29)\n",
      "  Batch Y shape: (64,)\n",
      "\n",
      "Batch 60:\n",
      "  Batch X shape: (64, 100, 29)\n",
      "  Batch Y shape: (64,)\n",
      "\n",
      "Batch 61:\n",
      "  Batch X shape: (64, 100, 29)\n",
      "  Batch Y shape: (64,)\n",
      "\n",
      "Batch 62:\n",
      "  Batch X shape: (64, 100, 29)\n",
      "  Batch Y shape: (64,)\n",
      "\n",
      "Batch 63:\n",
      "  Batch X shape: (64, 100, 29)\n",
      "  Batch Y shape: (64,)\n",
      "\n",
      "Batch 64:\n",
      "  Batch X shape: (64, 100, 29)\n",
      "  Batch Y shape: (64,)\n",
      "\n",
      "Batch 65:\n",
      "  Batch X shape: (64, 100, 29)\n",
      "  Batch Y shape: (64,)\n",
      "\n",
      "Batch 66:\n",
      "  Batch X shape: (64, 100, 29)\n",
      "  Batch Y shape: (64,)\n",
      "\n",
      "Batch 67:\n",
      "  Batch X shape: (64, 100, 29)\n",
      "  Batch Y shape: (64,)\n",
      "\n",
      "Batch 68:\n",
      "  Batch X shape: (64, 100, 29)\n",
      "  Batch Y shape: (64,)\n",
      "\n",
      "Batch 69:\n",
      "  Batch X shape: (64, 100, 29)\n",
      "  Batch Y shape: (64,)\n",
      "\n",
      "Batch 70:\n",
      "  Batch X shape: (64, 100, 29)\n",
      "  Batch Y shape: (64,)\n",
      "\n",
      "Batch 71:\n",
      "  Batch X shape: (64, 100, 29)\n",
      "  Batch Y shape: (64,)\n",
      "\n",
      "Batch 72:\n",
      "  Batch X shape: (64, 100, 29)\n",
      "  Batch Y shape: (64,)\n",
      "\n",
      "Batch 73:\n",
      "  Batch X shape: (64, 100, 29)\n",
      "  Batch Y shape: (64,)\n",
      "\n",
      "Batch 74:\n",
      "  Batch X shape: (64, 100, 29)\n",
      "  Batch Y shape: (64,)\n",
      "\n",
      "Batch 75:\n",
      "  Batch X shape: (64, 100, 29)\n",
      "  Batch Y shape: (64,)\n",
      "\n",
      "Batch 76:\n",
      "  Batch X shape: (64, 100, 29)\n",
      "  Batch Y shape: (64,)\n",
      "\n",
      "Batch 77:\n",
      "  Batch X shape: (64, 100, 29)\n",
      "  Batch Y shape: (64,)\n",
      "\n",
      "Batch 78:\n",
      "  Batch X shape: (64, 100, 29)\n",
      "  Batch Y shape: (64,)\n",
      "\n",
      "Batch 79:\n",
      "  Batch X shape: (64, 100, 29)\n",
      "  Batch Y shape: (64,)\n",
      "\n",
      "Batch 80:\n",
      "  Batch X shape: (64, 100, 29)\n",
      "  Batch Y shape: (64,)\n",
      "\n",
      "Batch 81:\n",
      "  Batch X shape: (64, 100, 29)\n",
      "  Batch Y shape: (64,)\n",
      "\n",
      "Batch 82:\n",
      "  Batch X shape: (64, 100, 29)\n",
      "  Batch Y shape: (64,)\n",
      "\n",
      "Batch 83:\n",
      "  Batch X shape: (64, 100, 29)\n",
      "  Batch Y shape: (64,)\n",
      "\n",
      "Batch 84:\n",
      "  Batch X shape: (64, 100, 29)\n",
      "  Batch Y shape: (64,)\n",
      "\n",
      "Batch 85:\n",
      "  Batch X shape: (64, 100, 29)\n",
      "  Batch Y shape: (64,)\n",
      "\n",
      "Batch 86:\n",
      "  Batch X shape: (64, 100, 29)\n",
      "  Batch Y shape: (64,)\n",
      "\n",
      "Batch 87:\n",
      "  Batch X shape: (64, 100, 29)\n",
      "  Batch Y shape: (64,)\n",
      "\n",
      "Batch 88:\n",
      "  Batch X shape: (64, 100, 29)\n",
      "  Batch Y shape: (64,)\n",
      "\n",
      "Batch 89:\n",
      "  Batch X shape: (64, 100, 29)\n",
      "  Batch Y shape: (64,)\n",
      "\n",
      "Batch 90:\n",
      "  Batch X shape: (64, 100, 29)\n",
      "  Batch Y shape: (64,)\n",
      "\n",
      "Batch 91:\n",
      "  Batch X shape: (64, 100, 29)\n",
      "  Batch Y shape: (64,)\n",
      "\n",
      "Batch 92:\n",
      "  Batch X shape: (64, 100, 29)\n",
      "  Batch Y shape: (64,)\n",
      "\n",
      "Batch 93:\n",
      "  Batch X shape: (64, 100, 29)\n",
      "  Batch Y shape: (64,)\n",
      "\n",
      "Batch 94:\n",
      "  Batch X shape: (64, 100, 29)\n",
      "  Batch Y shape: (64,)\n",
      "\n",
      "Batch 95:\n",
      "  Batch X shape: (64, 100, 29)\n",
      "  Batch Y shape: (64,)\n",
      "\n",
      "Batch 96:\n",
      "  Batch X shape: (64, 100, 29)\n",
      "  Batch Y shape: (64,)\n",
      "\n",
      "Batch 97:\n",
      "  Batch X shape: (64, 100, 29)\n",
      "  Batch Y shape: (64,)\n",
      "\n",
      "Batch 98:\n",
      "  Batch X shape: (64, 100, 29)\n",
      "  Batch Y shape: (64,)\n",
      "\n",
      "Batch 99:\n",
      "  Batch X shape: (64, 100, 29)\n",
      "  Batch Y shape: (64,)\n",
      "\n",
      "Batch 100:\n",
      "  Batch X shape: (64, 100, 29)\n",
      "  Batch Y shape: (64,)\n",
      "\n",
      "Batch 101:\n",
      "  Batch X shape: (64, 100, 29)\n",
      "  Batch Y shape: (64,)\n",
      "\n",
      "Batch 102:\n",
      "  Batch X shape: (64, 100, 29)\n",
      "  Batch Y shape: (64,)\n",
      "\n",
      "Batch 103:\n",
      "  Batch X shape: (64, 100, 29)\n",
      "  Batch Y shape: (64,)\n",
      "\n",
      "Batch 104:\n",
      "  Batch X shape: (64, 100, 29)\n",
      "  Batch Y shape: (64,)\n",
      "\n",
      "Batch 105:\n",
      "  Batch X shape: (64, 100, 29)\n",
      "  Batch Y shape: (64,)\n",
      "\n",
      "Batch 106:\n",
      "  Batch X shape: (64, 100, 29)\n",
      "  Batch Y shape: (64,)\n",
      "\n",
      "Batch 107:\n",
      "  Batch X shape: (64, 100, 29)\n",
      "  Batch Y shape: (64,)\n",
      "\n",
      "Batch 108:\n",
      "  Batch X shape: (64, 100, 29)\n",
      "  Batch Y shape: (64,)\n",
      "\n",
      "Batch 109:\n",
      "  Batch X shape: (64, 100, 29)\n",
      "  Batch Y shape: (64,)\n",
      "\n",
      "Batch 110:\n",
      "  Batch X shape: (64, 100, 29)\n",
      "  Batch Y shape: (64,)\n",
      "\n",
      "Batch 111:\n",
      "  Batch X shape: (64, 100, 29)\n",
      "  Batch Y shape: (64,)\n",
      "\n",
      "Batch 112:\n",
      "  Batch X shape: (64, 100, 29)\n",
      "  Batch Y shape: (64,)\n",
      "\n",
      "Batch 113:\n",
      "  Batch X shape: (64, 100, 29)\n",
      "  Batch Y shape: (64,)\n",
      "\n",
      "Batch 114:\n",
      "  Batch X shape: (64, 100, 29)\n",
      "  Batch Y shape: (64,)\n",
      "\n",
      "Batch 115:\n",
      "  Batch X shape: (64, 100, 29)\n",
      "  Batch Y shape: (64,)\n",
      "\n",
      "Batch 116:\n",
      "  Batch X shape: (64, 100, 29)\n",
      "  Batch Y shape: (64,)\n",
      "\n",
      "Batch 117:\n",
      "  Batch X shape: (64, 100, 29)\n",
      "  Batch Y shape: (64,)\n",
      "\n",
      "Batch 118:\n",
      "  Batch X shape: (64, 100, 29)\n",
      "  Batch Y shape: (64,)\n",
      "\n",
      "Batch 119:\n",
      "  Batch X shape: (64, 100, 29)\n",
      "  Batch Y shape: (64,)\n",
      "\n",
      "Batch 120:\n",
      "  Batch X shape: (64, 100, 29)\n",
      "  Batch Y shape: (64,)\n",
      "\n",
      "Batch 121:\n",
      "  Batch X shape: (64, 100, 29)\n",
      "  Batch Y shape: (64,)\n",
      "\n",
      "Batch 122:\n",
      "  Batch X shape: (64, 100, 29)\n",
      "  Batch Y shape: (64,)\n",
      "\n",
      "Batch 123:\n",
      "  Batch X shape: (64, 100, 29)\n",
      "  Batch Y shape: (64,)\n",
      "\n",
      "Batch 124:\n",
      "  Batch X shape: (64, 100, 29)\n",
      "  Batch Y shape: (64,)\n",
      "\n",
      "Batch 125:\n",
      "  Batch X shape: (64, 100, 29)\n",
      "  Batch Y shape: (64,)\n",
      "\n",
      "Batch 126:\n",
      "  Batch X shape: (64, 100, 29)\n",
      "  Batch Y shape: (64,)\n",
      "\n",
      "Batch 127:\n",
      "  Batch X shape: (64, 100, 29)\n",
      "  Batch Y shape: (64,)\n",
      "\n",
      "Batch 128:\n",
      "  Batch X shape: (64, 100, 29)\n",
      "  Batch Y shape: (64,)\n",
      "\n",
      "Batch 129:\n",
      "  Batch X shape: (64, 100, 29)\n",
      "  Batch Y shape: (64,)\n",
      "\n",
      "Batch 130:\n",
      "  Batch X shape: (64, 100, 29)\n",
      "  Batch Y shape: (64,)\n",
      "\n",
      "Batch 131:\n",
      "  Batch X shape: (64, 100, 29)\n",
      "  Batch Y shape: (64,)\n",
      "\n",
      "Batch 132:\n",
      "  Batch X shape: (64, 100, 29)\n",
      "  Batch Y shape: (64,)\n",
      "\n",
      "Batch 133:\n",
      "  Batch X shape: (64, 100, 29)\n",
      "  Batch Y shape: (64,)\n",
      "\n",
      "Batch 134:\n",
      "  Batch X shape: (64, 100, 29)\n",
      "  Batch Y shape: (64,)\n",
      "\n",
      "Batch 135:\n",
      "  Batch X shape: (64, 100, 29)\n",
      "  Batch Y shape: (64,)\n",
      "\n",
      "Batch 136:\n",
      "  Batch X shape: (64, 100, 29)\n",
      "  Batch Y shape: (64,)\n",
      "\n",
      "Batch 137:\n",
      "  Batch X shape: (64, 100, 29)\n",
      "  Batch Y shape: (64,)\n",
      "\n",
      "Batch 138:\n",
      "  Batch X shape: (64, 100, 29)\n",
      "  Batch Y shape: (64,)\n",
      "\n",
      "Batch 139:\n",
      "  Batch X shape: (64, 100, 29)\n",
      "  Batch Y shape: (64,)\n",
      "\n",
      "Batch 140:\n",
      "  Batch X shape: (64, 100, 29)\n",
      "  Batch Y shape: (64,)\n",
      "\n",
      "Batch 141:\n",
      "  Batch X shape: (64, 100, 29)\n",
      "  Batch Y shape: (64,)\n",
      "\n",
      "Batch 142:\n",
      "  Batch X shape: (64, 100, 29)\n",
      "  Batch Y shape: (64,)\n",
      "\n",
      "Batch 143:\n",
      "  Batch X shape: (64, 100, 29)\n",
      "  Batch Y shape: (64,)\n",
      "\n",
      "Batch 144:\n",
      "  Batch X shape: (64, 100, 29)\n",
      "  Batch Y shape: (64,)\n",
      "\n",
      "Batch 145:\n",
      "  Batch X shape: (64, 100, 29)\n",
      "  Batch Y shape: (64,)\n",
      "\n",
      "Batch 146:\n",
      "  Batch X shape: (64, 100, 29)\n",
      "  Batch Y shape: (64,)\n",
      "\n",
      "Batch 147:\n",
      "  Batch X shape: (64, 100, 29)\n",
      "  Batch Y shape: (64,)\n",
      "\n",
      "Batch 148:\n",
      "  Batch X shape: (64, 100, 29)\n",
      "  Batch Y shape: (64,)\n",
      "\n",
      "Batch 149:\n",
      "  Batch X shape: (64, 100, 29)\n",
      "  Batch Y shape: (64,)\n",
      "\n",
      "Batch 150:\n",
      "  Batch X shape: (64, 100, 29)\n",
      "  Batch Y shape: (64,)\n",
      "\n",
      "Batch 151:\n",
      "  Batch X shape: (64, 100, 29)\n",
      "  Batch Y shape: (64,)\n",
      "\n",
      "Batch 152:\n",
      "  Batch X shape: (64, 100, 29)\n",
      "  Batch Y shape: (64,)\n",
      "\n",
      "Batch 153:\n",
      "  Batch X shape: (64, 100, 29)\n",
      "  Batch Y shape: (64,)\n",
      "\n",
      "Batch 154:\n",
      "  Batch X shape: (64, 100, 29)\n",
      "  Batch Y shape: (64,)\n",
      "\n",
      "Batch 155:\n",
      "  Batch X shape: (64, 100, 29)\n",
      "  Batch Y shape: (64,)\n",
      "\n",
      "Batch 156:\n",
      "  Batch X shape: (64, 100, 29)\n",
      "  Batch Y shape: (64,)\n",
      "\n",
      "Batch 157:\n",
      "  Batch X shape: (64, 100, 29)\n",
      "  Batch Y shape: (64,)\n",
      "\n",
      "Batch 158:\n",
      "  Batch X shape: (64, 100, 29)\n",
      "  Batch Y shape: (64,)\n",
      "\n",
      "Batch 159:\n",
      "  Batch X shape: (64, 100, 29)\n",
      "  Batch Y shape: (64,)\n",
      "\n",
      "Batch 160:\n",
      "  Batch X shape: (64, 100, 29)\n",
      "  Batch Y shape: (64,)\n",
      "\n",
      "Batch 161:\n",
      "  Batch X shape: (64, 100, 29)\n",
      "  Batch Y shape: (64,)\n",
      "\n",
      "Batch 162:\n",
      "  Batch X shape: (64, 100, 29)\n",
      "  Batch Y shape: (64,)\n",
      "\n",
      "Batch 163:\n",
      "  Batch X shape: (64, 100, 29)\n",
      "  Batch Y shape: (64,)\n",
      "\n",
      "Batch 164:\n",
      "  Batch X shape: (64, 100, 29)\n",
      "  Batch Y shape: (64,)\n",
      "\n",
      "Batch 165:\n",
      "  Batch X shape: (64, 100, 29)\n",
      "  Batch Y shape: (64,)\n",
      "\n",
      "Batch 166:\n",
      "  Batch X shape: (64, 100, 29)\n",
      "  Batch Y shape: (64,)\n",
      "\n",
      "Batch 167:\n",
      "  Batch X shape: (64, 100, 29)\n",
      "  Batch Y shape: (64,)\n",
      "\n",
      "Batch 168:\n",
      "  Batch X shape: (64, 100, 29)\n",
      "  Batch Y shape: (64,)\n",
      "\n",
      "Batch 169:\n",
      "  Batch X shape: (64, 100, 29)\n",
      "  Batch Y shape: (64,)\n",
      "\n",
      "Batch 170:\n",
      "  Batch X shape: (64, 100, 29)\n",
      "  Batch Y shape: (64,)\n",
      "\n",
      "Batch 171:\n",
      "  Batch X shape: (64, 100, 29)\n",
      "  Batch Y shape: (64,)\n",
      "\n",
      "Batch 172:\n",
      "  Batch X shape: (64, 100, 29)\n",
      "  Batch Y shape: (64,)\n",
      "\n",
      "Batch 173:\n",
      "  Batch X shape: (64, 100, 29)\n",
      "  Batch Y shape: (64,)\n",
      "\n",
      "Batch 174:\n",
      "  Batch X shape: (64, 100, 29)\n",
      "  Batch Y shape: (64,)\n",
      "\n"
     ]
    }
   ],
   "source": [
    "for batch_idx in range(len(val_generator)):\n",
    "    batch_x, batch_y = train_generator[batch_idx]\n",
    "    print(f\"Batch {batch_idx}:\")\n",
    "    print(f\"  Batch X shape: {batch_x.shape}\")\n",
    "    print(f\"  Batch Y shape: {batch_y.shape}\")\n",
    "    print()"
   ]
  },
  {
   "cell_type": "code",
   "execution_count": 77,
   "id": "3bd9e207",
   "metadata": {
    "execution": {
     "iopub.execute_input": "2024-07-10T03:11:57.690116Z",
     "iopub.status.busy": "2024-07-10T03:11:57.689259Z",
     "iopub.status.idle": "2024-07-10T03:11:57.696116Z",
     "shell.execute_reply": "2024-07-10T03:11:57.695441Z"
    },
    "papermill": {
     "duration": 6.928147,
     "end_time": "2024-07-10T03:11:57.698100",
     "exception": false,
     "start_time": "2024-07-10T03:11:50.769953",
     "status": "completed"
    },
    "tags": []
   },
   "outputs": [],
   "source": [
    "import tensorflow as tf\n",
    "from tensorflow.keras.models import Sequential\n",
    "from tensorflow.keras.layers import Input, LSTM, Dense, Bidirectional, BatchNormalization, Conv1D, Flatten, Dropout\n",
    "from tensorflow.keras.optimizers import Adam\n",
    "from tensorflow.keras.regularizers import l2\n"
   ]
  },
  {
   "cell_type": "code",
   "execution_count": 78,
   "id": "60fa5602",
   "metadata": {
    "execution": {
     "iopub.execute_input": "2024-07-10T03:12:11.537827Z",
     "iopub.status.busy": "2024-07-10T03:12:11.537472Z",
     "iopub.status.idle": "2024-07-10T03:12:11.547332Z",
     "shell.execute_reply": "2024-07-10T03:12:11.546455Z"
    },
    "papermill": {
     "duration": 6.936885,
     "end_time": "2024-07-10T03:12:11.549268",
     "exception": false,
     "start_time": "2024-07-10T03:12:04.612383",
     "status": "completed"
    },
    "tags": []
   },
   "outputs": [],
   "source": [
    "def create_lstm_model(input_shape):\n",
    "    model = Sequential()\n",
    "    \n",
    "    # Input layer\n",
    "    model.add(Input(shape=input_shape))\n",
    "    \n",
    "    # 1D Convolutional layer with reduced filters\n",
    "    model.add(Conv1D(filters=32, kernel_size=3, activation='relu'))\n",
    "    model.add(Dropout(0.2))\n",
    "    \n",
    "    # Bidirectional LSTM layers with Batch Normalization after every two layers\n",
    "    model.add(Bidirectional(LSTM(64, return_sequences=True)))  \n",
    "    model.add(Dropout(0.3))\n",
    "    model.add(Bidirectional(LSTM(64, return_sequences=True)))\n",
    "    model.add(BatchNormalization())\n",
    "    model.add(Dropout(0.3))\n",
    "\n",
    "    \n",
    "    model.add(Bidirectional(LSTM(64, return_sequences=True)))\n",
    "    model.add(Bidirectional(LSTM(64)))\n",
    "    model.add(BatchNormalization())\n",
    "    model.add(Dropout(0.3))\n",
    "    \n",
    "    # Fully connected layers with Batch Normalization after each layer\n",
    "    model.add(Dense(128, activation='relu'))  \n",
    "    model.add(BatchNormalization())\n",
    "    model.add(Dropout(0.4))\n",
    "    \n",
    "    model.add(Dense(128, activation='relu'))\n",
    "    model.add(BatchNormalization())\n",
    "    model.add(Dropout(0.4))\n",
    "    \n",
    "    # Output layer\n",
    "    model.add(Dense(1, activation='sigmoid'))\n",
    "    \n",
    "    # Compile the model\n",
    "    model.compile(optimizer=Adam(learning_rate=0.001), \n",
    "                  loss='binary_crossentropy', \n",
    "                  metrics=['accuracy'])\n",
    "    \n",
    "    return model\n"
   ]
  },
  {
   "cell_type": "code",
   "execution_count": 79,
   "id": "e6cc8765",
   "metadata": {
    "execution": {
     "iopub.execute_input": "2024-07-10T03:12:25.332990Z",
     "iopub.status.busy": "2024-07-10T03:12:25.332641Z",
     "iopub.status.idle": "2024-07-10T03:12:25.336943Z",
     "shell.execute_reply": "2024-07-10T03:12:25.336062Z"
    },
    "papermill": {
     "duration": 6.794802,
     "end_time": "2024-07-10T03:12:25.338927",
     "exception": false,
     "start_time": "2024-07-10T03:12:18.544125",
     "status": "completed"
    },
    "tags": []
   },
   "outputs": [],
   "source": [
    "##with generator\n",
    "# input_shape = (window_size, X_train_s.shape[1])\n",
    "\n",
    "##with generator with PCA\n",
    "input_shape = (window_size, X_train.shape[1])"
   ]
  },
  {
   "cell_type": "code",
   "execution_count": 80,
   "id": "da6c571f",
   "metadata": {
    "execution": {
     "iopub.execute_input": "2024-07-10T03:12:39.178239Z",
     "iopub.status.busy": "2024-07-10T03:12:39.177825Z",
     "iopub.status.idle": "2024-07-10T03:12:39.199372Z",
     "shell.execute_reply": "2024-07-10T03:12:39.198460Z"
    },
    "papermill": {
     "duration": 6.840863,
     "end_time": "2024-07-10T03:12:39.201632",
     "exception": false,
     "start_time": "2024-07-10T03:12:32.360769",
     "status": "completed"
    },
    "tags": []
   },
   "outputs": [
    {
     "data": {
      "text/html": [
       "<pre style=\"white-space:pre;overflow-x:auto;line-height:normal;font-family:Menlo,'DejaVu Sans Mono',consolas,'Courier New',monospace\"><span style=\"font-weight: bold\">Model: \"sequential\"</span>\n",
       "</pre>\n"
      ],
      "text/plain": [
       "\u001b[1mModel: \"sequential\"\u001b[0m\n"
      ]
     },
     "metadata": {},
     "output_type": "display_data"
    },
    {
     "data": {
      "text/html": [
       "<pre style=\"white-space:pre;overflow-x:auto;line-height:normal;font-family:Menlo,'DejaVu Sans Mono',consolas,'Courier New',monospace\">┏━━━━━━━━━━━━━━━━━━━━━━━━━━━━━━━━━┳━━━━━━━━━━━━━━━━━━━━━━━━┳━━━━━━━━━━━━━━━┓\n",
       "┃<span style=\"font-weight: bold\"> Layer (type)                    </span>┃<span style=\"font-weight: bold\"> Output Shape           </span>┃<span style=\"font-weight: bold\">       Param # </span>┃\n",
       "┡━━━━━━━━━━━━━━━━━━━━━━━━━━━━━━━━━╇━━━━━━━━━━━━━━━━━━━━━━━━╇━━━━━━━━━━━━━━━┩\n",
       "│ dense (<span style=\"color: #0087ff; text-decoration-color: #0087ff\">Dense</span>)                   │ (<span style=\"color: #00d7ff; text-decoration-color: #00d7ff\">None</span>, <span style=\"color: #00af00; text-decoration-color: #00af00\">10</span>)             │           <span style=\"color: #00af00; text-decoration-color: #00af00\">300</span> │\n",
       "├─────────────────────────────────┼────────────────────────┼───────────────┤\n",
       "│ dense_1 (<span style=\"color: #0087ff; text-decoration-color: #0087ff\">Dense</span>)                 │ (<span style=\"color: #00d7ff; text-decoration-color: #00d7ff\">None</span>, <span style=\"color: #00af00; text-decoration-color: #00af00\">1</span>)              │            <span style=\"color: #00af00; text-decoration-color: #00af00\">11</span> │\n",
       "└─────────────────────────────────┴────────────────────────┴───────────────┘\n",
       "</pre>\n"
      ],
      "text/plain": [
       "┏━━━━━━━━━━━━━━━━━━━━━━━━━━━━━━━━━┳━━━━━━━━━━━━━━━━━━━━━━━━┳━━━━━━━━━━━━━━━┓\n",
       "┃\u001b[1m \u001b[0m\u001b[1mLayer (type)                   \u001b[0m\u001b[1m \u001b[0m┃\u001b[1m \u001b[0m\u001b[1mOutput Shape          \u001b[0m\u001b[1m \u001b[0m┃\u001b[1m \u001b[0m\u001b[1m      Param #\u001b[0m\u001b[1m \u001b[0m┃\n",
       "┡━━━━━━━━━━━━━━━━━━━━━━━━━━━━━━━━━╇━━━━━━━━━━━━━━━━━━━━━━━━╇━━━━━━━━━━━━━━━┩\n",
       "│ dense (\u001b[38;5;33mDense\u001b[0m)                   │ (\u001b[38;5;45mNone\u001b[0m, \u001b[38;5;34m10\u001b[0m)             │           \u001b[38;5;34m300\u001b[0m │\n",
       "├─────────────────────────────────┼────────────────────────┼───────────────┤\n",
       "│ dense_1 (\u001b[38;5;33mDense\u001b[0m)                 │ (\u001b[38;5;45mNone\u001b[0m, \u001b[38;5;34m1\u001b[0m)              │            \u001b[38;5;34m11\u001b[0m │\n",
       "└─────────────────────────────────┴────────────────────────┴───────────────┘\n"
      ]
     },
     "metadata": {},
     "output_type": "display_data"
    },
    {
     "data": {
      "text/html": [
       "<pre style=\"white-space:pre;overflow-x:auto;line-height:normal;font-family:Menlo,'DejaVu Sans Mono',consolas,'Courier New',monospace\"><span style=\"font-weight: bold\"> Total params: </span><span style=\"color: #00af00; text-decoration-color: #00af00\">935</span> (3.66 KB)\n",
       "</pre>\n"
      ],
      "text/plain": [
       "\u001b[1m Total params: \u001b[0m\u001b[38;5;34m935\u001b[0m (3.66 KB)\n"
      ]
     },
     "metadata": {},
     "output_type": "display_data"
    },
    {
     "data": {
      "text/html": [
       "<pre style=\"white-space:pre;overflow-x:auto;line-height:normal;font-family:Menlo,'DejaVu Sans Mono',consolas,'Courier New',monospace\"><span style=\"font-weight: bold\"> Trainable params: </span><span style=\"color: #00af00; text-decoration-color: #00af00\">311</span> (1.21 KB)\n",
       "</pre>\n"
      ],
      "text/plain": [
       "\u001b[1m Trainable params: \u001b[0m\u001b[38;5;34m311\u001b[0m (1.21 KB)\n"
      ]
     },
     "metadata": {},
     "output_type": "display_data"
    },
    {
     "data": {
      "text/html": [
       "<pre style=\"white-space:pre;overflow-x:auto;line-height:normal;font-family:Menlo,'DejaVu Sans Mono',consolas,'Courier New',monospace\"><span style=\"font-weight: bold\"> Non-trainable params: </span><span style=\"color: #00af00; text-decoration-color: #00af00\">0</span> (0.00 B)\n",
       "</pre>\n"
      ],
      "text/plain": [
       "\u001b[1m Non-trainable params: \u001b[0m\u001b[38;5;34m0\u001b[0m (0.00 B)\n"
      ]
     },
     "metadata": {},
     "output_type": "display_data"
    },
    {
     "data": {
      "text/html": [
       "<pre style=\"white-space:pre;overflow-x:auto;line-height:normal;font-family:Menlo,'DejaVu Sans Mono',consolas,'Courier New',monospace\"><span style=\"font-weight: bold\"> Optimizer params: </span><span style=\"color: #00af00; text-decoration-color: #00af00\">624</span> (2.44 KB)\n",
       "</pre>\n"
      ],
      "text/plain": [
       "\u001b[1m Optimizer params: \u001b[0m\u001b[38;5;34m624\u001b[0m (2.44 KB)\n"
      ]
     },
     "metadata": {},
     "output_type": "display_data"
    }
   ],
   "source": [
    "model.summary()"
   ]
  },
  {
   "cell_type": "code",
   "execution_count": 81,
   "id": "ab6b644c",
   "metadata": {
    "execution": {
     "iopub.execute_input": "2024-07-10T03:12:53.073918Z",
     "iopub.status.busy": "2024-07-10T03:12:53.073561Z",
     "iopub.status.idle": "2024-07-10T03:12:53.077300Z",
     "shell.execute_reply": "2024-07-10T03:12:53.076480Z"
    },
    "papermill": {
     "duration": 6.799086,
     "end_time": "2024-07-10T03:12:53.079105",
     "exception": false,
     "start_time": "2024-07-10T03:12:46.280019",
     "status": "completed"
    },
    "tags": []
   },
   "outputs": [],
   "source": [
    "##without generator\n",
    "# input_shape = windows.shape[1:]"
   ]
  },
  {
   "cell_type": "code",
   "execution_count": 82,
   "id": "40278e77",
   "metadata": {
    "execution": {
     "iopub.execute_input": "2024-07-10T03:13:06.848930Z",
     "iopub.status.busy": "2024-07-10T03:13:06.848575Z",
     "iopub.status.idle": "2024-07-10T03:13:07.198719Z",
     "shell.execute_reply": "2024-07-10T03:13:07.197956Z"
    },
    "papermill": {
     "duration": 7.230412,
     "end_time": "2024-07-10T03:13:07.200937",
     "exception": false,
     "start_time": "2024-07-10T03:12:59.970525",
     "status": "completed"
    },
    "tags": []
   },
   "outputs": [],
   "source": [
    "with tf.device('/CPU:0'):\n",
    "    model = create_lstm_model(input_shape)"
   ]
  },
  {
   "cell_type": "code",
   "execution_count": 83,
   "id": "6a7ee4ca",
   "metadata": {
    "execution": {
     "iopub.execute_input": "2024-07-10T03:13:21.100943Z",
     "iopub.status.busy": "2024-07-10T03:13:21.100585Z",
     "iopub.status.idle": "2024-07-10T03:13:21.107589Z",
     "shell.execute_reply": "2024-07-10T03:13:21.106904Z"
    },
    "papermill": {
     "duration": 6.986531,
     "end_time": "2024-07-10T03:13:21.109517",
     "exception": false,
     "start_time": "2024-07-10T03:13:14.122986",
     "status": "completed"
    },
    "tags": []
   },
   "outputs": [],
   "source": [
    "from tensorflow.keras.callbacks import ModelCheckpoint\n",
    "\n",
    "# Define the file path where the best model will be saved\n",
    "checkpoint_filepath = '/kaggle/working/best_model.keras'\n",
    "\n",
    "# Create a ModelCheckpoint callback to save the best model\n",
    "checkpoint_callback = ModelCheckpoint(\n",
    "    filepath=checkpoint_filepath,\n",
    "    monitor='val_accuracy', # You can change this to 'val_loss' if you prefer to monitor validation loss\n",
    "    save_best_only=True,\n",
    "    save_weights_only=False,\n",
    "    mode='max',  # Use 'min' if monitoring 'val_loss'\n",
    "    verbose=1\n",
    ")"
   ]
  },
  {
   "cell_type": "code",
   "execution_count": 84,
   "id": "29cc6d96",
   "metadata": {
    "execution": {
     "iopub.execute_input": "2024-07-10T03:13:34.949329Z",
     "iopub.status.busy": "2024-07-10T03:13:34.948948Z",
     "iopub.status.idle": "2024-07-10T03:28:27.559470Z",
     "shell.execute_reply": "2024-07-10T03:28:27.558609Z"
    },
    "papermill": {
     "duration": 907.962789,
     "end_time": "2024-07-10T03:28:35.993463",
     "exception": false,
     "start_time": "2024-07-10T03:13:28.030674",
     "status": "completed"
    },
    "tags": []
   },
   "outputs": [
    {
     "name": "stdout",
     "output_type": "stream",
     "text": [
      "Epoch 1/5\n",
      "\u001b[1m3173/3173\u001b[0m \u001b[32m━━━━━━━━━━━━━━━━━━━━\u001b[0m\u001b[37m\u001b[0m \u001b[1m0s\u001b[0m 54ms/step - accuracy: 0.8443 - loss: 0.3161\n",
      "Epoch 1: val_accuracy improved from -inf to 0.99106, saving model to /kaggle/working/best_model.keras\n",
      "\u001b[1m3173/3173\u001b[0m \u001b[32m━━━━━━━━━━━━━━━━━━━━\u001b[0m\u001b[37m\u001b[0m \u001b[1m189s\u001b[0m 56ms/step - accuracy: 0.8443 - loss: 0.3160 - val_accuracy: 0.9911 - val_loss: 0.0321\n",
      "Epoch 2/5\n",
      "\u001b[1m3173/3173\u001b[0m \u001b[32m━━━━━━━━━━━━━━━━━━━━\u001b[0m\u001b[37m\u001b[0m \u001b[1m0s\u001b[0m 54ms/step - accuracy: 0.9907 - loss: 0.0332\n",
      "Epoch 2: val_accuracy improved from 0.99106 to 0.99535, saving model to /kaggle/working/best_model.keras\n",
      "\u001b[1m3173/3173\u001b[0m \u001b[32m━━━━━━━━━━━━━━━━━━━━\u001b[0m\u001b[37m\u001b[0m \u001b[1m175s\u001b[0m 55ms/step - accuracy: 0.9907 - loss: 0.0332 - val_accuracy: 0.9954 - val_loss: 0.0208\n",
      "Epoch 3/5\n",
      "\u001b[1m3173/3173\u001b[0m \u001b[32m━━━━━━━━━━━━━━━━━━━━\u001b[0m\u001b[37m\u001b[0m \u001b[1m0s\u001b[0m 54ms/step - accuracy: 0.9953 - loss: 0.0193\n",
      "Epoch 3: val_accuracy improved from 0.99535 to 0.99660, saving model to /kaggle/working/best_model.keras\n",
      "\u001b[1m3173/3173\u001b[0m \u001b[32m━━━━━━━━━━━━━━━━━━━━\u001b[0m\u001b[37m\u001b[0m \u001b[1m176s\u001b[0m 55ms/step - accuracy: 0.9953 - loss: 0.0193 - val_accuracy: 0.9966 - val_loss: 0.0135\n",
      "Epoch 4/5\n",
      "\u001b[1m3173/3173\u001b[0m \u001b[32m━━━━━━━━━━━━━━━━━━━━\u001b[0m\u001b[37m\u001b[0m \u001b[1m0s\u001b[0m 55ms/step - accuracy: 0.9966 - loss: 0.0142\n",
      "Epoch 4: val_accuracy improved from 0.99660 to 0.99750, saving model to /kaggle/working/best_model.keras\n",
      "\u001b[1m3173/3173\u001b[0m \u001b[32m━━━━━━━━━━━━━━━━━━━━\u001b[0m\u001b[37m\u001b[0m \u001b[1m177s\u001b[0m 56ms/step - accuracy: 0.9966 - loss: 0.0142 - val_accuracy: 0.9975 - val_loss: 0.0089\n",
      "Epoch 5/5\n",
      "\u001b[1m3173/3173\u001b[0m \u001b[32m━━━━━━━━━━━━━━━━━━━━\u001b[0m\u001b[37m\u001b[0m \u001b[1m0s\u001b[0m 54ms/step - accuracy: 0.9968 - loss: 0.0126\n",
      "Epoch 5: val_accuracy did not improve from 0.99750\n",
      "\u001b[1m3173/3173\u001b[0m \u001b[32m━━━━━━━━━━━━━━━━━━━━\u001b[0m\u001b[37m\u001b[0m \u001b[1m176s\u001b[0m 55ms/step - accuracy: 0.9968 - loss: 0.0126 - val_accuracy: 0.9974 - val_loss: 0.0083\n"
     ]
    }
   ],
   "source": [
    "##With generator\n",
    "history = model.fit(train_generator, validation_data=val_generator, epochs=5, verbose=1, callbacks=[checkpoint_callback])\n"
   ]
  },
  {
   "cell_type": "code",
   "execution_count": 85,
   "id": "cb785a9f",
   "metadata": {
    "execution": {
     "iopub.execute_input": "2024-07-10T03:28:52.479214Z",
     "iopub.status.busy": "2024-07-10T03:28:52.478242Z",
     "iopub.status.idle": "2024-07-10T03:28:52.482579Z",
     "shell.execute_reply": "2024-07-10T03:28:52.481692Z"
    },
    "papermill": {
     "duration": 8.16719,
     "end_time": "2024-07-10T03:28:52.484522",
     "exception": false,
     "start_time": "2024-07-10T03:28:44.317332",
     "status": "completed"
    },
    "tags": []
   },
   "outputs": [],
   "source": [
    "##without generator\n",
    "# history = model.fit(windows, windows_y, epochs = 40, validation_split=0.2, verbose = 1)\n"
   ]
  },
  {
   "cell_type": "code",
   "execution_count": null,
   "id": "a88cc8b0",
   "metadata": {
    "papermill": {
     "duration": 8.311621,
     "end_time": "2024-07-10T03:29:09.319166",
     "exception": false,
     "start_time": "2024-07-10T03:29:01.007545",
     "status": "completed"
    },
    "tags": []
   },
   "outputs": [],
   "source": []
  },
  {
   "cell_type": "code",
   "execution_count": 86,
   "id": "ae699082",
   "metadata": {
    "execution": {
     "iopub.execute_input": "2024-07-10T03:29:25.728890Z",
     "iopub.status.busy": "2024-07-10T03:29:25.728025Z",
     "iopub.status.idle": "2024-07-10T03:29:26.202827Z",
     "shell.execute_reply": "2024-07-10T03:29:26.201876Z"
    },
    "papermill": {
     "duration": 8.735964,
     "end_time": "2024-07-10T03:29:26.205123",
     "exception": false,
     "start_time": "2024-07-10T03:29:17.469159",
     "status": "completed"
    },
    "tags": []
   },
   "outputs": [
    {
     "data": {
      "image/png": "[encoded data removed]",
      "text/plain": [
       "<Figure size 1200x400 with 2 Axes>"
      ]
     },
     "metadata": {},
     "output_type": "display_data"
    }
   ],
   "source": [
    "plt.figure(figsize=(12, 4))\n",
    "\n",
    "# Accuracy plot\n",
    "plt.subplot(1, 2, 1)\n",
    "plt.plot(history.history['accuracy'], label='Training Accuracy')\n",
    "plt.plot(history.history['val_accuracy'], label='Validation Accuracy')\n",
    "plt.title('Model Accuracy')\n",
    "plt.xlabel('Epoch')\n",
    "plt.ylabel('Accuracy')\n",
    "plt.legend()\n",
    "\n",
    "# Loss plot\n",
    "plt.subplot(1, 2, 2)\n",
    "plt.plot(history.history['loss'], label='Training Loss')\n",
    "plt.plot(history.history['val_loss'], label='Validation Loss')\n",
    "plt.title('Model Loss')\n",
    "plt.xlabel('Epoch')\n",
    "plt.ylabel('Loss')\n",
    "plt.legend()\n",
    "\n",
    "plt.show()"
   ]
  },
  {
   "cell_type": "markdown",
   "id": "e4a802c5",
   "metadata": {
    "papermill": {
     "duration": 8.31053,
     "end_time": "2024-07-10T03:29:42.979809",
     "exception": false,
     "start_time": "2024-07-10T03:29:34.669279",
     "status": "completed"
    },
    "tags": []
   },
   "source": [
    "# Testing"
   ]
  },
  {
   "cell_type": "code",
   "execution_count": 87,
   "id": "dba9e134",
   "metadata": {
    "execution": {
     "iopub.execute_input": "2024-07-10T03:29:59.618119Z",
     "iopub.status.busy": "2024-07-10T03:29:59.617742Z",
     "iopub.status.idle": "2024-07-10T03:29:59.622674Z",
     "shell.execute_reply": "2024-07-10T03:29:59.621795Z"
    },
    "papermill": {
     "duration": 8.326551,
     "end_time": "2024-07-10T03:29:59.624451",
     "exception": false,
     "start_time": "2024-07-10T03:29:51.297900",
     "status": "completed"
    },
    "tags": []
   },
   "outputs": [],
   "source": [
    "new_data = X_test[:300]\n",
    "new_labels = y_test[:300] "
   ]
  },
  {
   "cell_type": "code",
   "execution_count": 88,
   "id": "dff9e675",
   "metadata": {
    "execution": {
     "iopub.execute_input": "2024-07-10T03:30:16.040707Z",
     "iopub.status.busy": "2024-07-10T03:30:16.039950Z",
     "iopub.status.idle": "2024-07-10T03:30:16.044659Z",
     "shell.execute_reply": "2024-07-10T03:30:16.043830Z"
    },
    "papermill": {
     "duration": 8.250562,
     "end_time": "2024-07-10T03:30:16.047165",
     "exception": false,
     "start_time": "2024-07-10T03:30:07.796603",
     "status": "completed"
    },
    "tags": []
   },
   "outputs": [
    {
     "name": "stdout",
     "output_type": "stream",
     "text": [
      "(300, 29)\n",
      "(300,)\n"
     ]
    }
   ],
   "source": [
    "print(new_data.shape)\n",
    "print(new_labels.shape)"
   ]
  },
  {
   "cell_type": "code",
   "execution_count": 89,
   "id": "6f1875f5",
   "metadata": {
    "collapsed": true,
    "execution": {
     "iopub.execute_input": "2024-07-10T03:30:32.665312Z",
     "iopub.status.busy": "2024-07-10T03:30:32.664393Z",
     "iopub.status.idle": "2024-07-10T03:30:35.220729Z",
     "shell.execute_reply": "2024-07-10T03:30:35.218512Z"
    },
    "jupyter": {
     "outputs_hidden": true
    },
    "papermill": {
     "duration": 10.943552,
     "end_time": "2024-07-10T03:30:35.222907",
     "exception": false,
     "start_time": "2024-07-10T03:30:24.279355",
     "status": "completed"
    },
    "tags": []
   },
   "outputs": [
    {
     "name": "stdout",
     "output_type": "stream",
     "text": [
      "\u001b[1m2/2\u001b[0m \u001b[32m━━━━━━━━━━━━━━━━━━━━\u001b[0m\u001b[37m\u001b[0m \u001b[1m1s\u001b[0m 18ms/step \n",
      "\u001b[1m2/2\u001b[0m \u001b[32m━━━━━━━━━━━━━━━━━━━━\u001b[0m\u001b[37m\u001b[0m \u001b[1m0s\u001b[0m 18ms/step\n",
      "\u001b[1m2/2\u001b[0m \u001b[32m━━━━━━━━━━━━━━━━━━━━\u001b[0m\u001b[37m\u001b[0m \u001b[1m0s\u001b[0m 18ms/step\n",
      "\u001b[1m1/1\u001b[0m \u001b[32m━━━━━━━━━━━━━━━━━━━━\u001b[0m\u001b[37m\u001b[0m \u001b[1m1s\u001b[0m 716ms/step\n",
      "[[1.2910124e-03]\n",
      " [4.4271725e-04]\n",
      " [3.0589002e-04]\n",
      " [9.9964511e-01]\n",
      " [9.9995255e-01]\n",
      " [9.9990535e-01]\n",
      " [9.9987054e-01]\n",
      " [9.9982798e-01]\n",
      " [9.9979484e-01]\n",
      " [9.9959147e-01]\n",
      " [4.4941503e-04]\n",
      " [4.1147525e-04]\n",
      " [9.9970442e-01]\n",
      " [9.9989188e-01]\n",
      " [9.9982762e-01]\n",
      " [4.0979713e-04]\n",
      " [9.9803609e-01]\n",
      " [9.9952078e-01]\n",
      " [3.1141139e-04]\n",
      " [2.6163945e-04]\n",
      " [9.9985909e-01]\n",
      " [9.9395269e-01]\n",
      " [9.9991298e-01]\n",
      " [9.9970585e-01]\n",
      " [9.9992919e-01]\n",
      " [9.9978125e-01]\n",
      " [9.9957019e-01]\n",
      " [9.9978209e-01]\n",
      " [9.9987018e-01]\n",
      " [9.9993849e-01]\n",
      " [9.9988937e-01]\n",
      " [2.4160200e-04]\n",
      " [9.9971646e-01]\n",
      " [5.2710646e-04]\n",
      " [9.9851984e-01]\n",
      " [9.9767452e-01]\n",
      " [2.8211850e-04]\n",
      " [1.6915443e-04]\n",
      " [9.9973220e-01]\n",
      " [9.9991190e-01]\n",
      " [3.3280914e-04]\n",
      " [9.9972194e-01]\n",
      " [9.9987650e-01]\n",
      " [9.9993002e-01]\n",
      " [9.9983346e-01]\n",
      " [3.4149794e-04]\n",
      " [2.1341779e-04]\n",
      " [1.7463756e-04]\n",
      " [9.9826127e-01]\n",
      " [9.9983370e-01]\n",
      " [2.0577143e-04]\n",
      " [1.7053600e-04]\n",
      " [3.7729266e-04]\n",
      " [3.3555529e-04]\n",
      " [9.9823236e-01]\n",
      " [9.9671376e-01]\n",
      " [9.9971324e-01]\n",
      " [9.9978507e-01]\n",
      " [9.9930727e-01]\n",
      " [9.9928010e-01]\n",
      " [9.9949861e-01]\n",
      " [9.9977291e-01]\n",
      " [9.9963307e-01]\n",
      " [2.6363417e-04]\n",
      " [2.5132525e-04]\n",
      " [9.9947929e-01]\n",
      " [4.0443966e-04]\n",
      " [9.9960268e-01]\n",
      " [9.9983776e-01]\n",
      " [9.9985421e-01]\n",
      " [2.3574912e-04]\n",
      " [2.6180639e-04]\n",
      " [9.9979162e-01]\n",
      " [9.9990880e-01]\n",
      " [3.3058831e-04]\n",
      " [2.6856040e-04]\n",
      " [9.9902534e-01]\n",
      " [2.4447276e-04]\n",
      " [9.9753678e-01]\n",
      " [9.9990940e-01]\n",
      " [9.9991655e-01]\n",
      " [5.4223125e-04]\n",
      " [3.4971756e-04]\n",
      " [3.7070291e-04]\n",
      " [3.8859319e-02]\n",
      " [9.9946362e-01]\n",
      " [3.0984150e-04]\n",
      " [9.9942845e-01]\n",
      " [4.7170714e-04]\n",
      " [4.3674745e-04]\n",
      " [4.2213604e-04]\n",
      " [9.9977171e-01]\n",
      " [5.4969447e-04]\n",
      " [3.9043522e-04]\n",
      " [2.6480504e-04]\n",
      " [9.9934644e-01]\n",
      " [4.5372144e-04]\n",
      " [3.1181276e-04]\n",
      " [2.7187685e-03]\n",
      " [2.2919881e-04]\n",
      " [1.4689474e-04]\n",
      " [1.8763347e-04]\n",
      " [9.9617302e-01]\n",
      " [9.9982429e-01]\n",
      " [9.9959791e-01]\n",
      " [3.9493258e-04]\n",
      " [9.9859780e-01]\n",
      " [7.3459453e-04]\n",
      " [6.0996151e-04]\n",
      " [9.9727076e-01]\n",
      " [9.9949217e-01]\n",
      " [9.9958873e-01]\n",
      " [9.9974507e-01]\n",
      " [9.9966168e-01]\n",
      " [4.0648339e-04]\n",
      " [9.9984765e-01]\n",
      " [2.9257147e-04]\n",
      " [9.9961138e-01]\n",
      " [9.9982047e-01]\n",
      " [2.4384215e-04]\n",
      " [9.9915755e-01]\n",
      " [2.8441371e-02]\n",
      " [9.9930131e-01]\n",
      " [9.9984670e-01]\n",
      " [9.9924773e-01]\n",
      " [1.8392272e-04]\n",
      " [1.2217855e-04]\n",
      " [1.9633178e-04]\n",
      " [9.9983931e-01]\n",
      " [9.9933487e-01]\n",
      " [9.9974746e-01]\n",
      " [3.3106582e-04]\n",
      " [9.9778593e-01]\n",
      " [5.4413365e-04]\n",
      " [3.9697427e-04]\n",
      " [4.8828189e-04]\n",
      " [9.9974495e-01]\n",
      " [9.9934381e-01]\n",
      " [2.2832245e-04]\n",
      " [9.9969023e-01]\n",
      " [3.1841517e-04]\n",
      " [4.3163169e-04]\n",
      " [4.1346584e-04]\n",
      " [9.9986315e-01]\n",
      " [9.9965870e-01]\n",
      " [3.8392685e-04]\n",
      " [3.0655274e-04]\n",
      " [3.1479012e-04]\n",
      " [2.6279598e-04]\n",
      " [9.9964166e-01]\n",
      " [9.9987769e-01]\n",
      " [3.9749968e-04]\n",
      " [2.2879752e-04]\n",
      " [9.9679357e-01]\n",
      " [9.9977481e-01]\n",
      " [3.5922669e-04]\n",
      " [9.9969810e-01]\n",
      " [9.9856144e-01]\n",
      " [9.9980605e-01]\n",
      " [4.5802051e-04]\n",
      " [9.9771297e-01]\n",
      " [9.9917465e-01]\n",
      " [4.7805911e-04]\n",
      " [2.1298723e-04]\n",
      " [1.9025143e-04]\n",
      " [9.9967033e-01]\n",
      " [9.9991381e-01]\n",
      " [9.9994266e-01]\n",
      " [9.9974662e-01]\n",
      " [9.9984384e-01]\n",
      " [9.9989915e-01]\n",
      " [9.9990380e-01]\n",
      " [9.9964881e-01]\n",
      " [6.0440000e-04]\n",
      " [4.0510605e-04]\n",
      " [2.8576274e-04]\n",
      " [9.9764806e-01]\n",
      " [9.9990809e-01]\n",
      " [9.9992585e-01]\n",
      " [9.9994218e-01]\n",
      " [9.9984026e-01]\n",
      " [9.9993145e-01]\n",
      " [9.9989390e-01]\n",
      " [5.8401725e-04]\n",
      " [3.0510302e-04]\n",
      " [9.9987042e-01]\n",
      " [9.9954444e-01]\n",
      " [4.2978616e-04]\n",
      " [9.9839085e-01]\n",
      " [9.9985671e-01]\n",
      " [6.4118812e-04]\n",
      " [3.0124150e-04]\n",
      " [9.9976057e-01]\n",
      " [9.9989927e-01]\n",
      " [9.9993026e-01]\n",
      " [5.5229227e-04]\n",
      " [2.9632755e-04]\n",
      " [4.7912548e-04]\n",
      " [9.9911278e-01]\n",
      " [9.9984002e-01]\n",
      " [3.5491615e-04]]\n"
     ]
    }
   ],
   "source": [
    "# Parameters for the new data\n",
    "window_size = 100  # Same as used in training\n",
    "batch_size = 64  # Same as used in training\n",
    "\n",
    "# Initialize data generator for new data\n",
    "new_data_generator = DataGenerator(new_data, new_labels, window_size, batch_size)\n",
    "\n",
    "from tensorflow.keras.models import load_model\n",
    "\n",
    "# Load the best saved model\n",
    "best_model = load_model('/kaggle/working/best_model.keras')\n",
    "predictions = []\n",
    "for i in range(len(new_data_generator)):\n",
    "    batch_data, _ = new_data_generator[i]\n",
    "    batch_predictions = best_model.predict(batch_data)\n",
    "    predictions.extend(batch_predictions)\n",
    "\n",
    "\n",
    "# Convert predictions to a numpy array\n",
    "predictions = np.array(predictions)\n",
    "\n",
    "# If you want to see the predictions\n",
    "print(predictions)\n"
   ]
  },
  {
   "cell_type": "code",
   "execution_count": 90,
   "id": "44a3151b",
   "metadata": {
    "execution": {
     "iopub.execute_input": "2024-07-10T03:30:51.857962Z",
     "iopub.status.busy": "2024-07-10T03:30:51.857597Z",
     "iopub.status.idle": "2024-07-10T03:30:51.862601Z",
     "shell.execute_reply": "2024-07-10T03:30:51.861741Z"
    },
    "papermill": {
     "duration": 8.32649,
     "end_time": "2024-07-10T03:30:51.864499",
     "exception": false,
     "start_time": "2024-07-10T03:30:43.538009",
     "status": "completed"
    },
    "tags": []
   },
   "outputs": [
    {
     "name": "stdout",
     "output_type": "stream",
     "text": [
      "4\n"
     ]
    }
   ],
   "source": [
    "print(len(new_data_generator))"
   ]
  },
  {
   "cell_type": "code",
   "execution_count": 91,
   "id": "d2db8880",
   "metadata": {
    "execution": {
     "iopub.execute_input": "2024-07-10T03:31:08.435280Z",
     "iopub.status.busy": "2024-07-10T03:31:08.434940Z",
     "iopub.status.idle": "2024-07-10T03:31:08.439761Z",
     "shell.execute_reply": "2024-07-10T03:31:08.438863Z"
    },
    "papermill": {
     "duration": 8.26382,
     "end_time": "2024-07-10T03:31:08.442055",
     "exception": false,
     "start_time": "2024-07-10T03:31:00.178235",
     "status": "completed"
    },
    "tags": []
   },
   "outputs": [
    {
     "name": "stdout",
     "output_type": "stream",
     "text": [
      "(201, 1)\n"
     ]
    }
   ],
   "source": [
    "print(predictions.shape)"
   ]
  },
  {
   "cell_type": "code",
   "execution_count": 92,
   "id": "dc6404bc",
   "metadata": {
    "collapsed": true,
    "execution": {
     "iopub.execute_input": "2024-07-10T03:31:25.163298Z",
     "iopub.status.busy": "2024-07-10T03:31:25.162370Z",
     "iopub.status.idle": "2024-07-10T03:31:25.169307Z",
     "shell.execute_reply": "2024-07-10T03:31:25.168281Z"
    },
    "jupyter": {
     "outputs_hidden": true
    },
    "papermill": {
     "duration": 8.408094,
     "end_time": "2024-07-10T03:31:25.172118",
     "exception": false,
     "start_time": "2024-07-10T03:31:16.764024",
     "status": "completed"
    },
    "tags": []
   },
   "outputs": [
    {
     "name": "stdout",
     "output_type": "stream",
     "text": [
      "[[0]\n",
      " [0]\n",
      " [0]\n",
      " [1]\n",
      " [1]\n",
      " [1]\n",
      " [1]\n",
      " [1]\n",
      " [1]\n",
      " [1]\n",
      " [0]\n",
      " [0]\n",
      " [1]\n",
      " [1]\n",
      " [1]\n",
      " [0]\n",
      " [1]\n",
      " [1]\n",
      " [0]\n",
      " [0]\n",
      " [1]\n",
      " [1]\n",
      " [1]\n",
      " [1]\n",
      " [1]\n",
      " [1]\n",
      " [1]\n",
      " [1]\n",
      " [1]\n",
      " [1]\n",
      " [1]\n",
      " [0]\n",
      " [1]\n",
      " [0]\n",
      " [1]\n",
      " [1]\n",
      " [0]\n",
      " [0]\n",
      " [1]\n",
      " [1]\n",
      " [0]\n",
      " [1]\n",
      " [1]\n",
      " [1]\n",
      " [1]\n",
      " [0]\n",
      " [0]\n",
      " [0]\n",
      " [1]\n",
      " [1]\n",
      " [0]\n",
      " [0]\n",
      " [0]\n",
      " [0]\n",
      " [1]\n",
      " [1]\n",
      " [1]\n",
      " [1]\n",
      " [1]\n",
      " [1]\n",
      " [1]\n",
      " [1]\n",
      " [1]\n",
      " [0]\n",
      " [0]\n",
      " [1]\n",
      " [0]\n",
      " [1]\n",
      " [1]\n",
      " [1]\n",
      " [0]\n",
      " [0]\n",
      " [1]\n",
      " [1]\n",
      " [0]\n",
      " [0]\n",
      " [1]\n",
      " [0]\n",
      " [1]\n",
      " [1]\n",
      " [1]\n",
      " [0]\n",
      " [0]\n",
      " [0]\n",
      " [0]\n",
      " [1]\n",
      " [0]\n",
      " [1]\n",
      " [0]\n",
      " [0]\n",
      " [0]\n",
      " [1]\n",
      " [0]\n",
      " [0]\n",
      " [0]\n",
      " [1]\n",
      " [0]\n",
      " [0]\n",
      " [0]\n",
      " [0]\n",
      " [0]\n",
      " [0]\n",
      " [1]\n",
      " [1]\n",
      " [1]\n",
      " [0]\n",
      " [1]\n",
      " [0]\n",
      " [0]\n",
      " [1]\n",
      " [1]\n",
      " [1]\n",
      " [1]\n",
      " [1]\n",
      " [0]\n",
      " [1]\n",
      " [0]\n",
      " [1]\n",
      " [1]\n",
      " [0]\n",
      " [1]\n",
      " [0]\n",
      " [1]\n",
      " [1]\n",
      " [1]\n",
      " [0]\n",
      " [0]\n",
      " [0]\n",
      " [1]\n",
      " [1]\n",
      " [1]\n",
      " [0]\n",
      " [1]\n",
      " [0]\n",
      " [0]\n",
      " [0]\n",
      " [1]\n",
      " [1]\n",
      " [0]\n",
      " [1]\n",
      " [0]\n",
      " [0]\n",
      " [0]\n",
      " [1]\n",
      " [1]\n",
      " [0]\n",
      " [0]\n",
      " [0]\n",
      " [0]\n",
      " [1]\n",
      " [1]\n",
      " [0]\n",
      " [0]\n",
      " [1]\n",
      " [1]\n",
      " [0]\n",
      " [1]\n",
      " [1]\n",
      " [1]\n",
      " [0]\n",
      " [1]\n",
      " [1]\n",
      " [0]\n",
      " [0]\n",
      " [0]\n",
      " [1]\n",
      " [1]\n",
      " [1]\n",
      " [1]\n",
      " [1]\n",
      " [1]\n",
      " [1]\n",
      " [1]\n",
      " [0]\n",
      " [0]\n",
      " [0]\n",
      " [1]\n",
      " [1]\n",
      " [1]\n",
      " [1]\n",
      " [1]\n",
      " [1]\n",
      " [1]\n",
      " [0]\n",
      " [0]\n",
      " [1]\n",
      " [1]\n",
      " [0]\n",
      " [1]\n",
      " [1]\n",
      " [0]\n",
      " [0]\n",
      " [1]\n",
      " [1]\n",
      " [1]\n",
      " [0]\n",
      " [0]\n",
      " [0]\n",
      " [1]\n",
      " [1]\n",
      " [0]]\n"
     ]
    }
   ],
   "source": [
    "binary_predictions = (predictions >= 0.5).astype(int)\n",
    "\n",
    "# If you want to see the binary predictions\n",
    "print(binary_predictions)"
   ]
  },
  {
   "cell_type": "markdown",
   "id": "1be003d5",
   "metadata": {
    "papermill": {
     "duration": 8.375647,
     "end_time": "2024-07-10T03:31:41.872027",
     "exception": false,
     "start_time": "2024-07-10T03:31:33.496380",
     "status": "completed"
    },
    "tags": []
   },
   "source": [
    "# Getting predictions from real-time data"
   ]
  },
  {
   "cell_type": "markdown",
   "id": "ebd23fca",
   "metadata": {
    "papermill": {
     "duration": 8.176063,
     "end_time": "2024-07-10T03:31:58.359124",
     "exception": false,
     "start_time": "2024-07-10T03:31:50.183061",
     "status": "completed"
    },
    "tags": []
   },
   "source": [
    "### Preprocessing new data"
   ]
  },
  {
   "cell_type": "code",
   "execution_count": 93,
   "id": "ef7a1b8b",
   "metadata": {
    "execution": {
     "iopub.execute_input": "2024-07-10T03:32:15.130128Z",
     "iopub.status.busy": "2024-07-10T03:32:15.129232Z",
     "iopub.status.idle": "2024-07-10T03:32:15.135942Z",
     "shell.execute_reply": "2024-07-10T03:32:15.135203Z"
    },
    "papermill": {
     "duration": 8.47284,
     "end_time": "2024-07-10T03:32:15.137860",
     "exception": false,
     "start_time": "2024-07-10T03:32:06.665020",
     "status": "completed"
    },
    "tags": []
   },
   "outputs": [],
   "source": [
    "## Load the scaler from file\n",
    "scaler_new = joblib.load('/kaggle/working/scaler.pkl')\n",
    "\n",
    "## Load the PCA from file\n",
    "pca_new = joblib.load('/kaggle/working/pca.pkl')"
   ]
  },
  {
   "cell_type": "code",
   "execution_count": 94,
   "id": "c1f39684",
   "metadata": {
    "execution": {
     "iopub.execute_input": "2024-07-10T03:32:31.768251Z",
     "iopub.status.busy": "2024-07-10T03:32:31.767381Z",
     "iopub.status.idle": "2024-07-10T03:32:32.645982Z",
     "shell.execute_reply": "2024-07-10T03:32:32.644936Z"
    },
    "papermill": {
     "duration": 9.191657,
     "end_time": "2024-07-10T03:32:32.648304",
     "exception": false,
     "start_time": "2024-07-10T03:32:23.456647",
     "status": "completed"
    },
    "tags": []
   },
   "outputs": [],
   "source": [
    "## Load the new data\n",
    "file_path = \"/kaggle/input/ddos-new/19-35-48.pcap_Flow.csv\"\n",
    "df_new=pd.read_csv(file_path)\n"
   ]
  },
  {
   "cell_type": "code",
   "execution_count": 95,
   "id": "8de761a0",
   "metadata": {
    "execution": {
     "iopub.execute_input": "2024-07-10T03:32:49.259233Z",
     "iopub.status.busy": "2024-07-10T03:32:49.258340Z",
     "iopub.status.idle": "2024-07-10T03:32:49.262878Z",
     "shell.execute_reply": "2024-07-10T03:32:49.261994Z"
    },
    "papermill": {
     "duration": 8.22372,
     "end_time": "2024-07-10T03:32:49.265098",
     "exception": false,
     "start_time": "2024-07-10T03:32:41.041378",
     "status": "completed"
    },
    "tags": []
   },
   "outputs": [],
   "source": [
    "## Handling columns' mismatch\n",
    "\n",
    "col_names = df.columns\n",
    "col_names_new = df_new.columns"
   ]
  },
  {
   "cell_type": "code",
   "execution_count": 96,
   "id": "6a43be3b",
   "metadata": {
    "execution": {
     "iopub.execute_input": "2024-07-10T03:33:06.217386Z",
     "iopub.status.busy": "2024-07-10T03:33:06.216527Z",
     "iopub.status.idle": "2024-07-10T03:33:06.220684Z",
     "shell.execute_reply": "2024-07-10T03:33:06.219819Z"
    },
    "papermill": {
     "duration": 8.420503,
     "end_time": "2024-07-10T03:33:06.222604",
     "exception": false,
     "start_time": "2024-07-10T03:32:57.802101",
     "status": "completed"
    },
    "tags": []
   },
   "outputs": [],
   "source": [
    "# print(col_names)"
   ]
  },
  {
   "cell_type": "code",
   "execution_count": 97,
   "id": "52e8cee5",
   "metadata": {
    "execution": {
     "iopub.execute_input": "2024-07-10T03:33:22.729026Z",
     "iopub.status.busy": "2024-07-10T03:33:22.728696Z",
     "iopub.status.idle": "2024-07-10T03:33:22.732752Z",
     "shell.execute_reply": "2024-07-10T03:33:22.731755Z"
    },
    "papermill": {
     "duration": 8.28335,
     "end_time": "2024-07-10T03:33:22.734756",
     "exception": false,
     "start_time": "2024-07-10T03:33:14.451406",
     "status": "completed"
    },
    "tags": []
   },
   "outputs": [],
   "source": [
    "# len(col_names)"
   ]
  },
  {
   "cell_type": "code",
   "execution_count": 98,
   "id": "b2bdc8e8",
   "metadata": {
    "execution": {
     "iopub.execute_input": "2024-07-10T03:33:39.503830Z",
     "iopub.status.busy": "2024-07-10T03:33:39.503153Z",
     "iopub.status.idle": "2024-07-10T03:33:39.507275Z",
     "shell.execute_reply": "2024-07-10T03:33:39.506466Z"
    },
    "papermill": {
     "duration": 8.337632,
     "end_time": "2024-07-10T03:33:39.509493",
     "exception": false,
     "start_time": "2024-07-10T03:33:31.171861",
     "status": "completed"
    },
    "tags": []
   },
   "outputs": [],
   "source": [
    "# unmatched_cols = []\n",
    "# for col in col_names_new:\n",
    "#     if col not in col_names:\n",
    "#         print(col, \" not present in the original col list\")\n",
    "#         unmatched_cols.append(col)\n",
    "#     else:\n",
    "#         print(col, \" matches the original col list\")"
   ]
  },
  {
   "cell_type": "code",
   "execution_count": 99,
   "id": "4eee8ecb",
   "metadata": {
    "execution": {
     "iopub.execute_input": "2024-07-10T03:33:55.989509Z",
     "iopub.status.busy": "2024-07-10T03:33:55.989151Z",
     "iopub.status.idle": "2024-07-10T03:33:55.993232Z",
     "shell.execute_reply": "2024-07-10T03:33:55.992306Z"
    },
    "papermill": {
     "duration": 8.28241,
     "end_time": "2024-07-10T03:33:55.995366",
     "exception": false,
     "start_time": "2024-07-10T03:33:47.712956",
     "status": "completed"
    },
    "tags": []
   },
   "outputs": [],
   "source": [
    "# print(len(unmatched_cols))\n",
    "# print(unmatched_cols)"
   ]
  },
  {
   "cell_type": "code",
   "execution_count": 100,
   "id": "aab07cc2",
   "metadata": {
    "execution": {
     "iopub.execute_input": "2024-07-10T03:34:12.822616Z",
     "iopub.status.busy": "2024-07-10T03:34:12.822183Z",
     "iopub.status.idle": "2024-07-10T03:34:12.827985Z",
     "shell.execute_reply": "2024-07-10T03:34:12.827115Z"
    },
    "papermill": {
     "duration": 8.52263,
     "end_time": "2024-07-10T03:34:12.829959",
     "exception": false,
     "start_time": "2024-07-10T03:34:04.307329",
     "status": "completed"
    },
    "tags": []
   },
   "outputs": [],
   "source": [
    "# Save the 'Src IP' column to a separate variable before dropping it\n",
    "src_ip_column = df_new['Src IP'].copy()\n"
   ]
  },
  {
   "cell_type": "code",
   "execution_count": 101,
   "id": "df51f463",
   "metadata": {
    "execution": {
     "iopub.execute_input": "2024-07-10T03:34:29.591237Z",
     "iopub.status.busy": "2024-07-10T03:34:29.590651Z",
     "iopub.status.idle": "2024-07-10T03:34:29.610971Z",
     "shell.execute_reply": "2024-07-10T03:34:29.610249Z"
    },
    "papermill": {
     "duration": 8.34536,
     "end_time": "2024-07-10T03:34:29.612970",
     "exception": false,
     "start_time": "2024-07-10T03:34:21.267610",
     "status": "completed"
    },
    "tags": []
   },
   "outputs": [],
   "source": [
    "## Create a dictionary mapping old column names to new column names\n",
    "column_replacements = {\n",
    "    'Dst Port': 'Destination Port',\n",
    "    'Total Fwd Packet': 'Total Fwd Packets',\n",
    "    'Total Bwd packets': 'Total Backward Packets',\n",
    "    'Total Length of Fwd Packet': 'Total Length of Fwd Packets',\n",
    "    'Total Length of Bwd Packet': 'Total Length of Bwd Packets',\n",
    "    'Packet Length Min': 'Min Packet Length',\n",
    "    'Packet Length Max': 'Max Packet Length',\n",
    "    'CWR Flag Count': 'CWE Flag Count',\n",
    "    'Fwd Segment Size Avg': 'Avg Fwd Segment Size',\n",
    "    'Bwd Segment Size Avg': 'Avg Bwd Segment Size',\n",
    "    'Fwd Bytes/Bulk Avg': 'Fwd Avg Bytes/Bulk',\n",
    "    'Fwd Packet/Bulk Avg': 'Fwd Avg Packets/Bulk',\n",
    "    'Fwd Bulk Rate Avg': 'Fwd Avg Bulk Rate',\n",
    "    'Bwd Bytes/Bulk Avg': 'Bwd Avg Bytes/Bulk',\n",
    "    'Bwd Packet/Bulk Avg': 'Bwd Avg Packets/Bulk',\n",
    "    'Bwd Bulk Rate Avg': 'Bwd Avg Bulk Rate',\n",
    "    'FWD Init Win Bytes': 'Init_Win_bytes_forward',\n",
    "    'Bwd Init Win Bytes': 'Init_Win_bytes_backward',\n",
    "    'Fwd Act Data Pkts': 'act_data_pkt_fwd',\n",
    "    'Fwd Seg Size Min': 'min_seg_size_forward'\n",
    "}\n",
    "\n",
    "## Rename the columns\n",
    "df_new.rename(columns=column_replacements, inplace=True)\n",
    "\n",
    "\n",
    "## Drop the extra columns\n",
    "columns_to_drop = ['Flow ID', 'Src IP', 'Src Port', 'Dst IP', 'Protocol', 'Timestamp']\n",
    "df_new.drop(columns=columns_to_drop, inplace=True)\n",
    "\n",
    "col_names_new = df_new.columns\n"
   ]
  },
  {
   "cell_type": "code",
   "execution_count": 102,
   "id": "0975e8a4",
   "metadata": {
    "execution": {
     "iopub.execute_input": "2024-07-10T03:34:46.175537Z",
     "iopub.status.busy": "2024-07-10T03:34:46.175170Z",
     "iopub.status.idle": "2024-07-10T03:34:46.179337Z",
     "shell.execute_reply": "2024-07-10T03:34:46.178471Z"
    },
    "papermill": {
     "duration": 8.246965,
     "end_time": "2024-07-10T03:34:46.181300",
     "exception": false,
     "start_time": "2024-07-10T03:34:37.934335",
     "status": "completed"
    },
    "tags": []
   },
   "outputs": [],
   "source": [
    "\n",
    "# unmatched_cols = []\n",
    "# for col in col_names_new:\n",
    "#     if col not in col_names:\n",
    "#         print(col, \" not present in the original col list\")\n",
    "#         unmatched_cols.append(col)\n",
    "#     else:\n",
    "#         print(col, \" matches the original col list\")"
   ]
  },
  {
   "cell_type": "code",
   "execution_count": 103,
   "id": "cc5aea6e",
   "metadata": {
    "execution": {
     "iopub.execute_input": "2024-07-10T03:35:02.969183Z",
     "iopub.status.busy": "2024-07-10T03:35:02.968851Z",
     "iopub.status.idle": "2024-07-10T03:35:02.972889Z",
     "shell.execute_reply": "2024-07-10T03:35:02.972005Z"
    },
    "papermill": {
     "duration": 8.343826,
     "end_time": "2024-07-10T03:35:02.974923",
     "exception": false,
     "start_time": "2024-07-10T03:34:54.631097",
     "status": "completed"
    },
    "tags": []
   },
   "outputs": [],
   "source": [
    "# print(len(unmatched_cols))"
   ]
  },
  {
   "cell_type": "code",
   "execution_count": 104,
   "id": "1f2901d3",
   "metadata": {
    "execution": {
     "iopub.execute_input": "2024-07-10T03:35:19.494662Z",
     "iopub.status.busy": "2024-07-10T03:35:19.494296Z",
     "iopub.status.idle": "2024-07-10T03:35:19.498580Z",
     "shell.execute_reply": "2024-07-10T03:35:19.497619Z"
    },
    "papermill": {
     "duration": 8.349708,
     "end_time": "2024-07-10T03:35:19.500558",
     "exception": false,
     "start_time": "2024-07-10T03:35:11.150850",
     "status": "completed"
    },
    "tags": []
   },
   "outputs": [],
   "source": [
    "# len(col_names_new) "
   ]
  },
  {
   "cell_type": "code",
   "execution_count": 105,
   "id": "fa980682",
   "metadata": {
    "execution": {
     "iopub.execute_input": "2024-07-10T03:35:36.228412Z",
     "iopub.status.busy": "2024-07-10T03:35:36.227074Z",
     "iopub.status.idle": "2024-07-10T03:35:36.232197Z",
     "shell.execute_reply": "2024-07-10T03:35:36.231458Z"
    },
    "papermill": {
     "duration": 8.453403,
     "end_time": "2024-07-10T03:35:36.234138",
     "exception": false,
     "start_time": "2024-07-10T03:35:27.780735",
     "status": "completed"
    },
    "tags": []
   },
   "outputs": [],
   "source": [
    "# col_names"
   ]
  },
  {
   "cell_type": "code",
   "execution_count": 106,
   "id": "efe04529",
   "metadata": {
    "execution": {
     "iopub.execute_input": "2024-07-10T03:35:52.916580Z",
     "iopub.status.busy": "2024-07-10T03:35:52.915886Z",
     "iopub.status.idle": "2024-07-10T03:35:52.920364Z",
     "shell.execute_reply": "2024-07-10T03:35:52.919454Z"
    },
    "papermill": {
     "duration": 8.363291,
     "end_time": "2024-07-10T03:35:52.922266",
     "exception": false,
     "start_time": "2024-07-10T03:35:44.558975",
     "status": "completed"
    },
    "tags": []
   },
   "outputs": [],
   "source": [
    "assert list(col_names_new) == list(col_names), \"Column names do not match!\"\n"
   ]
  },
  {
   "cell_type": "code",
   "execution_count": 107,
   "id": "05417ebe",
   "metadata": {
    "execution": {
     "iopub.execute_input": "2024-07-10T03:36:09.517883Z",
     "iopub.status.busy": "2024-07-10T03:36:09.517061Z",
     "iopub.status.idle": "2024-07-10T03:36:09.521109Z",
     "shell.execute_reply": "2024-07-10T03:36:09.520263Z"
    },
    "papermill": {
     "duration": 8.451552,
     "end_time": "2024-07-10T03:36:09.523003",
     "exception": false,
     "start_time": "2024-07-10T03:36:01.071451",
     "status": "completed"
    },
    "tags": []
   },
   "outputs": [],
   "source": [
    "# col_names_new"
   ]
  },
  {
   "cell_type": "code",
   "execution_count": 108,
   "id": "76b206c6",
   "metadata": {
    "execution": {
     "iopub.execute_input": "2024-07-10T03:36:26.102579Z",
     "iopub.status.busy": "2024-07-10T03:36:26.102195Z",
     "iopub.status.idle": "2024-07-10T03:36:26.107172Z",
     "shell.execute_reply": "2024-07-10T03:36:26.106291Z"
    },
    "papermill": {
     "duration": 8.367003,
     "end_time": "2024-07-10T03:36:26.109003",
     "exception": false,
     "start_time": "2024-07-10T03:36:17.742000",
     "status": "completed"
    },
    "tags": []
   },
   "outputs": [
    {
     "name": "stdout",
     "output_type": "stream",
     "text": [
      "Shape of the new dataset:  (65536, 78)\n"
     ]
    }
   ],
   "source": [
    "print('Shape of the new dataset: ', df_new.shape)"
   ]
  },
  {
   "cell_type": "code",
   "execution_count": 109,
   "id": "597984e5",
   "metadata": {
    "execution": {
     "iopub.execute_input": "2024-07-10T03:36:42.854307Z",
     "iopub.status.busy": "2024-07-10T03:36:42.853899Z",
     "iopub.status.idle": "2024-07-10T03:36:43.048735Z",
     "shell.execute_reply": "2024-07-10T03:36:43.047474Z"
    },
    "papermill": {
     "duration": 8.64053,
     "end_time": "2024-07-10T03:36:43.052349",
     "exception": false,
     "start_time": "2024-07-10T03:36:34.411819",
     "status": "completed"
    },
    "tags": []
   },
   "outputs": [
    {
     "name": "stdout",
     "output_type": "stream",
     "text": [
      "Preprocessing Completed!\n"
     ]
    }
   ],
   "source": [
    "## Steps of preprocessing same as those done for training data\n",
    "\n",
    "df_new.columns = df_new.columns.str.strip()\n",
    "data_new=df_new.dropna()\n",
    "data_new.loc[:, :] = data_new.replace([np.inf, -np.inf], np.nan)\n",
    "data_new = data_new.dropna()\n",
    "X_new = data_new.drop('Label', axis=1)\n",
    "\n",
    "X_new_s = scaler_new.transform(X_new)\n",
    "X_pca = pca_new.transform(X_new_s)\n",
    "\n",
    "X_new = X_pca\n",
    "print('Preprocessing Completed!')"
   ]
  },
  {
   "cell_type": "code",
   "execution_count": 110,
   "id": "012c014a",
   "metadata": {
    "execution": {
     "iopub.execute_input": "2024-07-10T03:36:59.878989Z",
     "iopub.status.busy": "2024-07-10T03:36:59.878255Z",
     "iopub.status.idle": "2024-07-10T03:36:59.882875Z",
     "shell.execute_reply": "2024-07-10T03:36:59.882019Z"
    },
    "papermill": {
     "duration": 8.370233,
     "end_time": "2024-07-10T03:36:59.885164",
     "exception": false,
     "start_time": "2024-07-10T03:36:51.514931",
     "status": "completed"
    },
    "tags": []
   },
   "outputs": [
    {
     "name": "stdout",
     "output_type": "stream",
     "text": [
      "(65536, 29)\n"
     ]
    }
   ],
   "source": [
    "print(X_new.shape)"
   ]
  },
  {
   "cell_type": "code",
   "execution_count": 111,
   "id": "14827b2e",
   "metadata": {
    "execution": {
     "iopub.execute_input": "2024-07-10T03:37:16.491410Z",
     "iopub.status.busy": "2024-07-10T03:37:16.491057Z",
     "iopub.status.idle": "2024-07-10T03:37:16.500003Z",
     "shell.execute_reply": "2024-07-10T03:37:16.499203Z"
    },
    "papermill": {
     "duration": 8.459074,
     "end_time": "2024-07-10T03:37:16.501871",
     "exception": false,
     "start_time": "2024-07-10T03:37:08.042797",
     "status": "completed"
    },
    "tags": []
   },
   "outputs": [],
   "source": [
    "## Define the generator function\n",
    "\n",
    "from tensorflow.keras.utils import Sequence\n",
    "\n",
    "class NewDataGenerator(Sequence):\n",
    "    def __init__(self, data, window_size, batch_size):\n",
    "        super().__init__()\n",
    "        self.data = data\n",
    "        self.window_size = window_size \n",
    "        self.batch_size = batch_size\n",
    "        self.num_packets = data.shape[0]\n",
    "        self.num_windows = self.num_packets - window_size + 1\n",
    "    \n",
    "        \n",
    "    def __len__(self):\n",
    "        return int(np.ceil(self.num_windows / self.batch_size))\n",
    "\n",
    "    def __getitem__(self, index):\n",
    "               \n",
    "        start_idx = index * self.batch_size\n",
    "        end_idx = min((index + 1) * self.batch_size, self.num_windows)\n",
    "        \n",
    "        if start_idx >= self.num_windows:\n",
    "            raise IndexError(\"This index is out of range for the number of windows.\")\n",
    "\n",
    "        batch_windows = np.empty((end_idx - start_idx, self.window_size, self.data.shape[1]))\n",
    "    \n",
    "        for i in range(start_idx, end_idx):\n",
    "            batch_windows[i - start_idx] = self.data[i:i + self.window_size]\n",
    "        \n",
    "        batch_labels = np.zeros((end_idx - start_idx,))\n",
    "        \n",
    "        return batch_windows, batch_labels"
   ]
  },
  {
   "cell_type": "code",
   "execution_count": 112,
   "id": "60653104",
   "metadata": {
    "collapsed": true,
    "execution": {
     "iopub.execute_input": "2024-07-10T03:37:33.057910Z",
     "iopub.status.busy": "2024-07-10T03:37:33.056980Z",
     "iopub.status.idle": "2024-07-10T03:39:06.495704Z",
     "shell.execute_reply": "2024-07-10T03:39:06.494884Z"
    },
    "jupyter": {
     "outputs_hidden": true
    },
    "papermill": {
     "duration": 101.747347,
     "end_time": "2024-07-10T03:39:06.497834",
     "exception": false,
     "start_time": "2024-07-10T03:37:24.750487",
     "status": "completed"
    },
    "tags": []
   },
   "outputs": [
    {
     "name": "stdout",
     "output_type": "stream",
     "text": [
      "\u001b[1m2/2\u001b[0m \u001b[32m━━━━━━━━━━━━━━━━━━━━\u001b[0m\u001b[37m\u001b[0m \u001b[1m1s\u001b[0m 18ms/step \n",
      "\u001b[1m2/2\u001b[0m \u001b[32m━━━━━━━━━━━━━━━━━━━━\u001b[0m\u001b[37m\u001b[0m \u001b[1m0s\u001b[0m 18ms/step\n",
      "\u001b[1m2/2\u001b[0m \u001b[32m━━━━━━━━━━━━━━━━━━━━\u001b[0m\u001b[37m\u001b[0m \u001b[1m0s\u001b[0m 18ms/step\n",
      "\u001b[1m2/2\u001b[0m \u001b[32m━━━━━━━━━━━━━━━━━━━━\u001b[0m\u001b[37m\u001b[0m \u001b[1m0s\u001b[0m 18ms/step\n",
      "\u001b[1m2/2\u001b[0m \u001b[32m━━━━━━━━━━━━━━━━━━━━\u001b[0m\u001b[37m\u001b[0m \u001b[1m0s\u001b[0m 18ms/step\n",
      "\u001b[1m2/2\u001b[0m \u001b[32m━━━━━━━━━━━━━━━━━━━━\u001b[0m\u001b[37m\u001b[0m \u001b[1m0s\u001b[0m 18ms/step\n",
      "\u001b[1m2/2\u001b[0m \u001b[32m━━━━━━━━━━━━━━━━━━━━\u001b[0m\u001b[37m\u001b[0m \u001b[1m0s\u001b[0m 18ms/step\n",
      "\u001b[1m2/2\u001b[0m \u001b[32m━━━━━━━━━━━━━━━━━━━━\u001b[0m\u001b[37m\u001b[0m \u001b[1m0s\u001b[0m 18ms/step\n",
      "\u001b[1m2/2\u001b[0m \u001b[32m━━━━━━━━━━━━━━━━━━━━\u001b[0m\u001b[37m\u001b[0m \u001b[1m0s\u001b[0m 18ms/step\n",
      "\u001b[1m2/2\u001b[0m \u001b[32m━━━━━━━━━━━━━━━━━━━━\u001b[0m\u001b[37m\u001b[0m \u001b[1m0s\u001b[0m 18ms/step\n",
      "\u001b[1m2/2\u001b[0m \u001b[32m━━━━━━━━━━━━━━━━━━━━\u001b[0m\u001b[37m\u001b[0m \u001b[1m0s\u001b[0m 18ms/step\n",
      "\u001b[1m2/2\u001b[0m \u001b[32m━━━━━━━━━━━━━━━━━━━━\u001b[0m\u001b[37m\u001b[0m \u001b[1m0s\u001b[0m 18ms/step\n",
      "\u001b[1m2/2\u001b[0m \u001b[32m━━━━━━━━━━━━━━━━━━━━\u001b[0m\u001b[37m\u001b[0m \u001b[1m0s\u001b[0m 18ms/step\n",
      "\u001b[1m2/2\u001b[0m \u001b[32m━━━━━━━━━━━━━━━━━━━━\u001b[0m\u001b[37m\u001b[0m \u001b[1m0s\u001b[0m 18ms/step\n",
      "\u001b[1m2/2\u001b[0m \u001b[32m━━━━━━━━━━━━━━━━━━━━\u001b[0m\u001b[37m\u001b[0m \u001b[1m0s\u001b[0m 18ms/step\n",
      "\u001b[1m2/2\u001b[0m \u001b[32m━━━━━━━━━━━━━━━━━━━━\u001b[0m\u001b[37m\u001b[0m \u001b[1m0s\u001b[0m 19ms/step\n",
      "\u001b[1m2/2\u001b[0m \u001b[32m━━━━━━━━━━━━━━━━━━━━\u001b[0m\u001b[37m\u001b[0m \u001b[1m0s\u001b[0m 18ms/step\n",
      "\u001b[1m2/2\u001b[0m \u001b[32m━━━━━━━━━━━━━━━━━━━━\u001b[0m\u001b[37m\u001b[0m \u001b[1m0s\u001b[0m 18ms/step\n",
      "\u001b[1m2/2\u001b[0m \u001b[32m━━━━━━━━━━━━━━━━━━━━\u001b[0m\u001b[37m\u001b[0m \u001b[1m0s\u001b[0m 18ms/step\n",
      "\u001b[1m2/2\u001b[0m \u001b[32m━━━━━━━━━━━━━━━━━━━━\u001b[0m\u001b[37m\u001b[0m \u001b[1m0s\u001b[0m 18ms/step\n",
      "\u001b[1m2/2\u001b[0m \u001b[32m━━━━━━━━━━━━━━━━━━━━\u001b[0m\u001b[37m\u001b[0m \u001b[1m0s\u001b[0m 18ms/step\n",
      "\u001b[1m2/2\u001b[0m \u001b[32m━━━━━━━━━━━━━━━━━━━━\u001b[0m\u001b[37m\u001b[0m \u001b[1m0s\u001b[0m 18ms/step\n",
      "\u001b[1m2/2\u001b[0m \u001b[32m━━━━━━━━━━━━━━━━━━━━\u001b[0m\u001b[37m\u001b[0m \u001b[1m0s\u001b[0m 18ms/step\n",
      "\u001b[1m2/2\u001b[0m \u001b[32m━━━━━━━━━━━━━━━━━━━━\u001b[0m\u001b[37m\u001b[0m \u001b[1m0s\u001b[0m 18ms/step\n",
      "\u001b[1m2/2\u001b[0m \u001b[32m━━━━━━━━━━━━━━━━━━━━\u001b[0m\u001b[37m\u001b[0m \u001b[1m0s\u001b[0m 18ms/step\n",
      "\u001b[1m2/2\u001b[0m \u001b[32m━━━━━━━━━━━━━━━━━━━━\u001b[0m\u001b[37m\u001b[0m \u001b[1m0s\u001b[0m 18ms/step\n",
      "\u001b[1m2/2\u001b[0m \u001b[32m━━━━━━━━━━━━━━━━━━━━\u001b[0m\u001b[37m\u001b[0m \u001b[1m0s\u001b[0m 18ms/step\n",
      "\u001b[1m2/2\u001b[0m \u001b[32m━━━━━━━━━━━━━━━━━━━━\u001b[0m\u001b[37m\u001b[0m \u001b[1m0s\u001b[0m 18ms/step\n",
      "\u001b[1m2/2\u001b[0m \u001b[32m━━━━━━━━━━━━━━━━━━━━\u001b[0m\u001b[37m\u001b[0m \u001b[1m0s\u001b[0m 18ms/step\n",
      "\u001b[1m2/2\u001b[0m \u001b[32m━━━━━━━━━━━━━━━━━━━━\u001b[0m\u001b[37m\u001b[0m \u001b[1m0s\u001b[0m 18ms/step\n",
      "\u001b[1m2/2\u001b[0m \u001b[32m━━━━━━━━━━━━━━━━━━━━\u001b[0m\u001b[37m\u001b[0m \u001b[1m0s\u001b[0m 18ms/step\n",
      "\u001b[1m2/2\u001b[0m \u001b[32m━━━━━━━━━━━━━━━━━━━━\u001b[0m\u001b[37m\u001b[0m \u001b[1m0s\u001b[0m 18ms/step\n",
      "\u001b[1m2/2\u001b[0m \u001b[32m━━━━━━━━━━━━━━━━━━━━\u001b[0m\u001b[37m\u001b[0m \u001b[1m0s\u001b[0m 18ms/step\n",
      "\u001b[1m2/2\u001b[0m \u001b[32m━━━━━━━━━━━━━━━━━━━━\u001b[0m\u001b[37m\u001b[0m \u001b[1m0s\u001b[0m 18ms/step\n",
      "\u001b[1m2/2\u001b[0m \u001b[32m━━━━━━━━━━━━━━━━━━━━\u001b[0m\u001b[37m\u001b[0m \u001b[1m0s\u001b[0m 18ms/step\n",
      "\u001b[1m2/2\u001b[0m \u001b[32m━━━━━━━━━━━━━━━━━━━━\u001b[0m\u001b[37m\u001b[0m \u001b[1m0s\u001b[0m 18ms/step\n",
      "\u001b[1m2/2\u001b[0m \u001b[32m━━━━━━━━━━━━━━━━━━━━\u001b[0m\u001b[37m\u001b[0m \u001b[1m0s\u001b[0m 18ms/step\n",
      "\u001b[1m2/2\u001b[0m \u001b[32m━━━━━━━━━━━━━━━━━━━━\u001b[0m\u001b[37m\u001b[0m \u001b[1m0s\u001b[0m 18ms/step\n",
      "\u001b[1m2/2\u001b[0m \u001b[32m━━━━━━━━━━━━━━━━━━━━\u001b[0m\u001b[37m\u001b[0m \u001b[1m0s\u001b[0m 18ms/step\n",
      "\u001b[1m2/2\u001b[0m \u001b[32m━━━━━━━━━━━━━━━━━━━━\u001b[0m\u001b[37m\u001b[0m \u001b[1m0s\u001b[0m 18ms/step\n",
      "\u001b[1m2/2\u001b[0m \u001b[32m━━━━━━━━━━━━━━━━━━━━\u001b[0m\u001b[37m\u001b[0m \u001b[1m0s\u001b[0m 18ms/step\n",
      "\u001b[1m2/2\u001b[0m \u001b[32m━━━━━━━━━━━━━━━━━━━━\u001b[0m\u001b[37m\u001b[0m \u001b[1m0s\u001b[0m 19ms/step\n",
      "\u001b[1m2/2\u001b[0m \u001b[32m━━━━━━━━━━━━━━━━━━━━\u001b[0m\u001b[37m\u001b[0m \u001b[1m0s\u001b[0m 18ms/step\n",
      "\u001b[1m2/2\u001b[0m \u001b[32m━━━━━━━━━━━━━━━━━━━━\u001b[0m\u001b[37m\u001b[0m \u001b[1m0s\u001b[0m 17ms/step\n",
      "\u001b[1m2/2\u001b[0m \u001b[32m━━━━━━━━━━━━━━━━━━━━\u001b[0m\u001b[37m\u001b[0m \u001b[1m0s\u001b[0m 18ms/step\n",
      "\u001b[1m2/2\u001b[0m \u001b[32m━━━━━━━━━━━━━━━━━━━━\u001b[0m\u001b[37m\u001b[0m \u001b[1m0s\u001b[0m 18ms/step\n",
      "\u001b[1m2/2\u001b[0m \u001b[32m━━━━━━━━━━━━━━━━━━━━\u001b[0m\u001b[37m\u001b[0m \u001b[1m0s\u001b[0m 18ms/step\n",
      "\u001b[1m2/2\u001b[0m \u001b[32m━━━━━━━━━━━━━━━━━━━━\u001b[0m\u001b[37m\u001b[0m \u001b[1m0s\u001b[0m 18ms/step\n",
      "\u001b[1m2/2\u001b[0m \u001b[32m━━━━━━━━━━━━━━━━━━━━\u001b[0m\u001b[37m\u001b[0m \u001b[1m0s\u001b[0m 21ms/step\n",
      "\u001b[1m2/2\u001b[0m \u001b[32m━━━━━━━━━━━━━━━━━━━━\u001b[0m\u001b[37m\u001b[0m \u001b[1m0s\u001b[0m 18ms/step\n",
      "\u001b[1m2/2\u001b[0m \u001b[32m━━━━━━━━━━━━━━━━━━━━\u001b[0m\u001b[37m\u001b[0m \u001b[1m0s\u001b[0m 18ms/step\n",
      "\u001b[1m2/2\u001b[0m \u001b[32m━━━━━━━━━━━━━━━━━━━━\u001b[0m\u001b[37m\u001b[0m \u001b[1m0s\u001b[0m 18ms/step\n",
      "\u001b[1m2/2\u001b[0m \u001b[32m━━━━━━━━━━━━━━━━━━━━\u001b[0m\u001b[37m\u001b[0m \u001b[1m0s\u001b[0m 18ms/step\n",
      "\u001b[1m2/2\u001b[0m \u001b[32m━━━━━━━━━━━━━━━━━━━━\u001b[0m\u001b[37m\u001b[0m \u001b[1m0s\u001b[0m 18ms/step\n",
      "\u001b[1m2/2\u001b[0m \u001b[32m━━━━━━━━━━━━━━━━━━━━\u001b[0m\u001b[37m\u001b[0m \u001b[1m0s\u001b[0m 19ms/step\n",
      "\u001b[1m2/2\u001b[0m \u001b[32m━━━━━━━━━━━━━━━━━━━━\u001b[0m\u001b[37m\u001b[0m \u001b[1m0s\u001b[0m 18ms/step\n",
      "\u001b[1m2/2\u001b[0m \u001b[32m━━━━━━━━━━━━━━━━━━━━\u001b[0m\u001b[37m\u001b[0m \u001b[1m0s\u001b[0m 18ms/step\n",
      "\u001b[1m2/2\u001b[0m \u001b[32m━━━━━━━━━━━━━━━━━━━━\u001b[0m\u001b[37m\u001b[0m \u001b[1m0s\u001b[0m 18ms/step\n",
      "\u001b[1m2/2\u001b[0m \u001b[32m━━━━━━━━━━━━━━━━━━━━\u001b[0m\u001b[37m\u001b[0m \u001b[1m0s\u001b[0m 18ms/step\n",
      "\u001b[1m2/2\u001b[0m \u001b[32m━━━━━━━━━━━━━━━━━━━━\u001b[0m\u001b[37m\u001b[0m \u001b[1m0s\u001b[0m 18ms/step\n",
      "\u001b[1m2/2\u001b[0m \u001b[32m━━━━━━━━━━━━━━━━━━━━\u001b[0m\u001b[37m\u001b[0m \u001b[1m0s\u001b[0m 18ms/step\n",
      "\u001b[1m2/2\u001b[0m \u001b[32m━━━━━━━━━━━━━━━━━━━━\u001b[0m\u001b[37m\u001b[0m \u001b[1m0s\u001b[0m 18ms/step\n",
      "\u001b[1m2/2\u001b[0m \u001b[32m━━━━━━━━━━━━━━━━━━━━\u001b[0m\u001b[37m\u001b[0m \u001b[1m0s\u001b[0m 18ms/step\n",
      "\u001b[1m2/2\u001b[0m \u001b[32m━━━━━━━━━━━━━━━━━━━━\u001b[0m\u001b[37m\u001b[0m \u001b[1m0s\u001b[0m 18ms/step\n",
      "\u001b[1m2/2\u001b[0m \u001b[32m━━━━━━━━━━━━━━━━━━━━\u001b[0m\u001b[37m\u001b[0m \u001b[1m0s\u001b[0m 18ms/step\n",
      "\u001b[1m2/2\u001b[0m \u001b[32m━━━━━━━━━━━━━━━━━━━━\u001b[0m\u001b[37m\u001b[0m \u001b[1m0s\u001b[0m 18ms/step\n",
      "\u001b[1m2/2\u001b[0m \u001b[32m━━━━━━━━━━━━━━━━━━━━\u001b[0m\u001b[37m\u001b[0m \u001b[1m0s\u001b[0m 18ms/step\n",
      "\u001b[1m2/2\u001b[0m \u001b[32m━━━━━━━━━━━━━━━━━━━━\u001b[0m\u001b[37m\u001b[0m \u001b[1m0s\u001b[0m 18ms/step\n",
      "\u001b[1m2/2\u001b[0m \u001b[32m━━━━━━━━━━━━━━━━━━━━\u001b[0m\u001b[37m\u001b[0m \u001b[1m0s\u001b[0m 18ms/step\n",
      "\u001b[1m2/2\u001b[0m \u001b[32m━━━━━━━━━━━━━━━━━━━━\u001b[0m\u001b[37m\u001b[0m \u001b[1m0s\u001b[0m 18ms/step\n",
      "\u001b[1m2/2\u001b[0m \u001b[32m━━━━━━━━━━━━━━━━━━━━\u001b[0m\u001b[37m\u001b[0m \u001b[1m0s\u001b[0m 19ms/step\n",
      "\u001b[1m2/2\u001b[0m \u001b[32m━━━━━━━━━━━━━━━━━━━━\u001b[0m\u001b[37m\u001b[0m \u001b[1m0s\u001b[0m 18ms/step\n",
      "\u001b[1m2/2\u001b[0m \u001b[32m━━━━━━━━━━━━━━━━━━━━\u001b[0m\u001b[37m\u001b[0m \u001b[1m0s\u001b[0m 17ms/step\n",
      "\u001b[1m2/2\u001b[0m \u001b[32m━━━━━━━━━━━━━━━━━━━━\u001b[0m\u001b[37m\u001b[0m \u001b[1m0s\u001b[0m 18ms/step\n",
      "\u001b[1m2/2\u001b[0m \u001b[32m━━━━━━━━━━━━━━━━━━━━\u001b[0m\u001b[37m\u001b[0m \u001b[1m0s\u001b[0m 18ms/step\n",
      "\u001b[1m2/2\u001b[0m \u001b[32m━━━━━━━━━━━━━━━━━━━━\u001b[0m\u001b[37m\u001b[0m \u001b[1m0s\u001b[0m 18ms/step\n",
      "\u001b[1m2/2\u001b[0m \u001b[32m━━━━━━━━━━━━━━━━━━━━\u001b[0m\u001b[37m\u001b[0m \u001b[1m0s\u001b[0m 18ms/step\n",
      "\u001b[1m2/2\u001b[0m \u001b[32m━━━━━━━━━━━━━━━━━━━━\u001b[0m\u001b[37m\u001b[0m \u001b[1m0s\u001b[0m 18ms/step\n",
      "\u001b[1m2/2\u001b[0m \u001b[32m━━━━━━━━━━━━━━━━━━━━\u001b[0m\u001b[37m\u001b[0m \u001b[1m0s\u001b[0m 18ms/step\n",
      "\u001b[1m2/2\u001b[0m \u001b[32m━━━━━━━━━━━━━━━━━━━━\u001b[0m\u001b[37m\u001b[0m \u001b[1m0s\u001b[0m 18ms/step\n",
      "\u001b[1m2/2\u001b[0m \u001b[32m━━━━━━━━━━━━━━━━━━━━\u001b[0m\u001b[37m\u001b[0m \u001b[1m0s\u001b[0m 18ms/step\n",
      "\u001b[1m2/2\u001b[0m \u001b[32m━━━━━━━━━━━━━━━━━━━━\u001b[0m\u001b[37m\u001b[0m \u001b[1m0s\u001b[0m 18ms/step\n",
      "\u001b[1m2/2\u001b[0m \u001b[32m━━━━━━━━━━━━━━━━━━━━\u001b[0m\u001b[37m\u001b[0m \u001b[1m0s\u001b[0m 18ms/step\n",
      "\u001b[1m2/2\u001b[0m \u001b[32m━━━━━━━━━━━━━━━━━━━━\u001b[0m\u001b[37m\u001b[0m \u001b[1m0s\u001b[0m 18ms/step\n",
      "\u001b[1m2/2\u001b[0m \u001b[32m━━━━━━━━━━━━━━━━━━━━\u001b[0m\u001b[37m\u001b[0m \u001b[1m0s\u001b[0m 18ms/step\n",
      "\u001b[1m2/2\u001b[0m \u001b[32m━━━━━━━━━━━━━━━━━━━━\u001b[0m\u001b[37m\u001b[0m \u001b[1m0s\u001b[0m 18ms/step\n",
      "\u001b[1m2/2\u001b[0m \u001b[32m━━━━━━━━━━━━━━━━━━━━\u001b[0m\u001b[37m\u001b[0m \u001b[1m0s\u001b[0m 18ms/step\n",
      "\u001b[1m2/2\u001b[0m \u001b[32m━━━━━━━━━━━━━━━━━━━━\u001b[0m\u001b[37m\u001b[0m \u001b[1m0s\u001b[0m 18ms/step\n",
      "\u001b[1m2/2\u001b[0m \u001b[32m━━━━━━━━━━━━━━━━━━━━\u001b[0m\u001b[37m\u001b[0m \u001b[1m0s\u001b[0m 18ms/step\n",
      "\u001b[1m2/2\u001b[0m \u001b[32m━━━━━━━━━━━━━━━━━━━━\u001b[0m\u001b[37m\u001b[0m \u001b[1m0s\u001b[0m 18ms/step\n",
      "\u001b[1m2/2\u001b[0m \u001b[32m━━━━━━━━━━━━━━━━━━━━\u001b[0m\u001b[37m\u001b[0m \u001b[1m0s\u001b[0m 18ms/step\n",
      "\u001b[1m2/2\u001b[0m \u001b[32m━━━━━━━━━━━━━━━━━━━━\u001b[0m\u001b[37m\u001b[0m \u001b[1m0s\u001b[0m 18ms/step\n",
      "\u001b[1m2/2\u001b[0m \u001b[32m━━━━━━━━━━━━━━━━━━━━\u001b[0m\u001b[37m\u001b[0m \u001b[1m0s\u001b[0m 18ms/step\n",
      "\u001b[1m2/2\u001b[0m \u001b[32m━━━━━━━━━━━━━━━━━━━━\u001b[0m\u001b[37m\u001b[0m \u001b[1m0s\u001b[0m 18ms/step\n",
      "\u001b[1m2/2\u001b[0m \u001b[32m━━━━━━━━━━━━━━━━━━━━\u001b[0m\u001b[37m\u001b[0m \u001b[1m0s\u001b[0m 18ms/step\n",
      "\u001b[1m2/2\u001b[0m \u001b[32m━━━━━━━━━━━━━━━━━━━━\u001b[0m\u001b[37m\u001b[0m \u001b[1m0s\u001b[0m 18ms/step\n",
      "\u001b[1m2/2\u001b[0m \u001b[32m━━━━━━━━━━━━━━━━━━━━\u001b[0m\u001b[37m\u001b[0m \u001b[1m0s\u001b[0m 18ms/step\n",
      "\u001b[1m2/2\u001b[0m \u001b[32m━━━━━━━━━━━━━━━━━━━━\u001b[0m\u001b[37m\u001b[0m \u001b[1m0s\u001b[0m 18ms/step\n",
      "\u001b[1m2/2\u001b[0m \u001b[32m━━━━━━━━━━━━━━━━━━━━\u001b[0m\u001b[37m\u001b[0m \u001b[1m0s\u001b[0m 18ms/step\n",
      "\u001b[1m2/2\u001b[0m \u001b[32m━━━━━━━━━━━━━━━━━━━━\u001b[0m\u001b[37m\u001b[0m \u001b[1m0s\u001b[0m 18ms/step\n",
      "\u001b[1m2/2\u001b[0m \u001b[32m━━━━━━━━━━━━━━━━━━━━\u001b[0m\u001b[37m\u001b[0m \u001b[1m0s\u001b[0m 18ms/step\n",
      "\u001b[1m2/2\u001b[0m \u001b[32m━━━━━━━━━━━━━━━━━━━━\u001b[0m\u001b[37m\u001b[0m \u001b[1m0s\u001b[0m 18ms/step\n",
      "\u001b[1m2/2\u001b[0m \u001b[32m━━━━━━━━━━━━━━━━━━━━\u001b[0m\u001b[37m\u001b[0m \u001b[1m0s\u001b[0m 18ms/step\n",
      "\u001b[1m2/2\u001b[0m \u001b[32m━━━━━━━━━━━━━━━━━━━━\u001b[0m\u001b[37m\u001b[0m \u001b[1m0s\u001b[0m 18ms/step\n",
      "\u001b[1m2/2\u001b[0m \u001b[32m━━━━━━━━━━━━━━━━━━━━\u001b[0m\u001b[37m\u001b[0m \u001b[1m0s\u001b[0m 18ms/step\n",
      "\u001b[1m2/2\u001b[0m \u001b[32m━━━━━━━━━━━━━━━━━━━━\u001b[0m\u001b[37m\u001b[0m \u001b[1m0s\u001b[0m 18ms/step\n",
      "\u001b[1m2/2\u001b[0m \u001b[32m━━━━━━━━━━━━━━━━━━━━\u001b[0m\u001b[37m\u001b[0m \u001b[1m0s\u001b[0m 18ms/step\n",
      "\u001b[1m2/2\u001b[0m \u001b[32m━━━━━━━━━━━━━━━━━━━━\u001b[0m\u001b[37m\u001b[0m \u001b[1m0s\u001b[0m 18ms/step\n",
      "\u001b[1m2/2\u001b[0m \u001b[32m━━━━━━━━━━━━━━━━━━━━\u001b[0m\u001b[37m\u001b[0m \u001b[1m0s\u001b[0m 18ms/step\n",
      "\u001b[1m2/2\u001b[0m \u001b[32m━━━━━━━━━━━━━━━━━━━━\u001b[0m\u001b[37m\u001b[0m \u001b[1m0s\u001b[0m 18ms/step\n",
      "\u001b[1m2/2\u001b[0m \u001b[32m━━━━━━━━━━━━━━━━━━━━\u001b[0m\u001b[37m\u001b[0m \u001b[1m0s\u001b[0m 18ms/step\n",
      "\u001b[1m2/2\u001b[0m \u001b[32m━━━━━━━━━━━━━━━━━━━━\u001b[0m\u001b[37m\u001b[0m \u001b[1m0s\u001b[0m 18ms/step\n",
      "\u001b[1m2/2\u001b[0m \u001b[32m━━━━━━━━━━━━━━━━━━━━\u001b[0m\u001b[37m\u001b[0m \u001b[1m0s\u001b[0m 18ms/step\n",
      "\u001b[1m2/2\u001b[0m \u001b[32m━━━━━━━━━━━━━━━━━━━━\u001b[0m\u001b[37m\u001b[0m \u001b[1m0s\u001b[0m 18ms/step\n",
      "\u001b[1m2/2\u001b[0m \u001b[32m━━━━━━━━━━━━━━━━━━━━\u001b[0m\u001b[37m\u001b[0m \u001b[1m0s\u001b[0m 18ms/step\n",
      "\u001b[1m2/2\u001b[0m \u001b[32m━━━━━━━━━━━━━━━━━━━━\u001b[0m\u001b[37m\u001b[0m \u001b[1m0s\u001b[0m 18ms/step\n",
      "\u001b[1m2/2\u001b[0m \u001b[32m━━━━━━━━━━━━━━━━━━━━\u001b[0m\u001b[37m\u001b[0m \u001b[1m0s\u001b[0m 18ms/step\n",
      "\u001b[1m2/2\u001b[0m \u001b[32m━━━━━━━━━━━━━━━━━━━━\u001b[0m\u001b[37m\u001b[0m \u001b[1m0s\u001b[0m 18ms/step\n",
      "\u001b[1m2/2\u001b[0m \u001b[32m━━━━━━━━━━━━━━━━━━━━\u001b[0m\u001b[37m\u001b[0m \u001b[1m0s\u001b[0m 18ms/step\n",
      "\u001b[1m2/2\u001b[0m \u001b[32m━━━━━━━━━━━━━━━━━━━━\u001b[0m\u001b[37m\u001b[0m \u001b[1m0s\u001b[0m 19ms/step\n",
      "\u001b[1m2/2\u001b[0m \u001b[32m━━━━━━━━━━━━━━━━━━━━\u001b[0m\u001b[37m\u001b[0m \u001b[1m0s\u001b[0m 18ms/step\n",
      "\u001b[1m2/2\u001b[0m \u001b[32m━━━━━━━━━━━━━━━━━━━━\u001b[0m\u001b[37m\u001b[0m \u001b[1m0s\u001b[0m 18ms/step\n",
      "\u001b[1m2/2\u001b[0m \u001b[32m━━━━━━━━━━━━━━━━━━━━\u001b[0m\u001b[37m\u001b[0m \u001b[1m0s\u001b[0m 18ms/step\n",
      "\u001b[1m2/2\u001b[0m \u001b[32m━━━━━━━━━━━━━━━━━━━━\u001b[0m\u001b[37m\u001b[0m \u001b[1m0s\u001b[0m 18ms/step\n",
      "\u001b[1m2/2\u001b[0m \u001b[32m━━━━━━━━━━━━━━━━━━━━\u001b[0m\u001b[37m\u001b[0m \u001b[1m0s\u001b[0m 18ms/step\n",
      "\u001b[1m2/2\u001b[0m \u001b[32m━━━━━━━━━━━━━━━━━━━━\u001b[0m\u001b[37m\u001b[0m \u001b[1m0s\u001b[0m 18ms/step\n",
      "\u001b[1m2/2\u001b[0m \u001b[32m━━━━━━━━━━━━━━━━━━━━\u001b[0m\u001b[37m\u001b[0m \u001b[1m0s\u001b[0m 18ms/step\n",
      "\u001b[1m2/2\u001b[0m \u001b[32m━━━━━━━━━━━━━━━━━━━━\u001b[0m\u001b[37m\u001b[0m \u001b[1m0s\u001b[0m 18ms/step\n",
      "\u001b[1m2/2\u001b[0m \u001b[32m━━━━━━━━━━━━━━━━━━━━\u001b[0m\u001b[37m\u001b[0m \u001b[1m0s\u001b[0m 18ms/step\n",
      "\u001b[1m2/2\u001b[0m \u001b[32m━━━━━━━━━━━━━━━━━━━━\u001b[0m\u001b[37m\u001b[0m \u001b[1m0s\u001b[0m 18ms/step\n",
      "\u001b[1m2/2\u001b[0m \u001b[32m━━━━━━━━━━━━━━━━━━━━\u001b[0m\u001b[37m\u001b[0m \u001b[1m0s\u001b[0m 18ms/step\n",
      "\u001b[1m2/2\u001b[0m \u001b[32m━━━━━━━━━━━━━━━━━━━━\u001b[0m\u001b[37m\u001b[0m \u001b[1m0s\u001b[0m 18ms/step\n",
      "\u001b[1m2/2\u001b[0m \u001b[32m━━━━━━━━━━━━━━━━━━━━\u001b[0m\u001b[37m\u001b[0m \u001b[1m0s\u001b[0m 18ms/step\n",
      "\u001b[1m2/2\u001b[0m \u001b[32m━━━━━━━━━━━━━━━━━━━━\u001b[0m\u001b[37m\u001b[0m \u001b[1m0s\u001b[0m 18ms/step\n",
      "\u001b[1m2/2\u001b[0m \u001b[32m━━━━━━━━━━━━━━━━━━━━\u001b[0m\u001b[37m\u001b[0m \u001b[1m0s\u001b[0m 18ms/step\n",
      "\u001b[1m2/2\u001b[0m \u001b[32m━━━━━━━━━━━━━━━━━━━━\u001b[0m\u001b[37m\u001b[0m \u001b[1m0s\u001b[0m 18ms/step\n",
      "\u001b[1m2/2\u001b[0m \u001b[32m━━━━━━━━━━━━━━━━━━━━\u001b[0m\u001b[37m\u001b[0m \u001b[1m0s\u001b[0m 18ms/step\n",
      "\u001b[1m2/2\u001b[0m \u001b[32m━━━━━━━━━━━━━━━━━━━━\u001b[0m\u001b[37m\u001b[0m \u001b[1m0s\u001b[0m 18ms/step\n",
      "\u001b[1m2/2\u001b[0m \u001b[32m━━━━━━━━━━━━━━━━━━━━\u001b[0m\u001b[37m\u001b[0m \u001b[1m0s\u001b[0m 18ms/step\n",
      "\u001b[1m2/2\u001b[0m \u001b[32m━━━━━━━━━━━━━━━━━━━━\u001b[0m\u001b[37m\u001b[0m \u001b[1m0s\u001b[0m 18ms/step\n",
      "\u001b[1m2/2\u001b[0m \u001b[32m━━━━━━━━━━━━━━━━━━━━\u001b[0m\u001b[37m\u001b[0m \u001b[1m0s\u001b[0m 19ms/step\n",
      "\u001b[1m2/2\u001b[0m \u001b[32m━━━━━━━━━━━━━━━━━━━━\u001b[0m\u001b[37m\u001b[0m \u001b[1m0s\u001b[0m 18ms/step\n",
      "\u001b[1m2/2\u001b[0m \u001b[32m━━━━━━━━━━━━━━━━━━━━\u001b[0m\u001b[37m\u001b[0m \u001b[1m0s\u001b[0m 18ms/step\n",
      "\u001b[1m2/2\u001b[0m \u001b[32m━━━━━━━━━━━━━━━━━━━━\u001b[0m\u001b[37m\u001b[0m \u001b[1m0s\u001b[0m 18ms/step\n",
      "\u001b[1m2/2\u001b[0m \u001b[32m━━━━━━━━━━━━━━━━━━━━\u001b[0m\u001b[37m\u001b[0m \u001b[1m0s\u001b[0m 18ms/step\n",
      "\u001b[1m2/2\u001b[0m \u001b[32m━━━━━━━━━━━━━━━━━━━━\u001b[0m\u001b[37m\u001b[0m \u001b[1m0s\u001b[0m 19ms/step\n",
      "\u001b[1m2/2\u001b[0m \u001b[32m━━━━━━━━━━━━━━━━━━━━\u001b[0m\u001b[37m\u001b[0m \u001b[1m0s\u001b[0m 19ms/step\n",
      "\u001b[1m2/2\u001b[0m \u001b[32m━━━━━━━━━━━━━━━━━━━━\u001b[0m\u001b[37m\u001b[0m \u001b[1m0s\u001b[0m 18ms/step\n",
      "\u001b[1m2/2\u001b[0m \u001b[32m━━━━━━━━━━━━━━━━━━━━\u001b[0m\u001b[37m\u001b[0m \u001b[1m0s\u001b[0m 19ms/step\n",
      "\u001b[1m2/2\u001b[0m \u001b[32m━━━━━━━━━━━━━━━━━━━━\u001b[0m\u001b[37m\u001b[0m \u001b[1m0s\u001b[0m 18ms/step\n",
      "\u001b[1m2/2\u001b[0m \u001b[32m━━━━━━━━━━━━━━━━━━━━\u001b[0m\u001b[37m\u001b[0m \u001b[1m0s\u001b[0m 18ms/step\n",
      "\u001b[1m2/2\u001b[0m \u001b[32m━━━━━━━━━━━━━━━━━━━━\u001b[0m\u001b[37m\u001b[0m \u001b[1m0s\u001b[0m 18ms/step\n",
      "\u001b[1m2/2\u001b[0m \u001b[32m━━━━━━━━━━━━━━━━━━━━\u001b[0m\u001b[37m\u001b[0m \u001b[1m0s\u001b[0m 18ms/step\n",
      "\u001b[1m2/2\u001b[0m \u001b[32m━━━━━━━━━━━━━━━━━━━━\u001b[0m\u001b[37m\u001b[0m \u001b[1m0s\u001b[0m 18ms/step\n",
      "\u001b[1m2/2\u001b[0m \u001b[32m━━━━━━━━━━━━━━━━━━━━\u001b[0m\u001b[37m\u001b[0m \u001b[1m0s\u001b[0m 18ms/step\n",
      "\u001b[1m2/2\u001b[0m \u001b[32m━━━━━━━━━━━━━━━━━━━━\u001b[0m\u001b[37m\u001b[0m \u001b[1m0s\u001b[0m 18ms/step\n",
      "\u001b[1m2/2\u001b[0m \u001b[32m━━━━━━━━━━━━━━━━━━━━\u001b[0m\u001b[37m\u001b[0m \u001b[1m0s\u001b[0m 18ms/step\n",
      "\u001b[1m2/2\u001b[0m \u001b[32m━━━━━━━━━━━━━━━━━━━━\u001b[0m\u001b[37m\u001b[0m \u001b[1m0s\u001b[0m 18ms/step\n",
      "\u001b[1m2/2\u001b[0m \u001b[32m━━━━━━━━━━━━━━━━━━━━\u001b[0m\u001b[37m\u001b[0m \u001b[1m0s\u001b[0m 17ms/step\n",
      "\u001b[1m2/2\u001b[0m \u001b[32m━━━━━━━━━━━━━━━━━━━━\u001b[0m\u001b[37m\u001b[0m \u001b[1m0s\u001b[0m 18ms/step\n",
      "\u001b[1m2/2\u001b[0m \u001b[32m━━━━━━━━━━━━━━━━━━━━\u001b[0m\u001b[37m\u001b[0m \u001b[1m0s\u001b[0m 18ms/step\n",
      "\u001b[1m2/2\u001b[0m \u001b[32m━━━━━━━━━━━━━━━━━━━━\u001b[0m\u001b[37m\u001b[0m \u001b[1m0s\u001b[0m 18ms/step\n",
      "\u001b[1m2/2\u001b[0m \u001b[32m━━━━━━━━━━━━━━━━━━━━\u001b[0m\u001b[37m\u001b[0m \u001b[1m0s\u001b[0m 18ms/step\n",
      "\u001b[1m2/2\u001b[0m \u001b[32m━━━━━━━━━━━━━━━━━━━━\u001b[0m\u001b[37m\u001b[0m \u001b[1m0s\u001b[0m 18ms/step\n",
      "\u001b[1m2/2\u001b[0m \u001b[32m━━━━━━━━━━━━━━━━━━━━\u001b[0m\u001b[37m\u001b[0m \u001b[1m0s\u001b[0m 18ms/step\n",
      "\u001b[1m2/2\u001b[0m \u001b[32m━━━━━━━━━━━━━━━━━━━━\u001b[0m\u001b[37m\u001b[0m \u001b[1m0s\u001b[0m 18ms/step\n",
      "\u001b[1m2/2\u001b[0m \u001b[32m━━━━━━━━━━━━━━━━━━━━\u001b[0m\u001b[37m\u001b[0m \u001b[1m0s\u001b[0m 18ms/step\n",
      "\u001b[1m2/2\u001b[0m \u001b[32m━━━━━━━━━━━━━━━━━━━━\u001b[0m\u001b[37m\u001b[0m \u001b[1m0s\u001b[0m 18ms/step\n",
      "\u001b[1m2/2\u001b[0m \u001b[32m━━━━━━━━━━━━━━━━━━━━\u001b[0m\u001b[37m\u001b[0m \u001b[1m0s\u001b[0m 20ms/step\n",
      "\u001b[1m2/2\u001b[0m \u001b[32m━━━━━━━━━━━━━━━━━━━━\u001b[0m\u001b[37m\u001b[0m \u001b[1m0s\u001b[0m 19ms/step\n",
      "\u001b[1m2/2\u001b[0m \u001b[32m━━━━━━━━━━━━━━━━━━━━\u001b[0m\u001b[37m\u001b[0m \u001b[1m0s\u001b[0m 18ms/step\n",
      "\u001b[1m2/2\u001b[0m \u001b[32m━━━━━━━━━━━━━━━━━━━━\u001b[0m\u001b[37m\u001b[0m \u001b[1m0s\u001b[0m 18ms/step\n",
      "\u001b[1m2/2\u001b[0m \u001b[32m━━━━━━━━━━━━━━━━━━━━\u001b[0m\u001b[37m\u001b[0m \u001b[1m0s\u001b[0m 18ms/step\n",
      "\u001b[1m2/2\u001b[0m \u001b[32m━━━━━━━━━━━━━━━━━━━━\u001b[0m\u001b[37m\u001b[0m \u001b[1m0s\u001b[0m 18ms/step\n",
      "\u001b[1m2/2\u001b[0m \u001b[32m━━━━━━━━━━━━━━━━━━━━\u001b[0m\u001b[37m\u001b[0m \u001b[1m0s\u001b[0m 18ms/step\n",
      "\u001b[1m2/2\u001b[0m \u001b[32m━━━━━━━━━━━━━━━━━━━━\u001b[0m\u001b[37m\u001b[0m \u001b[1m0s\u001b[0m 18ms/step\n",
      "\u001b[1m2/2\u001b[0m \u001b[32m━━━━━━━━━━━━━━━━━━━━\u001b[0m\u001b[37m\u001b[0m \u001b[1m0s\u001b[0m 18ms/step\n",
      "\u001b[1m2/2\u001b[0m \u001b[32m━━━━━━━━━━━━━━━━━━━━\u001b[0m\u001b[37m\u001b[0m \u001b[1m0s\u001b[0m 18ms/step\n",
      "\u001b[1m2/2\u001b[0m \u001b[32m━━━━━━━━━━━━━━━━━━━━\u001b[0m\u001b[37m\u001b[0m \u001b[1m0s\u001b[0m 18ms/step\n",
      "\u001b[1m2/2\u001b[0m \u001b[32m━━━━━━━━━━━━━━━━━━━━\u001b[0m\u001b[37m\u001b[0m \u001b[1m0s\u001b[0m 18ms/step\n",
      "\u001b[1m2/2\u001b[0m \u001b[32m━━━━━━━━━━━━━━━━━━━━\u001b[0m\u001b[37m\u001b[0m \u001b[1m0s\u001b[0m 18ms/step\n",
      "\u001b[1m2/2\u001b[0m \u001b[32m━━━━━━━━━━━━━━━━━━━━\u001b[0m\u001b[37m\u001b[0m \u001b[1m0s\u001b[0m 18ms/step\n",
      "\u001b[1m2/2\u001b[0m \u001b[32m━━━━━━━━━━━━━━━━━━━━\u001b[0m\u001b[37m\u001b[0m \u001b[1m0s\u001b[0m 18ms/step\n",
      "\u001b[1m2/2\u001b[0m \u001b[32m━━━━━━━━━━━━━━━━━━━━\u001b[0m\u001b[37m\u001b[0m \u001b[1m0s\u001b[0m 18ms/step\n",
      "\u001b[1m2/2\u001b[0m \u001b[32m━━━━━━━━━━━━━━━━━━━━\u001b[0m\u001b[37m\u001b[0m \u001b[1m0s\u001b[0m 18ms/step\n",
      "\u001b[1m2/2\u001b[0m \u001b[32m━━━━━━━━━━━━━━━━━━━━\u001b[0m\u001b[37m\u001b[0m \u001b[1m0s\u001b[0m 19ms/step\n",
      "\u001b[1m2/2\u001b[0m \u001b[32m━━━━━━━━━━━━━━━━━━━━\u001b[0m\u001b[37m\u001b[0m \u001b[1m0s\u001b[0m 18ms/step\n",
      "\u001b[1m2/2\u001b[0m \u001b[32m━━━━━━━━━━━━━━━━━━━━\u001b[0m\u001b[37m\u001b[0m \u001b[1m0s\u001b[0m 18ms/step\n",
      "\u001b[1m2/2\u001b[0m \u001b[32m━━━━━━━━━━━━━━━━━━━━\u001b[0m\u001b[37m\u001b[0m \u001b[1m0s\u001b[0m 18ms/step\n",
      "\u001b[1m2/2\u001b[0m \u001b[32m━━━━━━━━━━━━━━━━━━━━\u001b[0m\u001b[37m\u001b[0m \u001b[1m0s\u001b[0m 19ms/step\n",
      "\u001b[1m2/2\u001b[0m \u001b[32m━━━━━━━━━━━━━━━━━━━━\u001b[0m\u001b[37m\u001b[0m \u001b[1m0s\u001b[0m 22ms/step\n",
      "\u001b[1m2/2\u001b[0m \u001b[32m━━━━━━━━━━━━━━━━━━━━\u001b[0m\u001b[37m\u001b[0m \u001b[1m0s\u001b[0m 18ms/step\n",
      "\u001b[1m2/2\u001b[0m \u001b[32m━━━━━━━━━━━━━━━━━━━━\u001b[0m\u001b[37m\u001b[0m \u001b[1m0s\u001b[0m 13ms/step\n",
      "\u001b[1m2/2\u001b[0m \u001b[32m━━━━━━━━━━━━━━━━━━━━\u001b[0m\u001b[37m\u001b[0m \u001b[1m0s\u001b[0m 25ms/step\n",
      "\u001b[1m2/2\u001b[0m \u001b[32m━━━━━━━━━━━━━━━━━━━━\u001b[0m\u001b[37m\u001b[0m \u001b[1m0s\u001b[0m 17ms/step\n",
      "\u001b[1m2/2\u001b[0m \u001b[32m━━━━━━━━━━━━━━━━━━━━\u001b[0m\u001b[37m\u001b[0m \u001b[1m0s\u001b[0m 17ms/step\n",
      "\u001b[1m2/2\u001b[0m \u001b[32m━━━━━━━━━━━━━━━━━━━━\u001b[0m\u001b[37m\u001b[0m \u001b[1m0s\u001b[0m 17ms/step\n",
      "\u001b[1m2/2\u001b[0m \u001b[32m━━━━━━━━━━━━━━━━━━━━\u001b[0m\u001b[37m\u001b[0m \u001b[1m0s\u001b[0m 17ms/step\n",
      "\u001b[1m2/2\u001b[0m \u001b[32m━━━━━━━━━━━━━━━━━━━━\u001b[0m\u001b[37m\u001b[0m \u001b[1m0s\u001b[0m 18ms/step\n",
      "\u001b[1m2/2\u001b[0m \u001b[32m━━━━━━━━━━━━━━━━━━━━\u001b[0m\u001b[37m\u001b[0m \u001b[1m0s\u001b[0m 13ms/step\n",
      "\u001b[1m2/2\u001b[0m \u001b[32m━━━━━━━━━━━━━━━━━━━━\u001b[0m\u001b[37m\u001b[0m \u001b[1m0s\u001b[0m 18ms/step\n",
      "\u001b[1m2/2\u001b[0m \u001b[32m━━━━━━━━━━━━━━━━━━━━\u001b[0m\u001b[37m\u001b[0m \u001b[1m0s\u001b[0m 18ms/step\n",
      "\u001b[1m2/2\u001b[0m \u001b[32m━━━━━━━━━━━━━━━━━━━━\u001b[0m\u001b[37m\u001b[0m \u001b[1m0s\u001b[0m 18ms/step\n",
      "\u001b[1m2/2\u001b[0m \u001b[32m━━━━━━━━━━━━━━━━━━━━\u001b[0m\u001b[37m\u001b[0m \u001b[1m0s\u001b[0m 19ms/step\n",
      "\u001b[1m2/2\u001b[0m \u001b[32m━━━━━━━━━━━━━━━━━━━━\u001b[0m\u001b[37m\u001b[0m \u001b[1m0s\u001b[0m 18ms/step\n",
      "\u001b[1m2/2\u001b[0m \u001b[32m━━━━━━━━━━━━━━━━━━━━\u001b[0m\u001b[37m\u001b[0m \u001b[1m0s\u001b[0m 18ms/step\n",
      "\u001b[1m2/2\u001b[0m \u001b[32m━━━━━━━━━━━━━━━━━━━━\u001b[0m\u001b[37m\u001b[0m \u001b[1m0s\u001b[0m 18ms/step\n",
      "\u001b[1m2/2\u001b[0m \u001b[32m━━━━━━━━━━━━━━━━━━━━\u001b[0m\u001b[37m\u001b[0m \u001b[1m0s\u001b[0m 19ms/step\n",
      "\u001b[1m2/2\u001b[0m \u001b[32m━━━━━━━━━━━━━━━━━━━━\u001b[0m\u001b[37m\u001b[0m \u001b[1m0s\u001b[0m 18ms/step\n",
      "\u001b[1m2/2\u001b[0m \u001b[32m━━━━━━━━━━━━━━━━━━━━\u001b[0m\u001b[37m\u001b[0m \u001b[1m0s\u001b[0m 17ms/step\n",
      "\u001b[1m2/2\u001b[0m \u001b[32m━━━━━━━━━━━━━━━━━━━━\u001b[0m\u001b[37m\u001b[0m \u001b[1m0s\u001b[0m 18ms/step\n",
      "\u001b[1m2/2\u001b[0m \u001b[32m━━━━━━━━━━━━━━━━━━━━\u001b[0m\u001b[37m\u001b[0m \u001b[1m0s\u001b[0m 18ms/step\n",
      "\u001b[1m2/2\u001b[0m \u001b[32m━━━━━━━━━━━━━━━━━━━━\u001b[0m\u001b[37m\u001b[0m \u001b[1m0s\u001b[0m 18ms/step\n",
      "\u001b[1m2/2\u001b[0m \u001b[32m━━━━━━━━━━━━━━━━━━━━\u001b[0m\u001b[37m\u001b[0m \u001b[1m0s\u001b[0m 18ms/step\n",
      "\u001b[1m2/2\u001b[0m \u001b[32m━━━━━━━━━━━━━━━━━━━━\u001b[0m\u001b[37m\u001b[0m \u001b[1m0s\u001b[0m 18ms/step\n",
      "\u001b[1m2/2\u001b[0m \u001b[32m━━━━━━━━━━━━━━━━━━━━\u001b[0m\u001b[37m\u001b[0m \u001b[1m0s\u001b[0m 18ms/step\n",
      "\u001b[1m2/2\u001b[0m \u001b[32m━━━━━━━━━━━━━━━━━━━━\u001b[0m\u001b[37m\u001b[0m \u001b[1m0s\u001b[0m 19ms/step\n",
      "\u001b[1m2/2\u001b[0m \u001b[32m━━━━━━━━━━━━━━━━━━━━\u001b[0m\u001b[37m\u001b[0m \u001b[1m0s\u001b[0m 18ms/step\n",
      "\u001b[1m2/2\u001b[0m \u001b[32m━━━━━━━━━━━━━━━━━━━━\u001b[0m\u001b[37m\u001b[0m \u001b[1m0s\u001b[0m 18ms/step\n",
      "\u001b[1m2/2\u001b[0m \u001b[32m━━━━━━━━━━━━━━━━━━━━\u001b[0m\u001b[37m\u001b[0m \u001b[1m0s\u001b[0m 18ms/step\n",
      "\u001b[1m2/2\u001b[0m \u001b[32m━━━━━━━━━━━━━━━━━━━━\u001b[0m\u001b[37m\u001b[0m \u001b[1m0s\u001b[0m 18ms/step\n",
      "\u001b[1m2/2\u001b[0m \u001b[32m━━━━━━━━━━━━━━━━━━━━\u001b[0m\u001b[37m\u001b[0m \u001b[1m0s\u001b[0m 19ms/step\n",
      "\u001b[1m2/2\u001b[0m \u001b[32m━━━━━━━━━━━━━━━━━━━━\u001b[0m\u001b[37m\u001b[0m \u001b[1m0s\u001b[0m 18ms/step\n",
      "\u001b[1m2/2\u001b[0m \u001b[32m━━━━━━━━━━━━━━━━━━━━\u001b[0m\u001b[37m\u001b[0m \u001b[1m0s\u001b[0m 18ms/step\n",
      "\u001b[1m2/2\u001b[0m \u001b[32m━━━━━━━━━━━━━━━━━━━━\u001b[0m\u001b[37m\u001b[0m \u001b[1m0s\u001b[0m 18ms/step\n",
      "\u001b[1m2/2\u001b[0m \u001b[32m━━━━━━━━━━━━━━━━━━━━\u001b[0m\u001b[37m\u001b[0m \u001b[1m0s\u001b[0m 18ms/step\n",
      "\u001b[1m2/2\u001b[0m \u001b[32m━━━━━━━━━━━━━━━━━━━━\u001b[0m\u001b[37m\u001b[0m \u001b[1m0s\u001b[0m 18ms/step\n",
      "\u001b[1m2/2\u001b[0m \u001b[32m━━━━━━━━━━━━━━━━━━━━\u001b[0m\u001b[37m\u001b[0m \u001b[1m0s\u001b[0m 18ms/step\n",
      "\u001b[1m2/2\u001b[0m \u001b[32m━━━━━━━━━━━━━━━━━━━━\u001b[0m\u001b[37m\u001b[0m \u001b[1m0s\u001b[0m 18ms/step\n",
      "\u001b[1m2/2\u001b[0m \u001b[32m━━━━━━━━━━━━━━━━━━━━\u001b[0m\u001b[37m\u001b[0m \u001b[1m0s\u001b[0m 18ms/step\n",
      "\u001b[1m2/2\u001b[0m \u001b[32m━━━━━━━━━━━━━━━━━━━━\u001b[0m\u001b[37m\u001b[0m \u001b[1m0s\u001b[0m 18ms/step\n",
      "\u001b[1m2/2\u001b[0m \u001b[32m━━━━━━━━━━━━━━━━━━━━\u001b[0m\u001b[37m\u001b[0m \u001b[1m0s\u001b[0m 18ms/step\n",
      "\u001b[1m2/2\u001b[0m \u001b[32m━━━━━━━━━━━━━━━━━━━━\u001b[0m\u001b[37m\u001b[0m \u001b[1m0s\u001b[0m 18ms/step\n",
      "\u001b[1m2/2\u001b[0m \u001b[32m━━━━━━━━━━━━━━━━━━━━\u001b[0m\u001b[37m\u001b[0m \u001b[1m0s\u001b[0m 17ms/step\n",
      "\u001b[1m2/2\u001b[0m \u001b[32m━━━━━━━━━━━━━━━━━━━━\u001b[0m\u001b[37m\u001b[0m \u001b[1m0s\u001b[0m 18ms/step\n",
      "\u001b[1m2/2\u001b[0m \u001b[32m━━━━━━━━━━━━━━━━━━━━\u001b[0m\u001b[37m\u001b[0m \u001b[1m0s\u001b[0m 18ms/step\n",
      "\u001b[1m2/2\u001b[0m \u001b[32m━━━━━━━━━━━━━━━━━━━━\u001b[0m\u001b[37m\u001b[0m \u001b[1m0s\u001b[0m 18ms/step\n",
      "\u001b[1m2/2\u001b[0m \u001b[32m━━━━━━━━━━━━━━━━━━━━\u001b[0m\u001b[37m\u001b[0m \u001b[1m0s\u001b[0m 18ms/step\n",
      "\u001b[1m2/2\u001b[0m \u001b[32m━━━━━━━━━━━━━━━━━━━━\u001b[0m\u001b[37m\u001b[0m \u001b[1m0s\u001b[0m 18ms/step\n",
      "\u001b[1m2/2\u001b[0m \u001b[32m━━━━━━━━━━━━━━━━━━━━\u001b[0m\u001b[37m\u001b[0m \u001b[1m0s\u001b[0m 18ms/step\n",
      "\u001b[1m2/2\u001b[0m \u001b[32m━━━━━━━━━━━━━━━━━━━━\u001b[0m\u001b[37m\u001b[0m \u001b[1m0s\u001b[0m 18ms/step\n",
      "\u001b[1m2/2\u001b[0m \u001b[32m━━━━━━━━━━━━━━━━━━━━\u001b[0m\u001b[37m\u001b[0m \u001b[1m0s\u001b[0m 18ms/step\n",
      "\u001b[1m2/2\u001b[0m \u001b[32m━━━━━━━━━━━━━━━━━━━━\u001b[0m\u001b[37m\u001b[0m \u001b[1m0s\u001b[0m 17ms/step\n",
      "\u001b[1m2/2\u001b[0m \u001b[32m━━━━━━━━━━━━━━━━━━━━\u001b[0m\u001b[37m\u001b[0m \u001b[1m0s\u001b[0m 18ms/step\n",
      "\u001b[1m2/2\u001b[0m \u001b[32m━━━━━━━━━━━━━━━━━━━━\u001b[0m\u001b[37m\u001b[0m \u001b[1m0s\u001b[0m 18ms/step\n",
      "\u001b[1m2/2\u001b[0m \u001b[32m━━━━━━━━━━━━━━━━━━━━\u001b[0m\u001b[37m\u001b[0m \u001b[1m0s\u001b[0m 18ms/step\n",
      "\u001b[1m2/2\u001b[0m \u001b[32m━━━━━━━━━━━━━━━━━━━━\u001b[0m\u001b[37m\u001b[0m \u001b[1m0s\u001b[0m 18ms/step\n",
      "\u001b[1m2/2\u001b[0m \u001b[32m━━━━━━━━━━━━━━━━━━━━\u001b[0m\u001b[37m\u001b[0m \u001b[1m0s\u001b[0m 18ms/step\n",
      "\u001b[1m2/2\u001b[0m \u001b[32m━━━━━━━━━━━━━━━━━━━━\u001b[0m\u001b[37m\u001b[0m \u001b[1m0s\u001b[0m 18ms/step\n",
      "\u001b[1m2/2\u001b[0m \u001b[32m━━━━━━━━━━━━━━━━━━━━\u001b[0m\u001b[37m\u001b[0m \u001b[1m0s\u001b[0m 18ms/step\n",
      "\u001b[1m2/2\u001b[0m \u001b[32m━━━━━━━━━━━━━━━━━━━━\u001b[0m\u001b[37m\u001b[0m \u001b[1m0s\u001b[0m 18ms/step\n",
      "\u001b[1m2/2\u001b[0m \u001b[32m━━━━━━━━━━━━━━━━━━━━\u001b[0m\u001b[37m\u001b[0m \u001b[1m0s\u001b[0m 18ms/step\n",
      "\u001b[1m2/2\u001b[0m \u001b[32m━━━━━━━━━━━━━━━━━━━━\u001b[0m\u001b[37m\u001b[0m \u001b[1m0s\u001b[0m 18ms/step\n",
      "\u001b[1m2/2\u001b[0m \u001b[32m━━━━━━━━━━━━━━━━━━━━\u001b[0m\u001b[37m\u001b[0m \u001b[1m0s\u001b[0m 18ms/step\n",
      "\u001b[1m2/2\u001b[0m \u001b[32m━━━━━━━━━━━━━━━━━━━━\u001b[0m\u001b[37m\u001b[0m \u001b[1m0s\u001b[0m 18ms/step\n",
      "\u001b[1m2/2\u001b[0m \u001b[32m━━━━━━━━━━━━━━━━━━━━\u001b[0m\u001b[37m\u001b[0m \u001b[1m0s\u001b[0m 18ms/step\n",
      "\u001b[1m2/2\u001b[0m \u001b[32m━━━━━━━━━━━━━━━━━━━━\u001b[0m\u001b[37m\u001b[0m \u001b[1m0s\u001b[0m 18ms/step\n",
      "\u001b[1m2/2\u001b[0m \u001b[32m━━━━━━━━━━━━━━━━━━━━\u001b[0m\u001b[37m\u001b[0m \u001b[1m0s\u001b[0m 18ms/step\n",
      "\u001b[1m2/2\u001b[0m \u001b[32m━━━━━━━━━━━━━━━━━━━━\u001b[0m\u001b[37m\u001b[0m \u001b[1m0s\u001b[0m 18ms/step\n",
      "\u001b[1m2/2\u001b[0m \u001b[32m━━━━━━━━━━━━━━━━━━━━\u001b[0m\u001b[37m\u001b[0m \u001b[1m0s\u001b[0m 18ms/step\n",
      "\u001b[1m2/2\u001b[0m \u001b[32m━━━━━━━━━━━━━━━━━━━━\u001b[0m\u001b[37m\u001b[0m \u001b[1m0s\u001b[0m 18ms/step\n",
      "\u001b[1m2/2\u001b[0m \u001b[32m━━━━━━━━━━━━━━━━━━━━\u001b[0m\u001b[37m\u001b[0m \u001b[1m0s\u001b[0m 18ms/step\n",
      "\u001b[1m2/2\u001b[0m \u001b[32m━━━━━━━━━━━━━━━━━━━━\u001b[0m\u001b[37m\u001b[0m \u001b[1m0s\u001b[0m 18ms/step\n",
      "\u001b[1m2/2\u001b[0m \u001b[32m━━━━━━━━━━━━━━━━━━━━\u001b[0m\u001b[37m\u001b[0m \u001b[1m0s\u001b[0m 18ms/step\n",
      "\u001b[1m2/2\u001b[0m \u001b[32m━━━━━━━━━━━━━━━━━━━━\u001b[0m\u001b[37m\u001b[0m \u001b[1m0s\u001b[0m 17ms/step\n",
      "\u001b[1m2/2\u001b[0m \u001b[32m━━━━━━━━━━━━━━━━━━━━\u001b[0m\u001b[37m\u001b[0m \u001b[1m0s\u001b[0m 18ms/step\n",
      "\u001b[1m2/2\u001b[0m \u001b[32m━━━━━━━━━━━━━━━━━━━━\u001b[0m\u001b[37m\u001b[0m \u001b[1m0s\u001b[0m 18ms/step\n",
      "\u001b[1m2/2\u001b[0m \u001b[32m━━━━━━━━━━━━━━━━━━━━\u001b[0m\u001b[37m\u001b[0m \u001b[1m0s\u001b[0m 17ms/step\n",
      "\u001b[1m2/2\u001b[0m \u001b[32m━━━━━━━━━━━━━━━━━━━━\u001b[0m\u001b[37m\u001b[0m \u001b[1m0s\u001b[0m 16ms/step\n",
      "\u001b[1m2/2\u001b[0m \u001b[32m━━━━━━━━━━━━━━━━━━━━\u001b[0m\u001b[37m\u001b[0m \u001b[1m0s\u001b[0m 18ms/step\n",
      "\u001b[1m2/2\u001b[0m \u001b[32m━━━━━━━━━━━━━━━━━━━━\u001b[0m\u001b[37m\u001b[0m \u001b[1m0s\u001b[0m 18ms/step\n",
      "\u001b[1m2/2\u001b[0m \u001b[32m━━━━━━━━━━━━━━━━━━━━\u001b[0m\u001b[37m\u001b[0m \u001b[1m0s\u001b[0m 18ms/step\n",
      "\u001b[1m2/2\u001b[0m \u001b[32m━━━━━━━━━━━━━━━━━━━━\u001b[0m\u001b[37m\u001b[0m \u001b[1m0s\u001b[0m 18ms/step\n",
      "\u001b[1m2/2\u001b[0m \u001b[32m━━━━━━━━━━━━━━━━━━━━\u001b[0m\u001b[37m\u001b[0m \u001b[1m0s\u001b[0m 18ms/step\n",
      "\u001b[1m2/2\u001b[0m \u001b[32m━━━━━━━━━━━━━━━━━━━━\u001b[0m\u001b[37m\u001b[0m \u001b[1m0s\u001b[0m 18ms/step\n",
      "\u001b[1m2/2\u001b[0m \u001b[32m━━━━━━━━━━━━━━━━━━━━\u001b[0m\u001b[37m\u001b[0m \u001b[1m0s\u001b[0m 20ms/step\n",
      "\u001b[1m2/2\u001b[0m \u001b[32m━━━━━━━━━━━━━━━━━━━━\u001b[0m\u001b[37m\u001b[0m \u001b[1m0s\u001b[0m 18ms/step\n",
      "\u001b[1m2/2\u001b[0m \u001b[32m━━━━━━━━━━━━━━━━━━━━\u001b[0m\u001b[37m\u001b[0m \u001b[1m0s\u001b[0m 18ms/step\n",
      "\u001b[1m2/2\u001b[0m \u001b[32m━━━━━━━━━━━━━━━━━━━━\u001b[0m\u001b[37m\u001b[0m \u001b[1m0s\u001b[0m 18ms/step\n",
      "\u001b[1m2/2\u001b[0m \u001b[32m━━━━━━━━━━━━━━━━━━━━\u001b[0m\u001b[37m\u001b[0m \u001b[1m0s\u001b[0m 19ms/step\n",
      "\u001b[1m2/2\u001b[0m \u001b[32m━━━━━━━━━━━━━━━━━━━━\u001b[0m\u001b[37m\u001b[0m \u001b[1m0s\u001b[0m 18ms/step\n",
      "\u001b[1m2/2\u001b[0m \u001b[32m━━━━━━━━━━━━━━━━━━━━\u001b[0m\u001b[37m\u001b[0m \u001b[1m0s\u001b[0m 18ms/step\n",
      "\u001b[1m2/2\u001b[0m \u001b[32m━━━━━━━━━━━━━━━━━━━━\u001b[0m\u001b[37m\u001b[0m \u001b[1m0s\u001b[0m 18ms/step\n",
      "\u001b[1m2/2\u001b[0m \u001b[32m━━━━━━━━━━━━━━━━━━━━\u001b[0m\u001b[37m\u001b[0m \u001b[1m0s\u001b[0m 18ms/step\n",
      "\u001b[1m2/2\u001b[0m \u001b[32m━━━━━━━━━━━━━━━━━━━━\u001b[0m\u001b[37m\u001b[0m \u001b[1m0s\u001b[0m 18ms/step\n",
      "\u001b[1m2/2\u001b[0m \u001b[32m━━━━━━━━━━━━━━━━━━━━\u001b[0m\u001b[37m\u001b[0m \u001b[1m0s\u001b[0m 18ms/step\n",
      "\u001b[1m2/2\u001b[0m \u001b[32m━━━━━━━━━━━━━━━━━━━━\u001b[0m\u001b[37m\u001b[0m \u001b[1m0s\u001b[0m 18ms/step\n",
      "\u001b[1m2/2\u001b[0m \u001b[32m━━━━━━━━━━━━━━━━━━━━\u001b[0m\u001b[37m\u001b[0m \u001b[1m0s\u001b[0m 19ms/step\n",
      "\u001b[1m2/2\u001b[0m \u001b[32m━━━━━━━━━━━━━━━━━━━━\u001b[0m\u001b[37m\u001b[0m \u001b[1m0s\u001b[0m 18ms/step\n",
      "\u001b[1m2/2\u001b[0m \u001b[32m━━━━━━━━━━━━━━━━━━━━\u001b[0m\u001b[37m\u001b[0m \u001b[1m0s\u001b[0m 18ms/step\n",
      "\u001b[1m2/2\u001b[0m \u001b[32m━━━━━━━━━━━━━━━━━━━━\u001b[0m\u001b[37m\u001b[0m \u001b[1m0s\u001b[0m 18ms/step\n",
      "\u001b[1m2/2\u001b[0m \u001b[32m━━━━━━━━━━━━━━━━━━━━\u001b[0m\u001b[37m\u001b[0m \u001b[1m0s\u001b[0m 18ms/step\n",
      "\u001b[1m2/2\u001b[0m \u001b[32m━━━━━━━━━━━━━━━━━━━━\u001b[0m\u001b[37m\u001b[0m \u001b[1m0s\u001b[0m 18ms/step\n",
      "\u001b[1m2/2\u001b[0m \u001b[32m━━━━━━━━━━━━━━━━━━━━\u001b[0m\u001b[37m\u001b[0m \u001b[1m0s\u001b[0m 18ms/step\n",
      "\u001b[1m2/2\u001b[0m \u001b[32m━━━━━━━━━━━━━━━━━━━━\u001b[0m\u001b[37m\u001b[0m \u001b[1m0s\u001b[0m 18ms/step\n",
      "\u001b[1m2/2\u001b[0m \u001b[32m━━━━━━━━━━━━━━━━━━━━\u001b[0m\u001b[37m\u001b[0m \u001b[1m0s\u001b[0m 18ms/step\n",
      "\u001b[1m2/2\u001b[0m \u001b[32m━━━━━━━━━━━━━━━━━━━━\u001b[0m\u001b[37m\u001b[0m \u001b[1m0s\u001b[0m 18ms/step\n",
      "\u001b[1m2/2\u001b[0m \u001b[32m━━━━━━━━━━━━━━━━━━━━\u001b[0m\u001b[37m\u001b[0m \u001b[1m0s\u001b[0m 18ms/step\n",
      "\u001b[1m2/2\u001b[0m \u001b[32m━━━━━━━━━━━━━━━━━━━━\u001b[0m\u001b[37m\u001b[0m \u001b[1m0s\u001b[0m 18ms/step\n",
      "\u001b[1m2/2\u001b[0m \u001b[32m━━━━━━━━━━━━━━━━━━━━\u001b[0m\u001b[37m\u001b[0m \u001b[1m0s\u001b[0m 18ms/step\n",
      "\u001b[1m2/2\u001b[0m \u001b[32m━━━━━━━━━━━━━━━━━━━━\u001b[0m\u001b[37m\u001b[0m \u001b[1m0s\u001b[0m 18ms/step\n",
      "\u001b[1m2/2\u001b[0m \u001b[32m━━━━━━━━━━━━━━━━━━━━\u001b[0m\u001b[37m\u001b[0m \u001b[1m0s\u001b[0m 18ms/step\n",
      "\u001b[1m2/2\u001b[0m \u001b[32m━━━━━━━━━━━━━━━━━━━━\u001b[0m\u001b[37m\u001b[0m \u001b[1m0s\u001b[0m 18ms/step\n",
      "\u001b[1m2/2\u001b[0m \u001b[32m━━━━━━━━━━━━━━━━━━━━\u001b[0m\u001b[37m\u001b[0m \u001b[1m0s\u001b[0m 18ms/step\n",
      "\u001b[1m2/2\u001b[0m \u001b[32m━━━━━━━━━━━━━━━━━━━━\u001b[0m\u001b[37m\u001b[0m \u001b[1m0s\u001b[0m 18ms/step\n",
      "\u001b[1m2/2\u001b[0m \u001b[32m━━━━━━━━━━━━━━━━━━━━\u001b[0m\u001b[37m\u001b[0m \u001b[1m0s\u001b[0m 18ms/step\n",
      "\u001b[1m2/2\u001b[0m \u001b[32m━━━━━━━━━━━━━━━━━━━━\u001b[0m\u001b[37m\u001b[0m \u001b[1m0s\u001b[0m 18ms/step\n",
      "\u001b[1m2/2\u001b[0m \u001b[32m━━━━━━━━━━━━━━━━━━━━\u001b[0m\u001b[37m\u001b[0m \u001b[1m0s\u001b[0m 18ms/step\n",
      "\u001b[1m2/2\u001b[0m \u001b[32m━━━━━━━━━━━━━━━━━━━━\u001b[0m\u001b[37m\u001b[0m \u001b[1m0s\u001b[0m 18ms/step\n",
      "\u001b[1m2/2\u001b[0m \u001b[32m━━━━━━━━━━━━━━━━━━━━\u001b[0m\u001b[37m\u001b[0m \u001b[1m0s\u001b[0m 18ms/step\n",
      "\u001b[1m2/2\u001b[0m \u001b[32m━━━━━━━━━━━━━━━━━━━━\u001b[0m\u001b[37m\u001b[0m \u001b[1m0s\u001b[0m 18ms/step\n",
      "\u001b[1m2/2\u001b[0m \u001b[32m━━━━━━━━━━━━━━━━━━━━\u001b[0m\u001b[37m\u001b[0m \u001b[1m0s\u001b[0m 18ms/step\n",
      "\u001b[1m2/2\u001b[0m \u001b[32m━━━━━━━━━━━━━━━━━━━━\u001b[0m\u001b[37m\u001b[0m \u001b[1m0s\u001b[0m 18ms/step\n",
      "\u001b[1m2/2\u001b[0m \u001b[32m━━━━━━━━━━━━━━━━━━━━\u001b[0m\u001b[37m\u001b[0m \u001b[1m0s\u001b[0m 18ms/step\n",
      "\u001b[1m2/2\u001b[0m \u001b[32m━━━━━━━━━━━━━━━━━━━━\u001b[0m\u001b[37m\u001b[0m \u001b[1m0s\u001b[0m 18ms/step\n",
      "\u001b[1m2/2\u001b[0m \u001b[32m━━━━━━━━━━━━━━━━━━━━\u001b[0m\u001b[37m\u001b[0m \u001b[1m0s\u001b[0m 18ms/step\n",
      "\u001b[1m2/2\u001b[0m \u001b[32m━━━━━━━━━━━━━━━━━━━━\u001b[0m\u001b[37m\u001b[0m \u001b[1m0s\u001b[0m 18ms/step\n",
      "\u001b[1m2/2\u001b[0m \u001b[32m━━━━━━━━━━━━━━━━━━━━\u001b[0m\u001b[37m\u001b[0m \u001b[1m0s\u001b[0m 18ms/step\n",
      "\u001b[1m2/2\u001b[0m \u001b[32m━━━━━━━━━━━━━━━━━━━━\u001b[0m\u001b[37m\u001b[0m \u001b[1m0s\u001b[0m 18ms/step\n",
      "\u001b[1m2/2\u001b[0m \u001b[32m━━━━━━━━━━━━━━━━━━━━\u001b[0m\u001b[37m\u001b[0m \u001b[1m0s\u001b[0m 19ms/step\n",
      "\u001b[1m2/2\u001b[0m \u001b[32m━━━━━━━━━━━━━━━━━━━━\u001b[0m\u001b[37m\u001b[0m \u001b[1m0s\u001b[0m 18ms/step\n",
      "\u001b[1m2/2\u001b[0m \u001b[32m━━━━━━━━━━━━━━━━━━━━\u001b[0m\u001b[37m\u001b[0m \u001b[1m0s\u001b[0m 18ms/step\n",
      "\u001b[1m2/2\u001b[0m \u001b[32m━━━━━━━━━━━━━━━━━━━━\u001b[0m\u001b[37m\u001b[0m \u001b[1m0s\u001b[0m 18ms/step\n",
      "\u001b[1m2/2\u001b[0m \u001b[32m━━━━━━━━━━━━━━━━━━━━\u001b[0m\u001b[37m\u001b[0m \u001b[1m0s\u001b[0m 18ms/step\n",
      "\u001b[1m2/2\u001b[0m \u001b[32m━━━━━━━━━━━━━━━━━━━━\u001b[0m\u001b[37m\u001b[0m \u001b[1m0s\u001b[0m 18ms/step\n",
      "\u001b[1m2/2\u001b[0m \u001b[32m━━━━━━━━━━━━━━━━━━━━\u001b[0m\u001b[37m\u001b[0m \u001b[1m0s\u001b[0m 17ms/step\n",
      "\u001b[1m2/2\u001b[0m \u001b[32m━━━━━━━━━━━━━━━━━━━━\u001b[0m\u001b[37m\u001b[0m \u001b[1m0s\u001b[0m 18ms/step\n",
      "\u001b[1m2/2\u001b[0m \u001b[32m━━━━━━━━━━━━━━━━━━━━\u001b[0m\u001b[37m\u001b[0m \u001b[1m0s\u001b[0m 18ms/step\n",
      "\u001b[1m2/2\u001b[0m \u001b[32m━━━━━━━━━━━━━━━━━━━━\u001b[0m\u001b[37m\u001b[0m \u001b[1m0s\u001b[0m 18ms/step\n",
      "\u001b[1m2/2\u001b[0m \u001b[32m━━━━━━━━━━━━━━━━━━━━\u001b[0m\u001b[37m\u001b[0m \u001b[1m0s\u001b[0m 18ms/step\n",
      "\u001b[1m2/2\u001b[0m \u001b[32m━━━━━━━━━━━━━━━━━━━━\u001b[0m\u001b[37m\u001b[0m \u001b[1m0s\u001b[0m 18ms/step\n",
      "\u001b[1m2/2\u001b[0m \u001b[32m━━━━━━━━━━━━━━━━━━━━\u001b[0m\u001b[37m\u001b[0m \u001b[1m0s\u001b[0m 20ms/step\n",
      "\u001b[1m2/2\u001b[0m \u001b[32m━━━━━━━━━━━━━━━━━━━━\u001b[0m\u001b[37m\u001b[0m \u001b[1m0s\u001b[0m 18ms/step\n",
      "\u001b[1m2/2\u001b[0m \u001b[32m━━━━━━━━━━━━━━━━━━━━\u001b[0m\u001b[37m\u001b[0m \u001b[1m0s\u001b[0m 18ms/step\n",
      "\u001b[1m2/2\u001b[0m \u001b[32m━━━━━━━━━━━━━━━━━━━━\u001b[0m\u001b[37m\u001b[0m \u001b[1m0s\u001b[0m 18ms/step\n",
      "\u001b[1m2/2\u001b[0m \u001b[32m━━━━━━━━━━━━━━━━━━━━\u001b[0m\u001b[37m\u001b[0m \u001b[1m0s\u001b[0m 18ms/step\n",
      "\u001b[1m2/2\u001b[0m \u001b[32m━━━━━━━━━━━━━━━━━━━━\u001b[0m\u001b[37m\u001b[0m \u001b[1m0s\u001b[0m 18ms/step\n",
      "\u001b[1m2/2\u001b[0m \u001b[32m━━━━━━━━━━━━━━━━━━━━\u001b[0m\u001b[37m\u001b[0m \u001b[1m0s\u001b[0m 18ms/step\n",
      "\u001b[1m2/2\u001b[0m \u001b[32m━━━━━━━━━━━━━━━━━━━━\u001b[0m\u001b[37m\u001b[0m \u001b[1m0s\u001b[0m 18ms/step\n",
      "\u001b[1m2/2\u001b[0m \u001b[32m━━━━━━━━━━━━━━━━━━━━\u001b[0m\u001b[37m\u001b[0m \u001b[1m0s\u001b[0m 18ms/step\n",
      "\u001b[1m2/2\u001b[0m \u001b[32m━━━━━━━━━━━━━━━━━━━━\u001b[0m\u001b[37m\u001b[0m \u001b[1m0s\u001b[0m 18ms/step\n",
      "\u001b[1m2/2\u001b[0m \u001b[32m━━━━━━━━━━━━━━━━━━━━\u001b[0m\u001b[37m\u001b[0m \u001b[1m0s\u001b[0m 18ms/step\n",
      "\u001b[1m2/2\u001b[0m \u001b[32m━━━━━━━━━━━━━━━━━━━━\u001b[0m\u001b[37m\u001b[0m \u001b[1m0s\u001b[0m 18ms/step\n",
      "\u001b[1m2/2\u001b[0m \u001b[32m━━━━━━━━━━━━━━━━━━━━\u001b[0m\u001b[37m\u001b[0m \u001b[1m0s\u001b[0m 18ms/step\n",
      "\u001b[1m2/2\u001b[0m \u001b[32m━━━━━━━━━━━━━━━━━━━━\u001b[0m\u001b[37m\u001b[0m \u001b[1m0s\u001b[0m 18ms/step\n",
      "\u001b[1m2/2\u001b[0m \u001b[32m━━━━━━━━━━━━━━━━━━━━\u001b[0m\u001b[37m\u001b[0m \u001b[1m0s\u001b[0m 18ms/step\n",
      "\u001b[1m2/2\u001b[0m \u001b[32m━━━━━━━━━━━━━━━━━━━━\u001b[0m\u001b[37m\u001b[0m \u001b[1m0s\u001b[0m 17ms/step\n",
      "\u001b[1m2/2\u001b[0m \u001b[32m━━━━━━━━━━━━━━━━━━━━\u001b[0m\u001b[37m\u001b[0m \u001b[1m0s\u001b[0m 18ms/step\n",
      "\u001b[1m2/2\u001b[0m \u001b[32m━━━━━━━━━━━━━━━━━━━━\u001b[0m\u001b[37m\u001b[0m \u001b[1m0s\u001b[0m 18ms/step\n",
      "\u001b[1m2/2\u001b[0m \u001b[32m━━━━━━━━━━━━━━━━━━━━\u001b[0m\u001b[37m\u001b[0m \u001b[1m0s\u001b[0m 18ms/step\n",
      "\u001b[1m2/2\u001b[0m \u001b[32m━━━━━━━━━━━━━━━━━━━━\u001b[0m\u001b[37m\u001b[0m \u001b[1m0s\u001b[0m 18ms/step\n",
      "\u001b[1m2/2\u001b[0m \u001b[32m━━━━━━━━━━━━━━━━━━━━\u001b[0m\u001b[37m\u001b[0m \u001b[1m0s\u001b[0m 18ms/step\n",
      "\u001b[1m2/2\u001b[0m \u001b[32m━━━━━━━━━━━━━━━━━━━━\u001b[0m\u001b[37m\u001b[0m \u001b[1m0s\u001b[0m 18ms/step\n",
      "\u001b[1m2/2\u001b[0m \u001b[32m━━━━━━━━━━━━━━━━━━━━\u001b[0m\u001b[37m\u001b[0m \u001b[1m0s\u001b[0m 18ms/step\n",
      "\u001b[1m2/2\u001b[0m \u001b[32m━━━━━━━━━━━━━━━━━━━━\u001b[0m\u001b[37m\u001b[0m \u001b[1m0s\u001b[0m 18ms/step\n",
      "\u001b[1m2/2\u001b[0m \u001b[32m━━━━━━━━━━━━━━━━━━━━\u001b[0m\u001b[37m\u001b[0m \u001b[1m0s\u001b[0m 18ms/step\n",
      "\u001b[1m2/2\u001b[0m \u001b[32m━━━━━━━━━━━━━━━━━━━━\u001b[0m\u001b[37m\u001b[0m \u001b[1m0s\u001b[0m 18ms/step\n",
      "\u001b[1m2/2\u001b[0m \u001b[32m━━━━━━━━━━━━━━━━━━━━\u001b[0m\u001b[37m\u001b[0m \u001b[1m0s\u001b[0m 18ms/step\n",
      "\u001b[1m2/2\u001b[0m \u001b[32m━━━━━━━━━━━━━━━━━━━━\u001b[0m\u001b[37m\u001b[0m \u001b[1m0s\u001b[0m 18ms/step\n",
      "\u001b[1m2/2\u001b[0m \u001b[32m━━━━━━━━━━━━━━━━━━━━\u001b[0m\u001b[37m\u001b[0m \u001b[1m0s\u001b[0m 18ms/step\n",
      "\u001b[1m2/2\u001b[0m \u001b[32m━━━━━━━━━━━━━━━━━━━━\u001b[0m\u001b[37m\u001b[0m \u001b[1m0s\u001b[0m 18ms/step\n",
      "\u001b[1m2/2\u001b[0m \u001b[32m━━━━━━━━━━━━━━━━━━━━\u001b[0m\u001b[37m\u001b[0m \u001b[1m0s\u001b[0m 18ms/step\n",
      "\u001b[1m2/2\u001b[0m \u001b[32m━━━━━━━━━━━━━━━━━━━━\u001b[0m\u001b[37m\u001b[0m \u001b[1m0s\u001b[0m 18ms/step\n",
      "\u001b[1m2/2\u001b[0m \u001b[32m━━━━━━━━━━━━━━━━━━━━\u001b[0m\u001b[37m\u001b[0m \u001b[1m0s\u001b[0m 18ms/step\n",
      "\u001b[1m2/2\u001b[0m \u001b[32m━━━━━━━━━━━━━━━━━━━━\u001b[0m\u001b[37m\u001b[0m \u001b[1m0s\u001b[0m 18ms/step\n",
      "\u001b[1m2/2\u001b[0m \u001b[32m━━━━━━━━━━━━━━━━━━━━\u001b[0m\u001b[37m\u001b[0m \u001b[1m0s\u001b[0m 18ms/step\n",
      "\u001b[1m2/2\u001b[0m \u001b[32m━━━━━━━━━━━━━━━━━━━━\u001b[0m\u001b[37m\u001b[0m \u001b[1m0s\u001b[0m 18ms/step\n",
      "\u001b[1m2/2\u001b[0m \u001b[32m━━━━━━━━━━━━━━━━━━━━\u001b[0m\u001b[37m\u001b[0m \u001b[1m0s\u001b[0m 18ms/step\n",
      "\u001b[1m2/2\u001b[0m \u001b[32m━━━━━━━━━━━━━━━━━━━━\u001b[0m\u001b[37m\u001b[0m \u001b[1m0s\u001b[0m 18ms/step\n",
      "\u001b[1m2/2\u001b[0m \u001b[32m━━━━━━━━━━━━━━━━━━━━\u001b[0m\u001b[37m\u001b[0m \u001b[1m0s\u001b[0m 18ms/step\n",
      "\u001b[1m2/2\u001b[0m \u001b[32m━━━━━━━━━━━━━━━━━━━━\u001b[0m\u001b[37m\u001b[0m \u001b[1m0s\u001b[0m 18ms/step\n",
      "\u001b[1m2/2\u001b[0m \u001b[32m━━━━━━━━━━━━━━━━━━━━\u001b[0m\u001b[37m\u001b[0m \u001b[1m0s\u001b[0m 18ms/step\n",
      "\u001b[1m2/2\u001b[0m \u001b[32m━━━━━━━━━━━━━━━━━━━━\u001b[0m\u001b[37m\u001b[0m \u001b[1m0s\u001b[0m 18ms/step\n",
      "\u001b[1m2/2\u001b[0m \u001b[32m━━━━━━━━━━━━━━━━━━━━\u001b[0m\u001b[37m\u001b[0m \u001b[1m0s\u001b[0m 18ms/step\n",
      "\u001b[1m2/2\u001b[0m \u001b[32m━━━━━━━━━━━━━━━━━━━━\u001b[0m\u001b[37m\u001b[0m \u001b[1m0s\u001b[0m 18ms/step\n",
      "\u001b[1m2/2\u001b[0m \u001b[32m━━━━━━━━━━━━━━━━━━━━\u001b[0m\u001b[37m\u001b[0m \u001b[1m0s\u001b[0m 18ms/step\n",
      "\u001b[1m2/2\u001b[0m \u001b[32m━━━━━━━━━━━━━━━━━━━━\u001b[0m\u001b[37m\u001b[0m \u001b[1m0s\u001b[0m 17ms/step\n",
      "\u001b[1m2/2\u001b[0m \u001b[32m━━━━━━━━━━━━━━━━━━━━\u001b[0m\u001b[37m\u001b[0m \u001b[1m0s\u001b[0m 18ms/step\n",
      "\u001b[1m2/2\u001b[0m \u001b[32m━━━━━━━━━━━━━━━━━━━━\u001b[0m\u001b[37m\u001b[0m \u001b[1m0s\u001b[0m 17ms/step\n",
      "\u001b[1m2/2\u001b[0m \u001b[32m━━━━━━━━━━━━━━━━━━━━\u001b[0m\u001b[37m\u001b[0m \u001b[1m0s\u001b[0m 18ms/step\n",
      "\u001b[1m2/2\u001b[0m \u001b[32m━━━━━━━━━━━━━━━━━━━━\u001b[0m\u001b[37m\u001b[0m \u001b[1m0s\u001b[0m 17ms/step\n",
      "\u001b[1m2/2\u001b[0m \u001b[32m━━━━━━━━━━━━━━━━━━━━\u001b[0m\u001b[37m\u001b[0m \u001b[1m0s\u001b[0m 18ms/step\n",
      "\u001b[1m2/2\u001b[0m \u001b[32m━━━━━━━━━━━━━━━━━━━━\u001b[0m\u001b[37m\u001b[0m \u001b[1m0s\u001b[0m 18ms/step\n",
      "\u001b[1m2/2\u001b[0m \u001b[32m━━━━━━━━━━━━━━━━━━━━\u001b[0m\u001b[37m\u001b[0m \u001b[1m0s\u001b[0m 18ms/step\n",
      "\u001b[1m2/2\u001b[0m \u001b[32m━━━━━━━━━━━━━━━━━━━━\u001b[0m\u001b[37m\u001b[0m \u001b[1m0s\u001b[0m 18ms/step\n",
      "\u001b[1m2/2\u001b[0m \u001b[32m━━━━━━━━━━━━━━━━━━━━\u001b[0m\u001b[37m\u001b[0m \u001b[1m0s\u001b[0m 18ms/step\n",
      "\u001b[1m2/2\u001b[0m \u001b[32m━━━━━━━━━━━━━━━━━━━━\u001b[0m\u001b[37m\u001b[0m \u001b[1m0s\u001b[0m 18ms/step\n",
      "\u001b[1m2/2\u001b[0m \u001b[32m━━━━━━━━━━━━━━━━━━━━\u001b[0m\u001b[37m\u001b[0m \u001b[1m0s\u001b[0m 18ms/step\n",
      "\u001b[1m2/2\u001b[0m \u001b[32m━━━━━━━━━━━━━━━━━━━━\u001b[0m\u001b[37m\u001b[0m \u001b[1m0s\u001b[0m 18ms/step\n",
      "\u001b[1m2/2\u001b[0m \u001b[32m━━━━━━━━━━━━━━━━━━━━\u001b[0m\u001b[37m\u001b[0m \u001b[1m0s\u001b[0m 18ms/step\n",
      "\u001b[1m2/2\u001b[0m \u001b[32m━━━━━━━━━━━━━━━━━━━━\u001b[0m\u001b[37m\u001b[0m \u001b[1m0s\u001b[0m 18ms/step\n",
      "\u001b[1m2/2\u001b[0m \u001b[32m━━━━━━━━━━━━━━━━━━━━\u001b[0m\u001b[37m\u001b[0m \u001b[1m0s\u001b[0m 19ms/step\n",
      "\u001b[1m2/2\u001b[0m \u001b[32m━━━━━━━━━━━━━━━━━━━━\u001b[0m\u001b[37m\u001b[0m \u001b[1m0s\u001b[0m 18ms/step\n",
      "\u001b[1m2/2\u001b[0m \u001b[32m━━━━━━━━━━━━━━━━━━━━\u001b[0m\u001b[37m\u001b[0m \u001b[1m0s\u001b[0m 18ms/step\n",
      "\u001b[1m2/2\u001b[0m \u001b[32m━━━━━━━━━━━━━━━━━━━━\u001b[0m\u001b[37m\u001b[0m \u001b[1m0s\u001b[0m 18ms/step\n",
      "\u001b[1m2/2\u001b[0m \u001b[32m━━━━━━━━━━━━━━━━━━━━\u001b[0m\u001b[37m\u001b[0m \u001b[1m0s\u001b[0m 18ms/step\n",
      "\u001b[1m2/2\u001b[0m \u001b[32m━━━━━━━━━━━━━━━━━━━━\u001b[0m\u001b[37m\u001b[0m \u001b[1m0s\u001b[0m 18ms/step\n",
      "\u001b[1m2/2\u001b[0m \u001b[32m━━━━━━━━━━━━━━━━━━━━\u001b[0m\u001b[37m\u001b[0m \u001b[1m0s\u001b[0m 18ms/step\n",
      "\u001b[1m2/2\u001b[0m \u001b[32m━━━━━━━━━━━━━━━━━━━━\u001b[0m\u001b[37m\u001b[0m \u001b[1m0s\u001b[0m 18ms/step\n",
      "\u001b[1m2/2\u001b[0m \u001b[32m━━━━━━━━━━━━━━━━━━━━\u001b[0m\u001b[37m\u001b[0m \u001b[1m0s\u001b[0m 18ms/step\n",
      "\u001b[1m2/2\u001b[0m \u001b[32m━━━━━━━━━━━━━━━━━━━━\u001b[0m\u001b[37m\u001b[0m \u001b[1m0s\u001b[0m 18ms/step\n",
      "\u001b[1m2/2\u001b[0m \u001b[32m━━━━━━━━━━━━━━━━━━━━\u001b[0m\u001b[37m\u001b[0m \u001b[1m0s\u001b[0m 18ms/step\n",
      "\u001b[1m2/2\u001b[0m \u001b[32m━━━━━━━━━━━━━━━━━━━━\u001b[0m\u001b[37m\u001b[0m \u001b[1m0s\u001b[0m 18ms/step\n",
      "\u001b[1m2/2\u001b[0m \u001b[32m━━━━━━━━━━━━━━━━━━━━\u001b[0m\u001b[37m\u001b[0m \u001b[1m0s\u001b[0m 18ms/step\n",
      "\u001b[1m2/2\u001b[0m \u001b[32m━━━━━━━━━━━━━━━━━━━━\u001b[0m\u001b[37m\u001b[0m \u001b[1m0s\u001b[0m 18ms/step\n",
      "\u001b[1m2/2\u001b[0m \u001b[32m━━━━━━━━━━━━━━━━━━━━\u001b[0m\u001b[37m\u001b[0m \u001b[1m0s\u001b[0m 18ms/step\n",
      "\u001b[1m2/2\u001b[0m \u001b[32m━━━━━━━━━━━━━━━━━━━━\u001b[0m\u001b[37m\u001b[0m \u001b[1m0s\u001b[0m 18ms/step\n",
      "\u001b[1m2/2\u001b[0m \u001b[32m━━━━━━━━━━━━━━━━━━━━\u001b[0m\u001b[37m\u001b[0m \u001b[1m0s\u001b[0m 18ms/step\n",
      "\u001b[1m2/2\u001b[0m \u001b[32m━━━━━━━━━━━━━━━━━━━━\u001b[0m\u001b[37m\u001b[0m \u001b[1m0s\u001b[0m 18ms/step\n",
      "\u001b[1m2/2\u001b[0m \u001b[32m━━━━━━━━━━━━━━━━━━━━\u001b[0m\u001b[37m\u001b[0m \u001b[1m0s\u001b[0m 18ms/step\n",
      "\u001b[1m2/2\u001b[0m \u001b[32m━━━━━━━━━━━━━━━━━━━━\u001b[0m\u001b[37m\u001b[0m \u001b[1m0s\u001b[0m 18ms/step\n",
      "\u001b[1m2/2\u001b[0m \u001b[32m━━━━━━━━━━━━━━━━━━━━\u001b[0m\u001b[37m\u001b[0m \u001b[1m0s\u001b[0m 18ms/step\n",
      "\u001b[1m2/2\u001b[0m \u001b[32m━━━━━━━━━━━━━━━━━━━━\u001b[0m\u001b[37m\u001b[0m \u001b[1m0s\u001b[0m 18ms/step\n",
      "\u001b[1m2/2\u001b[0m \u001b[32m━━━━━━━━━━━━━━━━━━━━\u001b[0m\u001b[37m\u001b[0m \u001b[1m0s\u001b[0m 18ms/step\n",
      "\u001b[1m2/2\u001b[0m \u001b[32m━━━━━━━━━━━━━━━━━━━━\u001b[0m\u001b[37m\u001b[0m \u001b[1m0s\u001b[0m 18ms/step\n",
      "\u001b[1m2/2\u001b[0m \u001b[32m━━━━━━━━━━━━━━━━━━━━\u001b[0m\u001b[37m\u001b[0m \u001b[1m0s\u001b[0m 18ms/step\n",
      "\u001b[1m2/2\u001b[0m \u001b[32m━━━━━━━━━━━━━━━━━━━━\u001b[0m\u001b[37m\u001b[0m \u001b[1m0s\u001b[0m 18ms/step\n",
      "\u001b[1m2/2\u001b[0m \u001b[32m━━━━━━━━━━━━━━━━━━━━\u001b[0m\u001b[37m\u001b[0m \u001b[1m0s\u001b[0m 18ms/step\n",
      "\u001b[1m2/2\u001b[0m \u001b[32m━━━━━━━━━━━━━━━━━━━━\u001b[0m\u001b[37m\u001b[0m \u001b[1m0s\u001b[0m 18ms/step\n",
      "\u001b[1m2/2\u001b[0m \u001b[32m━━━━━━━━━━━━━━━━━━━━\u001b[0m\u001b[37m\u001b[0m \u001b[1m0s\u001b[0m 18ms/step\n",
      "\u001b[1m2/2\u001b[0m \u001b[32m━━━━━━━━━━━━━━━━━━━━\u001b[0m\u001b[37m\u001b[0m \u001b[1m0s\u001b[0m 18ms/step\n",
      "\u001b[1m2/2\u001b[0m \u001b[32m━━━━━━━━━━━━━━━━━━━━\u001b[0m\u001b[37m\u001b[0m \u001b[1m0s\u001b[0m 18ms/step\n",
      "\u001b[1m2/2\u001b[0m \u001b[32m━━━━━━━━━━━━━━━━━━━━\u001b[0m\u001b[37m\u001b[0m \u001b[1m0s\u001b[0m 17ms/step\n",
      "\u001b[1m2/2\u001b[0m \u001b[32m━━━━━━━━━━━━━━━━━━━━\u001b[0m\u001b[37m\u001b[0m \u001b[1m0s\u001b[0m 18ms/step\n",
      "\u001b[1m2/2\u001b[0m \u001b[32m━━━━━━━━━━━━━━━━━━━━\u001b[0m\u001b[37m\u001b[0m \u001b[1m0s\u001b[0m 17ms/step\n",
      "\u001b[1m2/2\u001b[0m \u001b[32m━━━━━━━━━━━━━━━━━━━━\u001b[0m\u001b[37m\u001b[0m \u001b[1m0s\u001b[0m 18ms/step\n",
      "\u001b[1m2/2\u001b[0m \u001b[32m━━━━━━━━━━━━━━━━━━━━\u001b[0m\u001b[37m\u001b[0m \u001b[1m0s\u001b[0m 18ms/step\n",
      "\u001b[1m2/2\u001b[0m \u001b[32m━━━━━━━━━━━━━━━━━━━━\u001b[0m\u001b[37m\u001b[0m \u001b[1m0s\u001b[0m 18ms/step\n",
      "\u001b[1m2/2\u001b[0m \u001b[32m━━━━━━━━━━━━━━━━━━━━\u001b[0m\u001b[37m\u001b[0m \u001b[1m0s\u001b[0m 18ms/step\n",
      "\u001b[1m2/2\u001b[0m \u001b[32m━━━━━━━━━━━━━━━━━━━━\u001b[0m\u001b[37m\u001b[0m \u001b[1m0s\u001b[0m 18ms/step\n",
      "\u001b[1m2/2\u001b[0m \u001b[32m━━━━━━━━━━━━━━━━━━━━\u001b[0m\u001b[37m\u001b[0m \u001b[1m0s\u001b[0m 18ms/step\n",
      "\u001b[1m2/2\u001b[0m \u001b[32m━━━━━━━━━━━━━━━━━━━━\u001b[0m\u001b[37m\u001b[0m \u001b[1m0s\u001b[0m 18ms/step\n",
      "\u001b[1m2/2\u001b[0m \u001b[32m━━━━━━━━━━━━━━━━━━━━\u001b[0m\u001b[37m\u001b[0m \u001b[1m0s\u001b[0m 18ms/step\n",
      "\u001b[1m2/2\u001b[0m \u001b[32m━━━━━━━━━━━━━━━━━━━━\u001b[0m\u001b[37m\u001b[0m \u001b[1m0s\u001b[0m 18ms/step\n",
      "\u001b[1m2/2\u001b[0m \u001b[32m━━━━━━━━━━━━━━━━━━━━\u001b[0m\u001b[37m\u001b[0m \u001b[1m0s\u001b[0m 18ms/step\n",
      "\u001b[1m2/2\u001b[0m \u001b[32m━━━━━━━━━━━━━━━━━━━━\u001b[0m\u001b[37m\u001b[0m \u001b[1m0s\u001b[0m 18ms/step\n",
      "\u001b[1m2/2\u001b[0m \u001b[32m━━━━━━━━━━━━━━━━━━━━\u001b[0m\u001b[37m\u001b[0m \u001b[1m0s\u001b[0m 18ms/step\n",
      "\u001b[1m2/2\u001b[0m \u001b[32m━━━━━━━━━━━━━━━━━━━━\u001b[0m\u001b[37m\u001b[0m \u001b[1m0s\u001b[0m 18ms/step\n",
      "\u001b[1m2/2\u001b[0m \u001b[32m━━━━━━━━━━━━━━━━━━━━\u001b[0m\u001b[37m\u001b[0m \u001b[1m0s\u001b[0m 18ms/step\n",
      "\u001b[1m2/2\u001b[0m \u001b[32m━━━━━━━━━━━━━━━━━━━━\u001b[0m\u001b[37m\u001b[0m \u001b[1m0s\u001b[0m 18ms/step\n",
      "\u001b[1m2/2\u001b[0m \u001b[32m━━━━━━━━━━━━━━━━━━━━\u001b[0m\u001b[37m\u001b[0m \u001b[1m0s\u001b[0m 18ms/step\n",
      "\u001b[1m2/2\u001b[0m \u001b[32m━━━━━━━━━━━━━━━━━━━━\u001b[0m\u001b[37m\u001b[0m \u001b[1m0s\u001b[0m 18ms/step\n",
      "\u001b[1m2/2\u001b[0m \u001b[32m━━━━━━━━━━━━━━━━━━━━\u001b[0m\u001b[37m\u001b[0m \u001b[1m0s\u001b[0m 18ms/step\n",
      "\u001b[1m2/2\u001b[0m \u001b[32m━━━━━━━━━━━━━━━━━━━━\u001b[0m\u001b[37m\u001b[0m \u001b[1m0s\u001b[0m 18ms/step\n",
      "\u001b[1m2/2\u001b[0m \u001b[32m━━━━━━━━━━━━━━━━━━━━\u001b[0m\u001b[37m\u001b[0m \u001b[1m0s\u001b[0m 18ms/step\n",
      "\u001b[1m2/2\u001b[0m \u001b[32m━━━━━━━━━━━━━━━━━━━━\u001b[0m\u001b[37m\u001b[0m \u001b[1m0s\u001b[0m 18ms/step\n",
      "\u001b[1m2/2\u001b[0m \u001b[32m━━━━━━━━━━━━━━━━━━━━\u001b[0m\u001b[37m\u001b[0m \u001b[1m0s\u001b[0m 18ms/step\n",
      "\u001b[1m2/2\u001b[0m \u001b[32m━━━━━━━━━━━━━━━━━━━━\u001b[0m\u001b[37m\u001b[0m \u001b[1m0s\u001b[0m 18ms/step\n",
      "\u001b[1m2/2\u001b[0m \u001b[32m━━━━━━━━━━━━━━━━━━━━\u001b[0m\u001b[37m\u001b[0m \u001b[1m0s\u001b[0m 18ms/step\n",
      "\u001b[1m2/2\u001b[0m \u001b[32m━━━━━━━━━━━━━━━━━━━━\u001b[0m\u001b[37m\u001b[0m \u001b[1m0s\u001b[0m 18ms/step\n",
      "\u001b[1m2/2\u001b[0m \u001b[32m━━━━━━━━━━━━━━━━━━━━\u001b[0m\u001b[37m\u001b[0m \u001b[1m0s\u001b[0m 18ms/step\n",
      "\u001b[1m2/2\u001b[0m \u001b[32m━━━━━━━━━━━━━━━━━━━━\u001b[0m\u001b[37m\u001b[0m \u001b[1m0s\u001b[0m 18ms/step\n",
      "\u001b[1m2/2\u001b[0m \u001b[32m━━━━━━━━━━━━━━━━━━━━\u001b[0m\u001b[37m\u001b[0m \u001b[1m0s\u001b[0m 18ms/step\n",
      "\u001b[1m2/2\u001b[0m \u001b[32m━━━━━━━━━━━━━━━━━━━━\u001b[0m\u001b[37m\u001b[0m \u001b[1m0s\u001b[0m 18ms/step\n",
      "\u001b[1m2/2\u001b[0m \u001b[32m━━━━━━━━━━━━━━━━━━━━\u001b[0m\u001b[37m\u001b[0m \u001b[1m0s\u001b[0m 18ms/step\n",
      "\u001b[1m2/2\u001b[0m \u001b[32m━━━━━━━━━━━━━━━━━━━━\u001b[0m\u001b[37m\u001b[0m \u001b[1m0s\u001b[0m 18ms/step\n",
      "\u001b[1m2/2\u001b[0m \u001b[32m━━━━━━━━━━━━━━━━━━━━\u001b[0m\u001b[37m\u001b[0m \u001b[1m0s\u001b[0m 18ms/step\n",
      "\u001b[1m2/2\u001b[0m \u001b[32m━━━━━━━━━━━━━━━━━━━━\u001b[0m\u001b[37m\u001b[0m \u001b[1m0s\u001b[0m 18ms/step\n",
      "\u001b[1m2/2\u001b[0m \u001b[32m━━━━━━━━━━━━━━━━━━━━\u001b[0m\u001b[37m\u001b[0m \u001b[1m0s\u001b[0m 18ms/step\n",
      "\u001b[1m2/2\u001b[0m \u001b[32m━━━━━━━━━━━━━━━━━━━━\u001b[0m\u001b[37m\u001b[0m \u001b[1m0s\u001b[0m 18ms/step\n",
      "\u001b[1m2/2\u001b[0m \u001b[32m━━━━━━━━━━━━━━━━━━━━\u001b[0m\u001b[37m\u001b[0m \u001b[1m0s\u001b[0m 18ms/step\n",
      "\u001b[1m2/2\u001b[0m \u001b[32m━━━━━━━━━━━━━━━━━━━━\u001b[0m\u001b[37m\u001b[0m \u001b[1m0s\u001b[0m 18ms/step\n",
      "\u001b[1m2/2\u001b[0m \u001b[32m━━━━━━━━━━━━━━━━━━━━\u001b[0m\u001b[37m\u001b[0m \u001b[1m0s\u001b[0m 18ms/step\n",
      "\u001b[1m2/2\u001b[0m \u001b[32m━━━━━━━━━━━━━━━━━━━━\u001b[0m\u001b[37m\u001b[0m \u001b[1m0s\u001b[0m 18ms/step\n",
      "\u001b[1m2/2\u001b[0m \u001b[32m━━━━━━━━━━━━━━━━━━━━\u001b[0m\u001b[37m\u001b[0m \u001b[1m0s\u001b[0m 18ms/step\n",
      "\u001b[1m2/2\u001b[0m \u001b[32m━━━━━━━━━━━━━━━━━━━━\u001b[0m\u001b[37m\u001b[0m \u001b[1m0s\u001b[0m 18ms/step\n",
      "\u001b[1m2/2\u001b[0m \u001b[32m━━━━━━━━━━━━━━━━━━━━\u001b[0m\u001b[37m\u001b[0m \u001b[1m0s\u001b[0m 18ms/step\n",
      "\u001b[1m2/2\u001b[0m \u001b[32m━━━━━━━━━━━━━━━━━━━━\u001b[0m\u001b[37m\u001b[0m \u001b[1m0s\u001b[0m 18ms/step\n",
      "\u001b[1m2/2\u001b[0m \u001b[32m━━━━━━━━━━━━━━━━━━━━\u001b[0m\u001b[37m\u001b[0m \u001b[1m0s\u001b[0m 18ms/step\n",
      "\u001b[1m2/2\u001b[0m \u001b[32m━━━━━━━━━━━━━━━━━━━━\u001b[0m\u001b[37m\u001b[0m \u001b[1m0s\u001b[0m 18ms/step\n",
      "\u001b[1m2/2\u001b[0m \u001b[32m━━━━━━━━━━━━━━━━━━━━\u001b[0m\u001b[37m\u001b[0m \u001b[1m0s\u001b[0m 18ms/step\n",
      "\u001b[1m2/2\u001b[0m \u001b[32m━━━━━━━━━━━━━━━━━━━━\u001b[0m\u001b[37m\u001b[0m \u001b[1m0s\u001b[0m 19ms/step\n",
      "\u001b[1m2/2\u001b[0m \u001b[32m━━━━━━━━━━━━━━━━━━━━\u001b[0m\u001b[37m\u001b[0m \u001b[1m0s\u001b[0m 18ms/step\n",
      "\u001b[1m2/2\u001b[0m \u001b[32m━━━━━━━━━━━━━━━━━━━━\u001b[0m\u001b[37m\u001b[0m \u001b[1m0s\u001b[0m 18ms/step\n",
      "\u001b[1m2/2\u001b[0m \u001b[32m━━━━━━━━━━━━━━━━━━━━\u001b[0m\u001b[37m\u001b[0m \u001b[1m0s\u001b[0m 18ms/step\n",
      "\u001b[1m2/2\u001b[0m \u001b[32m━━━━━━━━━━━━━━━━━━━━\u001b[0m\u001b[37m\u001b[0m \u001b[1m0s\u001b[0m 18ms/step\n",
      "\u001b[1m2/2\u001b[0m \u001b[32m━━━━━━━━━━━━━━━━━━━━\u001b[0m\u001b[37m\u001b[0m \u001b[1m0s\u001b[0m 18ms/step\n",
      "\u001b[1m2/2\u001b[0m \u001b[32m━━━━━━━━━━━━━━━━━━━━\u001b[0m\u001b[37m\u001b[0m \u001b[1m0s\u001b[0m 18ms/step\n",
      "\u001b[1m2/2\u001b[0m \u001b[32m━━━━━━━━━━━━━━━━━━━━\u001b[0m\u001b[37m\u001b[0m \u001b[1m0s\u001b[0m 18ms/step\n",
      "\u001b[1m2/2\u001b[0m \u001b[32m━━━━━━━━━━━━━━━━━━━━\u001b[0m\u001b[37m\u001b[0m \u001b[1m0s\u001b[0m 18ms/step\n",
      "\u001b[1m2/2\u001b[0m \u001b[32m━━━━━━━━━━━━━━━━━━━━\u001b[0m\u001b[37m\u001b[0m \u001b[1m0s\u001b[0m 18ms/step\n",
      "\u001b[1m2/2\u001b[0m \u001b[32m━━━━━━━━━━━━━━━━━━━━\u001b[0m\u001b[37m\u001b[0m \u001b[1m0s\u001b[0m 18ms/step\n",
      "\u001b[1m2/2\u001b[0m \u001b[32m━━━━━━━━━━━━━━━━━━━━\u001b[0m\u001b[37m\u001b[0m \u001b[1m0s\u001b[0m 18ms/step\n",
      "\u001b[1m2/2\u001b[0m \u001b[32m━━━━━━━━━━━━━━━━━━━━\u001b[0m\u001b[37m\u001b[0m \u001b[1m0s\u001b[0m 18ms/step\n",
      "\u001b[1m2/2\u001b[0m \u001b[32m━━━━━━━━━━━━━━━━━━━━\u001b[0m\u001b[37m\u001b[0m \u001b[1m0s\u001b[0m 19ms/step\n",
      "\u001b[1m2/2\u001b[0m \u001b[32m━━━━━━━━━━━━━━━━━━━━\u001b[0m\u001b[37m\u001b[0m \u001b[1m0s\u001b[0m 18ms/step\n",
      "\u001b[1m2/2\u001b[0m \u001b[32m━━━━━━━━━━━━━━━━━━━━\u001b[0m\u001b[37m\u001b[0m \u001b[1m0s\u001b[0m 18ms/step\n",
      "\u001b[1m2/2\u001b[0m \u001b[32m━━━━━━━━━━━━━━━━━━━━\u001b[0m\u001b[37m\u001b[0m \u001b[1m0s\u001b[0m 19ms/step\n",
      "\u001b[1m2/2\u001b[0m \u001b[32m━━━━━━━━━━━━━━━━━━━━\u001b[0m\u001b[37m\u001b[0m \u001b[1m0s\u001b[0m 18ms/step\n",
      "\u001b[1m2/2\u001b[0m \u001b[32m━━━━━━━━━━━━━━━━━━━━\u001b[0m\u001b[37m\u001b[0m \u001b[1m0s\u001b[0m 18ms/step\n",
      "\u001b[1m2/2\u001b[0m \u001b[32m━━━━━━━━━━━━━━━━━━━━\u001b[0m\u001b[37m\u001b[0m \u001b[1m0s\u001b[0m 18ms/step\n",
      "\u001b[1m2/2\u001b[0m \u001b[32m━━━━━━━━━━━━━━━━━━━━\u001b[0m\u001b[37m\u001b[0m \u001b[1m0s\u001b[0m 18ms/step\n",
      "\u001b[1m2/2\u001b[0m \u001b[32m━━━━━━━━━━━━━━━━━━━━\u001b[0m\u001b[37m\u001b[0m \u001b[1m0s\u001b[0m 18ms/step\n",
      "\u001b[1m2/2\u001b[0m \u001b[32m━━━━━━━━━━━━━━━━━━━━\u001b[0m\u001b[37m\u001b[0m \u001b[1m0s\u001b[0m 20ms/step\n",
      "\u001b[1m2/2\u001b[0m \u001b[32m━━━━━━━━━━━━━━━━━━━━\u001b[0m\u001b[37m\u001b[0m \u001b[1m0s\u001b[0m 18ms/step\n",
      "\u001b[1m2/2\u001b[0m \u001b[32m━━━━━━━━━━━━━━━━━━━━\u001b[0m\u001b[37m\u001b[0m \u001b[1m0s\u001b[0m 18ms/step\n",
      "\u001b[1m2/2\u001b[0m \u001b[32m━━━━━━━━━━━━━━━━━━━━\u001b[0m\u001b[37m\u001b[0m \u001b[1m0s\u001b[0m 18ms/step\n",
      "\u001b[1m2/2\u001b[0m \u001b[32m━━━━━━━━━━━━━━━━━━━━\u001b[0m\u001b[37m\u001b[0m \u001b[1m0s\u001b[0m 18ms/step\n",
      "\u001b[1m2/2\u001b[0m \u001b[32m━━━━━━━━━━━━━━━━━━━━\u001b[0m\u001b[37m\u001b[0m \u001b[1m0s\u001b[0m 18ms/step\n",
      "\u001b[1m2/2\u001b[0m \u001b[32m━━━━━━━━━━━━━━━━━━━━\u001b[0m\u001b[37m\u001b[0m \u001b[1m0s\u001b[0m 19ms/step\n",
      "\u001b[1m2/2\u001b[0m \u001b[32m━━━━━━━━━━━━━━━━━━━━\u001b[0m\u001b[37m\u001b[0m \u001b[1m0s\u001b[0m 18ms/step\n",
      "\u001b[1m2/2\u001b[0m \u001b[32m━━━━━━━━━━━━━━━━━━━━\u001b[0m\u001b[37m\u001b[0m \u001b[1m0s\u001b[0m 15ms/step\n",
      "\u001b[1m2/2\u001b[0m \u001b[32m━━━━━━━━━━━━━━━━━━━━\u001b[0m\u001b[37m\u001b[0m \u001b[1m0s\u001b[0m 18ms/step\n",
      "\u001b[1m2/2\u001b[0m \u001b[32m━━━━━━━━━━━━━━━━━━━━\u001b[0m\u001b[37m\u001b[0m \u001b[1m0s\u001b[0m 18ms/step\n",
      "\u001b[1m2/2\u001b[0m \u001b[32m━━━━━━━━━━━━━━━━━━━━\u001b[0m\u001b[37m\u001b[0m \u001b[1m0s\u001b[0m 18ms/step\n",
      "\u001b[1m2/2\u001b[0m \u001b[32m━━━━━━━━━━━━━━━━━━━━\u001b[0m\u001b[37m\u001b[0m \u001b[1m0s\u001b[0m 18ms/step\n",
      "\u001b[1m2/2\u001b[0m \u001b[32m━━━━━━━━━━━━━━━━━━━━\u001b[0m\u001b[37m\u001b[0m \u001b[1m0s\u001b[0m 18ms/step\n",
      "\u001b[1m2/2\u001b[0m \u001b[32m━━━━━━━━━━━━━━━━━━━━\u001b[0m\u001b[37m\u001b[0m \u001b[1m0s\u001b[0m 18ms/step\n",
      "\u001b[1m2/2\u001b[0m \u001b[32m━━━━━━━━━━━━━━━━━━━━\u001b[0m\u001b[37m\u001b[0m \u001b[1m0s\u001b[0m 18ms/step\n",
      "\u001b[1m2/2\u001b[0m \u001b[32m━━━━━━━━━━━━━━━━━━━━\u001b[0m\u001b[37m\u001b[0m \u001b[1m0s\u001b[0m 18ms/step\n",
      "\u001b[1m2/2\u001b[0m \u001b[32m━━━━━━━━━━━━━━━━━━━━\u001b[0m\u001b[37m\u001b[0m \u001b[1m0s\u001b[0m 18ms/step\n",
      "\u001b[1m2/2\u001b[0m \u001b[32m━━━━━━━━━━━━━━━━━━━━\u001b[0m\u001b[37m\u001b[0m \u001b[1m0s\u001b[0m 18ms/step\n",
      "\u001b[1m2/2\u001b[0m \u001b[32m━━━━━━━━━━━━━━━━━━━━\u001b[0m\u001b[37m\u001b[0m \u001b[1m0s\u001b[0m 19ms/step\n",
      "\u001b[1m2/2\u001b[0m \u001b[32m━━━━━━━━━━━━━━━━━━━━\u001b[0m\u001b[37m\u001b[0m \u001b[1m0s\u001b[0m 17ms/step\n",
      "\u001b[1m2/2\u001b[0m \u001b[32m━━━━━━━━━━━━━━━━━━━━\u001b[0m\u001b[37m\u001b[0m \u001b[1m0s\u001b[0m 18ms/step\n",
      "\u001b[1m2/2\u001b[0m \u001b[32m━━━━━━━━━━━━━━━━━━━━\u001b[0m\u001b[37m\u001b[0m \u001b[1m0s\u001b[0m 18ms/step\n",
      "\u001b[1m2/2\u001b[0m \u001b[32m━━━━━━━━━━━━━━━━━━━━\u001b[0m\u001b[37m\u001b[0m \u001b[1m0s\u001b[0m 18ms/step\n",
      "\u001b[1m2/2\u001b[0m \u001b[32m━━━━━━━━━━━━━━━━━━━━\u001b[0m\u001b[37m\u001b[0m \u001b[1m0s\u001b[0m 18ms/step\n",
      "\u001b[1m2/2\u001b[0m \u001b[32m━━━━━━━━━━━━━━━━━━━━\u001b[0m\u001b[37m\u001b[0m \u001b[1m0s\u001b[0m 18ms/step\n",
      "\u001b[1m2/2\u001b[0m \u001b[32m━━━━━━━━━━━━━━━━━━━━\u001b[0m\u001b[37m\u001b[0m \u001b[1m0s\u001b[0m 18ms/step\n",
      "\u001b[1m2/2\u001b[0m \u001b[32m━━━━━━━━━━━━━━━━━━━━\u001b[0m\u001b[37m\u001b[0m \u001b[1m0s\u001b[0m 17ms/step\n",
      "\u001b[1m2/2\u001b[0m \u001b[32m━━━━━━━━━━━━━━━━━━━━\u001b[0m\u001b[37m\u001b[0m \u001b[1m0s\u001b[0m 18ms/step\n",
      "\u001b[1m2/2\u001b[0m \u001b[32m━━━━━━━━━━━━━━━━━━━━\u001b[0m\u001b[37m\u001b[0m \u001b[1m0s\u001b[0m 18ms/step\n",
      "\u001b[1m2/2\u001b[0m \u001b[32m━━━━━━━━━━━━━━━━━━━━\u001b[0m\u001b[37m\u001b[0m \u001b[1m0s\u001b[0m 19ms/step\n",
      "\u001b[1m2/2\u001b[0m \u001b[32m━━━━━━━━━━━━━━━━━━━━\u001b[0m\u001b[37m\u001b[0m \u001b[1m0s\u001b[0m 18ms/step\n",
      "\u001b[1m2/2\u001b[0m \u001b[32m━━━━━━━━━━━━━━━━━━━━\u001b[0m\u001b[37m\u001b[0m \u001b[1m0s\u001b[0m 18ms/step\n",
      "\u001b[1m2/2\u001b[0m \u001b[32m━━━━━━━━━━━━━━━━━━━━\u001b[0m\u001b[37m\u001b[0m \u001b[1m0s\u001b[0m 18ms/step\n",
      "\u001b[1m2/2\u001b[0m \u001b[32m━━━━━━━━━━━━━━━━━━━━\u001b[0m\u001b[37m\u001b[0m \u001b[1m0s\u001b[0m 18ms/step\n",
      "\u001b[1m2/2\u001b[0m \u001b[32m━━━━━━━━━━━━━━━━━━━━\u001b[0m\u001b[37m\u001b[0m \u001b[1m0s\u001b[0m 18ms/step\n",
      "\u001b[1m2/2\u001b[0m \u001b[32m━━━━━━━━━━━━━━━━━━━━\u001b[0m\u001b[37m\u001b[0m \u001b[1m0s\u001b[0m 18ms/step\n",
      "\u001b[1m2/2\u001b[0m \u001b[32m━━━━━━━━━━━━━━━━━━━━\u001b[0m\u001b[37m\u001b[0m \u001b[1m0s\u001b[0m 18ms/step\n",
      "\u001b[1m2/2\u001b[0m \u001b[32m━━━━━━━━━━━━━━━━━━━━\u001b[0m\u001b[37m\u001b[0m \u001b[1m0s\u001b[0m 18ms/step\n",
      "\u001b[1m2/2\u001b[0m \u001b[32m━━━━━━━━━━━━━━━━━━━━\u001b[0m\u001b[37m\u001b[0m \u001b[1m0s\u001b[0m 18ms/step\n",
      "\u001b[1m2/2\u001b[0m \u001b[32m━━━━━━━━━━━━━━━━━━━━\u001b[0m\u001b[37m\u001b[0m \u001b[1m0s\u001b[0m 18ms/step\n",
      "\u001b[1m2/2\u001b[0m \u001b[32m━━━━━━━━━━━━━━━━━━━━\u001b[0m\u001b[37m\u001b[0m \u001b[1m0s\u001b[0m 18ms/step\n",
      "\u001b[1m2/2\u001b[0m \u001b[32m━━━━━━━━━━━━━━━━━━━━\u001b[0m\u001b[37m\u001b[0m \u001b[1m0s\u001b[0m 18ms/step\n",
      "\u001b[1m2/2\u001b[0m \u001b[32m━━━━━━━━━━━━━━━━━━━━\u001b[0m\u001b[37m\u001b[0m \u001b[1m0s\u001b[0m 18ms/step\n",
      "\u001b[1m2/2\u001b[0m \u001b[32m━━━━━━━━━━━━━━━━━━━━\u001b[0m\u001b[37m\u001b[0m \u001b[1m0s\u001b[0m 18ms/step\n",
      "\u001b[1m2/2\u001b[0m \u001b[32m━━━━━━━━━━━━━━━━━━━━\u001b[0m\u001b[37m\u001b[0m \u001b[1m0s\u001b[0m 18ms/step\n",
      "\u001b[1m2/2\u001b[0m \u001b[32m━━━━━━━━━━━━━━━━━━━━\u001b[0m\u001b[37m\u001b[0m \u001b[1m0s\u001b[0m 18ms/step\n",
      "\u001b[1m2/2\u001b[0m \u001b[32m━━━━━━━━━━━━━━━━━━━━\u001b[0m\u001b[37m\u001b[0m \u001b[1m0s\u001b[0m 18ms/step\n",
      "\u001b[1m2/2\u001b[0m \u001b[32m━━━━━━━━━━━━━━━━━━━━\u001b[0m\u001b[37m\u001b[0m \u001b[1m0s\u001b[0m 19ms/step\n",
      "\u001b[1m2/2\u001b[0m \u001b[32m━━━━━━━━━━━━━━━━━━━━\u001b[0m\u001b[37m\u001b[0m \u001b[1m0s\u001b[0m 18ms/step\n",
      "\u001b[1m2/2\u001b[0m \u001b[32m━━━━━━━━━━━━━━━━━━━━\u001b[0m\u001b[37m\u001b[0m \u001b[1m0s\u001b[0m 17ms/step\n",
      "\u001b[1m2/2\u001b[0m \u001b[32m━━━━━━━━━━━━━━━━━━━━\u001b[0m\u001b[37m\u001b[0m \u001b[1m0s\u001b[0m 17ms/step\n",
      "\u001b[1m2/2\u001b[0m \u001b[32m━━━━━━━━━━━━━━━━━━━━\u001b[0m\u001b[37m\u001b[0m \u001b[1m0s\u001b[0m 18ms/step\n",
      "\u001b[1m2/2\u001b[0m \u001b[32m━━━━━━━━━━━━━━━━━━━━\u001b[0m\u001b[37m\u001b[0m \u001b[1m0s\u001b[0m 19ms/step\n",
      "\u001b[1m2/2\u001b[0m \u001b[32m━━━━━━━━━━━━━━━━━━━━\u001b[0m\u001b[37m\u001b[0m \u001b[1m0s\u001b[0m 13ms/step\n",
      "\u001b[1m2/2\u001b[0m \u001b[32m━━━━━━━━━━━━━━━━━━━━\u001b[0m\u001b[37m\u001b[0m \u001b[1m0s\u001b[0m 19ms/step\n",
      "\u001b[1m2/2\u001b[0m \u001b[32m━━━━━━━━━━━━━━━━━━━━\u001b[0m\u001b[37m\u001b[0m \u001b[1m0s\u001b[0m 18ms/step\n",
      "\u001b[1m2/2\u001b[0m \u001b[32m━━━━━━━━━━━━━━━━━━━━\u001b[0m\u001b[37m\u001b[0m \u001b[1m0s\u001b[0m 13ms/step\n",
      "\u001b[1m2/2\u001b[0m \u001b[32m━━━━━━━━━━━━━━━━━━━━\u001b[0m\u001b[37m\u001b[0m \u001b[1m0s\u001b[0m 18ms/step\n",
      "\u001b[1m2/2\u001b[0m \u001b[32m━━━━━━━━━━━━━━━━━━━━\u001b[0m\u001b[37m\u001b[0m \u001b[1m0s\u001b[0m 18ms/step\n",
      "\u001b[1m2/2\u001b[0m \u001b[32m━━━━━━━━━━━━━━━━━━━━\u001b[0m\u001b[37m\u001b[0m \u001b[1m0s\u001b[0m 18ms/step\n",
      "\u001b[1m2/2\u001b[0m \u001b[32m━━━━━━━━━━━━━━━━━━━━\u001b[0m\u001b[37m\u001b[0m \u001b[1m0s\u001b[0m 18ms/step\n",
      "\u001b[1m2/2\u001b[0m \u001b[32m━━━━━━━━━━━━━━━━━━━━\u001b[0m\u001b[37m\u001b[0m \u001b[1m0s\u001b[0m 18ms/step\n",
      "\u001b[1m2/2\u001b[0m \u001b[32m━━━━━━━━━━━━━━━━━━━━\u001b[0m\u001b[37m\u001b[0m \u001b[1m0s\u001b[0m 18ms/step\n",
      "\u001b[1m2/2\u001b[0m \u001b[32m━━━━━━━━━━━━━━━━━━━━\u001b[0m\u001b[37m\u001b[0m \u001b[1m0s\u001b[0m 18ms/step\n",
      "\u001b[1m2/2\u001b[0m \u001b[32m━━━━━━━━━━━━━━━━━━━━\u001b[0m\u001b[37m\u001b[0m \u001b[1m0s\u001b[0m 18ms/step\n",
      "\u001b[1m2/2\u001b[0m \u001b[32m━━━━━━━━━━━━━━━━━━━━\u001b[0m\u001b[37m\u001b[0m \u001b[1m0s\u001b[0m 18ms/step\n",
      "\u001b[1m2/2\u001b[0m \u001b[32m━━━━━━━━━━━━━━━━━━━━\u001b[0m\u001b[37m\u001b[0m \u001b[1m0s\u001b[0m 18ms/step\n",
      "\u001b[1m2/2\u001b[0m \u001b[32m━━━━━━━━━━━━━━━━━━━━\u001b[0m\u001b[37m\u001b[0m \u001b[1m0s\u001b[0m 18ms/step\n",
      "\u001b[1m2/2\u001b[0m \u001b[32m━━━━━━━━━━━━━━━━━━━━\u001b[0m\u001b[37m\u001b[0m \u001b[1m0s\u001b[0m 18ms/step\n",
      "\u001b[1m2/2\u001b[0m \u001b[32m━━━━━━━━━━━━━━━━━━━━\u001b[0m\u001b[37m\u001b[0m \u001b[1m0s\u001b[0m 18ms/step\n",
      "\u001b[1m2/2\u001b[0m \u001b[32m━━━━━━━━━━━━━━━━━━━━\u001b[0m\u001b[37m\u001b[0m \u001b[1m0s\u001b[0m 18ms/step\n",
      "\u001b[1m2/2\u001b[0m \u001b[32m━━━━━━━━━━━━━━━━━━━━\u001b[0m\u001b[37m\u001b[0m \u001b[1m0s\u001b[0m 18ms/step\n",
      "\u001b[1m2/2\u001b[0m \u001b[32m━━━━━━━━━━━━━━━━━━━━\u001b[0m\u001b[37m\u001b[0m \u001b[1m0s\u001b[0m 18ms/step\n",
      "\u001b[1m2/2\u001b[0m \u001b[32m━━━━━━━━━━━━━━━━━━━━\u001b[0m\u001b[37m\u001b[0m \u001b[1m0s\u001b[0m 18ms/step\n",
      "\u001b[1m2/2\u001b[0m \u001b[32m━━━━━━━━━━━━━━━━━━━━\u001b[0m\u001b[37m\u001b[0m \u001b[1m0s\u001b[0m 18ms/step\n",
      "\u001b[1m2/2\u001b[0m \u001b[32m━━━━━━━━━━━━━━━━━━━━\u001b[0m\u001b[37m\u001b[0m \u001b[1m0s\u001b[0m 18ms/step\n",
      "\u001b[1m2/2\u001b[0m \u001b[32m━━━━━━━━━━━━━━━━━━━━\u001b[0m\u001b[37m\u001b[0m \u001b[1m0s\u001b[0m 18ms/step\n",
      "\u001b[1m2/2\u001b[0m \u001b[32m━━━━━━━━━━━━━━━━━━━━\u001b[0m\u001b[37m\u001b[0m \u001b[1m0s\u001b[0m 18ms/step\n",
      "\u001b[1m2/2\u001b[0m \u001b[32m━━━━━━━━━━━━━━━━━━━━\u001b[0m\u001b[37m\u001b[0m \u001b[1m0s\u001b[0m 18ms/step\n",
      "\u001b[1m2/2\u001b[0m \u001b[32m━━━━━━━━━━━━━━━━━━━━\u001b[0m\u001b[37m\u001b[0m \u001b[1m0s\u001b[0m 19ms/step\n",
      "\u001b[1m2/2\u001b[0m \u001b[32m━━━━━━━━━━━━━━━━━━━━\u001b[0m\u001b[37m\u001b[0m \u001b[1m0s\u001b[0m 18ms/step\n",
      "\u001b[1m2/2\u001b[0m \u001b[32m━━━━━━━━━━━━━━━━━━━━\u001b[0m\u001b[37m\u001b[0m \u001b[1m0s\u001b[0m 18ms/step\n",
      "\u001b[1m2/2\u001b[0m \u001b[32m━━━━━━━━━━━━━━━━━━━━\u001b[0m\u001b[37m\u001b[0m \u001b[1m0s\u001b[0m 18ms/step\n",
      "\u001b[1m2/2\u001b[0m \u001b[32m━━━━━━━━━━━━━━━━━━━━\u001b[0m\u001b[37m\u001b[0m \u001b[1m0s\u001b[0m 18ms/step\n",
      "\u001b[1m2/2\u001b[0m \u001b[32m━━━━━━━━━━━━━━━━━━━━\u001b[0m\u001b[37m\u001b[0m \u001b[1m0s\u001b[0m 18ms/step\n",
      "\u001b[1m2/2\u001b[0m \u001b[32m━━━━━━━━━━━━━━━━━━━━\u001b[0m\u001b[37m\u001b[0m \u001b[1m0s\u001b[0m 18ms/step\n",
      "\u001b[1m2/2\u001b[0m \u001b[32m━━━━━━━━━━━━━━━━━━━━\u001b[0m\u001b[37m\u001b[0m \u001b[1m0s\u001b[0m 18ms/step\n",
      "\u001b[1m2/2\u001b[0m \u001b[32m━━━━━━━━━━━━━━━━━━━━\u001b[0m\u001b[37m\u001b[0m \u001b[1m0s\u001b[0m 18ms/step\n",
      "\u001b[1m2/2\u001b[0m \u001b[32m━━━━━━━━━━━━━━━━━━━━\u001b[0m\u001b[37m\u001b[0m \u001b[1m0s\u001b[0m 18ms/step\n",
      "\u001b[1m2/2\u001b[0m \u001b[32m━━━━━━━━━━━━━━━━━━━━\u001b[0m\u001b[37m\u001b[0m \u001b[1m0s\u001b[0m 18ms/step\n",
      "\u001b[1m2/2\u001b[0m \u001b[32m━━━━━━━━━━━━━━━━━━━━\u001b[0m\u001b[37m\u001b[0m \u001b[1m0s\u001b[0m 18ms/step\n",
      "\u001b[1m2/2\u001b[0m \u001b[32m━━━━━━━━━━━━━━━━━━━━\u001b[0m\u001b[37m\u001b[0m \u001b[1m0s\u001b[0m 18ms/step\n",
      "\u001b[1m2/2\u001b[0m \u001b[32m━━━━━━━━━━━━━━━━━━━━\u001b[0m\u001b[37m\u001b[0m \u001b[1m0s\u001b[0m 18ms/step\n",
      "\u001b[1m2/2\u001b[0m \u001b[32m━━━━━━━━━━━━━━━━━━━━\u001b[0m\u001b[37m\u001b[0m \u001b[1m0s\u001b[0m 18ms/step\n",
      "\u001b[1m2/2\u001b[0m \u001b[32m━━━━━━━━━━━━━━━━━━━━\u001b[0m\u001b[37m\u001b[0m \u001b[1m0s\u001b[0m 18ms/step\n",
      "\u001b[1m2/2\u001b[0m \u001b[32m━━━━━━━━━━━━━━━━━━━━\u001b[0m\u001b[37m\u001b[0m \u001b[1m0s\u001b[0m 18ms/step\n",
      "\u001b[1m2/2\u001b[0m \u001b[32m━━━━━━━━━━━━━━━━━━━━\u001b[0m\u001b[37m\u001b[0m \u001b[1m0s\u001b[0m 18ms/step\n",
      "\u001b[1m2/2\u001b[0m \u001b[32m━━━━━━━━━━━━━━━━━━━━\u001b[0m\u001b[37m\u001b[0m \u001b[1m0s\u001b[0m 18ms/step\n",
      "\u001b[1m2/2\u001b[0m \u001b[32m━━━━━━━━━━━━━━━━━━━━\u001b[0m\u001b[37m\u001b[0m \u001b[1m0s\u001b[0m 18ms/step\n",
      "\u001b[1m2/2\u001b[0m \u001b[32m━━━━━━━━━━━━━━━━━━━━\u001b[0m\u001b[37m\u001b[0m \u001b[1m0s\u001b[0m 18ms/step\n",
      "\u001b[1m2/2\u001b[0m \u001b[32m━━━━━━━━━━━━━━━━━━━━\u001b[0m\u001b[37m\u001b[0m \u001b[1m0s\u001b[0m 18ms/step\n",
      "\u001b[1m2/2\u001b[0m \u001b[32m━━━━━━━━━━━━━━━━━━━━\u001b[0m\u001b[37m\u001b[0m \u001b[1m0s\u001b[0m 18ms/step\n",
      "\u001b[1m2/2\u001b[0m \u001b[32m━━━━━━━━━━━━━━━━━━━━\u001b[0m\u001b[37m\u001b[0m \u001b[1m0s\u001b[0m 18ms/step\n",
      "\u001b[1m2/2\u001b[0m \u001b[32m━━━━━━━━━━━━━━━━━━━━\u001b[0m\u001b[37m\u001b[0m \u001b[1m0s\u001b[0m 18ms/step\n",
      "\u001b[1m2/2\u001b[0m \u001b[32m━━━━━━━━━━━━━━━━━━━━\u001b[0m\u001b[37m\u001b[0m \u001b[1m0s\u001b[0m 18ms/step\n",
      "\u001b[1m2/2\u001b[0m \u001b[32m━━━━━━━━━━━━━━━━━━━━\u001b[0m\u001b[37m\u001b[0m \u001b[1m0s\u001b[0m 18ms/step\n",
      "\u001b[1m2/2\u001b[0m \u001b[32m━━━━━━━━━━━━━━━━━━━━\u001b[0m\u001b[37m\u001b[0m \u001b[1m0s\u001b[0m 18ms/step\n",
      "\u001b[1m2/2\u001b[0m \u001b[32m━━━━━━━━━━━━━━━━━━━━\u001b[0m\u001b[37m\u001b[0m \u001b[1m0s\u001b[0m 18ms/step\n",
      "\u001b[1m2/2\u001b[0m \u001b[32m━━━━━━━━━━━━━━━━━━━━\u001b[0m\u001b[37m\u001b[0m \u001b[1m0s\u001b[0m 18ms/step\n",
      "\u001b[1m2/2\u001b[0m \u001b[32m━━━━━━━━━━━━━━━━━━━━\u001b[0m\u001b[37m\u001b[0m \u001b[1m0s\u001b[0m 23ms/step\n",
      "\u001b[1m2/2\u001b[0m \u001b[32m━━━━━━━━━━━━━━━━━━━━\u001b[0m\u001b[37m\u001b[0m \u001b[1m0s\u001b[0m 21ms/step\n",
      "\u001b[1m2/2\u001b[0m \u001b[32m━━━━━━━━━━━━━━━━━━━━\u001b[0m\u001b[37m\u001b[0m \u001b[1m0s\u001b[0m 18ms/step\n",
      "\u001b[1m2/2\u001b[0m \u001b[32m━━━━━━━━━━━━━━━━━━━━\u001b[0m\u001b[37m\u001b[0m \u001b[1m0s\u001b[0m 18ms/step\n",
      "\u001b[1m2/2\u001b[0m \u001b[32m━━━━━━━━━━━━━━━━━━━━\u001b[0m\u001b[37m\u001b[0m \u001b[1m0s\u001b[0m 18ms/step\n",
      "\u001b[1m2/2\u001b[0m \u001b[32m━━━━━━━━━━━━━━━━━━━━\u001b[0m\u001b[37m\u001b[0m \u001b[1m0s\u001b[0m 18ms/step\n",
      "\u001b[1m2/2\u001b[0m \u001b[32m━━━━━━━━━━━━━━━━━━━━\u001b[0m\u001b[37m\u001b[0m \u001b[1m0s\u001b[0m 18ms/step\n",
      "\u001b[1m2/2\u001b[0m \u001b[32m━━━━━━━━━━━━━━━━━━━━\u001b[0m\u001b[37m\u001b[0m \u001b[1m0s\u001b[0m 17ms/step\n",
      "\u001b[1m2/2\u001b[0m \u001b[32m━━━━━━━━━━━━━━━━━━━━\u001b[0m\u001b[37m\u001b[0m \u001b[1m0s\u001b[0m 18ms/step\n",
      "\u001b[1m2/2\u001b[0m \u001b[32m━━━━━━━━━━━━━━━━━━━━\u001b[0m\u001b[37m\u001b[0m \u001b[1m0s\u001b[0m 18ms/step\n",
      "\u001b[1m2/2\u001b[0m \u001b[32m━━━━━━━━━━━━━━━━━━━━\u001b[0m\u001b[37m\u001b[0m \u001b[1m0s\u001b[0m 18ms/step\n",
      "\u001b[1m2/2\u001b[0m \u001b[32m━━━━━━━━━━━━━━━━━━━━\u001b[0m\u001b[37m\u001b[0m \u001b[1m0s\u001b[0m 18ms/step\n",
      "\u001b[1m2/2\u001b[0m \u001b[32m━━━━━━━━━━━━━━━━━━━━\u001b[0m\u001b[37m\u001b[0m \u001b[1m0s\u001b[0m 18ms/step\n",
      "\u001b[1m2/2\u001b[0m \u001b[32m━━━━━━━━━━━━━━━━━━━━\u001b[0m\u001b[37m\u001b[0m \u001b[1m0s\u001b[0m 18ms/step\n",
      "\u001b[1m2/2\u001b[0m \u001b[32m━━━━━━━━━━━━━━━━━━━━\u001b[0m\u001b[37m\u001b[0m \u001b[1m0s\u001b[0m 18ms/step\n",
      "\u001b[1m2/2\u001b[0m \u001b[32m━━━━━━━━━━━━━━━━━━━━\u001b[0m\u001b[37m\u001b[0m \u001b[1m0s\u001b[0m 18ms/step\n",
      "\u001b[1m2/2\u001b[0m \u001b[32m━━━━━━━━━━━━━━━━━━━━\u001b[0m\u001b[37m\u001b[0m \u001b[1m0s\u001b[0m 18ms/step\n",
      "\u001b[1m2/2\u001b[0m \u001b[32m━━━━━━━━━━━━━━━━━━━━\u001b[0m\u001b[37m\u001b[0m \u001b[1m0s\u001b[0m 18ms/step\n",
      "\u001b[1m2/2\u001b[0m \u001b[32m━━━━━━━━━━━━━━━━━━━━\u001b[0m\u001b[37m\u001b[0m \u001b[1m0s\u001b[0m 18ms/step\n",
      "\u001b[1m2/2\u001b[0m \u001b[32m━━━━━━━━━━━━━━━━━━━━\u001b[0m\u001b[37m\u001b[0m \u001b[1m0s\u001b[0m 18ms/step\n",
      "\u001b[1m2/2\u001b[0m \u001b[32m━━━━━━━━━━━━━━━━━━━━\u001b[0m\u001b[37m\u001b[0m \u001b[1m0s\u001b[0m 18ms/step\n",
      "\u001b[1m2/2\u001b[0m \u001b[32m━━━━━━━━━━━━━━━━━━━━\u001b[0m\u001b[37m\u001b[0m \u001b[1m0s\u001b[0m 18ms/step\n",
      "\u001b[1m2/2\u001b[0m \u001b[32m━━━━━━━━━━━━━━━━━━━━\u001b[0m\u001b[37m\u001b[0m \u001b[1m0s\u001b[0m 18ms/step\n",
      "\u001b[1m2/2\u001b[0m \u001b[32m━━━━━━━━━━━━━━━━━━━━\u001b[0m\u001b[37m\u001b[0m \u001b[1m0s\u001b[0m 18ms/step\n",
      "\u001b[1m2/2\u001b[0m \u001b[32m━━━━━━━━━━━━━━━━━━━━\u001b[0m\u001b[37m\u001b[0m \u001b[1m0s\u001b[0m 18ms/step\n",
      "\u001b[1m2/2\u001b[0m \u001b[32m━━━━━━━━━━━━━━━━━━━━\u001b[0m\u001b[37m\u001b[0m \u001b[1m0s\u001b[0m 18ms/step\n",
      "\u001b[1m2/2\u001b[0m \u001b[32m━━━━━━━━━━━━━━━━━━━━\u001b[0m\u001b[37m\u001b[0m \u001b[1m0s\u001b[0m 18ms/step\n",
      "\u001b[1m2/2\u001b[0m \u001b[32m━━━━━━━━━━━━━━━━━━━━\u001b[0m\u001b[37m\u001b[0m \u001b[1m0s\u001b[0m 18ms/step\n",
      "\u001b[1m2/2\u001b[0m \u001b[32m━━━━━━━━━━━━━━━━━━━━\u001b[0m\u001b[37m\u001b[0m \u001b[1m0s\u001b[0m 18ms/step\n",
      "\u001b[1m2/2\u001b[0m \u001b[32m━━━━━━━━━━━━━━━━━━━━\u001b[0m\u001b[37m\u001b[0m \u001b[1m0s\u001b[0m 18ms/step\n",
      "\u001b[1m2/2\u001b[0m \u001b[32m━━━━━━━━━━━━━━━━━━━━\u001b[0m\u001b[37m\u001b[0m \u001b[1m0s\u001b[0m 18ms/step\n",
      "\u001b[1m2/2\u001b[0m \u001b[32m━━━━━━━━━━━━━━━━━━━━\u001b[0m\u001b[37m\u001b[0m \u001b[1m0s\u001b[0m 18ms/step\n",
      "\u001b[1m2/2\u001b[0m \u001b[32m━━━━━━━━━━━━━━━━━━━━\u001b[0m\u001b[37m\u001b[0m \u001b[1m0s\u001b[0m 18ms/step\n",
      "\u001b[1m2/2\u001b[0m \u001b[32m━━━━━━━━━━━━━━━━━━━━\u001b[0m\u001b[37m\u001b[0m \u001b[1m0s\u001b[0m 18ms/step\n",
      "\u001b[1m2/2\u001b[0m \u001b[32m━━━━━━━━━━━━━━━━━━━━\u001b[0m\u001b[37m\u001b[0m \u001b[1m0s\u001b[0m 18ms/step\n",
      "\u001b[1m2/2\u001b[0m \u001b[32m━━━━━━━━━━━━━━━━━━━━\u001b[0m\u001b[37m\u001b[0m \u001b[1m0s\u001b[0m 18ms/step\n",
      "\u001b[1m2/2\u001b[0m \u001b[32m━━━━━━━━━━━━━━━━━━━━\u001b[0m\u001b[37m\u001b[0m \u001b[1m0s\u001b[0m 19ms/step\n",
      "\u001b[1m2/2\u001b[0m \u001b[32m━━━━━━━━━━━━━━━━━━━━\u001b[0m\u001b[37m\u001b[0m \u001b[1m0s\u001b[0m 18ms/step\n",
      "\u001b[1m2/2\u001b[0m \u001b[32m━━━━━━━━━━━━━━━━━━━━\u001b[0m\u001b[37m\u001b[0m \u001b[1m0s\u001b[0m 18ms/step\n",
      "\u001b[1m2/2\u001b[0m \u001b[32m━━━━━━━━━━━━━━━━━━━━\u001b[0m\u001b[37m\u001b[0m \u001b[1m0s\u001b[0m 18ms/step\n",
      "\u001b[1m2/2\u001b[0m \u001b[32m━━━━━━━━━━━━━━━━━━━━\u001b[0m\u001b[37m\u001b[0m \u001b[1m0s\u001b[0m 18ms/step\n",
      "\u001b[1m2/2\u001b[0m \u001b[32m━━━━━━━━━━━━━━━━━━━━\u001b[0m\u001b[37m\u001b[0m \u001b[1m0s\u001b[0m 18ms/step\n",
      "\u001b[1m2/2\u001b[0m \u001b[32m━━━━━━━━━━━━━━━━━━━━\u001b[0m\u001b[37m\u001b[0m \u001b[1m0s\u001b[0m 18ms/step\n",
      "\u001b[1m2/2\u001b[0m \u001b[32m━━━━━━━━━━━━━━━━━━━━\u001b[0m\u001b[37m\u001b[0m \u001b[1m0s\u001b[0m 18ms/step\n",
      "\u001b[1m2/2\u001b[0m \u001b[32m━━━━━━━━━━━━━━━━━━━━\u001b[0m\u001b[37m\u001b[0m \u001b[1m0s\u001b[0m 18ms/step\n",
      "\u001b[1m2/2\u001b[0m \u001b[32m━━━━━━━━━━━━━━━━━━━━\u001b[0m\u001b[37m\u001b[0m \u001b[1m0s\u001b[0m 19ms/step\n",
      "\u001b[1m2/2\u001b[0m \u001b[32m━━━━━━━━━━━━━━━━━━━━\u001b[0m\u001b[37m\u001b[0m \u001b[1m0s\u001b[0m 18ms/step\n",
      "\u001b[1m2/2\u001b[0m \u001b[32m━━━━━━━━━━━━━━━━━━━━\u001b[0m\u001b[37m\u001b[0m \u001b[1m0s\u001b[0m 19ms/step\n",
      "\u001b[1m2/2\u001b[0m \u001b[32m━━━━━━━━━━━━━━━━━━━━\u001b[0m\u001b[37m\u001b[0m \u001b[1m0s\u001b[0m 18ms/step\n",
      "\u001b[1m2/2\u001b[0m \u001b[32m━━━━━━━━━━━━━━━━━━━━\u001b[0m\u001b[37m\u001b[0m \u001b[1m0s\u001b[0m 18ms/step\n",
      "\u001b[1m2/2\u001b[0m \u001b[32m━━━━━━━━━━━━━━━━━━━━\u001b[0m\u001b[37m\u001b[0m \u001b[1m0s\u001b[0m 18ms/step\n",
      "\u001b[1m2/2\u001b[0m \u001b[32m━━━━━━━━━━━━━━━━━━━━\u001b[0m\u001b[37m\u001b[0m \u001b[1m0s\u001b[0m 18ms/step\n",
      "\u001b[1m2/2\u001b[0m \u001b[32m━━━━━━━━━━━━━━━━━━━━\u001b[0m\u001b[37m\u001b[0m \u001b[1m0s\u001b[0m 18ms/step\n",
      "\u001b[1m2/2\u001b[0m \u001b[32m━━━━━━━━━━━━━━━━━━━━\u001b[0m\u001b[37m\u001b[0m \u001b[1m0s\u001b[0m 18ms/step\n",
      "\u001b[1m2/2\u001b[0m \u001b[32m━━━━━━━━━━━━━━━━━━━━\u001b[0m\u001b[37m\u001b[0m \u001b[1m0s\u001b[0m 18ms/step\n",
      "\u001b[1m2/2\u001b[0m \u001b[32m━━━━━━━━━━━━━━━━━━━━\u001b[0m\u001b[37m\u001b[0m \u001b[1m0s\u001b[0m 18ms/step\n",
      "\u001b[1m2/2\u001b[0m \u001b[32m━━━━━━━━━━━━━━━━━━━━\u001b[0m\u001b[37m\u001b[0m \u001b[1m0s\u001b[0m 18ms/step\n",
      "\u001b[1m2/2\u001b[0m \u001b[32m━━━━━━━━━━━━━━━━━━━━\u001b[0m\u001b[37m\u001b[0m \u001b[1m0s\u001b[0m 18ms/step\n",
      "\u001b[1m2/2\u001b[0m \u001b[32m━━━━━━━━━━━━━━━━━━━━\u001b[0m\u001b[37m\u001b[0m \u001b[1m0s\u001b[0m 18ms/step\n",
      "\u001b[1m2/2\u001b[0m \u001b[32m━━━━━━━━━━━━━━━━━━━━\u001b[0m\u001b[37m\u001b[0m \u001b[1m0s\u001b[0m 13ms/step\n",
      "\u001b[1m2/2\u001b[0m \u001b[32m━━━━━━━━━━━━━━━━━━━━\u001b[0m\u001b[37m\u001b[0m \u001b[1m0s\u001b[0m 18ms/step\n",
      "\u001b[1m2/2\u001b[0m \u001b[32m━━━━━━━━━━━━━━━━━━━━\u001b[0m\u001b[37m\u001b[0m \u001b[1m0s\u001b[0m 18ms/step\n",
      "\u001b[1m2/2\u001b[0m \u001b[32m━━━━━━━━━━━━━━━━━━━━\u001b[0m\u001b[37m\u001b[0m \u001b[1m0s\u001b[0m 18ms/step\n",
      "\u001b[1m2/2\u001b[0m \u001b[32m━━━━━━━━━━━━━━━━━━━━\u001b[0m\u001b[37m\u001b[0m \u001b[1m0s\u001b[0m 17ms/step\n",
      "\u001b[1m2/2\u001b[0m \u001b[32m━━━━━━━━━━━━━━━━━━━━\u001b[0m\u001b[37m\u001b[0m \u001b[1m0s\u001b[0m 18ms/step\n",
      "\u001b[1m2/2\u001b[0m \u001b[32m━━━━━━━━━━━━━━━━━━━━\u001b[0m\u001b[37m\u001b[0m \u001b[1m0s\u001b[0m 13ms/step\n",
      "\u001b[1m2/2\u001b[0m \u001b[32m━━━━━━━━━━━━━━━━━━━━\u001b[0m\u001b[37m\u001b[0m \u001b[1m0s\u001b[0m 21ms/step\n",
      "\u001b[1m2/2\u001b[0m \u001b[32m━━━━━━━━━━━━━━━━━━━━\u001b[0m\u001b[37m\u001b[0m \u001b[1m0s\u001b[0m 13ms/step\n",
      "\u001b[1m2/2\u001b[0m \u001b[32m━━━━━━━━━━━━━━━━━━━━\u001b[0m\u001b[37m\u001b[0m \u001b[1m0s\u001b[0m 12ms/step\n",
      "\u001b[1m2/2\u001b[0m \u001b[32m━━━━━━━━━━━━━━━━━━━━\u001b[0m\u001b[37m\u001b[0m \u001b[1m0s\u001b[0m 17ms/step\n",
      "\u001b[1m2/2\u001b[0m \u001b[32m━━━━━━━━━━━━━━━━━━━━\u001b[0m\u001b[37m\u001b[0m \u001b[1m0s\u001b[0m 14ms/step\n",
      "\u001b[1m2/2\u001b[0m \u001b[32m━━━━━━━━━━━━━━━━━━━━\u001b[0m\u001b[37m\u001b[0m \u001b[1m0s\u001b[0m 13ms/step\n",
      "\u001b[1m2/2\u001b[0m \u001b[32m━━━━━━━━━━━━━━━━━━━━\u001b[0m\u001b[37m\u001b[0m \u001b[1m0s\u001b[0m 13ms/step\n",
      "\u001b[1m2/2\u001b[0m \u001b[32m━━━━━━━━━━━━━━━━━━━━\u001b[0m\u001b[37m\u001b[0m \u001b[1m0s\u001b[0m 18ms/step\n",
      "\u001b[1m2/2\u001b[0m \u001b[32m━━━━━━━━━━━━━━━━━━━━\u001b[0m\u001b[37m\u001b[0m \u001b[1m0s\u001b[0m 18ms/step\n",
      "\u001b[1m2/2\u001b[0m \u001b[32m━━━━━━━━━━━━━━━━━━━━\u001b[0m\u001b[37m\u001b[0m \u001b[1m0s\u001b[0m 18ms/step\n",
      "\u001b[1m2/2\u001b[0m \u001b[32m━━━━━━━━━━━━━━━━━━━━\u001b[0m\u001b[37m\u001b[0m \u001b[1m0s\u001b[0m 16ms/step\n",
      "\u001b[1m2/2\u001b[0m \u001b[32m━━━━━━━━━━━━━━━━━━━━\u001b[0m\u001b[37m\u001b[0m \u001b[1m0s\u001b[0m 15ms/step\n",
      "\u001b[1m2/2\u001b[0m \u001b[32m━━━━━━━━━━━━━━━━━━━━\u001b[0m\u001b[37m\u001b[0m \u001b[1m0s\u001b[0m 13ms/step\n",
      "\u001b[1m2/2\u001b[0m \u001b[32m━━━━━━━━━━━━━━━━━━━━\u001b[0m\u001b[37m\u001b[0m \u001b[1m0s\u001b[0m 18ms/step\n",
      "\u001b[1m2/2\u001b[0m \u001b[32m━━━━━━━━━━━━━━━━━━━━\u001b[0m\u001b[37m\u001b[0m \u001b[1m0s\u001b[0m 17ms/step\n",
      "\u001b[1m2/2\u001b[0m \u001b[32m━━━━━━━━━━━━━━━━━━━━\u001b[0m\u001b[37m\u001b[0m \u001b[1m0s\u001b[0m 18ms/step\n",
      "\u001b[1m2/2\u001b[0m \u001b[32m━━━━━━━━━━━━━━━━━━━━\u001b[0m\u001b[37m\u001b[0m \u001b[1m0s\u001b[0m 18ms/step\n",
      "\u001b[1m2/2\u001b[0m \u001b[32m━━━━━━━━━━━━━━━━━━━━\u001b[0m\u001b[37m\u001b[0m \u001b[1m0s\u001b[0m 18ms/step\n",
      "\u001b[1m2/2\u001b[0m \u001b[32m━━━━━━━━━━━━━━━━━━━━\u001b[0m\u001b[37m\u001b[0m \u001b[1m0s\u001b[0m 18ms/step\n",
      "\u001b[1m2/2\u001b[0m \u001b[32m━━━━━━━━━━━━━━━━━━━━\u001b[0m\u001b[37m\u001b[0m \u001b[1m0s\u001b[0m 18ms/step\n",
      "\u001b[1m2/2\u001b[0m \u001b[32m━━━━━━━━━━━━━━━━━━━━\u001b[0m\u001b[37m\u001b[0m \u001b[1m0s\u001b[0m 18ms/step\n",
      "\u001b[1m2/2\u001b[0m \u001b[32m━━━━━━━━━━━━━━━━━━━━\u001b[0m\u001b[37m\u001b[0m \u001b[1m0s\u001b[0m 17ms/step\n",
      "\u001b[1m2/2\u001b[0m \u001b[32m━━━━━━━━━━━━━━━━━━━━\u001b[0m\u001b[37m\u001b[0m \u001b[1m0s\u001b[0m 18ms/step\n",
      "\u001b[1m2/2\u001b[0m \u001b[32m━━━━━━━━━━━━━━━━━━━━\u001b[0m\u001b[37m\u001b[0m \u001b[1m0s\u001b[0m 18ms/step\n",
      "\u001b[1m2/2\u001b[0m \u001b[32m━━━━━━━━━━━━━━━━━━━━\u001b[0m\u001b[37m\u001b[0m \u001b[1m0s\u001b[0m 22ms/step\n",
      "\u001b[1m2/2\u001b[0m \u001b[32m━━━━━━━━━━━━━━━━━━━━\u001b[0m\u001b[37m\u001b[0m \u001b[1m0s\u001b[0m 18ms/step\n",
      "\u001b[1m2/2\u001b[0m \u001b[32m━━━━━━━━━━━━━━━━━━━━\u001b[0m\u001b[37m\u001b[0m \u001b[1m0s\u001b[0m 13ms/step\n",
      "\u001b[1m2/2\u001b[0m \u001b[32m━━━━━━━━━━━━━━━━━━━━\u001b[0m\u001b[37m\u001b[0m \u001b[1m0s\u001b[0m 12ms/step\n",
      "\u001b[1m2/2\u001b[0m \u001b[32m━━━━━━━━━━━━━━━━━━━━\u001b[0m\u001b[37m\u001b[0m \u001b[1m0s\u001b[0m 19ms/step\n",
      "\u001b[1m2/2\u001b[0m \u001b[32m━━━━━━━━━━━━━━━━━━━━\u001b[0m\u001b[37m\u001b[0m \u001b[1m0s\u001b[0m 13ms/step\n",
      "\u001b[1m2/2\u001b[0m \u001b[32m━━━━━━━━━━━━━━━━━━━━\u001b[0m\u001b[37m\u001b[0m \u001b[1m0s\u001b[0m 18ms/step\n",
      "\u001b[1m2/2\u001b[0m \u001b[32m━━━━━━━━━━━━━━━━━━━━\u001b[0m\u001b[37m\u001b[0m \u001b[1m0s\u001b[0m 13ms/step\n",
      "\u001b[1m2/2\u001b[0m \u001b[32m━━━━━━━━━━━━━━━━━━━━\u001b[0m\u001b[37m\u001b[0m \u001b[1m0s\u001b[0m 12ms/step\n",
      "\u001b[1m2/2\u001b[0m \u001b[32m━━━━━━━━━━━━━━━━━━━━\u001b[0m\u001b[37m\u001b[0m \u001b[1m0s\u001b[0m 18ms/step\n",
      "\u001b[1m2/2\u001b[0m \u001b[32m━━━━━━━━━━━━━━━━━━━━\u001b[0m\u001b[37m\u001b[0m \u001b[1m0s\u001b[0m 13ms/step\n",
      "\u001b[1m2/2\u001b[0m \u001b[32m━━━━━━━━━━━━━━━━━━━━\u001b[0m\u001b[37m\u001b[0m \u001b[1m0s\u001b[0m 18ms/step\n",
      "\u001b[1m2/2\u001b[0m \u001b[32m━━━━━━━━━━━━━━━━━━━━\u001b[0m\u001b[37m\u001b[0m \u001b[1m0s\u001b[0m 18ms/step\n",
      "\u001b[1m2/2\u001b[0m \u001b[32m━━━━━━━━━━━━━━━━━━━━\u001b[0m\u001b[37m\u001b[0m \u001b[1m0s\u001b[0m 17ms/step\n",
      "\u001b[1m2/2\u001b[0m \u001b[32m━━━━━━━━━━━━━━━━━━━━\u001b[0m\u001b[37m\u001b[0m \u001b[1m0s\u001b[0m 18ms/step\n",
      "\u001b[1m2/2\u001b[0m \u001b[32m━━━━━━━━━━━━━━━━━━━━\u001b[0m\u001b[37m\u001b[0m \u001b[1m0s\u001b[0m 18ms/step\n",
      "\u001b[1m2/2\u001b[0m \u001b[32m━━━━━━━━━━━━━━━━━━━━\u001b[0m\u001b[37m\u001b[0m \u001b[1m0s\u001b[0m 18ms/step\n",
      "\u001b[1m2/2\u001b[0m \u001b[32m━━━━━━━━━━━━━━━━━━━━\u001b[0m\u001b[37m\u001b[0m \u001b[1m0s\u001b[0m 13ms/step\n",
      "\u001b[1m2/2\u001b[0m \u001b[32m━━━━━━━━━━━━━━━━━━━━\u001b[0m\u001b[37m\u001b[0m \u001b[1m0s\u001b[0m 13ms/step\n",
      "\u001b[1m2/2\u001b[0m \u001b[32m━━━━━━━━━━━━━━━━━━━━\u001b[0m\u001b[37m\u001b[0m \u001b[1m0s\u001b[0m 13ms/step\n",
      "\u001b[1m2/2\u001b[0m \u001b[32m━━━━━━━━━━━━━━━━━━━━\u001b[0m\u001b[37m\u001b[0m \u001b[1m0s\u001b[0m 13ms/step\n",
      "\u001b[1m2/2\u001b[0m \u001b[32m━━━━━━━━━━━━━━━━━━━━\u001b[0m\u001b[37m\u001b[0m \u001b[1m0s\u001b[0m 18ms/step\n",
      "\u001b[1m2/2\u001b[0m \u001b[32m━━━━━━━━━━━━━━━━━━━━\u001b[0m\u001b[37m\u001b[0m \u001b[1m0s\u001b[0m 18ms/step\n",
      "\u001b[1m2/2\u001b[0m \u001b[32m━━━━━━━━━━━━━━━━━━━━\u001b[0m\u001b[37m\u001b[0m \u001b[1m0s\u001b[0m 18ms/step\n",
      "\u001b[1m2/2\u001b[0m \u001b[32m━━━━━━━━━━━━━━━━━━━━\u001b[0m\u001b[37m\u001b[0m \u001b[1m0s\u001b[0m 18ms/step\n",
      "\u001b[1m2/2\u001b[0m \u001b[32m━━━━━━━━━━━━━━━━━━━━\u001b[0m\u001b[37m\u001b[0m \u001b[1m0s\u001b[0m 16ms/step\n",
      "\u001b[1m2/2\u001b[0m \u001b[32m━━━━━━━━━━━━━━━━━━━━\u001b[0m\u001b[37m\u001b[0m \u001b[1m0s\u001b[0m 17ms/step\n",
      "\u001b[1m2/2\u001b[0m \u001b[32m━━━━━━━━━━━━━━━━━━━━\u001b[0m\u001b[37m\u001b[0m \u001b[1m0s\u001b[0m 22ms/step\n",
      "\u001b[1m2/2\u001b[0m \u001b[32m━━━━━━━━━━━━━━━━━━━━\u001b[0m\u001b[37m\u001b[0m \u001b[1m0s\u001b[0m 12ms/step\n",
      "\u001b[1m2/2\u001b[0m \u001b[32m━━━━━━━━━━━━━━━━━━━━\u001b[0m\u001b[37m\u001b[0m \u001b[1m0s\u001b[0m 18ms/step\n",
      "\u001b[1m2/2\u001b[0m \u001b[32m━━━━━━━━━━━━━━━━━━━━\u001b[0m\u001b[37m\u001b[0m \u001b[1m0s\u001b[0m 18ms/step\n",
      "\u001b[1m2/2\u001b[0m \u001b[32m━━━━━━━━━━━━━━━━━━━━\u001b[0m\u001b[37m\u001b[0m \u001b[1m0s\u001b[0m 17ms/step\n",
      "\u001b[1m2/2\u001b[0m \u001b[32m━━━━━━━━━━━━━━━━━━━━\u001b[0m\u001b[37m\u001b[0m \u001b[1m0s\u001b[0m 18ms/step\n",
      "\u001b[1m2/2\u001b[0m \u001b[32m━━━━━━━━━━━━━━━━━━━━\u001b[0m\u001b[37m\u001b[0m \u001b[1m0s\u001b[0m 13ms/step\n",
      "\u001b[1m2/2\u001b[0m \u001b[32m━━━━━━━━━━━━━━━━━━━━\u001b[0m\u001b[37m\u001b[0m \u001b[1m0s\u001b[0m 19ms/step\n",
      "\u001b[1m2/2\u001b[0m \u001b[32m━━━━━━━━━━━━━━━━━━━━\u001b[0m\u001b[37m\u001b[0m \u001b[1m0s\u001b[0m 23ms/step\n",
      "\u001b[1m2/2\u001b[0m \u001b[32m━━━━━━━━━━━━━━━━━━━━\u001b[0m\u001b[37m\u001b[0m \u001b[1m0s\u001b[0m 13ms/step\n",
      "\u001b[1m2/2\u001b[0m \u001b[32m━━━━━━━━━━━━━━━━━━━━\u001b[0m\u001b[37m\u001b[0m \u001b[1m0s\u001b[0m 13ms/step\n",
      "\u001b[1m2/2\u001b[0m \u001b[32m━━━━━━━━━━━━━━━━━━━━\u001b[0m\u001b[37m\u001b[0m \u001b[1m0s\u001b[0m 13ms/step\n",
      "\u001b[1m2/2\u001b[0m \u001b[32m━━━━━━━━━━━━━━━━━━━━\u001b[0m\u001b[37m\u001b[0m \u001b[1m0s\u001b[0m 18ms/step\n",
      "\u001b[1m2/2\u001b[0m \u001b[32m━━━━━━━━━━━━━━━━━━━━\u001b[0m\u001b[37m\u001b[0m \u001b[1m0s\u001b[0m 18ms/step\n",
      "\u001b[1m2/2\u001b[0m \u001b[32m━━━━━━━━━━━━━━━━━━━━\u001b[0m\u001b[37m\u001b[0m \u001b[1m0s\u001b[0m 18ms/step\n",
      "\u001b[1m2/2\u001b[0m \u001b[32m━━━━━━━━━━━━━━━━━━━━\u001b[0m\u001b[37m\u001b[0m \u001b[1m0s\u001b[0m 13ms/step\n",
      "\u001b[1m2/2\u001b[0m \u001b[32m━━━━━━━━━━━━━━━━━━━━\u001b[0m\u001b[37m\u001b[0m \u001b[1m0s\u001b[0m 17ms/step\n",
      "\u001b[1m2/2\u001b[0m \u001b[32m━━━━━━━━━━━━━━━━━━━━\u001b[0m\u001b[37m\u001b[0m \u001b[1m0s\u001b[0m 13ms/step\n",
      "\u001b[1m2/2\u001b[0m \u001b[32m━━━━━━━━━━━━━━━━━━━━\u001b[0m\u001b[37m\u001b[0m \u001b[1m0s\u001b[0m 13ms/step\n",
      "\u001b[1m2/2\u001b[0m \u001b[32m━━━━━━━━━━━━━━━━━━━━\u001b[0m\u001b[37m\u001b[0m \u001b[1m0s\u001b[0m 14ms/step\n",
      "\u001b[1m2/2\u001b[0m \u001b[32m━━━━━━━━━━━━━━━━━━━━\u001b[0m\u001b[37m\u001b[0m \u001b[1m0s\u001b[0m 15ms/step\n",
      "\u001b[1m2/2\u001b[0m \u001b[32m━━━━━━━━━━━━━━━━━━━━\u001b[0m\u001b[37m\u001b[0m \u001b[1m0s\u001b[0m 22ms/step\n",
      "\u001b[1m2/2\u001b[0m \u001b[32m━━━━━━━━━━━━━━━━━━━━\u001b[0m\u001b[37m\u001b[0m \u001b[1m0s\u001b[0m 17ms/step\n",
      "\u001b[1m2/2\u001b[0m \u001b[32m━━━━━━━━━━━━━━━━━━━━\u001b[0m\u001b[37m\u001b[0m \u001b[1m0s\u001b[0m 13ms/step\n",
      "\u001b[1m2/2\u001b[0m \u001b[32m━━━━━━━━━━━━━━━━━━━━\u001b[0m\u001b[37m\u001b[0m \u001b[1m0s\u001b[0m 14ms/step\n",
      "\u001b[1m2/2\u001b[0m \u001b[32m━━━━━━━━━━━━━━━━━━━━\u001b[0m\u001b[37m\u001b[0m \u001b[1m0s\u001b[0m 17ms/step\n",
      "\u001b[1m2/2\u001b[0m \u001b[32m━━━━━━━━━━━━━━━━━━━━\u001b[0m\u001b[37m\u001b[0m \u001b[1m0s\u001b[0m 18ms/step\n",
      "\u001b[1m2/2\u001b[0m \u001b[32m━━━━━━━━━━━━━━━━━━━━\u001b[0m\u001b[37m\u001b[0m \u001b[1m0s\u001b[0m 18ms/step\n",
      "\u001b[1m2/2\u001b[0m \u001b[32m━━━━━━━━━━━━━━━━━━━━\u001b[0m\u001b[37m\u001b[0m \u001b[1m0s\u001b[0m 17ms/step\n",
      "\u001b[1m2/2\u001b[0m \u001b[32m━━━━━━━━━━━━━━━━━━━━\u001b[0m\u001b[37m\u001b[0m \u001b[1m0s\u001b[0m 18ms/step\n",
      "\u001b[1m2/2\u001b[0m \u001b[32m━━━━━━━━━━━━━━━━━━━━\u001b[0m\u001b[37m\u001b[0m \u001b[1m0s\u001b[0m 21ms/step\n",
      "\u001b[1m2/2\u001b[0m \u001b[32m━━━━━━━━━━━━━━━━━━━━\u001b[0m\u001b[37m\u001b[0m \u001b[1m0s\u001b[0m 13ms/step\n",
      "\u001b[1m2/2\u001b[0m \u001b[32m━━━━━━━━━━━━━━━━━━━━\u001b[0m\u001b[37m\u001b[0m \u001b[1m0s\u001b[0m 17ms/step\n",
      "\u001b[1m2/2\u001b[0m \u001b[32m━━━━━━━━━━━━━━━━━━━━\u001b[0m\u001b[37m\u001b[0m \u001b[1m0s\u001b[0m 18ms/step\n",
      "\u001b[1m2/2\u001b[0m \u001b[32m━━━━━━━━━━━━━━━━━━━━\u001b[0m\u001b[37m\u001b[0m \u001b[1m0s\u001b[0m 18ms/step\n",
      "\u001b[1m2/2\u001b[0m \u001b[32m━━━━━━━━━━━━━━━━━━━━\u001b[0m\u001b[37m\u001b[0m \u001b[1m0s\u001b[0m 18ms/step\n",
      "\u001b[1m2/2\u001b[0m \u001b[32m━━━━━━━━━━━━━━━━━━━━\u001b[0m\u001b[37m\u001b[0m \u001b[1m0s\u001b[0m 13ms/step\n",
      "\u001b[1m2/2\u001b[0m \u001b[32m━━━━━━━━━━━━━━━━━━━━\u001b[0m\u001b[37m\u001b[0m \u001b[1m0s\u001b[0m 16ms/step\n",
      "\u001b[1m2/2\u001b[0m \u001b[32m━━━━━━━━━━━━━━━━━━━━\u001b[0m\u001b[37m\u001b[0m \u001b[1m0s\u001b[0m 18ms/step\n",
      "\u001b[1m2/2\u001b[0m \u001b[32m━━━━━━━━━━━━━━━━━━━━\u001b[0m\u001b[37m\u001b[0m \u001b[1m0s\u001b[0m 13ms/step\n",
      "\u001b[1m2/2\u001b[0m \u001b[32m━━━━━━━━━━━━━━━━━━━━\u001b[0m\u001b[37m\u001b[0m \u001b[1m0s\u001b[0m 18ms/step\n",
      "\u001b[1m2/2\u001b[0m \u001b[32m━━━━━━━━━━━━━━━━━━━━\u001b[0m\u001b[37m\u001b[0m \u001b[1m0s\u001b[0m 13ms/step\n",
      "\u001b[1m2/2\u001b[0m \u001b[32m━━━━━━━━━━━━━━━━━━━━\u001b[0m\u001b[37m\u001b[0m \u001b[1m0s\u001b[0m 18ms/step\n",
      "\u001b[1m2/2\u001b[0m \u001b[32m━━━━━━━━━━━━━━━━━━━━\u001b[0m\u001b[37m\u001b[0m \u001b[1m0s\u001b[0m 19ms/step\n",
      "\u001b[1m2/2\u001b[0m \u001b[32m━━━━━━━━━━━━━━━━━━━━\u001b[0m\u001b[37m\u001b[0m \u001b[1m0s\u001b[0m 18ms/step\n",
      "\u001b[1m2/2\u001b[0m \u001b[32m━━━━━━━━━━━━━━━━━━━━\u001b[0m\u001b[37m\u001b[0m \u001b[1m0s\u001b[0m 20ms/step\n",
      "\u001b[1m2/2\u001b[0m \u001b[32m━━━━━━━━━━━━━━━━━━━━\u001b[0m\u001b[37m\u001b[0m \u001b[1m0s\u001b[0m 18ms/step\n",
      "\u001b[1m2/2\u001b[0m \u001b[32m━━━━━━━━━━━━━━━━━━━━\u001b[0m\u001b[37m\u001b[0m \u001b[1m0s\u001b[0m 17ms/step\n",
      "\u001b[1m2/2\u001b[0m \u001b[32m━━━━━━━━━━━━━━━━━━━━\u001b[0m\u001b[37m\u001b[0m \u001b[1m0s\u001b[0m 23ms/step\n",
      "\u001b[1m2/2\u001b[0m \u001b[32m━━━━━━━━━━━━━━━━━━━━\u001b[0m\u001b[37m\u001b[0m \u001b[1m0s\u001b[0m 18ms/step\n",
      "\u001b[1m2/2\u001b[0m \u001b[32m━━━━━━━━━━━━━━━━━━━━\u001b[0m\u001b[37m\u001b[0m \u001b[1m0s\u001b[0m 18ms/step\n",
      "\u001b[1m2/2\u001b[0m \u001b[32m━━━━━━━━━━━━━━━━━━━━\u001b[0m\u001b[37m\u001b[0m \u001b[1m0s\u001b[0m 19ms/step\n",
      "\u001b[1m2/2\u001b[0m \u001b[32m━━━━━━━━━━━━━━━━━━━━\u001b[0m\u001b[37m\u001b[0m \u001b[1m0s\u001b[0m 18ms/step\n",
      "\u001b[1m2/2\u001b[0m \u001b[32m━━━━━━━━━━━━━━━━━━━━\u001b[0m\u001b[37m\u001b[0m \u001b[1m0s\u001b[0m 18ms/step\n",
      "\u001b[1m2/2\u001b[0m \u001b[32m━━━━━━━━━━━━━━━━━━━━\u001b[0m\u001b[37m\u001b[0m \u001b[1m0s\u001b[0m 18ms/step\n",
      "\u001b[1m2/2\u001b[0m \u001b[32m━━━━━━━━━━━━━━━━━━━━\u001b[0m\u001b[37m\u001b[0m \u001b[1m0s\u001b[0m 18ms/step\n",
      "\u001b[1m2/2\u001b[0m \u001b[32m━━━━━━━━━━━━━━━━━━━━\u001b[0m\u001b[37m\u001b[0m \u001b[1m0s\u001b[0m 18ms/step\n",
      "\u001b[1m2/2\u001b[0m \u001b[32m━━━━━━━━━━━━━━━━━━━━\u001b[0m\u001b[37m\u001b[0m \u001b[1m0s\u001b[0m 18ms/step\n",
      "\u001b[1m2/2\u001b[0m \u001b[32m━━━━━━━━━━━━━━━━━━━━\u001b[0m\u001b[37m\u001b[0m \u001b[1m0s\u001b[0m 18ms/step\n",
      "\u001b[1m2/2\u001b[0m \u001b[32m━━━━━━━━━━━━━━━━━━━━\u001b[0m\u001b[37m\u001b[0m \u001b[1m0s\u001b[0m 18ms/step\n",
      "\u001b[1m2/2\u001b[0m \u001b[32m━━━━━━━━━━━━━━━━━━━━\u001b[0m\u001b[37m\u001b[0m \u001b[1m0s\u001b[0m 18ms/step\n",
      "\u001b[1m2/2\u001b[0m \u001b[32m━━━━━━━━━━━━━━━━━━━━\u001b[0m\u001b[37m\u001b[0m \u001b[1m0s\u001b[0m 18ms/step\n",
      "\u001b[1m2/2\u001b[0m \u001b[32m━━━━━━━━━━━━━━━━━━━━\u001b[0m\u001b[37m\u001b[0m \u001b[1m0s\u001b[0m 17ms/step\n",
      "\u001b[1m2/2\u001b[0m \u001b[32m━━━━━━━━━━━━━━━━━━━━\u001b[0m\u001b[37m\u001b[0m \u001b[1m0s\u001b[0m 18ms/step\n",
      "\u001b[1m2/2\u001b[0m \u001b[32m━━━━━━━━━━━━━━━━━━━━\u001b[0m\u001b[37m\u001b[0m \u001b[1m0s\u001b[0m 18ms/step\n",
      "\u001b[1m2/2\u001b[0m \u001b[32m━━━━━━━━━━━━━━━━━━━━\u001b[0m\u001b[37m\u001b[0m \u001b[1m0s\u001b[0m 18ms/step\n",
      "\u001b[1m2/2\u001b[0m \u001b[32m━━━━━━━━━━━━━━━━━━━━\u001b[0m\u001b[37m\u001b[0m \u001b[1m0s\u001b[0m 18ms/step\n",
      "\u001b[1m2/2\u001b[0m \u001b[32m━━━━━━━━━━━━━━━━━━━━\u001b[0m\u001b[37m\u001b[0m \u001b[1m0s\u001b[0m 18ms/step\n",
      "\u001b[1m2/2\u001b[0m \u001b[32m━━━━━━━━━━━━━━━━━━━━\u001b[0m\u001b[37m\u001b[0m \u001b[1m0s\u001b[0m 18ms/step\n",
      "\u001b[1m2/2\u001b[0m \u001b[32m━━━━━━━━━━━━━━━━━━━━\u001b[0m\u001b[37m\u001b[0m \u001b[1m0s\u001b[0m 18ms/step\n",
      "\u001b[1m2/2\u001b[0m \u001b[32m━━━━━━━━━━━━━━━━━━━━\u001b[0m\u001b[37m\u001b[0m \u001b[1m0s\u001b[0m 18ms/step\n",
      "\u001b[1m2/2\u001b[0m \u001b[32m━━━━━━━━━━━━━━━━━━━━\u001b[0m\u001b[37m\u001b[0m \u001b[1m0s\u001b[0m 18ms/step\n",
      "\u001b[1m2/2\u001b[0m \u001b[32m━━━━━━━━━━━━━━━━━━━━\u001b[0m\u001b[37m\u001b[0m \u001b[1m0s\u001b[0m 18ms/step\n",
      "\u001b[1m2/2\u001b[0m \u001b[32m━━━━━━━━━━━━━━━━━━━━\u001b[0m\u001b[37m\u001b[0m \u001b[1m0s\u001b[0m 18ms/step\n",
      "\u001b[1m2/2\u001b[0m \u001b[32m━━━━━━━━━━━━━━━━━━━━\u001b[0m\u001b[37m\u001b[0m \u001b[1m0s\u001b[0m 18ms/step\n",
      "\u001b[1m2/2\u001b[0m \u001b[32m━━━━━━━━━━━━━━━━━━━━\u001b[0m\u001b[37m\u001b[0m \u001b[1m0s\u001b[0m 18ms/step\n",
      "\u001b[1m2/2\u001b[0m \u001b[32m━━━━━━━━━━━━━━━━━━━━\u001b[0m\u001b[37m\u001b[0m \u001b[1m0s\u001b[0m 18ms/step\n",
      "\u001b[1m2/2\u001b[0m \u001b[32m━━━━━━━━━━━━━━━━━━━━\u001b[0m\u001b[37m\u001b[0m \u001b[1m0s\u001b[0m 18ms/step\n",
      "\u001b[1m2/2\u001b[0m \u001b[32m━━━━━━━━━━━━━━━━━━━━\u001b[0m\u001b[37m\u001b[0m \u001b[1m0s\u001b[0m 18ms/step\n",
      "\u001b[1m2/2\u001b[0m \u001b[32m━━━━━━━━━━━━━━━━━━━━\u001b[0m\u001b[37m\u001b[0m \u001b[1m0s\u001b[0m 18ms/step\n",
      "\u001b[1m2/2\u001b[0m \u001b[32m━━━━━━━━━━━━━━━━━━━━\u001b[0m\u001b[37m\u001b[0m \u001b[1m0s\u001b[0m 19ms/step\n",
      "\u001b[1m2/2\u001b[0m \u001b[32m━━━━━━━━━━━━━━━━━━━━\u001b[0m\u001b[37m\u001b[0m \u001b[1m0s\u001b[0m 18ms/step\n",
      "\u001b[1m2/2\u001b[0m \u001b[32m━━━━━━━━━━━━━━━━━━━━\u001b[0m\u001b[37m\u001b[0m \u001b[1m0s\u001b[0m 18ms/step\n",
      "\u001b[1m2/2\u001b[0m \u001b[32m━━━━━━━━━━━━━━━━━━━━\u001b[0m\u001b[37m\u001b[0m \u001b[1m0s\u001b[0m 18ms/step\n",
      "\u001b[1m2/2\u001b[0m \u001b[32m━━━━━━━━━━━━━━━━━━━━\u001b[0m\u001b[37m\u001b[0m \u001b[1m0s\u001b[0m 18ms/step\n",
      "\u001b[1m2/2\u001b[0m \u001b[32m━━━━━━━━━━━━━━━━━━━━\u001b[0m\u001b[37m\u001b[0m \u001b[1m0s\u001b[0m 18ms/step\n",
      "\u001b[1m2/2\u001b[0m \u001b[32m━━━━━━━━━━━━━━━━━━━━\u001b[0m\u001b[37m\u001b[0m \u001b[1m0s\u001b[0m 18ms/step\n",
      "\u001b[1m2/2\u001b[0m \u001b[32m━━━━━━━━━━━━━━━━━━━━\u001b[0m\u001b[37m\u001b[0m \u001b[1m0s\u001b[0m 18ms/step\n",
      "\u001b[1m2/2\u001b[0m \u001b[32m━━━━━━━━━━━━━━━━━━━━\u001b[0m\u001b[37m\u001b[0m \u001b[1m0s\u001b[0m 18ms/step\n",
      "\u001b[1m2/2\u001b[0m \u001b[32m━━━━━━━━━━━━━━━━━━━━\u001b[0m\u001b[37m\u001b[0m \u001b[1m0s\u001b[0m 18ms/step\n",
      "\u001b[1m2/2\u001b[0m \u001b[32m━━━━━━━━━━━━━━━━━━━━\u001b[0m\u001b[37m\u001b[0m \u001b[1m0s\u001b[0m 18ms/step\n",
      "\u001b[1m2/2\u001b[0m \u001b[32m━━━━━━━━━━━━━━━━━━━━\u001b[0m\u001b[37m\u001b[0m \u001b[1m0s\u001b[0m 18ms/step\n",
      "\u001b[1m2/2\u001b[0m \u001b[32m━━━━━━━━━━━━━━━━━━━━\u001b[0m\u001b[37m\u001b[0m \u001b[1m0s\u001b[0m 18ms/step\n",
      "\u001b[1m2/2\u001b[0m \u001b[32m━━━━━━━━━━━━━━━━━━━━\u001b[0m\u001b[37m\u001b[0m \u001b[1m0s\u001b[0m 18ms/step\n",
      "\u001b[1m2/2\u001b[0m \u001b[32m━━━━━━━━━━━━━━━━━━━━\u001b[0m\u001b[37m\u001b[0m \u001b[1m0s\u001b[0m 18ms/step\n",
      "\u001b[1m2/2\u001b[0m \u001b[32m━━━━━━━━━━━━━━━━━━━━\u001b[0m\u001b[37m\u001b[0m \u001b[1m0s\u001b[0m 18ms/step\n",
      "\u001b[1m2/2\u001b[0m \u001b[32m━━━━━━━━━━━━━━━━━━━━\u001b[0m\u001b[37m\u001b[0m \u001b[1m0s\u001b[0m 18ms/step\n",
      "\u001b[1m2/2\u001b[0m \u001b[32m━━━━━━━━━━━━━━━━━━━━\u001b[0m\u001b[37m\u001b[0m \u001b[1m0s\u001b[0m 18ms/step\n",
      "\u001b[1m2/2\u001b[0m \u001b[32m━━━━━━━━━━━━━━━━━━━━\u001b[0m\u001b[37m\u001b[0m \u001b[1m0s\u001b[0m 18ms/step\n",
      "\u001b[1m2/2\u001b[0m \u001b[32m━━━━━━━━━━━━━━━━━━━━\u001b[0m\u001b[37m\u001b[0m \u001b[1m0s\u001b[0m 18ms/step\n",
      "\u001b[1m2/2\u001b[0m \u001b[32m━━━━━━━━━━━━━━━━━━━━\u001b[0m\u001b[37m\u001b[0m \u001b[1m0s\u001b[0m 18ms/step\n",
      "\u001b[1m2/2\u001b[0m \u001b[32m━━━━━━━━━━━━━━━━━━━━\u001b[0m\u001b[37m\u001b[0m \u001b[1m0s\u001b[0m 18ms/step\n",
      "\u001b[1m2/2\u001b[0m \u001b[32m━━━━━━━━━━━━━━━━━━━━\u001b[0m\u001b[37m\u001b[0m \u001b[1m0s\u001b[0m 18ms/step\n",
      "\u001b[1m2/2\u001b[0m \u001b[32m━━━━━━━━━━━━━━━━━━━━\u001b[0m\u001b[37m\u001b[0m \u001b[1m0s\u001b[0m 18ms/step\n",
      "\u001b[1m2/2\u001b[0m \u001b[32m━━━━━━━━━━━━━━━━━━━━\u001b[0m\u001b[37m\u001b[0m \u001b[1m0s\u001b[0m 18ms/step\n",
      "\u001b[1m2/2\u001b[0m \u001b[32m━━━━━━━━━━━━━━━━━━━━\u001b[0m\u001b[37m\u001b[0m \u001b[1m0s\u001b[0m 17ms/step\n",
      "\u001b[1m2/2\u001b[0m \u001b[32m━━━━━━━━━━━━━━━━━━━━\u001b[0m\u001b[37m\u001b[0m \u001b[1m0s\u001b[0m 19ms/step\n",
      "\u001b[1m2/2\u001b[0m \u001b[32m━━━━━━━━━━━━━━━━━━━━\u001b[0m\u001b[37m\u001b[0m \u001b[1m0s\u001b[0m 18ms/step\n",
      "\u001b[1m2/2\u001b[0m \u001b[32m━━━━━━━━━━━━━━━━━━━━\u001b[0m\u001b[37m\u001b[0m \u001b[1m0s\u001b[0m 18ms/step\n",
      "\u001b[1m2/2\u001b[0m \u001b[32m━━━━━━━━━━━━━━━━━━━━\u001b[0m\u001b[37m\u001b[0m \u001b[1m0s\u001b[0m 18ms/step\n",
      "\u001b[1m2/2\u001b[0m \u001b[32m━━━━━━━━━━━━━━━━━━━━\u001b[0m\u001b[37m\u001b[0m \u001b[1m0s\u001b[0m 18ms/step\n",
      "\u001b[1m2/2\u001b[0m \u001b[32m━━━━━━━━━━━━━━━━━━━━\u001b[0m\u001b[37m\u001b[0m \u001b[1m0s\u001b[0m 18ms/step\n",
      "\u001b[1m2/2\u001b[0m \u001b[32m━━━━━━━━━━━━━━━━━━━━\u001b[0m\u001b[37m\u001b[0m \u001b[1m0s\u001b[0m 18ms/step\n",
      "\u001b[1m2/2\u001b[0m \u001b[32m━━━━━━━━━━━━━━━━━━━━\u001b[0m\u001b[37m\u001b[0m \u001b[1m0s\u001b[0m 18ms/step\n",
      "\u001b[1m2/2\u001b[0m \u001b[32m━━━━━━━━━━━━━━━━━━━━\u001b[0m\u001b[37m\u001b[0m \u001b[1m0s\u001b[0m 17ms/step\n",
      "\u001b[1m2/2\u001b[0m \u001b[32m━━━━━━━━━━━━━━━━━━━━\u001b[0m\u001b[37m\u001b[0m \u001b[1m0s\u001b[0m 18ms/step\n",
      "\u001b[1m2/2\u001b[0m \u001b[32m━━━━━━━━━━━━━━━━━━━━\u001b[0m\u001b[37m\u001b[0m \u001b[1m0s\u001b[0m 18ms/step\n",
      "\u001b[1m2/2\u001b[0m \u001b[32m━━━━━━━━━━━━━━━━━━━━\u001b[0m\u001b[37m\u001b[0m \u001b[1m0s\u001b[0m 18ms/step\n",
      "\u001b[1m2/2\u001b[0m \u001b[32m━━━━━━━━━━━━━━━━━━━━\u001b[0m\u001b[37m\u001b[0m \u001b[1m0s\u001b[0m 19ms/step\n",
      "\u001b[1m2/2\u001b[0m \u001b[32m━━━━━━━━━━━━━━━━━━━━\u001b[0m\u001b[37m\u001b[0m \u001b[1m0s\u001b[0m 18ms/step\n",
      "\u001b[1m2/2\u001b[0m \u001b[32m━━━━━━━━━━━━━━━━━━━━\u001b[0m\u001b[37m\u001b[0m \u001b[1m0s\u001b[0m 18ms/step\n",
      "\u001b[1m2/2\u001b[0m \u001b[32m━━━━━━━━━━━━━━━━━━━━\u001b[0m\u001b[37m\u001b[0m \u001b[1m0s\u001b[0m 18ms/step\n",
      "\u001b[1m2/2\u001b[0m \u001b[32m━━━━━━━━━━━━━━━━━━━━\u001b[0m\u001b[37m\u001b[0m \u001b[1m0s\u001b[0m 18ms/step\n",
      "\u001b[1m2/2\u001b[0m \u001b[32m━━━━━━━━━━━━━━━━━━━━\u001b[0m\u001b[37m\u001b[0m \u001b[1m0s\u001b[0m 18ms/step\n",
      "\u001b[1m2/2\u001b[0m \u001b[32m━━━━━━━━━━━━━━━━━━━━\u001b[0m\u001b[37m\u001b[0m \u001b[1m0s\u001b[0m 18ms/step\n",
      "\u001b[1m2/2\u001b[0m \u001b[32m━━━━━━━━━━━━━━━━━━━━\u001b[0m\u001b[37m\u001b[0m \u001b[1m0s\u001b[0m 18ms/step\n",
      "\u001b[1m2/2\u001b[0m \u001b[32m━━━━━━━━━━━━━━━━━━━━\u001b[0m\u001b[37m\u001b[0m \u001b[1m0s\u001b[0m 18ms/step\n",
      "\u001b[1m2/2\u001b[0m \u001b[32m━━━━━━━━━━━━━━━━━━━━\u001b[0m\u001b[37m\u001b[0m \u001b[1m0s\u001b[0m 18ms/step\n",
      "\u001b[1m2/2\u001b[0m \u001b[32m━━━━━━━━━━━━━━━━━━━━\u001b[0m\u001b[37m\u001b[0m \u001b[1m0s\u001b[0m 18ms/step\n",
      "\u001b[1m2/2\u001b[0m \u001b[32m━━━━━━━━━━━━━━━━━━━━\u001b[0m\u001b[37m\u001b[0m \u001b[1m0s\u001b[0m 18ms/step\n",
      "\u001b[1m2/2\u001b[0m \u001b[32m━━━━━━━━━━━━━━━━━━━━\u001b[0m\u001b[37m\u001b[0m \u001b[1m0s\u001b[0m 18ms/step\n",
      "\u001b[1m2/2\u001b[0m \u001b[32m━━━━━━━━━━━━━━━━━━━━\u001b[0m\u001b[37m\u001b[0m \u001b[1m0s\u001b[0m 18ms/step\n",
      "\u001b[1m2/2\u001b[0m \u001b[32m━━━━━━━━━━━━━━━━━━━━\u001b[0m\u001b[37m\u001b[0m \u001b[1m0s\u001b[0m 18ms/step\n",
      "\u001b[1m2/2\u001b[0m \u001b[32m━━━━━━━━━━━━━━━━━━━━\u001b[0m\u001b[37m\u001b[0m \u001b[1m0s\u001b[0m 18ms/step\n",
      "\u001b[1m2/2\u001b[0m \u001b[32m━━━━━━━━━━━━━━━━━━━━\u001b[0m\u001b[37m\u001b[0m \u001b[1m0s\u001b[0m 18ms/step\n",
      "\u001b[1m2/2\u001b[0m \u001b[32m━━━━━━━━━━━━━━━━━━━━\u001b[0m\u001b[37m\u001b[0m \u001b[1m0s\u001b[0m 18ms/step\n",
      "\u001b[1m2/2\u001b[0m \u001b[32m━━━━━━━━━━━━━━━━━━━━\u001b[0m\u001b[37m\u001b[0m \u001b[1m0s\u001b[0m 18ms/step\n",
      "\u001b[1m2/2\u001b[0m \u001b[32m━━━━━━━━━━━━━━━━━━━━\u001b[0m\u001b[37m\u001b[0m \u001b[1m0s\u001b[0m 18ms/step\n",
      "\u001b[1m2/2\u001b[0m \u001b[32m━━━━━━━━━━━━━━━━━━━━\u001b[0m\u001b[37m\u001b[0m \u001b[1m0s\u001b[0m 18ms/step\n",
      "\u001b[1m2/2\u001b[0m \u001b[32m━━━━━━━━━━━━━━━━━━━━\u001b[0m\u001b[37m\u001b[0m \u001b[1m0s\u001b[0m 18ms/step\n",
      "\u001b[1m2/2\u001b[0m \u001b[32m━━━━━━━━━━━━━━━━━━━━\u001b[0m\u001b[37m\u001b[0m \u001b[1m0s\u001b[0m 18ms/step\n",
      "\u001b[1m2/2\u001b[0m \u001b[32m━━━━━━━━━━━━━━━━━━━━\u001b[0m\u001b[37m\u001b[0m \u001b[1m0s\u001b[0m 18ms/step\n",
      "\u001b[1m2/2\u001b[0m \u001b[32m━━━━━━━━━━━━━━━━━━━━\u001b[0m\u001b[37m\u001b[0m \u001b[1m0s\u001b[0m 18ms/step\n",
      "\u001b[1m2/2\u001b[0m \u001b[32m━━━━━━━━━━━━━━━━━━━━\u001b[0m\u001b[37m\u001b[0m \u001b[1m0s\u001b[0m 18ms/step\n",
      "\u001b[1m2/2\u001b[0m \u001b[32m━━━━━━━━━━━━━━━━━━━━\u001b[0m\u001b[37m\u001b[0m \u001b[1m0s\u001b[0m 18ms/step\n",
      "\u001b[1m2/2\u001b[0m \u001b[32m━━━━━━━━━━━━━━━━━━━━\u001b[0m\u001b[37m\u001b[0m \u001b[1m0s\u001b[0m 18ms/step\n",
      "\u001b[1m2/2\u001b[0m \u001b[32m━━━━━━━━━━━━━━━━━━━━\u001b[0m\u001b[37m\u001b[0m \u001b[1m0s\u001b[0m 18ms/step\n",
      "\u001b[1m2/2\u001b[0m \u001b[32m━━━━━━━━━━━━━━━━━━━━\u001b[0m\u001b[37m\u001b[0m \u001b[1m0s\u001b[0m 18ms/step\n",
      "\u001b[1m2/2\u001b[0m \u001b[32m━━━━━━━━━━━━━━━━━━━━\u001b[0m\u001b[37m\u001b[0m \u001b[1m0s\u001b[0m 17ms/step\n",
      "\u001b[1m2/2\u001b[0m \u001b[32m━━━━━━━━━━━━━━━━━━━━\u001b[0m\u001b[37m\u001b[0m \u001b[1m0s\u001b[0m 18ms/step\n",
      "\u001b[1m2/2\u001b[0m \u001b[32m━━━━━━━━━━━━━━━━━━━━\u001b[0m\u001b[37m\u001b[0m \u001b[1m0s\u001b[0m 18ms/step\n",
      "\u001b[1m2/2\u001b[0m \u001b[32m━━━━━━━━━━━━━━━━━━━━\u001b[0m\u001b[37m\u001b[0m \u001b[1m0s\u001b[0m 18ms/step\n",
      "\u001b[1m2/2\u001b[0m \u001b[32m━━━━━━━━━━━━━━━━━━━━\u001b[0m\u001b[37m\u001b[0m \u001b[1m0s\u001b[0m 18ms/step\n",
      "\u001b[1m2/2\u001b[0m \u001b[32m━━━━━━━━━━━━━━━━━━━━\u001b[0m\u001b[37m\u001b[0m \u001b[1m0s\u001b[0m 18ms/step\n",
      "\u001b[1m2/2\u001b[0m \u001b[32m━━━━━━━━━━━━━━━━━━━━\u001b[0m\u001b[37m\u001b[0m \u001b[1m0s\u001b[0m 17ms/step\n",
      "\u001b[1m2/2\u001b[0m \u001b[32m━━━━━━━━━━━━━━━━━━━━\u001b[0m\u001b[37m\u001b[0m \u001b[1m0s\u001b[0m 18ms/step\n",
      "\u001b[1m2/2\u001b[0m \u001b[32m━━━━━━━━━━━━━━━━━━━━\u001b[0m\u001b[37m\u001b[0m \u001b[1m0s\u001b[0m 18ms/step\n",
      "\u001b[1m2/2\u001b[0m \u001b[32m━━━━━━━━━━━━━━━━━━━━\u001b[0m\u001b[37m\u001b[0m \u001b[1m0s\u001b[0m 18ms/step\n",
      "\u001b[1m2/2\u001b[0m \u001b[32m━━━━━━━━━━━━━━━━━━━━\u001b[0m\u001b[37m\u001b[0m \u001b[1m0s\u001b[0m 18ms/step\n",
      "\u001b[1m2/2\u001b[0m \u001b[32m━━━━━━━━━━━━━━━━━━━━\u001b[0m\u001b[37m\u001b[0m \u001b[1m0s\u001b[0m 18ms/step\n",
      "\u001b[1m2/2\u001b[0m \u001b[32m━━━━━━━━━━━━━━━━━━━━\u001b[0m\u001b[37m\u001b[0m \u001b[1m0s\u001b[0m 19ms/step\n",
      "\u001b[1m2/2\u001b[0m \u001b[32m━━━━━━━━━━━━━━━━━━━━\u001b[0m\u001b[37m\u001b[0m \u001b[1m0s\u001b[0m 18ms/step\n",
      "\u001b[1m2/2\u001b[0m \u001b[32m━━━━━━━━━━━━━━━━━━━━\u001b[0m\u001b[37m\u001b[0m \u001b[1m0s\u001b[0m 18ms/step\n",
      "\u001b[1m2/2\u001b[0m \u001b[32m━━━━━━━━━━━━━━━━━━━━\u001b[0m\u001b[37m\u001b[0m \u001b[1m0s\u001b[0m 18ms/step\n",
      "\u001b[1m2/2\u001b[0m \u001b[32m━━━━━━━━━━━━━━━━━━━━\u001b[0m\u001b[37m\u001b[0m \u001b[1m0s\u001b[0m 18ms/step\n",
      "\u001b[1m2/2\u001b[0m \u001b[32m━━━━━━━━━━━━━━━━━━━━\u001b[0m\u001b[37m\u001b[0m \u001b[1m0s\u001b[0m 18ms/step\n",
      "\u001b[1m2/2\u001b[0m \u001b[32m━━━━━━━━━━━━━━━━━━━━\u001b[0m\u001b[37m\u001b[0m \u001b[1m0s\u001b[0m 18ms/step\n",
      "\u001b[1m2/2\u001b[0m \u001b[32m━━━━━━━━━━━━━━━━━━━━\u001b[0m\u001b[37m\u001b[0m \u001b[1m0s\u001b[0m 18ms/step\n",
      "\u001b[1m2/2\u001b[0m \u001b[32m━━━━━━━━━━━━━━━━━━━━\u001b[0m\u001b[37m\u001b[0m \u001b[1m0s\u001b[0m 18ms/step\n",
      "\u001b[1m2/2\u001b[0m \u001b[32m━━━━━━━━━━━━━━━━━━━━\u001b[0m\u001b[37m\u001b[0m \u001b[1m0s\u001b[0m 18ms/step\n",
      "\u001b[1m2/2\u001b[0m \u001b[32m━━━━━━━━━━━━━━━━━━━━\u001b[0m\u001b[37m\u001b[0m \u001b[1m0s\u001b[0m 20ms/step\n",
      "\u001b[1m2/2\u001b[0m \u001b[32m━━━━━━━━━━━━━━━━━━━━\u001b[0m\u001b[37m\u001b[0m \u001b[1m0s\u001b[0m 13ms/step\n",
      "\u001b[1m2/2\u001b[0m \u001b[32m━━━━━━━━━━━━━━━━━━━━\u001b[0m\u001b[37m\u001b[0m \u001b[1m0s\u001b[0m 17ms/step\n",
      "\u001b[1m2/2\u001b[0m \u001b[32m━━━━━━━━━━━━━━━━━━━━\u001b[0m\u001b[37m\u001b[0m \u001b[1m0s\u001b[0m 31ms/step\n",
      "\u001b[1m2/2\u001b[0m \u001b[32m━━━━━━━━━━━━━━━━━━━━\u001b[0m\u001b[37m\u001b[0m \u001b[1m0s\u001b[0m 17ms/step\n",
      "\u001b[1m2/2\u001b[0m \u001b[32m━━━━━━━━━━━━━━━━━━━━\u001b[0m\u001b[37m\u001b[0m \u001b[1m0s\u001b[0m 13ms/step\n",
      "\u001b[1m2/2\u001b[0m \u001b[32m━━━━━━━━━━━━━━━━━━━━\u001b[0m\u001b[37m\u001b[0m \u001b[1m0s\u001b[0m 17ms/step\n",
      "\u001b[1m2/2\u001b[0m \u001b[32m━━━━━━━━━━━━━━━━━━━━\u001b[0m\u001b[37m\u001b[0m \u001b[1m0s\u001b[0m 22ms/step\n",
      "\u001b[1m2/2\u001b[0m \u001b[32m━━━━━━━━━━━━━━━━━━━━\u001b[0m\u001b[37m\u001b[0m \u001b[1m0s\u001b[0m 13ms/step\n",
      "\u001b[1m2/2\u001b[0m \u001b[32m━━━━━━━━━━━━━━━━━━━━\u001b[0m\u001b[37m\u001b[0m \u001b[1m0s\u001b[0m 14ms/step\n",
      "\u001b[1m2/2\u001b[0m \u001b[32m━━━━━━━━━━━━━━━━━━━━\u001b[0m\u001b[37m\u001b[0m \u001b[1m0s\u001b[0m 18ms/step\n",
      "\u001b[1m2/2\u001b[0m \u001b[32m━━━━━━━━━━━━━━━━━━━━\u001b[0m\u001b[37m\u001b[0m \u001b[1m0s\u001b[0m 18ms/step\n",
      "\u001b[1m2/2\u001b[0m \u001b[32m━━━━━━━━━━━━━━━━━━━━\u001b[0m\u001b[37m\u001b[0m \u001b[1m0s\u001b[0m 18ms/step\n",
      "\u001b[1m2/2\u001b[0m \u001b[32m━━━━━━━━━━━━━━━━━━━━\u001b[0m\u001b[37m\u001b[0m \u001b[1m0s\u001b[0m 18ms/step\n",
      "\u001b[1m2/2\u001b[0m \u001b[32m━━━━━━━━━━━━━━━━━━━━\u001b[0m\u001b[37m\u001b[0m \u001b[1m0s\u001b[0m 18ms/step\n",
      "\u001b[1m2/2\u001b[0m \u001b[32m━━━━━━━━━━━━━━━━━━━━\u001b[0m\u001b[37m\u001b[0m \u001b[1m0s\u001b[0m 18ms/step\n",
      "\u001b[1m2/2\u001b[0m \u001b[32m━━━━━━━━━━━━━━━━━━━━\u001b[0m\u001b[37m\u001b[0m \u001b[1m0s\u001b[0m 18ms/step\n",
      "\u001b[1m2/2\u001b[0m \u001b[32m━━━━━━━━━━━━━━━━━━━━\u001b[0m\u001b[37m\u001b[0m \u001b[1m0s\u001b[0m 18ms/step\n",
      "\u001b[1m2/2\u001b[0m \u001b[32m━━━━━━━━━━━━━━━━━━━━\u001b[0m\u001b[37m\u001b[0m \u001b[1m0s\u001b[0m 18ms/step\n",
      "\u001b[1m2/2\u001b[0m \u001b[32m━━━━━━━━━━━━━━━━━━━━\u001b[0m\u001b[37m\u001b[0m \u001b[1m0s\u001b[0m 17ms/step\n",
      "\u001b[1m2/2\u001b[0m \u001b[32m━━━━━━━━━━━━━━━━━━━━\u001b[0m\u001b[37m\u001b[0m \u001b[1m0s\u001b[0m 18ms/step\n",
      "\u001b[1m2/2\u001b[0m \u001b[32m━━━━━━━━━━━━━━━━━━━━\u001b[0m\u001b[37m\u001b[0m \u001b[1m0s\u001b[0m 18ms/step\n",
      "\u001b[1m2/2\u001b[0m \u001b[32m━━━━━━━━━━━━━━━━━━━━\u001b[0m\u001b[37m\u001b[0m \u001b[1m0s\u001b[0m 18ms/step\n",
      "\u001b[1m2/2\u001b[0m \u001b[32m━━━━━━━━━━━━━━━━━━━━\u001b[0m\u001b[37m\u001b[0m \u001b[1m0s\u001b[0m 18ms/step\n",
      "\u001b[1m2/2\u001b[0m \u001b[32m━━━━━━━━━━━━━━━━━━━━\u001b[0m\u001b[37m\u001b[0m \u001b[1m0s\u001b[0m 18ms/step\n",
      "\u001b[1m2/2\u001b[0m \u001b[32m━━━━━━━━━━━━━━━━━━━━\u001b[0m\u001b[37m\u001b[0m \u001b[1m0s\u001b[0m 18ms/step\n",
      "\u001b[1m2/2\u001b[0m \u001b[32m━━━━━━━━━━━━━━━━━━━━\u001b[0m\u001b[37m\u001b[0m \u001b[1m0s\u001b[0m 19ms/step\n",
      "\u001b[1m2/2\u001b[0m \u001b[32m━━━━━━━━━━━━━━━━━━━━\u001b[0m\u001b[37m\u001b[0m \u001b[1m0s\u001b[0m 18ms/step\n",
      "\u001b[1m2/2\u001b[0m \u001b[32m━━━━━━━━━━━━━━━━━━━━\u001b[0m\u001b[37m\u001b[0m \u001b[1m0s\u001b[0m 18ms/step\n",
      "\u001b[1m2/2\u001b[0m \u001b[32m━━━━━━━━━━━━━━━━━━━━\u001b[0m\u001b[37m\u001b[0m \u001b[1m0s\u001b[0m 18ms/step\n",
      "\u001b[1m2/2\u001b[0m \u001b[32m━━━━━━━━━━━━━━━━━━━━\u001b[0m\u001b[37m\u001b[0m \u001b[1m0s\u001b[0m 18ms/step\n",
      "\u001b[1m2/2\u001b[0m \u001b[32m━━━━━━━━━━━━━━━━━━━━\u001b[0m\u001b[37m\u001b[0m \u001b[1m0s\u001b[0m 18ms/step\n",
      "\u001b[1m2/2\u001b[0m \u001b[32m━━━━━━━━━━━━━━━━━━━━\u001b[0m\u001b[37m\u001b[0m \u001b[1m0s\u001b[0m 18ms/step\n",
      "\u001b[1m2/2\u001b[0m \u001b[32m━━━━━━━━━━━━━━━━━━━━\u001b[0m\u001b[37m\u001b[0m \u001b[1m0s\u001b[0m 18ms/step\n",
      "\u001b[1m2/2\u001b[0m \u001b[32m━━━━━━━━━━━━━━━━━━━━\u001b[0m\u001b[37m\u001b[0m \u001b[1m0s\u001b[0m 18ms/step\n",
      "\u001b[1m2/2\u001b[0m \u001b[32m━━━━━━━━━━━━━━━━━━━━\u001b[0m\u001b[37m\u001b[0m \u001b[1m0s\u001b[0m 18ms/step\n",
      "\u001b[1m2/2\u001b[0m \u001b[32m━━━━━━━━━━━━━━━━━━━━\u001b[0m\u001b[37m\u001b[0m \u001b[1m0s\u001b[0m 18ms/step\n",
      "\u001b[1m2/2\u001b[0m \u001b[32m━━━━━━━━━━━━━━━━━━━━\u001b[0m\u001b[37m\u001b[0m \u001b[1m0s\u001b[0m 19ms/step\n",
      "\u001b[1m2/2\u001b[0m \u001b[32m━━━━━━━━━━━━━━━━━━━━\u001b[0m\u001b[37m\u001b[0m \u001b[1m0s\u001b[0m 18ms/step\n",
      "\u001b[1m2/2\u001b[0m \u001b[32m━━━━━━━━━━━━━━━━━━━━\u001b[0m\u001b[37m\u001b[0m \u001b[1m0s\u001b[0m 18ms/step\n",
      "\u001b[1m2/2\u001b[0m \u001b[32m━━━━━━━━━━━━━━━━━━━━\u001b[0m\u001b[37m\u001b[0m \u001b[1m0s\u001b[0m 18ms/step\n",
      "\u001b[1m2/2\u001b[0m \u001b[32m━━━━━━━━━━━━━━━━━━━━\u001b[0m\u001b[37m\u001b[0m \u001b[1m0s\u001b[0m 18ms/step\n",
      "\u001b[1m2/2\u001b[0m \u001b[32m━━━━━━━━━━━━━━━━━━━━\u001b[0m\u001b[37m\u001b[0m \u001b[1m0s\u001b[0m 18ms/step\n",
      "\u001b[1m2/2\u001b[0m \u001b[32m━━━━━━━━━━━━━━━━━━━━\u001b[0m\u001b[37m\u001b[0m \u001b[1m0s\u001b[0m 18ms/step\n",
      "\u001b[1m2/2\u001b[0m \u001b[32m━━━━━━━━━━━━━━━━━━━━\u001b[0m\u001b[37m\u001b[0m \u001b[1m0s\u001b[0m 18ms/step\n",
      "\u001b[1m2/2\u001b[0m \u001b[32m━━━━━━━━━━━━━━━━━━━━\u001b[0m\u001b[37m\u001b[0m \u001b[1m0s\u001b[0m 18ms/step\n",
      "\u001b[1m2/2\u001b[0m \u001b[32m━━━━━━━━━━━━━━━━━━━━\u001b[0m\u001b[37m\u001b[0m \u001b[1m0s\u001b[0m 20ms/step\n",
      "\u001b[1m2/2\u001b[0m \u001b[32m━━━━━━━━━━━━━━━━━━━━\u001b[0m\u001b[37m\u001b[0m \u001b[1m0s\u001b[0m 18ms/step\n",
      "\u001b[1m2/2\u001b[0m \u001b[32m━━━━━━━━━━━━━━━━━━━━\u001b[0m\u001b[37m\u001b[0m \u001b[1m0s\u001b[0m 18ms/step\n",
      "\u001b[1m2/2\u001b[0m \u001b[32m━━━━━━━━━━━━━━━━━━━━\u001b[0m\u001b[37m\u001b[0m \u001b[1m0s\u001b[0m 18ms/step\n",
      "\u001b[1m2/2\u001b[0m \u001b[32m━━━━━━━━━━━━━━━━━━━━\u001b[0m\u001b[37m\u001b[0m \u001b[1m0s\u001b[0m 18ms/step\n",
      "\u001b[1m2/2\u001b[0m \u001b[32m━━━━━━━━━━━━━━━━━━━━\u001b[0m\u001b[37m\u001b[0m \u001b[1m0s\u001b[0m 18ms/step\n",
      "\u001b[1m2/2\u001b[0m \u001b[32m━━━━━━━━━━━━━━━━━━━━\u001b[0m\u001b[37m\u001b[0m \u001b[1m0s\u001b[0m 18ms/step\n",
      "\u001b[1m2/2\u001b[0m \u001b[32m━━━━━━━━━━━━━━━━━━━━\u001b[0m\u001b[37m\u001b[0m \u001b[1m0s\u001b[0m 18ms/step\n",
      "\u001b[1m2/2\u001b[0m \u001b[32m━━━━━━━━━━━━━━━━━━━━\u001b[0m\u001b[37m\u001b[0m \u001b[1m0s\u001b[0m 18ms/step\n",
      "\u001b[1m2/2\u001b[0m \u001b[32m━━━━━━━━━━━━━━━━━━━━\u001b[0m\u001b[37m\u001b[0m \u001b[1m0s\u001b[0m 18ms/step\n",
      "\u001b[1m2/2\u001b[0m \u001b[32m━━━━━━━━━━━━━━━━━━━━\u001b[0m\u001b[37m\u001b[0m \u001b[1m0s\u001b[0m 18ms/step\n",
      "\u001b[1m2/2\u001b[0m \u001b[32m━━━━━━━━━━━━━━━━━━━━\u001b[0m\u001b[37m\u001b[0m \u001b[1m0s\u001b[0m 18ms/step\n",
      "\u001b[1m2/2\u001b[0m \u001b[32m━━━━━━━━━━━━━━━━━━━━\u001b[0m\u001b[37m\u001b[0m \u001b[1m0s\u001b[0m 18ms/step\n",
      "\u001b[1m2/2\u001b[0m \u001b[32m━━━━━━━━━━━━━━━━━━━━\u001b[0m\u001b[37m\u001b[0m \u001b[1m0s\u001b[0m 18ms/step\n",
      "\u001b[1m2/2\u001b[0m \u001b[32m━━━━━━━━━━━━━━━━━━━━\u001b[0m\u001b[37m\u001b[0m \u001b[1m0s\u001b[0m 18ms/step\n",
      "\u001b[1m2/2\u001b[0m \u001b[32m━━━━━━━━━━━━━━━━━━━━\u001b[0m\u001b[37m\u001b[0m \u001b[1m0s\u001b[0m 18ms/step\n",
      "\u001b[1m2/2\u001b[0m \u001b[32m━━━━━━━━━━━━━━━━━━━━\u001b[0m\u001b[37m\u001b[0m \u001b[1m0s\u001b[0m 18ms/step\n",
      "\u001b[1m2/2\u001b[0m \u001b[32m━━━━━━━━━━━━━━━━━━━━\u001b[0m\u001b[37m\u001b[0m \u001b[1m0s\u001b[0m 18ms/step\n",
      "\u001b[1m2/2\u001b[0m \u001b[32m━━━━━━━━━━━━━━━━━━━━\u001b[0m\u001b[37m\u001b[0m \u001b[1m0s\u001b[0m 18ms/step\n",
      "\u001b[1m2/2\u001b[0m \u001b[32m━━━━━━━━━━━━━━━━━━━━\u001b[0m\u001b[37m\u001b[0m \u001b[1m0s\u001b[0m 18ms/step\n",
      "\u001b[1m2/2\u001b[0m \u001b[32m━━━━━━━━━━━━━━━━━━━━\u001b[0m\u001b[37m\u001b[0m \u001b[1m0s\u001b[0m 18ms/step\n",
      "\u001b[1m2/2\u001b[0m \u001b[32m━━━━━━━━━━━━━━━━━━━━\u001b[0m\u001b[37m\u001b[0m \u001b[1m0s\u001b[0m 17ms/step\n",
      "\u001b[1m2/2\u001b[0m \u001b[32m━━━━━━━━━━━━━━━━━━━━\u001b[0m\u001b[37m\u001b[0m \u001b[1m0s\u001b[0m 18ms/step\n",
      "\u001b[1m2/2\u001b[0m \u001b[32m━━━━━━━━━━━━━━━━━━━━\u001b[0m\u001b[37m\u001b[0m \u001b[1m0s\u001b[0m 18ms/step\n",
      "\u001b[1m2/2\u001b[0m \u001b[32m━━━━━━━━━━━━━━━━━━━━\u001b[0m\u001b[37m\u001b[0m \u001b[1m0s\u001b[0m 18ms/step\n",
      "\u001b[1m2/2\u001b[0m \u001b[32m━━━━━━━━━━━━━━━━━━━━\u001b[0m\u001b[37m\u001b[0m \u001b[1m0s\u001b[0m 18ms/step\n",
      "\u001b[1m2/2\u001b[0m \u001b[32m━━━━━━━━━━━━━━━━━━━━\u001b[0m\u001b[37m\u001b[0m \u001b[1m0s\u001b[0m 18ms/step\n",
      "\u001b[1m2/2\u001b[0m \u001b[32m━━━━━━━━━━━━━━━━━━━━\u001b[0m\u001b[37m\u001b[0m \u001b[1m0s\u001b[0m 18ms/step\n",
      "\u001b[1m2/2\u001b[0m \u001b[32m━━━━━━━━━━━━━━━━━━━━\u001b[0m\u001b[37m\u001b[0m \u001b[1m0s\u001b[0m 18ms/step\n",
      "\u001b[1m2/2\u001b[0m \u001b[32m━━━━━━━━━━━━━━━━━━━━\u001b[0m\u001b[37m\u001b[0m \u001b[1m0s\u001b[0m 18ms/step\n",
      "\u001b[1m2/2\u001b[0m \u001b[32m━━━━━━━━━━━━━━━━━━━━\u001b[0m\u001b[37m\u001b[0m \u001b[1m0s\u001b[0m 18ms/step\n",
      "\u001b[1m2/2\u001b[0m \u001b[32m━━━━━━━━━━━━━━━━━━━━\u001b[0m\u001b[37m\u001b[0m \u001b[1m0s\u001b[0m 18ms/step\n",
      "\u001b[1m2/2\u001b[0m \u001b[32m━━━━━━━━━━━━━━━━━━━━\u001b[0m\u001b[37m\u001b[0m \u001b[1m0s\u001b[0m 18ms/step\n",
      "\u001b[1m2/2\u001b[0m \u001b[32m━━━━━━━━━━━━━━━━━━━━\u001b[0m\u001b[37m\u001b[0m \u001b[1m0s\u001b[0m 18ms/step\n",
      "\u001b[1m2/2\u001b[0m \u001b[32m━━━━━━━━━━━━━━━━━━━━\u001b[0m\u001b[37m\u001b[0m \u001b[1m0s\u001b[0m 17ms/step\n",
      "\u001b[1m2/2\u001b[0m \u001b[32m━━━━━━━━━━━━━━━━━━━━\u001b[0m\u001b[37m\u001b[0m \u001b[1m0s\u001b[0m 18ms/step\n",
      "\u001b[1m2/2\u001b[0m \u001b[32m━━━━━━━━━━━━━━━━━━━━\u001b[0m\u001b[37m\u001b[0m \u001b[1m0s\u001b[0m 18ms/step\n",
      "\u001b[1m2/2\u001b[0m \u001b[32m━━━━━━━━━━━━━━━━━━━━\u001b[0m\u001b[37m\u001b[0m \u001b[1m0s\u001b[0m 18ms/step\n",
      "\u001b[1m2/2\u001b[0m \u001b[32m━━━━━━━━━━━━━━━━━━━━\u001b[0m\u001b[37m\u001b[0m \u001b[1m0s\u001b[0m 18ms/step\n",
      "\u001b[1m2/2\u001b[0m \u001b[32m━━━━━━━━━━━━━━━━━━━━\u001b[0m\u001b[37m\u001b[0m \u001b[1m0s\u001b[0m 18ms/step\n",
      "\u001b[1m2/2\u001b[0m \u001b[32m━━━━━━━━━━━━━━━━━━━━\u001b[0m\u001b[37m\u001b[0m \u001b[1m0s\u001b[0m 18ms/step\n",
      "\u001b[1m2/2\u001b[0m \u001b[32m━━━━━━━━━━━━━━━━━━━━\u001b[0m\u001b[37m\u001b[0m \u001b[1m0s\u001b[0m 18ms/step\n",
      "\u001b[1m2/2\u001b[0m \u001b[32m━━━━━━━━━━━━━━━━━━━━\u001b[0m\u001b[37m\u001b[0m \u001b[1m0s\u001b[0m 18ms/step\n",
      "\u001b[1m2/2\u001b[0m \u001b[32m━━━━━━━━━━━━━━━━━━━━\u001b[0m\u001b[37m\u001b[0m \u001b[1m0s\u001b[0m 18ms/step\n",
      "\u001b[1m2/2\u001b[0m \u001b[32m━━━━━━━━━━━━━━━━━━━━\u001b[0m\u001b[37m\u001b[0m \u001b[1m0s\u001b[0m 18ms/step\n",
      "\u001b[1m2/2\u001b[0m \u001b[32m━━━━━━━━━━━━━━━━━━━━\u001b[0m\u001b[37m\u001b[0m \u001b[1m0s\u001b[0m 18ms/step\n",
      "\u001b[1m2/2\u001b[0m \u001b[32m━━━━━━━━━━━━━━━━━━━━\u001b[0m\u001b[37m\u001b[0m \u001b[1m0s\u001b[0m 18ms/step\n",
      "\u001b[1m2/2\u001b[0m \u001b[32m━━━━━━━━━━━━━━━━━━━━\u001b[0m\u001b[37m\u001b[0m \u001b[1m0s\u001b[0m 18ms/step\n",
      "\u001b[1m2/2\u001b[0m \u001b[32m━━━━━━━━━━━━━━━━━━━━\u001b[0m\u001b[37m\u001b[0m \u001b[1m0s\u001b[0m 18ms/step\n",
      "\u001b[1m2/2\u001b[0m \u001b[32m━━━━━━━━━━━━━━━━━━━━\u001b[0m\u001b[37m\u001b[0m \u001b[1m0s\u001b[0m 18ms/step\n",
      "\u001b[1m2/2\u001b[0m \u001b[32m━━━━━━━━━━━━━━━━━━━━\u001b[0m\u001b[37m\u001b[0m \u001b[1m0s\u001b[0m 18ms/step\n",
      "\u001b[1m2/2\u001b[0m \u001b[32m━━━━━━━━━━━━━━━━━━━━\u001b[0m\u001b[37m\u001b[0m \u001b[1m0s\u001b[0m 18ms/step\n",
      "\u001b[1m2/2\u001b[0m \u001b[32m━━━━━━━━━━━━━━━━━━━━\u001b[0m\u001b[37m\u001b[0m \u001b[1m0s\u001b[0m 18ms/step\n",
      "\u001b[1m2/2\u001b[0m \u001b[32m━━━━━━━━━━━━━━━━━━━━\u001b[0m\u001b[37m\u001b[0m \u001b[1m0s\u001b[0m 18ms/step\n",
      "\u001b[1m2/2\u001b[0m \u001b[32m━━━━━━━━━━━━━━━━━━━━\u001b[0m\u001b[37m\u001b[0m \u001b[1m0s\u001b[0m 18ms/step\n",
      "\u001b[1m2/2\u001b[0m \u001b[32m━━━━━━━━━━━━━━━━━━━━\u001b[0m\u001b[37m\u001b[0m \u001b[1m0s\u001b[0m 18ms/step\n",
      "\u001b[1m2/2\u001b[0m \u001b[32m━━━━━━━━━━━━━━━━━━━━\u001b[0m\u001b[37m\u001b[0m \u001b[1m0s\u001b[0m 18ms/step\n",
      "\u001b[1m2/2\u001b[0m \u001b[32m━━━━━━━━━━━━━━━━━━━━\u001b[0m\u001b[37m\u001b[0m \u001b[1m0s\u001b[0m 18ms/step\n",
      "\u001b[1m2/2\u001b[0m \u001b[32m━━━━━━━━━━━━━━━━━━━━\u001b[0m\u001b[37m\u001b[0m \u001b[1m0s\u001b[0m 18ms/step\n",
      "\u001b[1m2/2\u001b[0m \u001b[32m━━━━━━━━━━━━━━━━━━━━\u001b[0m\u001b[37m\u001b[0m \u001b[1m0s\u001b[0m 18ms/step\n",
      "\u001b[1m2/2\u001b[0m \u001b[32m━━━━━━━━━━━━━━━━━━━━\u001b[0m\u001b[37m\u001b[0m \u001b[1m0s\u001b[0m 17ms/step\n",
      "\u001b[1m2/2\u001b[0m \u001b[32m━━━━━━━━━━━━━━━━━━━━\u001b[0m\u001b[37m\u001b[0m \u001b[1m0s\u001b[0m 18ms/step\n",
      "\u001b[1m2/2\u001b[0m \u001b[32m━━━━━━━━━━━━━━━━━━━━\u001b[0m\u001b[37m\u001b[0m \u001b[1m0s\u001b[0m 18ms/step\n",
      "\u001b[1m2/2\u001b[0m \u001b[32m━━━━━━━━━━━━━━━━━━━━\u001b[0m\u001b[37m\u001b[0m \u001b[1m0s\u001b[0m 18ms/step\n",
      "\u001b[1m2/2\u001b[0m \u001b[32m━━━━━━━━━━━━━━━━━━━━\u001b[0m\u001b[37m\u001b[0m \u001b[1m0s\u001b[0m 18ms/step\n",
      "\u001b[1m2/2\u001b[0m \u001b[32m━━━━━━━━━━━━━━━━━━━━\u001b[0m\u001b[37m\u001b[0m \u001b[1m0s\u001b[0m 18ms/step\n",
      "\u001b[1m2/2\u001b[0m \u001b[32m━━━━━━━━━━━━━━━━━━━━\u001b[0m\u001b[37m\u001b[0m \u001b[1m0s\u001b[0m 19ms/step\n",
      "\u001b[1m2/2\u001b[0m \u001b[32m━━━━━━━━━━━━━━━━━━━━\u001b[0m\u001b[37m\u001b[0m \u001b[1m0s\u001b[0m 18ms/step\n",
      "\u001b[1m2/2\u001b[0m \u001b[32m━━━━━━━━━━━━━━━━━━━━\u001b[0m\u001b[37m\u001b[0m \u001b[1m0s\u001b[0m 18ms/step\n",
      "\u001b[1m2/2\u001b[0m \u001b[32m━━━━━━━━━━━━━━━━━━━━\u001b[0m\u001b[37m\u001b[0m \u001b[1m0s\u001b[0m 19ms/step\n",
      "\u001b[1m2/2\u001b[0m \u001b[32m━━━━━━━━━━━━━━━━━━━━\u001b[0m\u001b[37m\u001b[0m \u001b[1m0s\u001b[0m 18ms/step\n",
      "\u001b[1m2/2\u001b[0m \u001b[32m━━━━━━━━━━━━━━━━━━━━\u001b[0m\u001b[37m\u001b[0m \u001b[1m0s\u001b[0m 18ms/step\n",
      "\u001b[1m2/2\u001b[0m \u001b[32m━━━━━━━━━━━━━━━━━━━━\u001b[0m\u001b[37m\u001b[0m \u001b[1m0s\u001b[0m 18ms/step\n",
      "\u001b[1m2/2\u001b[0m \u001b[32m━━━━━━━━━━━━━━━━━━━━\u001b[0m\u001b[37m\u001b[0m \u001b[1m0s\u001b[0m 18ms/step\n",
      "\u001b[1m2/2\u001b[0m \u001b[32m━━━━━━━━━━━━━━━━━━━━\u001b[0m\u001b[37m\u001b[0m \u001b[1m0s\u001b[0m 18ms/step\n",
      "\u001b[1m2/2\u001b[0m \u001b[32m━━━━━━━━━━━━━━━━━━━━\u001b[0m\u001b[37m\u001b[0m \u001b[1m0s\u001b[0m 18ms/step\n",
      "\u001b[1m2/2\u001b[0m \u001b[32m━━━━━━━━━━━━━━━━━━━━\u001b[0m\u001b[37m\u001b[0m \u001b[1m0s\u001b[0m 18ms/step\n",
      "\u001b[1m2/2\u001b[0m \u001b[32m━━━━━━━━━━━━━━━━━━━━\u001b[0m\u001b[37m\u001b[0m \u001b[1m0s\u001b[0m 18ms/step\n",
      "\u001b[1m2/2\u001b[0m \u001b[32m━━━━━━━━━━━━━━━━━━━━\u001b[0m\u001b[37m\u001b[0m \u001b[1m0s\u001b[0m 18ms/step\n",
      "\u001b[1m2/2\u001b[0m \u001b[32m━━━━━━━━━━━━━━━━━━━━\u001b[0m\u001b[37m\u001b[0m \u001b[1m0s\u001b[0m 18ms/step\n",
      "\u001b[1m2/2\u001b[0m \u001b[32m━━━━━━━━━━━━━━━━━━━━\u001b[0m\u001b[37m\u001b[0m \u001b[1m0s\u001b[0m 18ms/step\n",
      "\u001b[1m2/2\u001b[0m \u001b[32m━━━━━━━━━━━━━━━━━━━━\u001b[0m\u001b[37m\u001b[0m \u001b[1m0s\u001b[0m 18ms/step\n",
      "\u001b[1m2/2\u001b[0m \u001b[32m━━━━━━━━━━━━━━━━━━━━\u001b[0m\u001b[37m\u001b[0m \u001b[1m0s\u001b[0m 18ms/step\n",
      "\u001b[1m2/2\u001b[0m \u001b[32m━━━━━━━━━━━━━━━━━━━━\u001b[0m\u001b[37m\u001b[0m \u001b[1m0s\u001b[0m 18ms/step\n",
      "\u001b[1m2/2\u001b[0m \u001b[32m━━━━━━━━━━━━━━━━━━━━\u001b[0m\u001b[37m\u001b[0m \u001b[1m0s\u001b[0m 18ms/step\n",
      "\u001b[1m2/2\u001b[0m \u001b[32m━━━━━━━━━━━━━━━━━━━━\u001b[0m\u001b[37m\u001b[0m \u001b[1m0s\u001b[0m 18ms/step\n",
      "\u001b[1m1/1\u001b[0m \u001b[32m━━━━━━━━━━━━━━━━━━━━\u001b[0m\u001b[37m\u001b[0m \u001b[1m1s\u001b[0m 731ms/step\n"
     ]
    }
   ],
   "source": [
    "## Execute the trained model to get predictions\n",
    "\n",
    "# Parameters for the new data\n",
    "window_size = 100  # Same as used in training\n",
    "batch_size = 64  # Same as used in training\n",
    "\n",
    "# Initialize data generator for new data\n",
    "new_data_generator = NewDataGenerator(X_pca, window_size, batch_size)\n",
    "\n",
    "from tensorflow.keras.models import load_model\n",
    "\n",
    "# Load the best saved model\n",
    "best_model = load_model('/kaggle/working/best_model.keras')\n",
    "predictions = []\n",
    "for i in range(len(new_data_generator)):\n",
    "    batch_data, _ = new_data_generator[i]\n",
    "    batch_predictions = best_model.predict(batch_data)\n",
    "    predictions.extend(batch_predictions)\n",
    "\n",
    "\n",
    "# Convert predictions to a numpy array\n",
    "predictions = np.array(predictions)\n",
    "\n"
   ]
  },
  {
   "cell_type": "code",
   "execution_count": 113,
   "id": "64272faf",
   "metadata": {
    "execution": {
     "iopub.execute_input": "2024-07-10T03:39:23.281693Z",
     "iopub.status.busy": "2024-07-10T03:39:23.281334Z",
     "iopub.status.idle": "2024-07-10T03:39:23.286089Z",
     "shell.execute_reply": "2024-07-10T03:39:23.285147Z"
    },
    "papermill": {
     "duration": 8.456171,
     "end_time": "2024-07-10T03:39:23.288192",
     "exception": false,
     "start_time": "2024-07-10T03:39:14.832021",
     "status": "completed"
    },
    "tags": []
   },
   "outputs": [],
   "source": [
    "predictions = predictions.flatten()\n"
   ]
  },
  {
   "cell_type": "code",
   "execution_count": 114,
   "id": "04260fba",
   "metadata": {
    "execution": {
     "iopub.execute_input": "2024-07-10T03:39:40.406967Z",
     "iopub.status.busy": "2024-07-10T03:39:40.406622Z",
     "iopub.status.idle": "2024-07-10T03:39:40.412639Z",
     "shell.execute_reply": "2024-07-10T03:39:40.411627Z"
    },
    "papermill": {
     "duration": 8.488707,
     "end_time": "2024-07-10T03:39:40.414641",
     "exception": false,
     "start_time": "2024-07-10T03:39:31.925934",
     "status": "completed"
    },
    "tags": []
   },
   "outputs": [
    {
     "name": "stdout",
     "output_type": "stream",
     "text": [
      "[0.10618354 0.10831604 0.10810522 ... 0.10779849 0.10305179 0.08557363]\n",
      "(65437,)\n"
     ]
    }
   ],
   "source": [
    "# If you want to see the predictions\n",
    "print(predictions)\n",
    "print(predictions.shape)"
   ]
  },
  {
   "cell_type": "code",
   "execution_count": 115,
   "id": "3fb7ba2a",
   "metadata": {
    "execution": {
     "iopub.execute_input": "2024-07-10T03:39:57.327588Z",
     "iopub.status.busy": "2024-07-10T03:39:57.327082Z",
     "iopub.status.idle": "2024-07-10T03:39:57.332992Z",
     "shell.execute_reply": "2024-07-10T03:39:57.332047Z"
    },
    "papermill": {
     "duration": 8.369205,
     "end_time": "2024-07-10T03:39:57.335445",
     "exception": false,
     "start_time": "2024-07-10T03:39:48.966240",
     "status": "completed"
    },
    "tags": []
   },
   "outputs": [
    {
     "name": "stdout",
     "output_type": "stream",
     "text": [
      "[0 0 0 ... 0 0 0]\n"
     ]
    }
   ],
   "source": [
    "binary_predictions = (predictions >= 0.5).astype(int)\n",
    "\n",
    "# If you want to see the binary predictions\n",
    "print(binary_predictions)"
   ]
  },
  {
   "cell_type": "code",
   "execution_count": 116,
   "id": "bc8a84c1",
   "metadata": {
    "execution": {
     "iopub.execute_input": "2024-07-10T03:40:14.406510Z",
     "iopub.status.busy": "2024-07-10T03:40:14.406135Z",
     "iopub.status.idle": "2024-07-10T03:40:14.411453Z",
     "shell.execute_reply": "2024-07-10T03:40:14.410574Z"
    },
    "papermill": {
     "duration": 8.610802,
     "end_time": "2024-07-10T03:40:14.413406",
     "exception": false,
     "start_time": "2024-07-10T03:40:05.802604",
     "status": "completed"
    },
    "tags": []
   },
   "outputs": [],
   "source": [
    "# Remove the first `window_size - 1` rows from src_ip_column\n",
    "adjusted_ip_column = src_ip_column[window_size - 1:].reset_index(drop=True)\n"
   ]
  },
  {
   "cell_type": "code",
   "execution_count": 117,
   "id": "a3464108",
   "metadata": {
    "execution": {
     "iopub.execute_input": "2024-07-10T03:40:31.533299Z",
     "iopub.status.busy": "2024-07-10T03:40:31.532572Z",
     "iopub.status.idle": "2024-07-10T03:40:31.537229Z",
     "shell.execute_reply": "2024-07-10T03:40:31.536321Z"
    },
    "papermill": {
     "duration": 8.634514,
     "end_time": "2024-07-10T03:40:31.539147",
     "exception": false,
     "start_time": "2024-07-10T03:40:22.904633",
     "status": "completed"
    },
    "tags": []
   },
   "outputs": [],
   "source": [
    "# Check if the length of adjusted_ip_column matches the length of predictions_flat\n",
    "assert len(adjusted_ip_column) == len(binary_predictions), \"Length mismatch between IPs and predictions\"\n"
   ]
  },
  {
   "cell_type": "code",
   "execution_count": 118,
   "id": "a78b504b",
   "metadata": {
    "execution": {
     "iopub.execute_input": "2024-07-10T03:40:48.436660Z",
     "iopub.status.busy": "2024-07-10T03:40:48.436263Z",
     "iopub.status.idle": "2024-07-10T03:40:48.446611Z",
     "shell.execute_reply": "2024-07-10T03:40:48.445599Z"
    },
    "papermill": {
     "duration": 8.384117,
     "end_time": "2024-07-10T03:40:48.448466",
     "exception": false,
     "start_time": "2024-07-10T03:40:40.064349",
     "status": "completed"
    },
    "tags": []
   },
   "outputs": [
    {
     "name": "stdout",
     "output_type": "stream",
     "text": [
      "  IP Address  Prediction\n",
      "0   10.0.0.1           0\n",
      "1   10.0.0.1           0\n",
      "2   10.0.0.1           0\n",
      "3   10.0.0.1           0\n",
      "4   10.0.0.1           0\n"
     ]
    }
   ],
   "source": [
    "# Create a DataFrame or Series with predictions and corresponding IP addresses\n",
    "predictions_df = pd.DataFrame({\n",
    "    'IP Address': adjusted_ip_column,  # The adjusted IP addresses\n",
    "    'Prediction': binary_predictions  # The 1D array of predictions\n",
    "})\n",
    "\n",
    "# Now predictions_df should have IP addresses and corresponding predictions\n",
    "print(predictions_df.head())"
   ]
  },
  {
   "cell_type": "code",
   "execution_count": 119,
   "id": "ede032ec",
   "metadata": {
    "execution": {
     "iopub.execute_input": "2024-07-10T03:41:05.578900Z",
     "iopub.status.busy": "2024-07-10T03:41:05.577972Z",
     "iopub.status.idle": "2024-07-10T03:41:05.592892Z",
     "shell.execute_reply": "2024-07-10T03:41:05.591872Z"
    },
    "papermill": {
     "duration": 8.697583,
     "end_time": "2024-07-10T03:41:05.594907",
     "exception": false,
     "start_time": "2024-07-10T03:40:56.897324",
     "status": "completed"
    },
    "tags": []
   },
   "outputs": [],
   "source": [
    "# Filter for DDoS predictions (assuming DDoS is represented by class 1)\n",
    "ddos_ips = predictions_df[predictions_df['Prediction'] == 1]['IP Address'].unique()\n",
    "\n",
    "# Filter for normal traffic predictions (assuming normal traffic is represented by class 0)\n",
    "normal_ips = predictions_df[predictions_df['Prediction'] == 0]['IP Address'].unique()\n"
   ]
  },
  {
   "cell_type": "code",
   "execution_count": null,
   "id": "01cb6bd8",
   "metadata": {
    "papermill": {
     "duration": 8.537518,
     "end_time": "2024-07-10T03:41:22.598707",
     "exception": false,
     "start_time": "2024-07-10T03:41:14.061189",
     "status": "completed"
    },
    "tags": []
   },
   "outputs": [],
   "source": []
  },
  {
   "cell_type": "code",
   "execution_count": 120,
   "id": "e55697e9",
   "metadata": {
    "execution": {
     "iopub.execute_input": "2024-07-10T03:41:39.669743Z",
     "iopub.status.busy": "2024-07-10T03:41:39.669339Z",
     "iopub.status.idle": "2024-07-10T03:41:39.674922Z",
     "shell.execute_reply": "2024-07-10T03:41:39.674100Z"
    },
    "papermill": {
     "duration": 8.45333,
     "end_time": "2024-07-10T03:41:39.677082",
     "exception": false,
     "start_time": "2024-07-10T03:41:31.223752",
     "status": "completed"
    },
    "tags": []
   },
   "outputs": [
    {
     "name": "stdout",
     "output_type": "stream",
     "text": [
      "IPs with DDoS:\n",
      "[]\n",
      "IPs with normal traffic:\n",
      "['10.0.0.1']\n"
     ]
    }
   ],
   "source": [
    "# Print out the IPs with DDoS\n",
    "print(\"IPs with DDoS:\")\n",
    "print(ddos_ips)\n",
    "\n",
    "# Print out the IPs with normal traffic\n",
    "print(\"IPs with normal traffic:\")\n",
    "print(normal_ips)"
   ]
  },
  {
   "cell_type": "code",
   "execution_count": null,
   "id": "e156e0ab",
   "metadata": {
    "papermill": {
     "duration": 8.564229,
     "end_time": "2024-07-10T03:41:56.696898",
     "exception": false,
     "start_time": "2024-07-10T03:41:48.132669",
     "status": "completed"
    },
    "tags": []
   },
   "outputs": [],
   "source": []
  },
  {
   "cell_type": "code",
   "execution_count": 121,
   "id": "7e96b4d2",
   "metadata": {
    "execution": {
     "iopub.execute_input": "2024-07-10T03:42:13.726739Z",
     "iopub.status.busy": "2024-07-10T03:42:13.726356Z",
     "iopub.status.idle": "2024-07-10T03:42:13.732538Z",
     "shell.execute_reply": "2024-07-10T03:42:13.731605Z"
    },
    "papermill": {
     "duration": 8.483512,
     "end_time": "2024-07-10T03:42:13.734535",
     "exception": false,
     "start_time": "2024-07-10T03:42:05.251023",
     "status": "completed"
    },
    "tags": []
   },
   "outputs": [
    {
     "name": "stdout",
     "output_type": "stream",
     "text": [
      "Unique IPs with DDoS:\n",
      "No DDoS IPs found\n",
      "Unique IPs with normal traffic:\n",
      "['10.0.0.1']\n",
      "Number of unique DDoS IPs: 0\n",
      "Number of unique normal traffic IPs: 1\n"
     ]
    }
   ],
   "source": [
    "# Print out the results to verify\n",
    "print(\"Unique IPs with DDoS:\")\n",
    "print(ddos_ips if len(ddos_ips) > 0 else \"No DDoS IPs found\")\n",
    "\n",
    "print(\"Unique IPs with normal traffic:\")\n",
    "print(normal_ips if len(normal_ips) > 0 else \"No normal traffic IPs found\")\n",
    "\n",
    "# Optionally, print the count of unique DDoS and normal traffic IPs\n",
    "print(f\"Number of unique DDoS IPs: {len(ddos_ips)}\")\n",
    "print(f\"Number of unique normal traffic IPs: {len(normal_ips)}\")"
   ]
  },
  {
   "cell_type": "code",
   "execution_count": null,
   "id": "d28b0867",
   "metadata": {
    "papermill": {
     "duration": 8.324879,
     "end_time": "2024-07-10T03:42:30.572670",
     "exception": false,
     "start_time": "2024-07-10T03:42:22.247791",
     "status": "completed"
    },
    "tags": []
   },
   "outputs": [],
   "source": []
  }
 ],
 "metadata": {
  "kaggle": {
   "accelerator": "gpu",
   "dataSources": [
    {
     "datasetId": 5260555,
     "sourceId": 8756669,
     "sourceType": "datasetVersion"
    },
    {
     "datasetId": 5292074,
     "sourceId": 8800418,
     "sourceType": "datasetVersion"
    },
    {
     "datasetId": 5361483,
     "sourceId": 8915433,
     "sourceType": "datasetVersion"
    }
   ],
   "dockerImageVersionId": 30732,
   "isGpuEnabled": true,
   "isInternetEnabled": false,
   "language": "python",
   "sourceType": "notebook"
  },
  "kernelspec": {
   "display_name": "Python 3",
   "language": "python",
   "name": "python3"
  },
  "language_info": {
   "codemirror_mode": {
    "name": "ipython",
    "version": 3
   },
   "file_extension": ".py",
   "mimetype": "text/x-python",
   "name": "python",
   "nbconvert_exporter": "python",
   "pygments_lexer": "ipython3",
   "version": "3.10.13"
  },
  "papermill": {
   "default_parameters": {},
   "duration": 7511.610735,
   "end_time": "2024-07-10T03:42:42.776011",
   "environment_variables": {},
   "exception": null,
   "input_path": "__notebook__.ipynb",
   "output_path": "__notebook__.ipynb",
   "parameters": {},
   "start_time": "2024-07-10T01:37:31.165276",
   "version": "2.5.0"
  }
 },
 "nbformat": 4,
 "nbformat_minor": 5
}
